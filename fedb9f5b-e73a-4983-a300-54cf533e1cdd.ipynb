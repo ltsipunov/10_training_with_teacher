{
 "cells": [
  {
   "cell_type": "markdown",
   "metadata": {
    "toc": true
   },
   "source": [
    "<h1>Содержание<span class=\"tocSkip\"></span></h1>\n",
    "<div class=\"toc\"><ul class=\"toc-item\"><li><span><a href=\"#Подготовка-данных\" data-toc-modified-id=\"Подготовка-данных-1\"><span class=\"toc-item-num\">1&nbsp;&nbsp;</span>Подготовка данных</a></span><ul class=\"toc-item\"><li><span><a href=\"#Общая-подготовка-данных\" data-toc-modified-id=\"Общая-подготовка-данных-1.1\"><span class=\"toc-item-num\">1.1&nbsp;&nbsp;</span>Общая подготовка данных</a></span></li><li><span><a href=\"#Трансформация-категориальных-признаков-с-помощью-OHE\" data-toc-modified-id=\"Трансформация-категориальных-признаков-с-помощью-OHE-1.2\"><span class=\"toc-item-num\">1.2&nbsp;&nbsp;</span>Трансформация категориальных признаков с помощью OHE</a></span></li><li><span><a href=\"#Класс-для-работы-с-наборами-данных\" data-toc-modified-id=\"Класс-для-работы-с-наборами-данных-1.3\"><span class=\"toc-item-num\">1.3&nbsp;&nbsp;</span>Класс для работы с наборами данных</a></span><ul class=\"toc-item\"><li><span><a href=\"#Dset\" data-toc-modified-id=\"Dset-1.3.1\"><span class=\"toc-item-num\">1.3.1&nbsp;&nbsp;</span>Dset</a></span></li><li><span><a href=\"#Разбиение-выборок\" data-toc-modified-id=\"Разбиение-выборок-1.3.2\"><span class=\"toc-item-num\">1.3.2&nbsp;&nbsp;</span>Разбиение выборок</a></span></li><li><span><a href=\"#Сокращенные-датасеты-(версия-3)\" data-toc-modified-id=\"Сокращенные-датасеты-(версия-3)-1.3.3\"><span class=\"toc-item-num\">1.3.3&nbsp;&nbsp;</span>Сокращенные датасеты (версия 3)</a></span></li></ul></li><li><span><a href=\"#Масштабирование\" data-toc-modified-id=\"Масштабирование-1.4\"><span class=\"toc-item-num\">1.4&nbsp;&nbsp;</span>Масштабирование</a></span></li></ul></li><li><span><a href=\"#Исследование-задачи\" data-toc-modified-id=\"Исследование-задачи-2\"><span class=\"toc-item-num\">2&nbsp;&nbsp;</span>Исследование задачи</a></span><ul class=\"toc-item\"><li><span><a href=\"#Класс-для-работы-с-моделью\" data-toc-modified-id=\"Класс-для-работы-с-моделью-2.1\"><span class=\"toc-item-num\">2.1&nbsp;&nbsp;</span>Класс для работы с моделью</a></span><ul class=\"toc-item\"><li><span><a href=\"#TrainedModel\" data-toc-modified-id=\"TrainedModel-2.1.1\"><span class=\"toc-item-num\">2.1.1&nbsp;&nbsp;</span>TrainedModel</a></span></li></ul></li><li><span><a href=\"#Оценка-дисбаланса\" data-toc-modified-id=\"Оценка-дисбаланса-2.2\"><span class=\"toc-item-num\">2.2&nbsp;&nbsp;</span>Оценка дисбаланса</a></span></li><li><span><a href=\"#Logistic-Regression\" data-toc-modified-id=\"Logistic-Regression-2.3\"><span class=\"toc-item-num\">2.3&nbsp;&nbsp;</span>Logistic Regression</a></span></li><li><span><a href=\"#DecisionTree\" data-toc-modified-id=\"DecisionTree-2.4\"><span class=\"toc-item-num\">2.4&nbsp;&nbsp;</span>DecisionTree</a></span></li><li><span><a href=\"#RandomForest\" data-toc-modified-id=\"RandomForest-2.5\"><span class=\"toc-item-num\">2.5&nbsp;&nbsp;</span>RandomForest</a></span><ul class=\"toc-item\"><li><ul class=\"toc-item\"><li><span><a href=\"#Комментарий-по-совместной-настройке-гиперпараметров-(версия-3)\" data-toc-modified-id=\"Комментарий-по-совместной-настройке-гиперпараметров-(версия-3)-2.5.0.1\"><span class=\"toc-item-num\">2.5.0.1&nbsp;&nbsp;</span>Комментарий по совместной настройке гиперпараметров (версия 3)</a></span></li></ul></li></ul></li></ul></li><li><span><a href=\"#Борьба-с-дисбалансом\" data-toc-modified-id=\"Борьба-с-дисбалансом-3\"><span class=\"toc-item-num\">3&nbsp;&nbsp;</span>Борьба с дисбалансом</a></span><ul class=\"toc-item\"><li><span><a href=\"#LogisticRegression\" data-toc-modified-id=\"LogisticRegression-3.1\"><span class=\"toc-item-num\">3.1&nbsp;&nbsp;</span>LogisticRegression</a></span><ul class=\"toc-item\"><li><span><a href=\"#Straight-balanced\" data-toc-modified-id=\"Straight-balanced-3.1.1\"><span class=\"toc-item-num\">3.1.1&nbsp;&nbsp;</span>Straight balanced</a></span></li><li><span><a href=\"#Downsampling-(версия-3)\" data-toc-modified-id=\"Downsampling-(версия-3)-3.1.2\"><span class=\"toc-item-num\">3.1.2&nbsp;&nbsp;</span>Downsampling (версия 3)</a></span></li><li><span><a href=\"#Upsampling\" data-toc-modified-id=\"Upsampling-3.1.3\"><span class=\"toc-item-num\">3.1.3&nbsp;&nbsp;</span>Upsampling</a></span></li></ul></li><li><span><a href=\"#DecisionTree\" data-toc-modified-id=\"DecisionTree-3.2\"><span class=\"toc-item-num\">3.2&nbsp;&nbsp;</span>DecisionTree</a></span></li><li><span><a href=\"#RandomForest\" data-toc-modified-id=\"RandomForest-3.3\"><span class=\"toc-item-num\">3.3&nbsp;&nbsp;</span>RandomForest</a></span><ul class=\"toc-item\"><li><span><a href=\"#RandomForest-balanced\" data-toc-modified-id=\"RandomForest-balanced-3.3.1\"><span class=\"toc-item-num\">3.3.1&nbsp;&nbsp;</span>RandomForest balanced</a></span></li><li><span><a href=\"#RandomForest-downsampled-(версия-3)\" data-toc-modified-id=\"RandomForest-downsampled-(версия-3)-3.3.2\"><span class=\"toc-item-num\">3.3.2&nbsp;&nbsp;</span>RandomForest downsampled (версия 3)</a></span></li><li><span><a href=\"#RandomForest-upsampled\" data-toc-modified-id=\"RandomForest-upsampled-3.3.3\"><span class=\"toc-item-num\">3.3.3&nbsp;&nbsp;</span>RandomForest upsampled</a></span></li></ul></li><li><span><a href=\"#Выбор-модели-(версия-3)\" data-toc-modified-id=\"Выбор-модели-(версия-3)-3.4\"><span class=\"toc-item-num\">3.4&nbsp;&nbsp;</span>Выбор модели (версия 3)</a></span></li></ul></li><li><span><a href=\"#Тестирование-модели-(версия-3)\" data-toc-modified-id=\"Тестирование-модели-(версия-3)-4\"><span class=\"toc-item-num\">4&nbsp;&nbsp;</span>Тестирование модели (версия 3)</a></span></li><li><span><a href=\"#Чек-лист-готовности-проекта\" data-toc-modified-id=\"Чек-лист-готовности-проекта-5\"><span class=\"toc-item-num\">5&nbsp;&nbsp;</span>Чек-лист готовности проекта</a></span></li></ul></div>"
   ]
  },
  {
   "cell_type": "markdown",
   "metadata": {},
   "source": [
    "# Отток клиентов"
   ]
  },
  {
   "cell_type": "markdown",
   "metadata": {},
   "source": [
    "Из «Бета-Банка» стали уходить клиенты. Каждый месяц. Немного, но заметно. Банковские маркетологи посчитали: сохранять текущих клиентов дешевле, чем привлекать новых.\n",
    "\n",
    "Нужно спрогнозировать, уйдёт клиент из банка в ближайшее время или нет. Вам предоставлены исторические данные о поведении клиентов и расторжении договоров с банком. \n",
    "\n",
    "Постройте модель с предельно большим значением *F1*-меры. Чтобы сдать проект успешно, нужно довести метрику до 0.59. Проверьте *F1*-меру на тестовой выборке самостоятельно.\n",
    "\n",
    "Дополнительно измеряйте *AUC-ROC*, сравнивайте её значение с *F1*-мерой.\n",
    "\n",
    "Источник данных: [https://www.kaggle.com/barelydedicated/bank-customer-churn-modeling](https://www.kaggle.com/barelydedicated/bank-customer-churn-modeling)"
   ]
  },
  {
   "cell_type": "markdown",
   "metadata": {},
   "source": [
    "## Подготовка данных"
   ]
  },
  {
   "cell_type": "code",
   "execution_count": 1,
   "metadata": {},
   "outputs": [],
   "source": [
    "import pandas as pd\n",
    "import numpy as np\n",
    "import re\n",
    "from sklearn.preprocessing import StandardScaler, OneHotEncoder\n",
    "from sklearn.model_selection import train_test_split\n",
    "from sklearn.metrics import accuracy_score,recall_score,precision_score,f1_score, \\\n",
    "     roc_auc_score,roc_curve, confusion_matrix\n",
    "from sklearn.linear_model import LogisticRegression\n",
    "from sklearn.tree import DecisionTreeClassifier\n",
    "from sklearn.ensemble import RandomForestClassifier\n",
    "from sklearn.utils import shuffle\n",
    "import matplotlib.pyplot as plt"
   ]
  },
  {
   "cell_type": "code",
   "execution_count": 2,
   "metadata": {},
   "outputs": [],
   "source": [
    "np.random.seed(499)"
   ]
  },
  {
   "cell_type": "markdown",
   "metadata": {},
   "source": [
    "Насколько я понимаю, инициализация генератора случайных чисел в начале программы   \n",
    "гарантирует воспроизводимость и   \n",
    "избавляет от необходимости протаскивать random_state чере все вызовы "
   ]
  },
  {
   "cell_type": "markdown",
   "metadata": {},
   "source": [
    "### Общая подготовка данных "
   ]
  },
  {
   "cell_type": "code",
   "execution_count": 3,
   "metadata": {},
   "outputs": [],
   "source": [
    "df = pd.read_csv('datasets/Churn.csv')"
   ]
  },
  {
   "cell_type": "code",
   "execution_count": 4,
   "metadata": {},
   "outputs": [
    {
     "name": "stdout",
     "output_type": "stream",
     "text": [
      "<class 'pandas.core.frame.DataFrame'>\n",
      "RangeIndex: 10000 entries, 0 to 9999\n",
      "Data columns (total 14 columns):\n",
      " #   Column           Non-Null Count  Dtype  \n",
      "---  ------           --------------  -----  \n",
      " 0   RowNumber        10000 non-null  int64  \n",
      " 1   CustomerId       10000 non-null  int64  \n",
      " 2   Surname          10000 non-null  object \n",
      " 3   CreditScore      10000 non-null  int64  \n",
      " 4   Geography        10000 non-null  object \n",
      " 5   Gender           10000 non-null  object \n",
      " 6   Age              10000 non-null  int64  \n",
      " 7   Tenure           9091 non-null   float64\n",
      " 8   Balance          10000 non-null  float64\n",
      " 9   NumOfProducts    10000 non-null  int64  \n",
      " 10  HasCrCard        10000 non-null  int64  \n",
      " 11  IsActiveMember   10000 non-null  int64  \n",
      " 12  EstimatedSalary  10000 non-null  float64\n",
      " 13  Exited           10000 non-null  int64  \n",
      "dtypes: float64(3), int64(8), object(3)\n",
      "memory usage: 1.1+ MB\n"
     ]
    }
   ],
   "source": [
    "df.info()"
   ]
  },
  {
   "cell_type": "code",
   "execution_count": 5,
   "metadata": {
    "scrolled": true
   },
   "outputs": [
    {
     "data": {
      "text/html": [
       "<div>\n",
       "<style scoped>\n",
       "    .dataframe tbody tr th:only-of-type {\n",
       "        vertical-align: middle;\n",
       "    }\n",
       "\n",
       "    .dataframe tbody tr th {\n",
       "        vertical-align: top;\n",
       "    }\n",
       "\n",
       "    .dataframe thead th {\n",
       "        text-align: right;\n",
       "    }\n",
       "</style>\n",
       "<table border=\"1\" class=\"dataframe\">\n",
       "  <thead>\n",
       "    <tr style=\"text-align: right;\">\n",
       "      <th></th>\n",
       "      <th>RowNumber</th>\n",
       "      <th>CustomerId</th>\n",
       "      <th>Surname</th>\n",
       "      <th>CreditScore</th>\n",
       "      <th>Geography</th>\n",
       "      <th>Gender</th>\n",
       "      <th>Age</th>\n",
       "      <th>Tenure</th>\n",
       "      <th>Balance</th>\n",
       "      <th>NumOfProducts</th>\n",
       "      <th>HasCrCard</th>\n",
       "      <th>IsActiveMember</th>\n",
       "      <th>EstimatedSalary</th>\n",
       "      <th>Exited</th>\n",
       "    </tr>\n",
       "  </thead>\n",
       "  <tbody>\n",
       "    <tr>\n",
       "      <th>0</th>\n",
       "      <td>1</td>\n",
       "      <td>15634602</td>\n",
       "      <td>Hargrave</td>\n",
       "      <td>619</td>\n",
       "      <td>France</td>\n",
       "      <td>Female</td>\n",
       "      <td>42</td>\n",
       "      <td>2.0</td>\n",
       "      <td>0.00</td>\n",
       "      <td>1</td>\n",
       "      <td>1</td>\n",
       "      <td>1</td>\n",
       "      <td>101348.88</td>\n",
       "      <td>1</td>\n",
       "    </tr>\n",
       "    <tr>\n",
       "      <th>1</th>\n",
       "      <td>2</td>\n",
       "      <td>15647311</td>\n",
       "      <td>Hill</td>\n",
       "      <td>608</td>\n",
       "      <td>Spain</td>\n",
       "      <td>Female</td>\n",
       "      <td>41</td>\n",
       "      <td>1.0</td>\n",
       "      <td>83807.86</td>\n",
       "      <td>1</td>\n",
       "      <td>0</td>\n",
       "      <td>1</td>\n",
       "      <td>112542.58</td>\n",
       "      <td>0</td>\n",
       "    </tr>\n",
       "    <tr>\n",
       "      <th>2</th>\n",
       "      <td>3</td>\n",
       "      <td>15619304</td>\n",
       "      <td>Onio</td>\n",
       "      <td>502</td>\n",
       "      <td>France</td>\n",
       "      <td>Female</td>\n",
       "      <td>42</td>\n",
       "      <td>8.0</td>\n",
       "      <td>159660.80</td>\n",
       "      <td>3</td>\n",
       "      <td>1</td>\n",
       "      <td>0</td>\n",
       "      <td>113931.57</td>\n",
       "      <td>1</td>\n",
       "    </tr>\n",
       "    <tr>\n",
       "      <th>3</th>\n",
       "      <td>4</td>\n",
       "      <td>15701354</td>\n",
       "      <td>Boni</td>\n",
       "      <td>699</td>\n",
       "      <td>France</td>\n",
       "      <td>Female</td>\n",
       "      <td>39</td>\n",
       "      <td>1.0</td>\n",
       "      <td>0.00</td>\n",
       "      <td>2</td>\n",
       "      <td>0</td>\n",
       "      <td>0</td>\n",
       "      <td>93826.63</td>\n",
       "      <td>0</td>\n",
       "    </tr>\n",
       "    <tr>\n",
       "      <th>4</th>\n",
       "      <td>5</td>\n",
       "      <td>15737888</td>\n",
       "      <td>Mitchell</td>\n",
       "      <td>850</td>\n",
       "      <td>Spain</td>\n",
       "      <td>Female</td>\n",
       "      <td>43</td>\n",
       "      <td>2.0</td>\n",
       "      <td>125510.82</td>\n",
       "      <td>1</td>\n",
       "      <td>1</td>\n",
       "      <td>1</td>\n",
       "      <td>79084.10</td>\n",
       "      <td>0</td>\n",
       "    </tr>\n",
       "  </tbody>\n",
       "</table>\n",
       "</div>"
      ],
      "text/plain": [
       "   RowNumber  CustomerId   Surname  CreditScore Geography  Gender  Age  \\\n",
       "0          1    15634602  Hargrave          619    France  Female   42   \n",
       "1          2    15647311      Hill          608     Spain  Female   41   \n",
       "2          3    15619304      Onio          502    France  Female   42   \n",
       "3          4    15701354      Boni          699    France  Female   39   \n",
       "4          5    15737888  Mitchell          850     Spain  Female   43   \n",
       "\n",
       "   Tenure    Balance  NumOfProducts  HasCrCard  IsActiveMember  \\\n",
       "0     2.0       0.00              1          1               1   \n",
       "1     1.0   83807.86              1          0               1   \n",
       "2     8.0  159660.80              3          1               0   \n",
       "3     1.0       0.00              2          0               0   \n",
       "4     2.0  125510.82              1          1               1   \n",
       "\n",
       "   EstimatedSalary  Exited  \n",
       "0        101348.88       1  \n",
       "1        112542.58       0  \n",
       "2        113931.57       1  \n",
       "3         93826.63       0  \n",
       "4         79084.10       0  "
      ]
     },
     "execution_count": 5,
     "metadata": {},
     "output_type": "execute_result"
    }
   ],
   "source": [
    "df.head()"
   ]
  },
  {
   "cell_type": "markdown",
   "metadata": {},
   "source": [
    "Я уже привык к snake_case, поэтому приведу все имена к этому стандарту, чтобы потом не путаться"
   ]
  },
  {
   "cell_type": "code",
   "execution_count": 6,
   "metadata": {},
   "outputs": [],
   "source": [
    "df.columns = df.columns.map( lambda string: re.sub(r'(.)([A-Z])',r'\\1_\\2', string ))"
   ]
  },
  {
   "cell_type": "markdown",
   "metadata": {},
   "source": [
    "<div class=\"alert alert-success\">\n",
    "<font size=\"4\"><b>✔️ Комментарий ревьюера</b></font>\n",
    "    <br /> \n",
    "    <font size=\"3\", color = \"black\">\n",
    "<br />\n",
    "Как написаны названия колонок в принципе не особо важно, но то, как ты их приводишь к тому, как хочешь - очень прикольно. Нравится твой подход."
   ]
  },
  {
   "cell_type": "code",
   "execution_count": 7,
   "metadata": {},
   "outputs": [],
   "source": [
    "df.columns = df.columns.str.lower()"
   ]
  },
  {
   "cell_type": "code",
   "execution_count": 8,
   "metadata": {},
   "outputs": [
    {
     "data": {
      "text/plain": [
       "0.0     382\n",
       "1.0     952\n",
       "2.0     950\n",
       "3.0     928\n",
       "4.0     885\n",
       "5.0     927\n",
       "6.0     881\n",
       "7.0     925\n",
       "8.0     933\n",
       "9.0     882\n",
       "10.0    446\n",
       "Name: tenure, dtype: int64"
      ]
     },
     "execution_count": 8,
     "metadata": {},
     "output_type": "execute_result"
    }
   ],
   "source": [
    "df.tenure.value_counts().sort_index()"
   ]
  },
  {
   "cell_type": "markdown",
   "metadata": {},
   "source": [
    "Во всех колонках, кроме tenure полные данные.   \n",
    "Так ка пустых tenure довольно много(9%) , надо их чем-то заполнить.  \n",
    "Думаю ,клиента , котором нет нет данных, можно рассматривать как клиента с нулевым стажем,  \n",
    "тем более, что таких тут явный недобор (возможно, где при заполнении данных вместо нуля оставляли пустышку)."
   ]
  },
  {
   "cell_type": "code",
   "execution_count": 9,
   "metadata": {},
   "outputs": [
    {
     "data": {
      "text/plain": [
       "0.0      382\n",
       "1.0      952\n",
       "2.0      950\n",
       "3.0      928\n",
       "4.0      885\n",
       "5.0     1836\n",
       "6.0      881\n",
       "7.0      925\n",
       "8.0      933\n",
       "9.0      882\n",
       "10.0     446\n",
       "Name: tenure, dtype: int64"
      ]
     },
     "execution_count": 9,
     "metadata": {},
     "output_type": "execute_result"
    }
   ],
   "source": [
    "df['tenure'] = df.tenure.fillna(df.tenure.median())\n",
    "df.tenure.value_counts().sort_index()"
   ]
  },
  {
   "cell_type": "markdown",
   "metadata": {},
   "source": [
    "На всякий случай еще проверим, что нет дублей по customer_id, тогда его можно будет выбросить"
   ]
  },
  {
   "cell_type": "code",
   "execution_count": 10,
   "metadata": {},
   "outputs": [
    {
     "data": {
      "text/plain": [
       "15634602    1\n",
       "15667932    1\n",
       "15766185    1\n",
       "15667632    1\n",
       "15599024    1\n",
       "Name: customer_id, dtype: int64"
      ]
     },
     "execution_count": 10,
     "metadata": {},
     "output_type": "execute_result"
    }
   ],
   "source": [
    "df.customer_id.value_counts().head()"
   ]
  },
  {
   "cell_type": "markdown",
   "metadata": {},
   "source": [
    "Удалим колонки,которые видимо не несут полезной информации для модели"
   ]
  },
  {
   "cell_type": "code",
   "execution_count": 11,
   "metadata": {},
   "outputs": [],
   "source": [
    "df = df.drop(columns=['row_number','customer_id','surname']) "
   ]
  },
  {
   "cell_type": "markdown",
   "metadata": {},
   "source": [
    "### Трансформация категориальных признаков с помощью OHE"
   ]
  },
  {
   "cell_type": "markdown",
   "metadata": {},
   "source": [
    "Нужно преобразовать две \"объектные\" колонки, посмотрим , сколько там различных значений "
   ]
  },
  {
   "cell_type": "code",
   "execution_count": 12,
   "metadata": {},
   "outputs": [
    {
     "data": {
      "text/plain": [
       "France     5014\n",
       "Germany    2509\n",
       "Spain      2477\n",
       "Name: geography, dtype: int64"
      ]
     },
     "execution_count": 12,
     "metadata": {},
     "output_type": "execute_result"
    }
   ],
   "source": [
    "df.geography.value_counts()"
   ]
  },
  {
   "cell_type": "code",
   "execution_count": 13,
   "metadata": {},
   "outputs": [
    {
     "data": {
      "text/plain": [
       "Male      5457\n",
       "Female    4543\n",
       "Name: gender, dtype: int64"
      ]
     },
     "execution_count": 13,
     "metadata": {},
     "output_type": "execute_result"
    }
   ],
   "source": [
    "df.gender.value_counts()"
   ]
  },
  {
   "cell_type": "code",
   "execution_count": 14,
   "metadata": {},
   "outputs": [],
   "source": [
    "df = pd.get_dummies( df,drop_first=True) "
   ]
  },
  {
   "cell_type": "code",
   "execution_count": 15,
   "metadata": {},
   "outputs": [],
   "source": [
    "# encoder = OneHotEncoder(drop='first',sparse=False)\n",
    "# #df_ohe = encoder.set_output(transform='pandas')\n",
    "# encoder.fit(df[['geography','gender']])\n",
    "# #encoder.get_feature_names_out()\n",
    "# #encoder.transform(df[['geography','gender']]) , columns  \n",
    "# encoder.get_params()"
   ]
  },
  {
   "cell_type": "code",
   "execution_count": 16,
   "metadata": {},
   "outputs": [
    {
     "name": "stdout",
     "output_type": "stream",
     "text": [
      "<class 'pandas.core.frame.DataFrame'>\n",
      "RangeIndex: 10000 entries, 0 to 9999\n",
      "Data columns (total 12 columns):\n",
      " #   Column             Non-Null Count  Dtype  \n",
      "---  ------             --------------  -----  \n",
      " 0   credit_score       10000 non-null  int64  \n",
      " 1   age                10000 non-null  int64  \n",
      " 2   tenure             10000 non-null  float64\n",
      " 3   balance            10000 non-null  float64\n",
      " 4   num_of_products    10000 non-null  int64  \n",
      " 5   has_cr_card        10000 non-null  int64  \n",
      " 6   is_active_member   10000 non-null  int64  \n",
      " 7   estimated_salary   10000 non-null  float64\n",
      " 8   exited             10000 non-null  int64  \n",
      " 9   geography_Germany  10000 non-null  uint8  \n",
      " 10  geography_Spain    10000 non-null  uint8  \n",
      " 11  gender_Male        10000 non-null  uint8  \n",
      "dtypes: float64(3), int64(6), uint8(3)\n",
      "memory usage: 732.5 KB\n"
     ]
    }
   ],
   "source": [
    "df.info()"
   ]
  },
  {
   "cell_type": "markdown",
   "metadata": {},
   "source": [
    "### Класс для работы с наборами данных"
   ]
  },
  {
   "cell_type": "markdown",
   "metadata": {},
   "source": [
    "Мы будем проводить  стандартные операции над матрицами 2x2 типа (признаки-цель) * (обучение-результат)   \n",
    "поэтому объединим все такие матрицы в датасеты (валидационный, тестовый ,\"сокращенный\"  и \"растянутый\")    и напишем стандартные методы для таких датасетов"
   ]
  },
  {
   "cell_type": "markdown",
   "metadata": {},
   "source": [
    "#### Dset"
   ]
  },
  {
   "cell_type": "code",
   "execution_count": 17,
   "metadata": {},
   "outputs": [],
   "source": [
    "class DSet:\n",
    "    keys = ['fe.tr','fe.va','ta.tr','ta.va' ]\n",
    "# standard keys to access 4 datasets - 2features and 2 targets, 2 for train & 2 for validation \n",
    "\n",
    "# ---------------- begin constructor --------------\n",
    "    def __init__( self, data,  test_size = .2 ):\n",
    "# we want 2 cosntructors -\n",
    "# from datasets \"feature -target\" of 2-item list which must be splitted\n",
    "        if len(data)==2: \n",
    "            self.data = dict(zip(self.keys,\n",
    "                             train_test_split(data[0],data[1],test_size=test_size,stratify=data[1])\n",
    "                            ))\n",
    "# from implicitly crated list of 4 dataframes in 4-item list\n",
    "        elif len(data)==4:\n",
    "            self.data={}\n",
    "            for p in zip(self.keys,data):\n",
    "                self.data[p[0]] = p[1]        \n",
    "        else:\n",
    "            raise Exception('Data parameter for DSet must be list of 2 or 4 dataframes')\n",
    "\n",
    "        self.best_auc_roc = {'score':0.001,'model':None}\n",
    "#--------------------- end constructor ---------------\n",
    "\n",
    "    def scale(self, cols):\n",
    "        scaler = StandardScaler()                 \n",
    "        scaler.fit(self.data['fe.tr'][cols])                 \n",
    "        self.data['fe.tr'][cols] = scaler.transform(self.data['fe.tr'][cols])\n",
    "        self.data['fe.va'][cols] = scaler.transform(self.data['fe.va'][cols])                 \n",
    "  \n",
    "    def upsample(self,multiplier = 2):\n",
    "        fe_0 = self.data['fe.tr'][self.data['ta.tr']==0]\n",
    "        ta_0 = self.data['ta.tr'][self.data['ta.tr']==0]\n",
    "        fe_1 = self.data['fe.tr'][self.data['ta.tr']==1]\n",
    "        ta_1 = self.data['ta.tr'][self.data['ta.tr']==1]\n",
    "        fe,ta = shuffle(pd.concat([fe_0]+[fe_1]*multiplier), pd.concat([ta_0]+[ta_1]*multiplier) )\n",
    "        return DSet([fe,self.data['fe.va'].copy(),ta,self.data['ta.va'].copy()])\n",
    "\n",
    "    \n",
    "    def downsample(self,frac = .5):\n",
    "        fe_0 = self.data['fe.tr'][self.data['ta.tr']==0].sample(frac=frac )\n",
    "        ta_0 = self.data['ta.tr'][self.data['ta.tr']==0].sample(frac=frac )\n",
    "        fe_1 = self.data['fe.tr'][self.data['ta.tr']==1]\n",
    "        ta_1 = self.data['ta.tr'][self.data['ta.tr']==1]\n",
    "        fe,ta = shuffle(pd.concat([fe_0,fe_1]), pd.concat([ta_0,ta_1]) )\n",
    "        return DSet([fe,self.data['fe.va'].copy(),ta,self.data['ta.va'].copy()])\n",
    "            \n",
    "    def check_auc_roc(self,score,model):\n",
    "        k = score/ self.best_auc_roc['score'] \n",
    "        if k > 1: # score > self.best_auc_roc['score']:\n",
    "            self.best_auc_roc['score'] = score \n",
    "            self.best_auc_roc['model'] = model    \n",
    "        return k    "
   ]
  },
  {
   "cell_type": "markdown",
   "metadata": {},
   "source": [
    "#### Разбиение выборок"
   ]
  },
  {
   "cell_type": "code",
   "execution_count": 18,
   "metadata": {},
   "outputs": [],
   "source": [
    "features = df.drop(['exited'],axis=1)\n",
    "target = df.exited"
   ]
  },
  {
   "cell_type": "markdown",
   "metadata": {},
   "source": [
    "Создадим тренировочный, валидационный и тестовый наборы соотношением размеров 6:2:2   \n",
    "Для финального теста обучение на будет объединённом тренировочно- валидационном наборе "
   ]
  },
  {
   "cell_type": "code",
   "execution_count": 19,
   "metadata": {},
   "outputs": [],
   "source": [
    "dset_test = DSet([features, target] )"
   ]
  },
  {
   "cell_type": "code",
   "execution_count": 20,
   "metadata": {},
   "outputs": [],
   "source": [
    "dset_valid = DSet([dset_test.data['fe.tr'],dset_test.data['ta.tr']] )"
   ]
  },
  {
   "cell_type": "code",
   "execution_count": 21,
   "metadata": {
    "scrolled": true
   },
   "outputs": [],
   "source": [
    "# try downsample and upsample to achieve full balance \n",
    "downsampled = dset_valid.downsample(frac = .25)\n",
    "upsampled = dset_valid.upsample(multiplier = 4)"
   ]
  },
  {
   "cell_type": "markdown",
   "metadata": {},
   "source": [
    "#### Сокращенные датасеты (версия 3)"
   ]
  },
  {
   "cell_type": "code",
   "execution_count": 22,
   "metadata": {},
   "outputs": [],
   "source": [
    "frac_range = np.arange(1.3,4,.3)\n",
    "dsets_down = {}\n",
    "for frac in frac_range:\n",
    "    dsets_down[round(frac,1)] =  dset_valid.downsample(frac = 1/frac)\n"
   ]
  },
  {
   "cell_type": "code",
   "execution_count": 23,
   "metadata": {},
   "outputs": [
    {
     "data": {
      "text/plain": [
       "1    0.505818\n",
       "0    0.494182\n",
       "Name: exited, dtype: float64"
      ]
     },
     "execution_count": 23,
     "metadata": {},
     "output_type": "execute_result"
    }
   ],
   "source": [
    "# КОД РЕВЬЮЕРА\n",
    "downsampled.data['ta.tr'].value_counts(1)"
   ]
  },
  {
   "cell_type": "code",
   "execution_count": 24,
   "metadata": {},
   "outputs": [
    {
     "data": {
      "text/plain": [
       "1    0.505818\n",
       "0    0.494182\n",
       "Name: exited, dtype: float64"
      ]
     },
     "execution_count": 24,
     "metadata": {},
     "output_type": "execute_result"
    }
   ],
   "source": [
    "# КОД РЕВЬЮЕРА\n",
    "upsampled.data['ta.tr'].value_counts(1)"
   ]
  },
  {
   "cell_type": "markdown",
   "metadata": {},
   "source": [
    "Проверим размеры получившихся наборов"
   ]
  },
  {
   "cell_type": "code",
   "execution_count": 25,
   "metadata": {},
   "outputs": [
    {
     "name": "stdout",
     "output_type": "stream",
     "text": [
      "fe.tr \t test: (8000, 11)  valid:  (6400, 11) downsampled:  (2578, 11) upsampled:  (10312, 11)\n",
      "fe.va \t test: (2000, 11)  valid:  (1600, 11) downsampled:  (1600, 11) upsampled:  (1600, 11)\n",
      "ta.tr \t test: (8000,)  valid:  (6400,) downsampled:  (2578,) upsampled:  (10312,)\n",
      "ta.va \t test: (2000,)  valid:  (1600,) downsampled:  (1600,) upsampled:  (1600,)\n"
     ]
    }
   ],
   "source": [
    "# let's check sizes of dataframes in datasets  \n",
    "for k in DSet.keys:\n",
    "    print(k,'\\t test:',dset_test.data[k].shape , \n",
    "          ' valid: ',dset_valid.data[k].shape,\n",
    "          'downsampled: ',downsampled.data[k].shape, \n",
    "          'upsampled: ',upsampled.data[k].shape \n",
    "         )   "
   ]
  },
  {
   "cell_type": "markdown",
   "metadata": {},
   "source": [
    "### Масштабирование "
   ]
  },
  {
   "cell_type": "markdown",
   "metadata": {},
   "source": [
    "Насколько я понял, масштабирование всегда \n",
    "* улучшает сходимость для линейных алгоритмов и\n",
    "* не влияет на древовидные   \n",
    "\n",
    "Поэтому сразу и необратимо проведу масштабирование для всех датасетов.  "
   ]
  },
  {
   "cell_type": "code",
   "execution_count": 26,
   "metadata": {},
   "outputs": [],
   "source": [
    "\n",
    "pd.options.mode.chained_assignment = None\n",
    "num_cols = ['credit_score','age','tenure','balance','num_of_products','estimated_salary']\n",
    "dset_valid.scale(num_cols)\n",
    "downsampled.scale(num_cols)\n",
    "upsampled.scale(num_cols)\n",
    "for f in frac_range:\n",
    "    dsets_down[round(f,1)].scale(num_cols)\n"
   ]
  },
  {
   "cell_type": "markdown",
   "metadata": {},
   "source": [
    "## Исследование задачи"
   ]
  },
  {
   "cell_type": "markdown",
   "metadata": {},
   "source": [
    "### Класс для работы с моделью"
   ]
  },
  {
   "cell_type": "markdown",
   "metadata": {},
   "source": [
    "Возможно, потребуется проверять много различных моделей,  \n",
    "но для их оценки будут использоваться   только три стандартных операции:   \n",
    "* создание с обучением\n",
    "* предсказание и расчет метрик\n",
    "* расчёт ROC кривой \n",
    "\n",
    "Создадим класс для этой задачи"
   ]
  },
  {
   "cell_type": "markdown",
   "metadata": {},
   "source": [
    "#### TrainedModel"
   ]
  },
  {
   "cell_type": "code",
   "execution_count": 27,
   "metadata": {},
   "outputs": [],
   "source": [
    "class TrainedModel:\n",
    "# ------- begin init -------------    \n",
    "    def __init__(self, model, dset, title = None):\n",
    "        self.dset = dset\n",
    "        self.data = dset.data\n",
    "        self.model = model\n",
    "        self.model.fit(self.data['fe.tr'],self.data['ta.tr'])\n",
    "        self.proba = self.model.predict_proba(self.data['fe.va'])[:,1]        \n",
    "# we create new  model for a set of datasets ,  \n",
    "# as at this moment we already know a validation dataset , we may calculate probailities here\n",
    "\n",
    "        self.best_f1 = {'score':0.0001,'model':None}\n",
    "        self.title = (title,type(self.model).__name__)[title is None]\n",
    "        score =  roc_auc_score(self.data['ta.va'],self.proba)    \n",
    "        res = self.dset.check_auc_roc(score,self.model)\n",
    "        if res>0.99:\n",
    "            print(f'{self.title}: roc_auc_score= {score} ({res:.4f} of best)')\n",
    "# ---------- end init -------------   \n",
    "\n",
    "    def predict(self, threshold = 0):\n",
    "        return self.model.predict(self.data['fe.va']) \n",
    "\n",
    "    def threshold_predict(self, threshold):\n",
    "        return pd.Series( self.proba >= threshold,index = self.data['ta.va'] )\n",
    "\n",
    "# the same method used in 2 versions - for standard predict and for predict by probailities table    \n",
    "    def predict_and_print_metrics(self,\n",
    "        metrics=[f1_score,recall_score,precision_score,roc_auc_score],\n",
    "        threshold = None, \n",
    "        sel_metric = f1_score,                          \n",
    "        comment=None):\n",
    "            \n",
    "        out = (comment,type(self.model).__name__)[comment is None]\n",
    "\n",
    "        if threshold is None:\n",
    "            pred = self.predict()\n",
    "        else:\n",
    "            pred = self.threshold_predict(threshold)   \n",
    "    \n",
    "        for func in metrics:\n",
    "            if func in [roc_auc_score]:\n",
    "                out += ', {0}: {1:.4f}'.format( func.__name__,func(self.data['ta.va'],self.proba) )\n",
    "            else:    \n",
    "                out += ', {0}: {1:.4f}'.format( func.__name__,func(self.data['ta.va'],pred) )\n",
    "\n",
    "        res = self.check_f1(f1_score(self.data['ta.va'],pred), self.model, threshold)        \n",
    "        if res > 0.98:\n",
    "            print(out )\n",
    "        return self.data['ta.va'],pred\n",
    "    \n",
    "#     def plot_pr_curve(self):\n",
    "#         precision, recall, thresholds = precision_recall_curve(self.data['ta.va'],self.proba )\n",
    "#         plt.plot(recall,precision);\n",
    "# looks like we don't need this  for our task , but I want keep it  for case if it may be needed  \n",
    "        \n",
    "    def plot_roc_curve(self ,comment= ''):\n",
    "        plt.xlabel('False Positive Rate')\n",
    "        plt.ylabel('True Positive Rate')\n",
    "        plt.ylim([0.0, 1.05])\n",
    "        plt.xlim([0.0, 1.0])\n",
    "        plt.title('ROC кривая '+ comment )\n",
    "        fpr, tpr, thresholds = roc_curve(self.data['ta.va'],self.proba )\n",
    "        plt.plot(fpr,tpr);\n",
    "        print('roc_auc_soore = ',roc_auc_score(self.data['ta.va'],self.proba) )            \n",
    "            \n",
    "    def check_f1(self,score,model,threshold = None):\n",
    "        k = score/ self.best_f1['score'] \n",
    "        if k > 1:  \n",
    "            self.best_f1['score'] = score\n",
    "            self.best_f1['model'] = model\n",
    "            self.best_f1['threshold'] = threshold\n",
    "        return k         "
   ]
  },
  {
   "cell_type": "markdown",
   "metadata": {},
   "source": [
    "### Оценка дисбаланса"
   ]
  },
  {
   "cell_type": "code",
   "execution_count": 28,
   "metadata": {},
   "outputs": [
    {
     "name": "stdout",
     "output_type": "stream",
     "text": [
      "Training dataset disbalance 0.2037\n",
      "Validation dataset disbalance 0.2037\n",
      "Testing dataset disbalance 0.2035\n"
     ]
    }
   ],
   "source": [
    "# Let's estimate disbalance of dataset (and check that the value is the same in all not shifted targets)\n",
    "print('Training dataset disbalance',  round(dset_valid.data['ta.tr'].sum()/dset_valid.data['ta.tr'].size,4) )\n",
    "print('Validation dataset disbalance',  round(dset_valid.data['ta.va'].sum()/dset_valid.data['ta.va'].size,4) )\n",
    "print('Testing dataset disbalance',  round(dset_test.data['ta.va'].sum()/dset_test.data['ta.va'].size,4) ) "
   ]
  },
  {
   "cell_type": "markdown",
   "metadata": {},
   "source": [
    "Существует определенный дисбаланс классов, который может ухудшить метрику F1.  \n",
    "Проверим её для основных алгоритмов"
   ]
  },
  {
   "cell_type": "markdown",
   "metadata": {},
   "source": [
    "### Logistic Regression"
   ]
  },
  {
   "cell_type": "code",
   "execution_count": 29,
   "metadata": {},
   "outputs": [
    {
     "name": "stdout",
     "output_type": "stream",
     "text": [
      "LogisticRegression: roc_auc_score= 0.7799091793395035 (779.9092 of best)\n",
      "LogisticRegression, f1_score: 0.3529, recall_score: 0.2393, precision_score: 0.6724, roc_auc_score: 0.7799\n"
     ]
    }
   ],
   "source": [
    "basic_logistic = TrainedModel(LogisticRegression(),dset_valid)\n",
    "t,p = basic_logistic.predict_and_print_metrics()"
   ]
  },
  {
   "cell_type": "markdown",
   "metadata": {},
   "source": [
    "### DecisionTree"
   ]
  },
  {
   "cell_type": "code",
   "execution_count": 30,
   "metadata": {},
   "outputs": [
    {
     "name": "stdout",
     "output_type": "stream",
     "text": [
      "DecisionTreeClassifier: roc_auc_score= 0.8386392310581618 (1.0753 of best)\n",
      "depth=4, f1_score: 0.5455, recall_score: 0.4233, precision_score: 0.7667, roc_auc_score: 0.8386\n",
      "DecisionTreeClassifier: roc_auc_score= 0.8532711810538279 (1.0174 of best)\n",
      "depth=5, f1_score: 0.5480, recall_score: 0.4202, precision_score: 0.7874, roc_auc_score: 0.8533\n",
      "DecisionTreeClassifier: roc_auc_score= 0.8605751172578517 (1.0086 of best)\n",
      "depth=6, f1_score: 0.5664, recall_score: 0.4448, precision_score: 0.7796, roc_auc_score: 0.8606\n",
      "depth=7, f1_score: 0.5798, recall_score: 0.4847, precision_score: 0.7215, roc_auc_score: 0.8426\n",
      "depth=8, f1_score: 0.5574, recall_score: 0.4540, precision_score: 0.7220, roc_auc_score: 0.7992\n",
      "depth=9, f1_score: 0.5451, recall_score: 0.4632, precision_score: 0.6623, roc_auc_score: 0.7942\n",
      "depth=10, f1_score: 0.5523, recall_score: 0.4939, precision_score: 0.6265, roc_auc_score: 0.7745\n",
      "depth=11, f1_score: 0.5202, recall_score: 0.4939, precision_score: 0.5495, roc_auc_score: 0.7424\n",
      "depth=12, f1_score: 0.5310, recall_score: 0.5123, precision_score: 0.5512, roc_auc_score: 0.7257\n",
      "depth=13, f1_score: 0.5181, recall_score: 0.5061, precision_score: 0.5305, roc_auc_score: 0.7199\n",
      "depth=14, f1_score: 0.5208, recall_score: 0.5184, precision_score: 0.5232, roc_auc_score: 0.7004\n",
      "depth=15, f1_score: 0.5029, recall_score: 0.5245, precision_score: 0.4831, roc_auc_score: 0.6901\n"
     ]
    }
   ],
   "source": [
    "for depth in range(4,16):\n",
    "    basic_tree = TrainedModel(\n",
    "        DecisionTreeClassifier( max_depth = depth ),\n",
    "        dset_valid)\n",
    "    basic_tree.predict_and_print_metrics(comment='depth='+str(depth) ) "
   ]
  },
  {
   "cell_type": "markdown",
   "metadata": {},
   "source": [
    "Лучший результат по DecisionTree достигается при max_depth = 5 ,roc_auc лучше чем у линейной модели"
   ]
  },
  {
   "cell_type": "code",
   "execution_count": 31,
   "metadata": {},
   "outputs": [
    {
     "name": "stdout",
     "output_type": "stream",
     "text": [
      "threshold 0.30, f1_score: 0.4943, recall_score: 0.5307, precision_score: 0.4626, roc_auc_score: 0.6901\n",
      "threshold 0.35, f1_score: 0.4978, recall_score: 0.5307, precision_score: 0.4688, roc_auc_score: 0.6901\n",
      "threshold 0.40, f1_score: 0.4978, recall_score: 0.5307, precision_score: 0.4688, roc_auc_score: 0.6901\n",
      "threshold 0.45, f1_score: 0.4993, recall_score: 0.5307, precision_score: 0.4714, roc_auc_score: 0.6901\n",
      "threshold 0.50, f1_score: 0.4993, recall_score: 0.5307, precision_score: 0.4714, roc_auc_score: 0.6901\n",
      "threshold 0.55, f1_score: 0.5029, recall_score: 0.5245, precision_score: 0.4831, roc_auc_score: 0.6901\n",
      "threshold 0.60, f1_score: 0.5029, recall_score: 0.5245, precision_score: 0.4831, roc_auc_score: 0.6901\n",
      "threshold 0.65, f1_score: 0.5029, recall_score: 0.5245, precision_score: 0.4831, roc_auc_score: 0.6901\n",
      "threshold 0.70, f1_score: 0.5089, recall_score: 0.5245, precision_score: 0.4942, roc_auc_score: 0.6901\n",
      "threshold 0.75, f1_score: 0.5089, recall_score: 0.5245, precision_score: 0.4942, roc_auc_score: 0.6901\n",
      "threshold 0.80, f1_score: 0.5037, recall_score: 0.5153, precision_score: 0.4927, roc_auc_score: 0.6901\n"
     ]
    }
   ],
   "source": [
    "depth_for_test = dset_valid.best_auc_roc['model'].get_params()['max_depth']\n",
    "for th in np.arange(0.2,0.81,0.05):\n",
    "    t,p = basic_tree.predict_and_print_metrics(\n",
    "        threshold = th, comment = f'threshold {th:.2f}' )"
   ]
  },
  {
   "cell_type": "markdown",
   "metadata": {},
   "source": [
    "### RandomForest"
   ]
  },
  {
   "cell_type": "code",
   "execution_count": 32,
   "metadata": {},
   "outputs": [
    {
     "name": "stdout",
     "output_type": "stream",
     "text": [
      "depth=2, f1_score: 0.1101, recall_score: 0.0583, precision_score: 1.0000, roc_auc_score: 0.8328\n",
      "depth=3, f1_score: 0.4000, recall_score: 0.2577, precision_score: 0.8936, roc_auc_score: 0.8499\n",
      "Forest depth=4: roc_auc_score= 0.8624230721075595 (1.0021 of best)\n",
      "depth=4, f1_score: 0.4009, recall_score: 0.2607, precision_score: 0.8673, roc_auc_score: 0.8624\n",
      "Forest depth=5: roc_auc_score= 0.8651799558898594 (1.0032 of best)\n",
      "depth=5, f1_score: 0.5662, recall_score: 0.4264, precision_score: 0.8424, roc_auc_score: 0.8652\n",
      "Forest depth=6: roc_auc_score= 0.8787994433261743 (1.0157 of best)\n",
      "depth=6, f1_score: 0.5098, recall_score: 0.3589, precision_score: 0.8797, roc_auc_score: 0.8788\n",
      "Forest depth=7: roc_auc_score= 0.8844468415020563 (1.0064 of best)\n",
      "depth=7, f1_score: 0.5585, recall_score: 0.4172, precision_score: 0.8447, roc_auc_score: 0.8844\n",
      "Forest depth=8: roc_auc_score= 0.8837883194806946 (0.9993 of best)\n",
      "depth=8, f1_score: 0.5904, recall_score: 0.4509, precision_score: 0.8547, roc_auc_score: 0.8838\n",
      "Forest depth=9: roc_auc_score= 0.882881798306864 (0.9982 of best)\n",
      "depth=9, f1_score: 0.5833, recall_score: 0.4509, precision_score: 0.8258, roc_auc_score: 0.8829\n",
      "Forest depth=10: roc_auc_score= 0.8810278240602518 (0.9961 of best)\n",
      "depth=10, f1_score: 0.5848, recall_score: 0.4601, precision_score: 0.8021, roc_auc_score: 0.8810\n",
      "depth=11, f1_score: 0.6031, recall_score: 0.4755, precision_score: 0.8245, roc_auc_score: 0.8734\n",
      "depth=12, f1_score: 0.5926, recall_score: 0.4663, precision_score: 0.8128, roc_auc_score: 0.8728\n",
      "depth=13, f1_score: 0.5992, recall_score: 0.4724, precision_score: 0.8191, roc_auc_score: 0.8653\n",
      "depth=14, f1_score: 0.5996, recall_score: 0.4755, precision_score: 0.8115, roc_auc_score: 0.8676\n",
      "depth=15, f1_score: 0.6325, recall_score: 0.5307, precision_score: 0.7828, roc_auc_score: 0.8701\n"
     ]
    }
   ],
   "source": [
    "for depth in range(2,16):\n",
    "    basic_forest = TrainedModel(\n",
    "        RandomForestClassifier( n_estimators=20,max_depth=depth),\n",
    "        dset_valid, title = f'Forest depth={depth}' )                         \n",
    "    basic_forest.predict_and_print_metrics(comment='depth='+str(depth) )"
   ]
  },
  {
   "cell_type": "code",
   "execution_count": 33,
   "metadata": {},
   "outputs": [],
   "source": [
    "depth_for_test = dset_valid.best_auc_roc['model'].get_params()['max_depth']"
   ]
  },
  {
   "cell_type": "code",
   "execution_count": 34,
   "metadata": {},
   "outputs": [
    {
     "name": "stdout",
     "output_type": "stream",
     "text": [
      "Forest 30 7: : roc_auc_score= 0.8781541639780027 (0.9929 of best)\n",
      "est=30, f1_score: 0.5703, recall_score: 0.4294, precision_score: 0.8485, roc_auc_score: 0.8782\n",
      "Forest 35 7: : roc_auc_score= 0.8835054078261791 (0.9989 of best)\n",
      "est=35, f1_score: 0.5567, recall_score: 0.4141, precision_score: 0.8491, roc_auc_score: 0.8835\n",
      "Forest 40 7: : roc_auc_score= 0.8899919099305602 (1.0063 of best)\n",
      "est=40, f1_score: 0.5915, recall_score: 0.4509, precision_score: 0.8596, roc_auc_score: 0.8900\n",
      "Forest 45 7: : roc_auc_score= 0.8841771725207307 (0.9935 of best)\n",
      "est=45, f1_score: 0.5731, recall_score: 0.4387, precision_score: 0.8266, roc_auc_score: 0.8842\n",
      "Forest 50 7: : roc_auc_score= 0.8844071134824861 (0.9937 of best)\n",
      "est=50, f1_score: 0.5626, recall_score: 0.4202, precision_score: 0.8509, roc_auc_score: 0.8844\n",
      "Forest 55 7: : roc_auc_score= 0.8841290173454942 (0.9934 of best)\n",
      "est=55, f1_score: 0.5650, recall_score: 0.4264, precision_score: 0.8373, roc_auc_score: 0.8841\n",
      "Forest 60 7: : roc_auc_score= 0.8815671620229026 (0.9905 of best)\n",
      "est=60, f1_score: 0.5691, recall_score: 0.4294, precision_score: 0.8434, roc_auc_score: 0.8816\n",
      "Forest 65 7: : roc_auc_score= 0.8857494389922085 (0.9952 of best)\n",
      "est=65, f1_score: 0.5766, recall_score: 0.4387, precision_score: 0.8412, roc_auc_score: 0.8857\n",
      "Forest 70 7: : roc_auc_score= 0.888412420182797 (0.9982 of best)\n",
      "est=70, f1_score: 0.5801, recall_score: 0.4387, precision_score: 0.8563, roc_auc_score: 0.8884\n"
     ]
    }
   ],
   "source": [
    "for est in range(30,71,5):\n",
    "    basic_forest = TrainedModel(\n",
    "        RandomForestClassifier( n_estimators=est,max_depth=depth_for_test),\n",
    "        dset_valid,\n",
    "        title = f'Forest {est} {depth_for_test}: '  )\n",
    "    basic_forest.predict_and_print_metrics(comment='est='+str(est)                                    \n",
    "      ) "
   ]
  },
  {
   "cell_type": "code",
   "execution_count": 35,
   "metadata": {},
   "outputs": [],
   "source": [
    "est_for_test = dset_valid.best_auc_roc['model'].get_params()['n_estimators']"
   ]
  },
  {
   "cell_type": "code",
   "execution_count": 36,
   "metadata": {},
   "outputs": [
    {
     "name": "stdout",
     "output_type": "stream",
     "text": [
      "Forest 40 7: : roc_auc_score= 0.8819740732536526 (0.9910 of best)\n"
     ]
    }
   ],
   "source": [
    "basic_forest = TrainedModel(\n",
    "    RandomForestClassifier( n_estimators=est_for_test,max_depth=depth_for_test),\n",
    "        dset_valid,\n",
    "        title=f'Forest {est_for_test} {depth_for_test}: ')"
   ]
  },
  {
   "cell_type": "code",
   "execution_count": 37,
   "metadata": {},
   "outputs": [
    {
     "name": "stdout",
     "output_type": "stream",
     "text": [
      "threshold 0.20, f1_score: 0.6046, recall_score: 0.8067, precision_score: 0.4835, roc_auc_score: 0.8820\n",
      "threshold 0.25, f1_score: 0.6250, recall_score: 0.7209, precision_score: 0.5516, roc_auc_score: 0.8820\n",
      "threshold 0.30, f1_score: 0.6615, recall_score: 0.6534, precision_score: 0.6698, roc_auc_score: 0.8820\n"
     ]
    }
   ],
   "source": [
    "for th in np.arange(0.2,0.81,0.05):\n",
    "    t,p = basic_forest.predict_and_print_metrics(\n",
    "        threshold = th, comment = f'threshold {th:.2f}' )"
   ]
  },
  {
   "cell_type": "markdown",
   "metadata": {},
   "source": [
    "Для несблансированного случайного леса на валидационной модели лучшая <b>F1=0.64</b>\n",
    "Можно ожидать , что на финальном тестировании она превысит требуемые 0.59 "
   ]
  },
  {
   "cell_type": "markdown",
   "metadata": {},
   "source": [
    "## Борьба с дисбалансом"
   ]
  },
  {
   "cell_type": "markdown",
   "metadata": {},
   "source": [
    "<s>Проверим на LogisticRegression, какое улучшение могут дать известные методы борьбы с дисбалансом,  \n",
    "оптимальный проверим также на остальных моделях</s>"
   ]
  },
  {
   "cell_type": "markdown",
   "metadata": {},
   "source": [
    "### LogisticRegression"
   ]
  },
  {
   "cell_type": "markdown",
   "metadata": {},
   "source": [
    "####  Straight balanced"
   ]
  },
  {
   "cell_type": "code",
   "execution_count": 38,
   "metadata": {},
   "outputs": [
    {
     "name": "stdout",
     "output_type": "stream",
     "text": [
      "LogisticRegression: roc_auc_score= 0.7818233475551618 (781.8233 of best)\n",
      "threshold 0.30, f1_score: 0.4228, recall_score: 0.9233, precision_score: 0.2741, roc_auc_score: 0.7818\n",
      "threshold 0.35, f1_score: 0.4460, recall_score: 0.8926, precision_score: 0.2972, roc_auc_score: 0.7818\n",
      "threshold 0.40, f1_score: 0.4671, recall_score: 0.8374, precision_score: 0.3238, roc_auc_score: 0.7818\n",
      "threshold 0.45, f1_score: 0.4804, recall_score: 0.7699, precision_score: 0.3491, roc_auc_score: 0.7818\n",
      "threshold 0.50, f1_score: 0.5011, recall_score: 0.7209, precision_score: 0.3840, roc_auc_score: 0.7818\n",
      "threshold 0.55, f1_score: 0.5000, recall_score: 0.6258, precision_score: 0.4163, roc_auc_score: 0.7818\n",
      "threshold 0.60, f1_score: 0.5021, recall_score: 0.5552, precision_score: 0.4582, roc_auc_score: 0.7818\n",
      "threshold 0.65, f1_score: 0.5054, recall_score: 0.5000, precision_score: 0.5110, roc_auc_score: 0.7818\n"
     ]
    }
   ],
   "source": [
    "balanced_logistic = TrainedModel(LogisticRegression(solver='liblinear',class_weight='balanced'),\n",
    "                                 downsampled)\n",
    "for th in np.arange(0.3,0.81,0.05):\n",
    "    t,p = balanced_logistic.predict_and_print_metrics(\n",
    "        threshold = th, comment = f'threshold {th:.2f}' )"
   ]
  },
  {
   "cell_type": "code",
   "execution_count": 39,
   "metadata": {
    "scrolled": true
   },
   "outputs": [
    {
     "name": "stdout",
     "output_type": "stream",
     "text": [
      "roc_auc_soore =  0.7818233475551618\n"
     ]
    },
    {
     "data": {
      "image/png": "[encoded data removed]",
      "text/plain": [
       "<Figure size 640x480 with 1 Axes>"
      ]
     },
     "metadata": {},
     "output_type": "display_data"
    }
   ],
   "source": [
    "balanced_logistic.plot_roc_curve( 'Исходная выборка с балансом классов')"
   ]
  },
  {
   "cell_type": "markdown",
   "metadata": {},
   "source": [
    "####  Downsampling (версия 3)"
   ]
  },
  {
   "cell_type": "markdown",
   "metadata": {},
   "source": [
    "Просчитаем набор даунсетов"
   ]
  },
  {
   "cell_type": "code",
   "execution_count": 40,
   "metadata": {},
   "outputs": [
    {
     "name": "stdout",
     "output_type": "stream",
     "text": [
      "LogisticRegression: roc_auc_score= 0.7806796621432904 (780.6797 of best)\n",
      "frac =1.3:, f1_score: 0.4024, recall_score: 0.3037, precision_score: 0.5964, roc_auc_score: 0.7807\n",
      "LogisticRegression: roc_auc_score= 0.7828562760639887 (782.8563 of best)\n",
      "frac =1.6:, f1_score: 0.4428, recall_score: 0.3681, precision_score: 0.5556, roc_auc_score: 0.7829\n",
      "LogisticRegression: roc_auc_score= 0.7847993373847889 (784.7993 of best)\n",
      "frac =1.9:, f1_score: 0.4885, recall_score: 0.4571, precision_score: 0.5246, roc_auc_score: 0.7848\n",
      "LogisticRegression: roc_auc_score= 0.7826034613939961 (782.6035 of best)\n",
      "frac =2.2:, f1_score: 0.5123, recall_score: 0.5123, precision_score: 0.5123, roc_auc_score: 0.7826\n",
      "LogisticRegression: roc_auc_score= 0.7860561874584662 (786.0562 of best)\n",
      "frac =2.5:, f1_score: 0.5216, recall_score: 0.5552, precision_score: 0.4918, roc_auc_score: 0.7861\n",
      "LogisticRegression: roc_auc_score= 0.7835497105873969 (783.5497 of best)\n",
      "frac =2.8:, f1_score: 0.5141, recall_score: 0.5859, precision_score: 0.4580, roc_auc_score: 0.7835\n",
      "LogisticRegression: roc_auc_score= 0.7851388313702073 (785.1388 of best)\n",
      "frac =3.1:, f1_score: 0.5070, recall_score: 0.6104, precision_score: 0.4336, roc_auc_score: 0.7851\n",
      "LogisticRegression: roc_auc_score= 0.785870790033805 (785.8708 of best)\n",
      "frac =3.4:, f1_score: 0.5095, recall_score: 0.6595, precision_score: 0.4151, roc_auc_score: 0.7859\n",
      "LogisticRegression: roc_auc_score= 0.7848113761785981 (784.8114 of best)\n",
      "frac =3.7:, f1_score: 0.4950, recall_score: 0.6810, precision_score: 0.3888, roc_auc_score: 0.7848\n",
      "LogisticRegression: roc_auc_score= 0.7941871887971801 (794.1872 of best)\n",
      "frac =4.0:, f1_score: 0.5160, recall_score: 0.7423, precision_score: 0.3954, roc_auc_score: 0.7942\n"
     ]
    }
   ],
   "source": [
    "models_down = {}\n",
    "for f in frac_range:\n",
    "    models_down[round(f,1)] = TrainedModel(LogisticRegression(),dsets_down[round(f,1)])\n",
    "    models_down[round(f,1)].predict_and_print_metrics(comment = f'frac ={f:.1f}:')\n"
   ]
  },
  {
   "cell_type": "markdown",
   "metadata": {},
   "source": [
    "Максимум в районе 2.2 - 2.5 "
   ]
  },
  {
   "cell_type": "markdown",
   "metadata": {},
   "source": [
    "#### Upsampling "
   ]
  },
  {
   "cell_type": "code",
   "execution_count": 41,
   "metadata": {},
   "outputs": [
    {
     "name": "stdout",
     "output_type": "stream",
     "text": [
      "LogisticRegression: roc_auc_score= 0.786975951305487 (786.9760 of best)\n",
      "roc_auc_soore =  0.786975951305487\n",
      "threshold 0.30, f1_score: 0.4229, recall_score: 0.9294, precision_score: 0.2737, roc_auc_score: 0.7870\n",
      "threshold 0.35, f1_score: 0.4501, recall_score: 0.8988, precision_score: 0.3002, roc_auc_score: 0.7870\n",
      "threshold 0.40, f1_score: 0.4701, recall_score: 0.8436, precision_score: 0.3258, roc_auc_score: 0.7870\n",
      "threshold 0.45, f1_score: 0.4887, recall_score: 0.7945, precision_score: 0.3529, roc_auc_score: 0.7870\n",
      "threshold 0.50, f1_score: 0.4973, recall_score: 0.7117, precision_score: 0.3822, roc_auc_score: 0.7870\n",
      "threshold 0.55, f1_score: 0.5121, recall_score: 0.6472, precision_score: 0.4237, roc_auc_score: 0.7870\n",
      "threshold 0.60, f1_score: 0.5187, recall_score: 0.5736, precision_score: 0.4734, roc_auc_score: 0.7870\n",
      "threshold 0.65, f1_score: 0.5178, recall_score: 0.5123, precision_score: 0.5235, roc_auc_score: 0.7870\n"
     ]
    },
    {
     "data": {
      "image/png": "[encoded data removed]",
      "text/plain": [
       "<Figure size 640x480 with 1 Axes>"
      ]
     },
     "metadata": {},
     "output_type": "display_data"
    }
   ],
   "source": [
    "up_model = TrainedModel(LogisticRegression(solver='liblinear',max_iter=10000),\n",
    "                                 upsampled)\n",
    "up_model.plot_roc_curve(' Расширенная выборка (сбалансироавнный обучающий набор)')\n",
    "for th in np.arange(0.3,0.81,0.05):\n",
    "    t,p = up_model.predict_and_print_metrics(\n",
    "        threshold = th, comment = f'threshold {th:.2f}') "
   ]
  },
  {
   "cell_type": "markdown",
   "metadata": {},
   "source": [
    "Все варианты дают примерно одинаковый результат по AUC-ROC, а F1 не удаётся поднять намного выше 0.5"
   ]
  },
  {
   "cell_type": "markdown",
   "metadata": {},
   "source": [
    "Лучший результат достигнут для upsampled_balanced, threshold = 0.55\n",
    "<b><u><center>F1 = 0.5166</center></u></b>"
   ]
  },
  {
   "cell_type": "markdown",
   "metadata": {},
   "source": [
    "Попробуем DecisionTree и RandomForest на обычном наборе данных с балансом классов  "
   ]
  },
  {
   "cell_type": "markdown",
   "metadata": {},
   "source": [
    "### DecisionTree"
   ]
  },
  {
   "cell_type": "code",
   "execution_count": 42,
   "metadata": {},
   "outputs": [
    {
     "name": "stdout",
     "output_type": "stream",
     "text": [
      "depth=2, f1_score: 0.5148, recall_score: 0.7761, precision_score: 0.3851, roc_auc_score: 0.7676\n",
      "depth=3, f1_score: 0.5148, recall_score: 0.7761, precision_score: 0.3851, roc_auc_score: 0.8186\n",
      "depth=4, f1_score: 0.5607, recall_score: 0.7791, precision_score: 0.4379, roc_auc_score: 0.8423\n",
      "depth=5, f1_score: 0.5711, recall_score: 0.8006, precision_score: 0.4439, roc_auc_score: 0.8613\n",
      "depth=6, f1_score: 0.5854, recall_score: 0.7362, precision_score: 0.4858, roc_auc_score: 0.8570\n",
      "depth=7, f1_score: 0.5882, recall_score: 0.7669, precision_score: 0.4771, roc_auc_score: 0.8427\n",
      "depth=8, f1_score: 0.5842, recall_score: 0.7239, precision_score: 0.4896, roc_auc_score: 0.8156\n",
      "depth=9, f1_score: 0.5604, recall_score: 0.6902, precision_score: 0.4717, roc_auc_score: 0.7730\n",
      "depth=10, f1_score: 0.5381, recall_score: 0.6503, precision_score: 0.4589, roc_auc_score: 0.7501\n",
      "depth=11, f1_score: 0.5244, recall_score: 0.6595, precision_score: 0.4352, roc_auc_score: 0.7433\n",
      "depth=12, f1_score: 0.5120, recall_score: 0.6227, precision_score: 0.4347, roc_auc_score: 0.7234\n",
      "depth=13, f1_score: 0.5128, recall_score: 0.5828, precision_score: 0.4578, roc_auc_score: 0.7054\n",
      "depth=14, f1_score: 0.5147, recall_score: 0.5644, precision_score: 0.4730, roc_auc_score: 0.7029\n",
      "depth=15, f1_score: 0.5071, recall_score: 0.5460, precision_score: 0.4734, roc_auc_score: 0.7013\n"
     ]
    }
   ],
   "source": [
    "for depth in range(2,16):\n",
    "    balanced_tree = TrainedModel(\n",
    "        DecisionTreeClassifier( max_depth = depth , class_weight='balanced'),\n",
    "        dset_valid)\n",
    "    balanced_tree.predict_and_print_metrics(comment='depth='+str(depth) ) "
   ]
  },
  {
   "cell_type": "code",
   "execution_count": 43,
   "metadata": {},
   "outputs": [
    {
     "name": "stdout",
     "output_type": "stream",
     "text": [
      "roc_auc_soore =  0.8407628742860995\n"
     ]
    },
    {
     "data": {
      "image/png": "[encoded data removed]",
      "text/plain": [
       "<Figure size 640x480 with 1 Axes>"
      ]
     },
     "metadata": {},
     "output_type": "display_data"
    }
   ],
   "source": [
    "balanced_tree = TrainedModel(\n",
    "        DecisionTreeClassifier( max_depth = 7 , class_weight='balanced'),\n",
    "        dset_valid)\n",
    "balanced_tree.plot_roc_curve('Решающее дерево с балансом классов') "
   ]
  },
  {
   "cell_type": "markdown",
   "metadata": {},
   "source": [
    "### RandomForest"
   ]
  },
  {
   "cell_type": "markdown",
   "metadata": {},
   "source": [
    "подберём лучшую метрику AUC-ROC для исходного датасета с балансом классов и расширенного датасета в двух версиях - с балансом кдассов и без <br>\n",
    "Чтобы не перегружать проект , сокращенный набор проверять не буду, не вижу какие у него могут быть  премиущества над расширенным"
   ]
  },
  {
   "cell_type": "markdown",
   "metadata": {},
   "source": [
    "#### RandomForest balanced"
   ]
  },
  {
   "cell_type": "code",
   "execution_count": 44,
   "metadata": {},
   "outputs": [
    {
     "name": "stdout",
     "output_type": "stream",
     "text": [
      "depth=2, f1_score: 0.5901, recall_score: 0.7485, precision_score: 0.4870, roc_auc_score: 0.8393\n",
      "depth=3, f1_score: 0.5830, recall_score: 0.7485, precision_score: 0.4775, roc_auc_score: 0.8563\n",
      "depth=4, f1_score: 0.6124, recall_score: 0.7853, precision_score: 0.5020, roc_auc_score: 0.8771\n",
      "depth=5, f1_score: 0.6097, recall_score: 0.7331, precision_score: 0.5218, roc_auc_score: 0.8666\n",
      "depth=6, f1_score: 0.6160, recall_score: 0.7699, precision_score: 0.5133, roc_auc_score: 0.8722\n",
      "depth=7, f1_score: 0.6215, recall_score: 0.7454, precision_score: 0.5329, roc_auc_score: 0.8787\n",
      "depth=8, f1_score: 0.6214, recall_score: 0.7301, precision_score: 0.5409, roc_auc_score: 0.8786\n",
      "depth=9, f1_score: 0.6488, recall_score: 0.7055, precision_score: 0.6005, roc_auc_score: 0.8811\n",
      "depth=10, f1_score: 0.6399, recall_score: 0.6595, precision_score: 0.6214, roc_auc_score: 0.8706\n",
      "depth=11, f1_score: 0.6445, recall_score: 0.6258, precision_score: 0.6645, roc_auc_score: 0.8650\n",
      "depth=12, f1_score: 0.6202, recall_score: 0.5736, precision_score: 0.6751, roc_auc_score: 0.8713\n",
      "depth=13, f1_score: 0.6046, recall_score: 0.5276, precision_score: 0.7078, roc_auc_score: 0.8677\n",
      "depth=14, f1_score: 0.6054, recall_score: 0.5153, precision_score: 0.7336, roc_auc_score: 0.8661\n",
      "depth=15, f1_score: 0.5772, recall_score: 0.4816, precision_score: 0.7202, roc_auc_score: 0.8573\n"
     ]
    }
   ],
   "source": [
    "for depth in range(2,16):\n",
    "    balanced_forest = TrainedModel(\n",
    "        RandomForestClassifier( n_estimators=20,max_depth=depth,class_weight='balanced'),\n",
    "        dset_valid, title = f'Forest depth={depth}' )                         \n",
    "    balanced_forest.predict_and_print_metrics(comment='depth='+str(depth) )"
   ]
  },
  {
   "cell_type": "code",
   "execution_count": 45,
   "metadata": {},
   "outputs": [],
   "source": [
    "depth_for_test = dset_valid.best_auc_roc['model'].get_params()['max_depth']"
   ]
  },
  {
   "cell_type": "code",
   "execution_count": 46,
   "metadata": {},
   "outputs": [
    {
     "name": "stdout",
     "output_type": "stream",
     "text": [
      "Forest 30 7: : roc_auc_score= 0.8826325952750143 (0.9917 of best)\n",
      "est=30, f1_score: 0.6335, recall_score: 0.7607, precision_score: 0.5427, roc_auc_score: 0.8826\n",
      "est=35, f1_score: 0.6142, recall_score: 0.7423, precision_score: 0.5238, roc_auc_score: 0.8789\n",
      "est=40, f1_score: 0.6302, recall_score: 0.7423, precision_score: 0.5475, roc_auc_score: 0.8779\n",
      "est=45, f1_score: 0.6158, recall_score: 0.7423, precision_score: 0.5261, roc_auc_score: 0.8760\n",
      "est=50, f1_score: 0.6313, recall_score: 0.7669, precision_score: 0.5365, roc_auc_score: 0.8777\n",
      "Forest 55 7: : roc_auc_score= 0.8831490595294276 (0.9923 of best)\n",
      "est=55, f1_score: 0.6354, recall_score: 0.7485, precision_score: 0.5520, roc_auc_score: 0.8831\n",
      "est=60, f1_score: 0.6210, recall_score: 0.7515, precision_score: 0.5292, roc_auc_score: 0.8809\n",
      "Forest 65 7: : roc_auc_score= 0.8818271999691807 (0.9908 of best)\n",
      "est=65, f1_score: 0.6271, recall_score: 0.7454, precision_score: 0.5412, roc_auc_score: 0.8818\n"
     ]
    }
   ],
   "source": [
    "for est in range(30,70,5):\n",
    "    balanced_forest = TrainedModel(\n",
    "        RandomForestClassifier( n_estimators=est,max_depth=depth_for_test,class_weight='balanced'),\n",
    "        dset_valid,\n",
    "        title = f'Forest {est} {depth_for_test}: '  )\n",
    "    balanced_forest.predict_and_print_metrics(comment='est='+str(est)                                    \n",
    "      ) "
   ]
  },
  {
   "cell_type": "code",
   "execution_count": 47,
   "metadata": {},
   "outputs": [],
   "source": [
    "est_for_test = dset_valid.best_auc_roc['model'].get_params()['n_estimators']"
   ]
  },
  {
   "cell_type": "code",
   "execution_count": 48,
   "metadata": {},
   "outputs": [],
   "source": [
    "balanced_forest = TrainedModel(\n",
    "    RandomForestClassifier( n_estimators=est_for_test,max_depth=depth_for_test,class_weight='balanced'),\n",
    "        dset_valid,\n",
    "        title=f'Forest {est_for_test} {depth_for_test}: ')"
   ]
  },
  {
   "cell_type": "code",
   "execution_count": 49,
   "metadata": {},
   "outputs": [
    {
     "name": "stdout",
     "output_type": "stream",
     "text": [
      "roc_auc_soore =  0.8754273771802256\n"
     ]
    },
    {
     "data": {
      "image/png": "[encoded data removed]",
      "text/plain": [
       "<Figure size 640x480 with 1 Axes>"
      ]
     },
     "metadata": {},
     "output_type": "display_data"
    }
   ],
   "source": [
    "balanced_forest.plot_roc_curve('Случайный лес с балансом классов ')"
   ]
  },
  {
   "cell_type": "markdown",
   "metadata": {},
   "source": [
    "<s>ROC кривые для классификационных методов явно выглядят более впечатляюще, чем для линейных.  \n",
    "Я правда не понял,  какой смысл для них имеет  вектор оценок predict_proba().  \n",
    "Для Random Forest я прочитал, что это - итог \"голосования деревьев\", но для DecisionTree тогда вообще не понятно.\n",
    "Но во всяком случае, алгоритм работает и видимо даёт хорошее предсказание... \n",
    "</s>    "
   ]
  },
  {
   "cell_type": "code",
   "execution_count": 50,
   "metadata": {},
   "outputs": [
    {
     "name": "stdout",
     "output_type": "stream",
     "text": [
      "threshold 0.30, f1_score: 0.4912, recall_score: 0.9448, precision_score: 0.3319, roc_auc_score: 0.8754\n",
      "threshold 0.35, f1_score: 0.5314, recall_score: 0.8957, precision_score: 0.3777, roc_auc_score: 0.8754\n",
      "threshold 0.40, f1_score: 0.5571, recall_score: 0.8374, precision_score: 0.4174, roc_auc_score: 0.8754\n",
      "threshold 0.45, f1_score: 0.6016, recall_score: 0.8037, precision_score: 0.4807, roc_auc_score: 0.8754\n",
      "threshold 0.50, f1_score: 0.6256, recall_score: 0.7485, precision_score: 0.5374, roc_auc_score: 0.8754\n",
      "threshold 0.55, f1_score: 0.6471, recall_score: 0.6779, precision_score: 0.6190, roc_auc_score: 0.8754\n",
      "threshold 0.60, f1_score: 0.6460, recall_score: 0.6074, precision_score: 0.6899, roc_auc_score: 0.8754\n",
      "threshold 0.65, f1_score: 0.6445, recall_score: 0.5644, precision_score: 0.7510, roc_auc_score: 0.8754\n"
     ]
    }
   ],
   "source": [
    "for th in np.arange(0.3,0.81,0.05):\n",
    "    t,p = balanced_forest.predict_and_print_metrics(\n",
    "        threshold = th, comment = f'threshold {th:.2f}' )"
   ]
  },
  {
   "cell_type": "markdown",
   "metadata": {},
   "source": [
    "#### RandomForest downsampled (версия 3)"
   ]
  },
  {
   "cell_type": "markdown",
   "metadata": {},
   "source": [
    "Подберем размер датасета и гиперпараметры в тройном цикле (3 мин)"
   ]
  },
  {
   "cell_type": "code",
   "execution_count": 51,
   "metadata": {},
   "outputs": [
    {
     "name": "stdout",
     "output_type": "stream",
     "text": [
      "RandomForestClassifier: roc_auc_score= 0.8715544972118154 (1.1164 of best)\n",
      "frac =1.3,depth=4,est=17:, f1_score: 0.5510, recall_score: 0.4141, precision_score: 0.8232, roc_auc_score: 0.8716\n",
      "RandomForestClassifier: roc_auc_score= 0.873983925802506 (1.0028 of best)\n",
      "frac =1.3,depth=4,est=25:, f1_score: 0.4978, recall_score: 0.3497, precision_score: 0.8636, roc_auc_score: 0.8740\n",
      "frac =1.3,depth=4,est=38:, f1_score: 0.5462, recall_score: 0.4080, precision_score: 0.8261, roc_auc_score: 0.8637\n",
      "frac =1.3,depth=4,est=57:, f1_score: 0.4848, recall_score: 0.3436, precision_score: 0.8235, roc_auc_score: 0.8649\n",
      "RandomForestClassifier: roc_auc_score= 0.871571351523148 (0.9972 of best)\n",
      "frac =1.3,depth=4,est=86:, f1_score: 0.5263, recall_score: 0.3834, precision_score: 0.8389, roc_auc_score: 0.8716\n",
      "RandomForestClassifier: roc_auc_score= 0.8681655767545339 (0.9933 of best)\n",
      "frac =1.3,depth=4,est=129:, f1_score: 0.5533, recall_score: 0.4141, precision_score: 0.8333, roc_auc_score: 0.8682\n",
      "RandomForestClassifier: roc_auc_score= 0.874215070643642 (1.0003 of best)\n",
      "frac =1.3,depth=5,est=17:, f1_score: 0.5787, recall_score: 0.4509, precision_score: 0.8077, roc_auc_score: 0.8742\n",
      "RandomForestClassifier: roc_auc_score= 0.8748651655093374 (1.0007 of best)\n",
      "frac =1.3,depth=5,est=25:, f1_score: 0.5857, recall_score: 0.4509, precision_score: 0.8352, roc_auc_score: 0.8749\n",
      "RandomForestClassifier: roc_auc_score= 0.8769189837331818 (1.0023 of best)\n",
      "frac =1.3,depth=5,est=38:, f1_score: 0.5794, recall_score: 0.4479, precision_score: 0.8202, roc_auc_score: 0.8769\n",
      "RandomForestClassifier: roc_auc_score= 0.8757187159904076 (0.9986 of best)\n",
      "frac =1.3,depth=5,est=57:, f1_score: 0.5793, recall_score: 0.4540, precision_score: 0.8000, roc_auc_score: 0.8757\n",
      "RandomForestClassifier: roc_auc_score= 0.8761834134314413 (0.9992 of best)\n",
      "frac =1.3,depth=5,est=86:, f1_score: 0.5772, recall_score: 0.4417, precision_score: 0.8324, roc_auc_score: 0.8762\n",
      "RandomForestClassifier: roc_auc_score= 0.8760112586799704 (0.9990 of best)\n",
      "frac =1.3,depth=5,est=129:, f1_score: 0.5760, recall_score: 0.4417, precision_score: 0.8276, roc_auc_score: 0.8760\n",
      "RandomForestClassifier: roc_auc_score= 0.8770598376207492 (1.0002 of best)\n",
      "frac =1.3,depth=6,est=17:, f1_score: 0.6151, recall_score: 0.5000, precision_score: 0.7990, roc_auc_score: 0.8771\n",
      "RandomForestClassifier: roc_auc_score= 0.8787392493571283 (1.0019 of best)\n",
      "frac =1.3,depth=6,est=25:, f1_score: 0.6180, recall_score: 0.4939, precision_score: 0.8256, roc_auc_score: 0.8787\n",
      "RandomForestClassifier: roc_auc_score= 0.8814094538240025 (1.0030 of best)\n",
      "frac =1.3,depth=6,est=38:, f1_score: 0.5964, recall_score: 0.4601, precision_score: 0.8475, roc_auc_score: 0.8814\n",
      "RandomForestClassifier: roc_auc_score= 0.8825326732863981 (1.0013 of best)\n",
      "frac =1.3,depth=6,est=57:, f1_score: 0.5969, recall_score: 0.4724, precision_score: 0.8105, roc_auc_score: 0.8825\n",
      "RandomForestClassifier: roc_auc_score= 0.8831586905644749 (1.0007 of best)\n",
      "frac =1.3,depth=6,est=86:, f1_score: 0.5910, recall_score: 0.4632, precision_score: 0.8162, roc_auc_score: 0.8832\n",
      "RandomForestClassifier: roc_auc_score= 0.8839869595785459 (1.0009 of best)\n",
      "frac =1.3,depth=6,est=129:, f1_score: 0.5962, recall_score: 0.4755, precision_score: 0.7990, roc_auc_score: 0.8840\n",
      "RandomForestClassifier: roc_auc_score= 0.8854412458706936 (1.0016 of best)\n",
      "frac =1.3,depth=7,est=17:, f1_score: 0.5938, recall_score: 0.4663, precision_score: 0.8172, roc_auc_score: 0.8854\n",
      "RandomForestClassifier: roc_auc_score= 0.8812023865704847 (0.9952 of best)\n",
      "frac =1.3,depth=7,est=25:, f1_score: 0.6039, recall_score: 0.4724, precision_score: 0.8370, roc_auc_score: 0.8812\n",
      "RandomForestClassifier: roc_auc_score= 0.8846250156504318 (0.9991 of best)\n",
      "frac =1.3,depth=7,est=38:, f1_score: 0.5992, recall_score: 0.4724, precision_score: 0.8191, roc_auc_score: 0.8846\n",
      "RandomForestClassifier: roc_auc_score= 0.8851788001656538 (0.9997 of best)\n",
      "frac =1.3,depth=7,est=57:, f1_score: 0.6000, recall_score: 0.4785, precision_score: 0.8041, roc_auc_score: 0.8852\n",
      "RandomForestClassifier: roc_auc_score= 0.8835559707601777 (0.9979 of best)\n",
      "frac =1.3,depth=7,est=86:, f1_score: 0.6027, recall_score: 0.4816, precision_score: 0.8051, roc_auc_score: 0.8836\n",
      "RandomForestClassifier: roc_auc_score= 0.8870833373462645 (1.0019 of best)\n",
      "frac =1.3,depth=7,est=129:, f1_score: 0.6031, recall_score: 0.4847, precision_score: 0.7980, roc_auc_score: 0.8871\n",
      "RandomForestClassifier: roc_auc_score= 0.881910267646464 (0.9942 of best)\n",
      "frac =1.3,depth=8,est=17:, f1_score: 0.6108, recall_score: 0.5031, precision_score: 0.7773, roc_auc_score: 0.8819\n",
      "RandomForestClassifier: roc_auc_score= 0.8823087517215475 (0.9946 of best)\n",
      "frac =1.3,depth=8,est=25:, f1_score: 0.6208, recall_score: 0.5123, precision_score: 0.7877, roc_auc_score: 0.8823\n",
      "RandomForestClassifier: roc_auc_score= 0.8886531960589805 (1.0018 of best)\n",
      "frac =1.3,depth=8,est=38:, f1_score: 0.6290, recall_score: 0.5123, precision_score: 0.8146, roc_auc_score: 0.8887\n",
      "RandomForestClassifier: roc_auc_score= 0.8875239571996801 (0.9987 of best)\n",
      "frac =1.3,depth=8,est=57:, f1_score: 0.6104, recall_score: 0.4877, precision_score: 0.8154, roc_auc_score: 0.8875\n",
      "RandomForestClassifier: roc_auc_score= 0.8872253951132127 (0.9984 of best)\n",
      "frac =1.3,depth=8,est=86:, f1_score: 0.6105, recall_score: 0.5000, precision_score: 0.7837, roc_auc_score: 0.8872\n",
      "RandomForestClassifier: roc_auc_score= 0.8897535418131386 (1.0012 of best)\n",
      "frac =1.3,depth=8,est=129:, f1_score: 0.6130, recall_score: 0.4908, precision_score: 0.8163, roc_auc_score: 0.8898\n",
      "RandomForestClassifier: roc_auc_score= 0.885655536400497 (0.9954 of best)\n",
      "frac =1.3,depth=9,est=17:, f1_score: 0.6061, recall_score: 0.4908, precision_score: 0.7921, roc_auc_score: 0.8857\n",
      "RandomForestClassifier: roc_auc_score= 0.8865488149011373 (0.9964 of best)\n",
      "frac =1.3,depth=9,est=25:, f1_score: 0.6423, recall_score: 0.5399, precision_score: 0.7928, roc_auc_score: 0.8865\n",
      "RandomForestClassifier: roc_auc_score= 0.8815623465053789 (0.9908 of best)\n",
      "frac =1.3,depth=9,est=38:, f1_score: 0.5943, recall_score: 0.4785, precision_score: 0.7839, roc_auc_score: 0.8816\n",
      "RandomForestClassifier: roc_auc_score= 0.8857518467509702 (0.9955 of best)\n",
      "frac =1.3,depth=9,est=57:, f1_score: 0.6139, recall_score: 0.5000, precision_score: 0.7951, roc_auc_score: 0.8858\n",
      "RandomForestClassifier: roc_auc_score= 0.8878345580799568 (0.9978 of best)\n",
      "frac =1.3,depth=9,est=86:, f1_score: 0.6198, recall_score: 0.5000, precision_score: 0.8150, roc_auc_score: 0.8878\n",
      "RandomForestClassifier: roc_auc_score= 0.8884389055291773 (0.9985 of best)\n",
      "frac =1.3,depth=9,est=129:, f1_score: 0.6160, recall_score: 0.4969, precision_score: 0.8100, roc_auc_score: 0.8884\n",
      "frac =1.3,depth=10,est=17:, f1_score: 0.6211, recall_score: 0.5153, precision_score: 0.7814, roc_auc_score: 0.8796\n",
      "RandomForestClassifier: roc_auc_score= 0.8812469301075787 (0.9904 of best)\n",
      "frac =1.3,depth=10,est=25:, f1_score: 0.6220, recall_score: 0.5123, precision_score: 0.7915, roc_auc_score: 0.8812\n",
      "frac =1.3,depth=10,est=38:, f1_score: 0.6131, recall_score: 0.5031, precision_score: 0.7847, roc_auc_score: 0.8804\n",
      "RandomForestClassifier: roc_auc_score= 0.8827036241584884 (0.9921 of best)\n",
      "frac =1.3,depth=10,est=57:, f1_score: 0.6160, recall_score: 0.5092, precision_score: 0.7793, roc_auc_score: 0.8827\n",
      "RandomForestClassifier: roc_auc_score= 0.8849067234255668 (0.9946 of best)\n",
      "frac =1.3,depth=10,est=86:, f1_score: 0.6248, recall_score: 0.5184, precision_score: 0.7860, roc_auc_score: 0.8849\n",
      "RandomForestClassifier: roc_auc_score= 0.8849211699781375 (0.9946 of best)\n",
      "frac =1.3,depth=10,est=129:, f1_score: 0.6176, recall_score: 0.5153, precision_score: 0.7706, roc_auc_score: 0.8849\n",
      "frac =1.3,depth=11,est=17:, f1_score: 0.6090, recall_score: 0.5184, precision_score: 0.7380, roc_auc_score: 0.8744\n",
      "frac =1.3,depth=11,est=25:, f1_score: 0.5971, recall_score: 0.5000, precision_score: 0.7409, roc_auc_score: 0.8763\n",
      "frac =1.3,depth=11,est=38:, f1_score: 0.6277, recall_score: 0.5429, precision_score: 0.7437, roc_auc_score: 0.8804\n",
      "RandomForestClassifier: roc_auc_score= 0.8818199766928952 (0.9911 of best)\n",
      "frac =1.3,depth=11,est=57:, f1_score: 0.6266, recall_score: 0.5276, precision_score: 0.7713, roc_auc_score: 0.8818\n",
      "RandomForestClassifier: roc_auc_score= 0.8836763586982692 (0.9932 of best)\n",
      "frac =1.3,depth=11,est=86:, f1_score: 0.6037, recall_score: 0.5000, precision_score: 0.7617, roc_auc_score: 0.8837\n"
     ]
    },
    {
     "name": "stdout",
     "output_type": "stream",
     "text": [
      "RandomForestClassifier: roc_auc_score= 0.8873385597750191 (0.9973 of best)\n",
      "frac =1.3,depth=11,est=129:, f1_score: 0.6239, recall_score: 0.5215, precision_score: 0.7763, roc_auc_score: 0.8873\n",
      "frac =1.3,depth=12,est=17:, f1_score: 0.6512, recall_score: 0.5613, precision_score: 0.7754, roc_auc_score: 0.8765\n",
      "frac =1.3,depth=12,est=25:, f1_score: 0.6209, recall_score: 0.5276, precision_score: 0.7544, roc_auc_score: 0.8772\n",
      "frac =1.3,depth=12,est=38:, f1_score: 0.6129, recall_score: 0.5245, precision_score: 0.7371, roc_auc_score: 0.8769\n",
      "RandomForestClassifier: roc_auc_score= 0.8834524371334187 (0.9929 of best)\n",
      "frac =1.3,depth=12,est=57:, f1_score: 0.6193, recall_score: 0.5215, precision_score: 0.7623, roc_auc_score: 0.8835\n",
      "RandomForestClassifier: roc_auc_score= 0.880895397328351 (0.9900 of best)\n",
      "frac =1.3,depth=12,est=86:, f1_score: 0.6196, recall_score: 0.5245, precision_score: 0.7566, roc_auc_score: 0.8809\n",
      "RandomForestClassifier: roc_auc_score= 0.8850415579162293 (0.9947 of best)\n",
      "frac =1.3,depth=12,est=129:, f1_score: 0.6270, recall_score: 0.5337, precision_score: 0.7598, roc_auc_score: 0.8850\n",
      "frac =1.3,depth=13,est=17:, f1_score: 0.6208, recall_score: 0.5399, precision_score: 0.7303, roc_auc_score: 0.8613\n",
      "frac =1.3,depth=13,est=25:, f1_score: 0.6299, recall_score: 0.5429, precision_score: 0.7500, roc_auc_score: 0.8786\n",
      "frac =1.3,depth=13,est=38:, f1_score: 0.6140, recall_score: 0.5368, precision_score: 0.7172, roc_auc_score: 0.8768\n",
      "frac =1.3,depth=13,est=57:, f1_score: 0.6275, recall_score: 0.5399, precision_score: 0.7489, roc_auc_score: 0.8751\n",
      "RandomForestClassifier: roc_auc_score= 0.8825856439791583 (0.9919 of best)\n",
      "frac =1.3,depth=13,est=86:, f1_score: 0.6214, recall_score: 0.5337, precision_score: 0.7436, roc_auc_score: 0.8826\n",
      "frac =1.3,depth=13,est=129:, f1_score: 0.6308, recall_score: 0.5399, precision_score: 0.7586, roc_auc_score: 0.8789\n",
      "frac =1.3,depth=14,est=17:, f1_score: 0.6222, recall_score: 0.5583, precision_score: 0.7027, roc_auc_score: 0.8712\n",
      "frac =1.3,depth=14,est=25:, f1_score: 0.6189, recall_score: 0.5429, precision_score: 0.7195, roc_auc_score: 0.8608\n",
      "frac =1.3,depth=14,est=38:, f1_score: 0.6369, recall_score: 0.5460, precision_score: 0.7639, roc_auc_score: 0.8715\n",
      "frac =1.3,depth=14,est=57:, f1_score: 0.6115, recall_score: 0.5215, precision_score: 0.7391, roc_auc_score: 0.8760\n",
      "frac =1.3,depth=14,est=86:, f1_score: 0.6316, recall_score: 0.5521, precision_score: 0.7377, roc_auc_score: 0.8808\n",
      "frac =1.3,depth=14,est=129:, f1_score: 0.6263, recall_score: 0.5399, precision_score: 0.7458, roc_auc_score: 0.8789\n",
      "frac =1.3,depth=15,est=17:, f1_score: 0.6183, recall_score: 0.5491, precision_score: 0.7075, roc_auc_score: 0.8568\n",
      "frac =1.3,depth=15,est=25:, f1_score: 0.6214, recall_score: 0.5613, precision_score: 0.6958, roc_auc_score: 0.8667\n",
      "frac =1.3,depth=15,est=38:, f1_score: 0.6308, recall_score: 0.5399, precision_score: 0.7586, roc_auc_score: 0.8768\n",
      "frac =1.3,depth=15,est=57:, f1_score: 0.6298, recall_score: 0.5583, precision_score: 0.7222, roc_auc_score: 0.8726\n",
      "frac =1.3,depth=15,est=86:, f1_score: 0.6054, recall_score: 0.5153, precision_score: 0.7336, roc_auc_score: 0.8770\n",
      "RandomForestClassifier: roc_auc_score= 0.8817128314279936 (0.9910 of best)\n",
      "frac =1.3,depth=15,est=129:, f1_score: 0.6228, recall_score: 0.5368, precision_score: 0.7415, roc_auc_score: 0.8817\n",
      "RandomForestClassifier: roc_auc_score= 0.856433772187497 (1.0940 of best)\n",
      "frac =1.6,depth=4,est=17:, f1_score: 0.5669, recall_score: 0.4417, precision_score: 0.7912, roc_auc_score: 0.8564\n",
      "RandomForestClassifier: roc_auc_score= 0.8674733461105064 (1.0129 of best)\n",
      "frac =1.6,depth=4,est=25:, f1_score: 0.5410, recall_score: 0.4049, precision_score: 0.8148, roc_auc_score: 0.8675\n",
      "RandomForestClassifier: roc_auc_score= 0.8673144340322254 (0.9998 of best)\n",
      "frac =1.6,depth=4,est=38:, f1_score: 0.5748, recall_score: 0.4540, precision_score: 0.7831, roc_auc_score: 0.8673\n",
      "RandomForestClassifier: roc_auc_score= 0.8688469724841328 (1.0016 of best)\n",
      "frac =1.6,depth=4,est=57:, f1_score: 0.5692, recall_score: 0.4417, precision_score: 0.8000, roc_auc_score: 0.8688\n",
      "RandomForestClassifier: roc_auc_score= 0.8686724099739 (0.9998 of best)\n",
      "frac =1.6,depth=4,est=86:, f1_score: 0.5919, recall_score: 0.4693, precision_score: 0.8010, roc_auc_score: 0.8687\n",
      "RandomForestClassifier: roc_auc_score= 0.8703951613679922 (1.0018 of best)\n",
      "frac =1.6,depth=4,est=129:, f1_score: 0.5891, recall_score: 0.4663, precision_score: 0.8000, roc_auc_score: 0.8704\n",
      "RandomForestClassifier: roc_auc_score= 0.8706612187111749 (1.0003 of best)\n",
      "frac =1.6,depth=5,est=17:, f1_score: 0.5934, recall_score: 0.4724, precision_score: 0.7979, roc_auc_score: 0.8707\n",
      "RandomForestClassifier: roc_auc_score= 0.8744269534146835 (1.0043 of best)\n",
      "frac =1.6,depth=5,est=25:, f1_score: 0.6206, recall_score: 0.5092, precision_score: 0.7943, roc_auc_score: 0.8744\n",
      "RandomForestClassifier: roc_auc_score= 0.8732543748976702 (0.9987 of best)\n",
      "frac =1.6,depth=5,est=38:, f1_score: 0.6131, recall_score: 0.5031, precision_score: 0.7847, roc_auc_score: 0.8733\n",
      "RandomForestClassifier: roc_auc_score= 0.8766794117363793 (1.0026 of best)\n",
      "frac =1.6,depth=5,est=57:, f1_score: 0.6041, recall_score: 0.4939, precision_score: 0.7778, roc_auc_score: 0.8767\n",
      "RandomForestClassifier: roc_auc_score= 0.8787958316880315 (1.0024 of best)\n",
      "frac =1.6,depth=5,est=86:, f1_score: 0.6110, recall_score: 0.4939, precision_score: 0.8010, roc_auc_score: 0.8788\n",
      "RandomForestClassifier: roc_auc_score= 0.8799491481349502 (1.0013 of best)\n",
      "frac =1.6,depth=5,est=129:, f1_score: 0.6154, recall_score: 0.5031, precision_score: 0.7923, roc_auc_score: 0.8799\n",
      "RandomForestClassifier: roc_auc_score= 0.8823617224143079 (1.0027 of best)\n",
      "frac =1.6,depth=6,est=17:, f1_score: 0.6116, recall_score: 0.5000, precision_score: 0.7874, roc_auc_score: 0.8824\n",
      "RandomForestClassifier: roc_auc_score= 0.8792966455104931 (0.9965 of best)\n",
      "frac =1.6,depth=6,est=25:, f1_score: 0.6197, recall_score: 0.5123, precision_score: 0.7840, roc_auc_score: 0.8793\n",
      "RandomForestClassifier: roc_auc_score= 0.8812300757962458 (0.9987 of best)\n",
      "frac =1.6,depth=6,est=38:, f1_score: 0.6350, recall_score: 0.5337, precision_score: 0.7838, roc_auc_score: 0.8812\n",
      "RandomForestClassifier: roc_auc_score= 0.8804138455759841 (0.9978 of best)\n",
      "frac =1.6,depth=6,est=57:, f1_score: 0.6197, recall_score: 0.5123, precision_score: 0.7840, roc_auc_score: 0.8804\n",
      "RandomForestClassifier: roc_auc_score= 0.8793761015496335 (0.9966 of best)\n",
      "frac =1.6,depth=6,est=86:, f1_score: 0.6174, recall_score: 0.5123, precision_score: 0.7767, roc_auc_score: 0.8794\n",
      "RandomForestClassifier: roc_auc_score= 0.8823039362040239 (0.9999 of best)\n",
      "frac =1.6,depth=6,est=129:, f1_score: 0.6222, recall_score: 0.5153, precision_score: 0.7850, roc_auc_score: 0.8823\n",
      "RandomForestClassifier: roc_auc_score= 0.8747784861939113 (0.9914 of best)\n",
      "frac =1.6,depth=7,est=17:, f1_score: 0.6430, recall_score: 0.5552, precision_score: 0.7637, roc_auc_score: 0.8748\n",
      "RandomForestClassifier: roc_auc_score= 0.8863032235074303 (1.0045 of best)\n",
      "frac =1.6,depth=7,est=25:, f1_score: 0.6245, recall_score: 0.5153, precision_score: 0.7925, roc_auc_score: 0.8863\n",
      "RandomForestClassifier: roc_auc_score= 0.8809748533674915 (0.9940 of best)\n",
      "frac =1.6,depth=7,est=38:, f1_score: 0.6350, recall_score: 0.5337, precision_score: 0.7838, roc_auc_score: 0.8810\n",
      "RandomForestClassifier: roc_auc_score= 0.8819740732536526 (0.9951 of best)\n",
      "frac =1.6,depth=7,est=57:, f1_score: 0.6325, recall_score: 0.5307, precision_score: 0.7828, roc_auc_score: 0.8820\n",
      "RandomForestClassifier: roc_auc_score= 0.8857205458870665 (0.9993 of best)\n",
      "frac =1.6,depth=7,est=86:, f1_score: 0.6324, recall_score: 0.5276, precision_score: 0.7890, roc_auc_score: 0.8857\n",
      "RandomForestClassifier: roc_auc_score= 0.8857325846808756 (0.9994 of best)\n",
      "frac =1.6,depth=7,est=129:, f1_score: 0.6252, recall_score: 0.5245, precision_score: 0.7738, roc_auc_score: 0.8857\n",
      "RandomForestClassifier: roc_auc_score= 0.8815178029682851 (0.9946 of best)\n",
      "frac =1.6,depth=8,est=17:, f1_score: 0.6354, recall_score: 0.5399, precision_score: 0.7719, roc_auc_score: 0.8815\n",
      "RandomForestClassifier: roc_auc_score= 0.8836956207683639 (0.9971 of best)\n",
      "frac =1.6,depth=8,est=25:, f1_score: 0.6248, recall_score: 0.5337, precision_score: 0.7532, roc_auc_score: 0.8837\n"
     ]
    },
    {
     "name": "stdout",
     "output_type": "stream",
     "text": [
      "RandomForestClassifier: roc_auc_score= 0.8828962448594351 (0.9962 of best)\n",
      "frac =1.6,depth=8,est=38:, f1_score: 0.6397, recall_score: 0.5583, precision_score: 0.7490, roc_auc_score: 0.8829\n",
      "RandomForestClassifier: roc_auc_score= 0.8870712985524555 (1.0009 of best)\n",
      "frac =1.6,depth=8,est=57:, f1_score: 0.6349, recall_score: 0.5521, precision_score: 0.7469, roc_auc_score: 0.8871\n",
      "RandomForestClassifier: roc_auc_score= 0.886483805414568 (0.9993 of best)\n",
      "frac =1.6,depth=8,est=86:, f1_score: 0.6293, recall_score: 0.5337, precision_score: 0.7665, roc_auc_score: 0.8865\n",
      "RandomForestClassifier: roc_auc_score= 0.8860263312498193 (0.9988 of best)\n",
      "frac =1.6,depth=8,est=129:, f1_score: 0.6304, recall_score: 0.5337, precision_score: 0.7699, roc_auc_score: 0.8860\n",
      "RandomForestClassifier: roc_auc_score= 0.8799491481349502 (0.9920 of best)\n",
      "frac =1.6,depth=9,est=17:, f1_score: 0.6584, recall_score: 0.5706, precision_score: 0.7782, roc_auc_score: 0.8799\n",
      "RandomForestClassifier: roc_auc_score= 0.8810133775076808 (0.9932 of best)\n",
      "frac =1.6,depth=9,est=25:, f1_score: 0.6370, recall_score: 0.5491, precision_score: 0.7585, roc_auc_score: 0.8810\n",
      "RandomForestClassifier: roc_auc_score= 0.8871387157977868 (1.0001 of best)\n",
      "frac =1.6,depth=9,est=38:, f1_score: 0.6478, recall_score: 0.5613, precision_score: 0.7657, roc_auc_score: 0.8871\n",
      "RandomForestClassifier: roc_auc_score= 0.8881764598241373 (1.0012 of best)\n",
      "frac =1.6,depth=9,est=57:, f1_score: 0.6501, recall_score: 0.5613, precision_score: 0.7722, roc_auc_score: 0.8882\n",
      "RandomForestClassifier: roc_auc_score= 0.8855158863923105 (0.9970 of best)\n",
      "frac =1.6,depth=9,est=86:, f1_score: 0.6440, recall_score: 0.5521, precision_score: 0.7725, roc_auc_score: 0.8855\n",
      "RandomForestClassifier: roc_auc_score= 0.8870881528637884 (0.9988 of best)\n",
      "frac =1.6,depth=9,est=129:, f1_score: 0.6404, recall_score: 0.5491, precision_score: 0.7682, roc_auc_score: 0.8871\n",
      "RandomForestClassifier: roc_auc_score= 0.8820222284288892 (0.9931 of best)\n",
      "frac =1.6,depth=10,est=17:, f1_score: 0.6353, recall_score: 0.5583, precision_score: 0.7368, roc_auc_score: 0.8820\n",
      "frac =1.6,depth=10,est=25:, f1_score: 0.6389, recall_score: 0.5644, precision_score: 0.7360, roc_auc_score: 0.8783\n",
      "RandomForestClassifier: roc_auc_score= 0.8817116275486128 (0.9927 of best)\n",
      "frac =1.6,depth=10,est=38:, f1_score: 0.6338, recall_score: 0.5521, precision_score: 0.7438, roc_auc_score: 0.8817\n",
      "RandomForestClassifier: roc_auc_score= 0.8852751105161273 (0.9967 of best)\n",
      "frac =1.6,depth=10,est=57:, f1_score: 0.6417, recall_score: 0.5521, precision_score: 0.7660, roc_auc_score: 0.8853\n",
      "RandomForestClassifier: roc_auc_score= 0.8862911847136212 (0.9979 of best)\n",
      "frac =1.6,depth=10,est=86:, f1_score: 0.6386, recall_score: 0.5583, precision_score: 0.7459, roc_auc_score: 0.8863\n",
      "RandomForestClassifier: roc_auc_score= 0.8877695485933873 (0.9995 of best)\n",
      "frac =1.6,depth=10,est=129:, f1_score: 0.6420, recall_score: 0.5583, precision_score: 0.7552, roc_auc_score: 0.8878\n",
      "frac =1.6,depth=11,est=17:, f1_score: 0.6299, recall_score: 0.5613, precision_score: 0.7176, roc_auc_score: 0.8722\n",
      "RandomForestClassifier: roc_auc_score= 0.882388207760688 (0.9935 of best)\n",
      "frac =1.6,depth=11,est=25:, f1_score: 0.6376, recall_score: 0.5613, precision_score: 0.7379, roc_auc_score: 0.8824\n",
      "RandomForestClassifier: roc_auc_score= 0.8801008369369456 (0.9909 of best)\n",
      "frac =1.6,depth=11,est=38:, f1_score: 0.6367, recall_score: 0.5644, precision_score: 0.7302, roc_auc_score: 0.8801\n",
      "RandomForestClassifier: roc_auc_score= 0.886235806262099 (0.9978 of best)\n",
      "frac =1.6,depth=11,est=57:, f1_score: 0.6362, recall_score: 0.5552, precision_score: 0.7449, roc_auc_score: 0.8862\n",
      "RandomForestClassifier: roc_auc_score= 0.8818320154867043 (0.9929 of best)\n",
      "frac =1.6,depth=11,est=86:, f1_score: 0.6362, recall_score: 0.5552, precision_score: 0.7449, roc_auc_score: 0.8818\n",
      "RandomForestClassifier: roc_auc_score= 0.8863273010950486 (0.9979 of best)\n",
      "frac =1.6,depth=11,est=129:, f1_score: 0.6470, recall_score: 0.5706, precision_score: 0.7470, roc_auc_score: 0.8863\n",
      "frac =1.6,depth=12,est=17:, f1_score: 0.6205, recall_score: 0.5491, precision_score: 0.7131, roc_auc_score: 0.8693\n",
      "frac =1.6,depth=12,est=25:, f1_score: 0.6301, recall_score: 0.5644, precision_score: 0.7132, roc_auc_score: 0.8709\n",
      "RandomForestClassifier: roc_auc_score= 0.8858529726189673 (0.9974 of best)\n",
      "frac =1.6,depth=12,est=38:, f1_score: 0.6486, recall_score: 0.5890, precision_score: 0.7218, roc_auc_score: 0.8859\n",
      "RandomForestClassifier: roc_auc_score= 0.8802284481513228 (0.9911 of best)\n",
      "frac =1.6,depth=12,est=57:, f1_score: 0.6376, recall_score: 0.5613, precision_score: 0.7379, roc_auc_score: 0.8802\n",
      "RandomForestClassifier: roc_auc_score= 0.8805342335140759 (0.9914 of best)\n",
      "frac =1.6,depth=12,est=86:, f1_score: 0.6416, recall_score: 0.5767, precision_score: 0.7231, roc_auc_score: 0.8805\n",
      "RandomForestClassifier: roc_auc_score= 0.8826434301894424 (0.9938 of best)\n",
      "frac =1.6,depth=12,est=129:, f1_score: 0.6250, recall_score: 0.5521, precision_score: 0.7200, roc_auc_score: 0.8826\n",
      "frac =1.6,depth=13,est=17:, f1_score: 0.6286, recall_score: 0.5736, precision_score: 0.6952, roc_auc_score: 0.8727\n",
      "frac =1.6,depth=13,est=25:, f1_score: 0.6282, recall_score: 0.5675, precision_score: 0.7034, roc_auc_score: 0.8708\n",
      "frac =1.6,depth=13,est=38:, f1_score: 0.6199, recall_score: 0.5552, precision_score: 0.7016, roc_auc_score: 0.8703\n",
      "frac =1.6,depth=13,est=57:, f1_score: 0.6621, recall_score: 0.5920, precision_score: 0.7510, roc_auc_score: 0.8779\n",
      "RandomForestClassifier: roc_auc_score= 0.8817104236692318 (0.9927 of best)\n",
      "frac =1.6,depth=13,est=86:, f1_score: 0.6278, recall_score: 0.5613, precision_score: 0.7121, roc_auc_score: 0.8817\n",
      "RandomForestClassifier: roc_auc_score= 0.8803199429842726 (0.9912 of best)\n",
      "frac =1.6,depth=13,est=129:, f1_score: 0.6429, recall_score: 0.5798, precision_score: 0.7214, roc_auc_score: 0.8803\n",
      "frac =1.6,depth=14,est=17:, f1_score: 0.6205, recall_score: 0.5767, precision_score: 0.6714, roc_auc_score: 0.8666\n",
      "frac =1.6,depth=14,est=25:, f1_score: 0.6271, recall_score: 0.5675, precision_score: 0.7008, roc_auc_score: 0.8660\n",
      "frac =1.6,depth=14,est=38:, f1_score: 0.6309, recall_score: 0.5767, precision_score: 0.6963, roc_auc_score: 0.8683\n",
      "frac =1.6,depth=14,est=57:, f1_score: 0.6248, recall_score: 0.5644, precision_score: 0.6996, roc_auc_score: 0.8751\n",
      "RandomForestClassifier: roc_auc_score= 0.8795025088846298 (0.9902 of best)\n",
      "frac =1.6,depth=14,est=86:, f1_score: 0.6476, recall_score: 0.5890, precision_score: 0.7191, roc_auc_score: 0.8795\n",
      "RandomForestClassifier: roc_auc_score= 0.8808352033593051 (0.9917 of best)\n",
      "frac =1.6,depth=14,est=129:, f1_score: 0.6395, recall_score: 0.5767, precision_score: 0.7176, roc_auc_score: 0.8808\n",
      "frac =1.6,depth=15,est=17:, f1_score: 0.6169, recall_score: 0.5583, precision_score: 0.6894, roc_auc_score: 0.8670\n",
      "frac =1.6,depth=15,est=25:, f1_score: 0.6200, recall_score: 0.5706, precision_score: 0.6788, roc_auc_score: 0.8693\n",
      "frac =1.6,depth=15,est=38:, f1_score: 0.6136, recall_score: 0.5552, precision_score: 0.6856, roc_auc_score: 0.8671\n",
      "frac =1.6,depth=15,est=57:, f1_score: 0.6395, recall_score: 0.5767, precision_score: 0.7176, roc_auc_score: 0.8743\n",
      "RandomForestClassifier: roc_auc_score= 0.8824423823328292 (0.9935 of best)\n",
      "frac =1.6,depth=15,est=86:, f1_score: 0.6475, recall_score: 0.5859, precision_score: 0.7235, roc_auc_score: 0.8824\n",
      "frac =1.6,depth=15,est=129:, f1_score: 0.6140, recall_score: 0.5368, precision_score: 0.7172, roc_auc_score: 0.8771\n",
      "RandomForestClassifier: roc_auc_score= 0.865680769712321 (1.1031 of best)\n",
      "frac =1.9,depth=4,est=17:, f1_score: 0.5989, recall_score: 0.4969, precision_score: 0.7535, roc_auc_score: 0.8657\n",
      "RandomForestClassifier: roc_auc_score= 0.8736998102686095 (1.0093 of best)\n",
      "frac =1.9,depth=4,est=25:, f1_score: 0.5882, recall_score: 0.4755, precision_score: 0.7711, roc_auc_score: 0.8737\n",
      "RandomForestClassifier: roc_auc_score= 0.8696607949456328 (0.9954 of best)\n",
      "frac =1.9,depth=4,est=38:, f1_score: 0.6295, recall_score: 0.5368, precision_score: 0.7609, roc_auc_score: 0.8697\n",
      "RandomForestClassifier: roc_auc_score= 0.8690119039593185 (0.9946 of best)\n",
      "frac =1.9,depth=4,est=57:, f1_score: 0.6209, recall_score: 0.5276, precision_score: 0.7544, roc_auc_score: 0.8690\n"
     ]
    },
    {
     "name": "stdout",
     "output_type": "stream",
     "text": [
      "RandomForestClassifier: roc_auc_score= 0.868161965116391 (0.9937 of best)\n",
      "frac =1.9,depth=4,est=86:, f1_score: 0.6279, recall_score: 0.5307, precision_score: 0.7689, roc_auc_score: 0.8682\n",
      "RandomForestClassifier: roc_auc_score= 0.8726825321917345 (0.9988 of best)\n",
      "frac =1.9,depth=4,est=129:, f1_score: 0.6216, recall_score: 0.5215, precision_score: 0.7692, roc_auc_score: 0.8727\n",
      "frac =1.9,depth=5,est=17:, f1_score: 0.6280, recall_score: 0.5644, precision_score: 0.7077, roc_auc_score: 0.8647\n",
      "RandomForestClassifier: roc_auc_score= 0.873605907676898 (0.9999 of best)\n",
      "frac =1.9,depth=5,est=25:, f1_score: 0.6281, recall_score: 0.5491, precision_score: 0.7336, roc_auc_score: 0.8736\n",
      "RandomForestClassifier: roc_auc_score= 0.8784731920139458 (1.0055 of best)\n",
      "frac =1.9,depth=5,est=38:, f1_score: 0.6214, recall_score: 0.5337, precision_score: 0.7436, roc_auc_score: 0.8785\n",
      "RandomForestClassifier: roc_auc_score= 0.8759992198861611 (0.9972 of best)\n",
      "frac =1.9,depth=5,est=57:, f1_score: 0.6297, recall_score: 0.5399, precision_score: 0.7554, roc_auc_score: 0.8760\n",
      "RandomForestClassifier: roc_auc_score= 0.8795073244021534 (1.0012 of best)\n",
      "frac =1.9,depth=5,est=86:, f1_score: 0.6232, recall_score: 0.5276, precision_score: 0.7611, roc_auc_score: 0.8795\n",
      "RandomForestClassifier: roc_auc_score= 0.8784996773603259 (0.9989 of best)\n",
      "frac =1.9,depth=5,est=129:, f1_score: 0.6297, recall_score: 0.5399, precision_score: 0.7554, roc_auc_score: 0.8785\n",
      "RandomForestClassifier: roc_auc_score= 0.8755248914100798 (0.9955 of best)\n",
      "frac =1.9,depth=6,est=17:, f1_score: 0.6323, recall_score: 0.5644, precision_score: 0.7188, roc_auc_score: 0.8755\n",
      "RandomForestClassifier: roc_auc_score= 0.8781842609625257 (0.9985 of best)\n",
      "frac =1.9,depth=6,est=25:, f1_score: 0.6272, recall_score: 0.5368, precision_score: 0.7543, roc_auc_score: 0.8782\n",
      "RandomForestClassifier: roc_auc_score= 0.8803668942801284 (1.0010 of best)\n",
      "frac =1.9,depth=6,est=38:, f1_score: 0.6408, recall_score: 0.5583, precision_score: 0.7521, roc_auc_score: 0.8804\n",
      "RandomForestClassifier: roc_auc_score= 0.8852293630996524 (1.0055 of best)\n",
      "frac =1.9,depth=6,est=57:, f1_score: 0.6410, recall_score: 0.5613, precision_score: 0.7469, roc_auc_score: 0.8852\n",
      "RandomForestClassifier: roc_auc_score= 0.8865175140372336 (1.0015 of best)\n",
      "frac =1.9,depth=6,est=86:, f1_score: 0.6372, recall_score: 0.5521, precision_score: 0.7531, roc_auc_score: 0.8865\n",
      "RandomForestClassifier: roc_auc_score= 0.8832044379809498 (0.9963 of best)\n",
      "frac =1.9,depth=6,est=129:, f1_score: 0.6446, recall_score: 0.5675, precision_score: 0.7460, roc_auc_score: 0.8832\n",
      "RandomForestClassifier: roc_auc_score= 0.8832044379809497 (0.9963 of best)\n",
      "frac =1.9,depth=7,est=17:, f1_score: 0.6448, recall_score: 0.5736, precision_score: 0.7362, roc_auc_score: 0.8832\n",
      "RandomForestClassifier: roc_auc_score= 0.8823617224143079 (0.9953 of best)\n",
      "frac =1.9,depth=7,est=25:, f1_score: 0.6296, recall_score: 0.5552, precision_score: 0.7269, roc_auc_score: 0.8824\n",
      "RandomForestClassifier: roc_auc_score= 0.8826145370843005 (0.9956 of best)\n",
      "frac =1.9,depth=7,est=38:, f1_score: 0.6265, recall_score: 0.5583, precision_score: 0.7137, roc_auc_score: 0.8826\n",
      "RandomForestClassifier: roc_auc_score= 0.8844781423659601 (0.9977 of best)\n",
      "frac =1.9,depth=7,est=57:, f1_score: 0.6426, recall_score: 0.5736, precision_score: 0.7305, roc_auc_score: 0.8845\n",
      "RandomForestClassifier: roc_auc_score= 0.884001406131117 (0.9972 of best)\n",
      "frac =1.9,depth=7,est=86:, f1_score: 0.6541, recall_score: 0.5859, precision_score: 0.7403, roc_auc_score: 0.8840\n",
      "RandomForestClassifier: roc_auc_score= 0.8860576321137233 (0.9995 of best)\n",
      "frac =1.9,depth=7,est=129:, f1_score: 0.6474, recall_score: 0.5828, precision_score: 0.7280, roc_auc_score: 0.8861\n",
      "frac =1.9,depth=8,est=17:, f1_score: 0.6589, recall_score: 0.6104, precision_score: 0.7158, roc_auc_score: 0.8750\n",
      "frac =1.9,depth=8,est=25:, f1_score: 0.6512, recall_score: 0.6043, precision_score: 0.7061, roc_auc_score: 0.8768\n",
      "RandomForestClassifier: roc_auc_score= 0.8851800040450348 (0.9985 of best)\n",
      "frac =1.9,depth=8,est=38:, f1_score: 0.6460, recall_score: 0.5767, precision_score: 0.7344, roc_auc_score: 0.8852\n",
      "RandomForestClassifier: roc_auc_score= 0.8854725467345975 (0.9988 of best)\n",
      "frac =1.9,depth=8,est=57:, f1_score: 0.6361, recall_score: 0.5736, precision_score: 0.7137, roc_auc_score: 0.8855\n",
      "RandomForestClassifier: roc_auc_score= 0.8840543768238773 (0.9972 of best)\n",
      "frac =1.9,depth=8,est=86:, f1_score: 0.6407, recall_score: 0.5798, precision_score: 0.7159, roc_auc_score: 0.8841\n",
      "RandomForestClassifier: roc_auc_score= 0.8844901811597692 (0.9977 of best)\n",
      "frac =1.9,depth=8,est=129:, f1_score: 0.6486, recall_score: 0.5859, precision_score: 0.7262, roc_auc_score: 0.8845\n",
      "RandomForestClassifier: roc_auc_score= 0.8789595592838363 (0.9915 of best)\n",
      "frac =1.9,depth=9,est=17:, f1_score: 0.6579, recall_score: 0.6135, precision_score: 0.7092, roc_auc_score: 0.8790\n",
      "RandomForestClassifier: roc_auc_score= 0.8849909949822308 (0.9983 of best)\n",
      "frac =1.9,depth=9,est=25:, f1_score: 0.6446, recall_score: 0.5982, precision_score: 0.6989, roc_auc_score: 0.8850\n",
      "RandomForestClassifier: roc_auc_score= 0.8823617224143079 (0.9953 of best)\n",
      "frac =1.9,depth=9,est=38:, f1_score: 0.6524, recall_score: 0.6074, precision_score: 0.7046, roc_auc_score: 0.8824\n",
      "RandomForestClassifier: roc_auc_score= 0.8834620681684661 (0.9966 of best)\n",
      "frac =1.9,depth=9,est=57:, f1_score: 0.6370, recall_score: 0.5920, precision_score: 0.6893, roc_auc_score: 0.8835\n",
      "RandomForestClassifier: roc_auc_score= 0.8852919648274601 (0.9986 of best)\n",
      "frac =1.9,depth=9,est=86:, f1_score: 0.6488, recall_score: 0.5951, precision_score: 0.7132, roc_auc_score: 0.8853\n",
      "RandomForestClassifier: roc_auc_score= 0.8844853656422457 (0.9977 of best)\n",
      "frac =1.9,depth=9,est=129:, f1_score: 0.6399, recall_score: 0.5859, precision_score: 0.7048, roc_auc_score: 0.8845\n",
      "RandomForestClassifier: roc_auc_score= 0.8803560593657003 (0.9930 of best)\n",
      "frac =1.9,depth=10,est=17:, f1_score: 0.6435, recall_score: 0.6258, precision_score: 0.6623, roc_auc_score: 0.8804\n",
      "RandomForestClassifier: roc_auc_score= 0.8789077924704569 (0.9914 of best)\n",
      "frac =1.9,depth=10,est=25:, f1_score: 0.6407, recall_score: 0.6043, precision_score: 0.6817, roc_auc_score: 0.8789\n",
      "RandomForestClassifier: roc_auc_score= 0.8796433627721971 (0.9922 of best)\n",
      "frac =1.9,depth=10,est=38:, f1_score: 0.6266, recall_score: 0.5920, precision_score: 0.6655, roc_auc_score: 0.8796\n",
      "RandomForestClassifier: roc_auc_score= 0.8795976153557223 (0.9922 of best)\n",
      "frac =1.9,depth=10,est=57:, f1_score: 0.6400, recall_score: 0.6135, precision_score: 0.6689, roc_auc_score: 0.8796\n",
      "RandomForestClassifier: roc_auc_score= 0.8855640415675473 (0.9989 of best)\n",
      "frac =1.9,depth=10,est=86:, f1_score: 0.6461, recall_score: 0.6104, precision_score: 0.6862, roc_auc_score: 0.8856\n",
      "RandomForestClassifier: roc_auc_score= 0.8861274571178165 (0.9996 of best)\n",
      "frac =1.9,depth=10,est=129:, f1_score: 0.6504, recall_score: 0.6135, precision_score: 0.6920, roc_auc_score: 0.8861\n",
      "frac =1.9,depth=11,est=17:, f1_score: 0.6242, recall_score: 0.6012, precision_score: 0.6490, roc_auc_score: 0.8673\n",
      "frac =1.9,depth=11,est=25:, f1_score: 0.6381, recall_score: 0.6166, precision_score: 0.6612, roc_auc_score: 0.8726\n",
      "RandomForestClassifier: roc_auc_score= 0.882142616366981 (0.9951 of best)\n",
      "frac =1.9,depth=11,est=38:, f1_score: 0.6302, recall_score: 0.6012, precision_score: 0.6622, roc_auc_score: 0.8821\n",
      "RandomForestClassifier: roc_auc_score= 0.8794940817289636 (0.9921 of best)\n",
      "frac =1.9,depth=11,est=57:, f1_score: 0.6419, recall_score: 0.6104, precision_score: 0.6769, roc_auc_score: 0.8795\n",
      "RandomForestClassifier: roc_auc_score= 0.8846996561720488 (0.9979 of best)\n",
      "frac =1.9,depth=11,est=86:, f1_score: 0.6397, recall_score: 0.6074, precision_score: 0.6758, roc_auc_score: 0.8847\n",
      "RandomForestClassifier: roc_auc_score= 0.8827445560574395 (0.9957 of best)\n",
      "frac =1.9,depth=11,est=129:, f1_score: 0.6411, recall_score: 0.6166, precision_score: 0.6678, roc_auc_score: 0.8827\n",
      "frac =1.9,depth=12,est=17:, f1_score: 0.6287, recall_score: 0.6258, precision_score: 0.6316, roc_auc_score: 0.8689\n",
      "frac =1.9,depth=12,est=25:, f1_score: 0.6525, recall_score: 0.6595, precision_score: 0.6456, roc_auc_score: 0.8774\n",
      "frac =1.9,depth=12,est=38:, f1_score: 0.6284, recall_score: 0.6043, precision_score: 0.6545, roc_auc_score: 0.8772\n"
     ]
    },
    {
     "name": "stdout",
     "output_type": "stream",
     "text": [
      "RandomForestClassifier: roc_auc_score= 0.8833392724716126 (0.9964 of best)\n",
      "frac =1.9,depth=12,est=57:, f1_score: 0.6456, recall_score: 0.6258, precision_score: 0.6667, roc_auc_score: 0.8833\n",
      "RandomForestClassifier: roc_auc_score= 0.8778688445647255 (0.9902 of best)\n",
      "frac =1.9,depth=12,est=86:, f1_score: 0.6368, recall_score: 0.6104, precision_score: 0.6656, roc_auc_score: 0.8779\n",
      "RandomForestClassifier: roc_auc_score= 0.8824556250060194 (0.9954 of best)\n",
      "frac =1.9,depth=12,est=129:, f1_score: 0.6509, recall_score: 0.6319, precision_score: 0.6710, roc_auc_score: 0.8825\n",
      "frac =1.9,depth=13,est=17:, f1_score: 0.6441, recall_score: 0.6411, precision_score: 0.6471, roc_auc_score: 0.8629\n",
      "frac =1.9,depth=13,est=25:, f1_score: 0.6228, recall_score: 0.6104, precision_score: 0.6358, roc_auc_score: 0.8714\n",
      "RandomForestClassifier: roc_auc_score= 0.8778062428369175 (0.9902 of best)\n",
      "frac =1.9,depth=13,est=38:, f1_score: 0.6271, recall_score: 0.6166, precision_score: 0.6381, roc_auc_score: 0.8778\n",
      "RandomForestClassifier: roc_auc_score= 0.8779037570667719 (0.9903 of best)\n",
      "frac =1.9,depth=13,est=57:, f1_score: 0.6439, recall_score: 0.6350, precision_score: 0.6530, roc_auc_score: 0.8779\n",
      "RandomForestClassifier: roc_auc_score= 0.8782492704490952 (0.9907 of best)\n",
      "frac =1.9,depth=13,est=86:, f1_score: 0.6520, recall_score: 0.6380, precision_score: 0.6667, roc_auc_score: 0.8782\n",
      "RandomForestClassifier: roc_auc_score= 0.8798119058855256 (0.9924 of best)\n",
      "frac =1.9,depth=13,est=129:, f1_score: 0.6422, recall_score: 0.6166, precision_score: 0.6700, roc_auc_score: 0.8798\n",
      "frac =1.9,depth=14,est=17:, f1_score: 0.6446, recall_score: 0.6564, precision_score: 0.6331, roc_auc_score: 0.8684\n",
      "frac =1.9,depth=14,est=25:, f1_score: 0.6278, recall_score: 0.6104, precision_score: 0.6461, roc_auc_score: 0.8691\n",
      "frac =1.9,depth=14,est=38:, f1_score: 0.6242, recall_score: 0.6166, precision_score: 0.6321, roc_auc_score: 0.8733\n",
      "frac =1.9,depth=14,est=57:, f1_score: 0.6583, recall_score: 0.6411, precision_score: 0.6764, roc_auc_score: 0.8729\n",
      "frac =1.9,depth=14,est=86:, f1_score: 0.6439, recall_score: 0.6350, precision_score: 0.6530, roc_auc_score: 0.8750\n",
      "RandomForestClassifier: roc_auc_score= 0.8780542419893866 (0.9905 of best)\n",
      "frac =1.9,depth=14,est=129:, f1_score: 0.6264, recall_score: 0.6043, precision_score: 0.6502, roc_auc_score: 0.8781\n",
      "frac =1.9,depth=15,est=17:, f1_score: 0.6237, recall_score: 0.6227, precision_score: 0.6246, roc_auc_score: 0.8653\n",
      "frac =1.9,depth=15,est=25:, f1_score: 0.6106, recall_score: 0.6012, precision_score: 0.6203, roc_auc_score: 0.8630\n",
      "frac =1.9,depth=15,est=38:, f1_score: 0.6309, recall_score: 0.6319, precision_score: 0.6300, roc_auc_score: 0.8738\n",
      "frac =1.9,depth=15,est=57:, f1_score: 0.6543, recall_score: 0.6472, precision_score: 0.6614, roc_auc_score: 0.8767\n",
      "frac =1.9,depth=15,est=86:, f1_score: 0.6304, recall_score: 0.6227, precision_score: 0.6384, roc_auc_score: 0.8723\n",
      "frac =1.9,depth=15,est=129:, f1_score: 0.6415, recall_score: 0.6258, precision_score: 0.6581, roc_auc_score: 0.8773\n",
      "RandomForestClassifier: roc_auc_score= 0.8735529369841377 (1.1162 of best)\n",
      "frac =2.2,depth=4,est=17:, f1_score: 0.6189, recall_score: 0.5429, precision_score: 0.7195, roc_auc_score: 0.8736\n",
      "RandomForestClassifier: roc_auc_score= 0.8657481869576524 (0.9911 of best)\n",
      "frac =2.2,depth=4,est=25:, f1_score: 0.6232, recall_score: 0.5276, precision_score: 0.7611, roc_auc_score: 0.8657\n",
      "RandomForestClassifier: roc_auc_score= 0.8731977925667671 (0.9996 of best)\n",
      "frac =2.2,depth=4,est=38:, f1_score: 0.6400, recall_score: 0.5644, precision_score: 0.7390, roc_auc_score: 0.8732\n",
      "RandomForestClassifier: roc_auc_score= 0.870791237684314 (0.9968 of best)\n",
      "frac =2.2,depth=4,est=57:, f1_score: 0.6303, recall_score: 0.5491, precision_score: 0.7397, roc_auc_score: 0.8708\n",
      "RandomForestClassifier: roc_auc_score= 0.8734770925831399 (0.9999 of best)\n",
      "frac =2.2,depth=4,est=86:, f1_score: 0.6286, recall_score: 0.5399, precision_score: 0.7521, roc_auc_score: 0.8735\n",
      "RandomForestClassifier: roc_auc_score= 0.876072656528397 (1.0029 of best)\n",
      "frac =2.2,depth=4,est=129:, f1_score: 0.6316, recall_score: 0.5521, precision_score: 0.7377, roc_auc_score: 0.8761\n",
      "RandomForestClassifier: roc_auc_score= 0.8795627028536757 (1.0040 of best)\n",
      "frac =2.2,depth=5,est=17:, f1_score: 0.6404, recall_score: 0.5736, precision_score: 0.7248, roc_auc_score: 0.8796\n",
      "RandomForestClassifier: roc_auc_score= 0.8756669491770281 (0.9956 of best)\n",
      "frac =2.2,depth=5,est=25:, f1_score: 0.6463, recall_score: 0.5828, precision_score: 0.7252, roc_auc_score: 0.8757\n",
      "RandomForestClassifier: roc_auc_score= 0.8810904257880594 (1.0017 of best)\n",
      "frac =2.2,depth=5,est=38:, f1_score: 0.6343, recall_score: 0.5613, precision_score: 0.7291, roc_auc_score: 0.8811\n",
      "RandomForestClassifier: roc_auc_score= 0.8771465169361752 (0.9955 of best)\n",
      "frac =2.2,depth=5,est=57:, f1_score: 0.6308, recall_score: 0.5583, precision_score: 0.7251, roc_auc_score: 0.8771\n",
      "RandomForestClassifier: roc_auc_score= 0.8736600822490392 (0.9916 of best)\n",
      "frac =2.2,depth=5,est=86:, f1_score: 0.6327, recall_score: 0.5521, precision_score: 0.7407, roc_auc_score: 0.8737\n",
      "RandomForestClassifier: roc_auc_score= 0.8804860783388391 (0.9993 of best)\n",
      "frac =2.2,depth=5,est=129:, f1_score: 0.6448, recall_score: 0.5736, precision_score: 0.7362, roc_auc_score: 0.8805\n",
      "RandomForestClassifier: roc_auc_score= 0.8748495150773853 (0.9929 of best)\n",
      "frac =2.2,depth=6,est=17:, f1_score: 0.6330, recall_score: 0.5951, precision_score: 0.6760, roc_auc_score: 0.8748\n",
      "RandomForestClassifier: roc_auc_score= 0.8829383806377671 (1.0021 of best)\n",
      "frac =2.2,depth=6,est=25:, f1_score: 0.6512, recall_score: 0.6012, precision_score: 0.7101, roc_auc_score: 0.8829\n",
      "RandomForestClassifier: roc_auc_score= 0.8834885535148462 (1.0006 of best)\n",
      "frac =2.2,depth=6,est=38:, f1_score: 0.6623, recall_score: 0.6135, precision_score: 0.7194, roc_auc_score: 0.8835\n",
      "RandomForestClassifier: roc_auc_score= 0.8833657578179926 (0.9999 of best)\n",
      "frac =2.2,depth=6,est=57:, f1_score: 0.6612, recall_score: 0.6166, precision_score: 0.7128, roc_auc_score: 0.8834\n",
      "RandomForestClassifier: roc_auc_score= 0.8853979062129806 (1.0022 of best)\n",
      "frac =2.2,depth=6,est=86:, f1_score: 0.6519, recall_score: 0.5859, precision_score: 0.7346, roc_auc_score: 0.8854\n",
      "RandomForestClassifier: roc_auc_score= 0.8867318045670368 (1.0015 of best)\n",
      "frac =2.2,depth=6,est=129:, f1_score: 0.6451, recall_score: 0.5798, precision_score: 0.7269, roc_auc_score: 0.8867\n",
      "RandomForestClassifier: roc_auc_score= 0.8834789224797989 (0.9963 of best)\n",
      "frac =2.2,depth=7,est=17:, f1_score: 0.6395, recall_score: 0.6012, precision_score: 0.6829, roc_auc_score: 0.8835\n",
      "RandomForestClassifier: roc_auc_score= 0.8833284375571844 (0.9962 of best)\n",
      "frac =2.2,depth=7,est=25:, f1_score: 0.6656, recall_score: 0.6380, precision_score: 0.6957, roc_auc_score: 0.8833\n",
      "RandomForestClassifier: roc_auc_score= 0.8841169785516851 (0.9971 of best)\n",
      "frac =2.2,depth=7,est=38:, f1_score: 0.6537, recall_score: 0.6166, precision_score: 0.6955, roc_auc_score: 0.8841\n",
      "RandomForestClassifier: roc_auc_score= 0.8856675751943061 (0.9988 of best)\n",
      "frac =2.2,depth=7,est=57:, f1_score: 0.6535, recall_score: 0.6104, precision_score: 0.7032, roc_auc_score: 0.8857\n",
      "RandomForestClassifier: roc_auc_score= 0.885872234689062 (0.9990 of best)\n",
      "frac =2.2,depth=7,est=86:, f1_score: 0.6581, recall_score: 0.6258, precision_score: 0.6939, roc_auc_score: 0.8859\n",
      "RandomForestClassifier: roc_auc_score= 0.8873168899461625 (1.0007 of best)\n",
      "frac =2.2,depth=7,est=129:, f1_score: 0.6568, recall_score: 0.6104, precision_score: 0.7107, roc_auc_score: 0.8873\n",
      "RandomForestClassifier: roc_auc_score= 0.8858830696034904 (0.9984 of best)\n",
      "frac =2.2,depth=8,est=17:, f1_score: 0.6763, recall_score: 0.6472, precision_score: 0.7081, roc_auc_score: 0.8859\n",
      "RandomForestClassifier: roc_auc_score= 0.8869581338906493 (0.9996 of best)\n",
      "frac =2.2,depth=8,est=25:, f1_score: 0.6761, recall_score: 0.6626, precision_score: 0.6901, roc_auc_score: 0.8870\n",
      "RandomForestClassifier: roc_auc_score= 0.8842060656258729 (0.9965 of best)\n",
      "frac =2.2,depth=8,est=38:, f1_score: 0.6551, recall_score: 0.6350, precision_score: 0.6765, roc_auc_score: 0.8842\n",
      "RandomForestClassifier: roc_auc_score= 0.8855953424314511 (0.9981 of best)\n",
      "frac =2.2,depth=8,est=57:, f1_score: 0.6572, recall_score: 0.6380, precision_score: 0.6775, roc_auc_score: 0.8856\n"
     ]
    },
    {
     "name": "stdout",
     "output_type": "stream",
     "text": [
      "RandomForestClassifier: roc_auc_score= 0.887018327859695 (0.9997 of best)\n",
      "frac =2.2,depth=8,est=86:, f1_score: 0.6505, recall_score: 0.6166, precision_score: 0.6884, roc_auc_score: 0.8870\n",
      "RandomForestClassifier: roc_auc_score= 0.8881258968901388 (1.0009 of best)\n",
      "frac =2.2,depth=8,est=129:, f1_score: 0.6570, recall_score: 0.6227, precision_score: 0.6952, roc_auc_score: 0.8881\n",
      "frac =2.2,depth=9,est=17:, f1_score: 0.6480, recall_score: 0.6380, precision_score: 0.6582, roc_auc_score: 0.8715\n",
      "RandomForestClassifier: roc_auc_score= 0.8821233542968862 (0.9932 of best)\n",
      "frac =2.2,depth=9,est=25:, f1_score: 0.6574, recall_score: 0.6534, precision_score: 0.6615, roc_auc_score: 0.8821\n",
      "RandomForestClassifier: roc_auc_score= 0.8805005248914101 (0.9914 of best)\n",
      "frac =2.2,depth=9,est=38:, f1_score: 0.6518, recall_score: 0.6258, precision_score: 0.6800, roc_auc_score: 0.8805\n",
      "RandomForestClassifier: roc_auc_score= 0.8852702949986035 (0.9968 of best)\n",
      "frac =2.2,depth=9,est=57:, f1_score: 0.6574, recall_score: 0.6503, precision_score: 0.6646, roc_auc_score: 0.8853\n",
      "RandomForestClassifier: roc_auc_score= 0.8874204235729214 (0.9992 of best)\n",
      "frac =2.2,depth=9,est=86:, f1_score: 0.6688, recall_score: 0.6442, precision_score: 0.6954, roc_auc_score: 0.8874\n",
      "RandomForestClassifier: roc_auc_score= 0.8874324623667306 (0.9992 of best)\n",
      "frac =2.2,depth=9,est=129:, f1_score: 0.6677, recall_score: 0.6503, precision_score: 0.6861, roc_auc_score: 0.8874\n",
      "frac =2.2,depth=10,est=17:, f1_score: 0.6431, recall_score: 0.6411, precision_score: 0.6451, roc_auc_score: 0.8675\n",
      "RandomForestClassifier: roc_auc_score= 0.8794724119001068 (0.9903 of best)\n",
      "frac =2.2,depth=10,est=25:, f1_score: 0.6472, recall_score: 0.6472, precision_score: 0.6472, roc_auc_score: 0.8795\n",
      "frac =2.2,depth=10,est=38:, f1_score: 0.6532, recall_score: 0.6442, precision_score: 0.6625, roc_auc_score: 0.8757\n",
      "RandomForestClassifier: roc_auc_score= 0.8846153846153847 (0.9960 of best)\n",
      "frac =2.2,depth=10,est=57:, f1_score: 0.6534, recall_score: 0.6564, precision_score: 0.6505, roc_auc_score: 0.8846\n",
      "RandomForestClassifier: roc_auc_score= 0.8843216380464408 (0.9957 of best)\n",
      "frac =2.2,depth=10,est=86:, f1_score: 0.6450, recall_score: 0.6380, precision_score: 0.6520, roc_auc_score: 0.8843\n",
      "RandomForestClassifier: roc_auc_score= 0.884697248413287 (0.9961 of best)\n",
      "frac =2.2,depth=10,est=129:, f1_score: 0.6459, recall_score: 0.6350, precision_score: 0.6571, roc_auc_score: 0.8847\n",
      "frac =2.2,depth=11,est=17:, f1_score: 0.6368, recall_score: 0.6534, precision_score: 0.6210, roc_auc_score: 0.8666\n",
      "frac =2.2,depth=11,est=25:, f1_score: 0.6276, recall_score: 0.6411, precision_score: 0.6147, roc_auc_score: 0.8759\n",
      "RandomForestClassifier: roc_auc_score= 0.8816020745249492 (0.9927 of best)\n",
      "frac =2.2,depth=11,est=38:, f1_score: 0.6462, recall_score: 0.6472, precision_score: 0.6453, roc_auc_score: 0.8816\n",
      "RandomForestClassifier: roc_auc_score= 0.8803656904007473 (0.9913 of best)\n",
      "frac =2.2,depth=11,est=57:, f1_score: 0.6606, recall_score: 0.6656, precision_score: 0.6556, roc_auc_score: 0.8804\n",
      "RandomForestClassifier: roc_auc_score= 0.8880512563685219 (0.9999 of best)\n",
      "frac =2.2,depth=11,est=86:, f1_score: 0.6737, recall_score: 0.6810, precision_score: 0.6667, roc_auc_score: 0.8881\n",
      "RandomForestClassifier: roc_auc_score= 0.8826843620883937 (0.9939 of best)\n",
      "frac =2.2,depth=11,est=129:, f1_score: 0.6545, recall_score: 0.6626, precision_score: 0.6467, roc_auc_score: 0.8827\n",
      "frac =2.2,depth=12,est=17:, f1_score: 0.6308, recall_score: 0.6472, precision_score: 0.6152, roc_auc_score: 0.8741\n",
      "frac =2.2,depth=12,est=25:, f1_score: 0.6079, recall_score: 0.6350, precision_score: 0.5831, roc_auc_score: 0.8643\n",
      "frac =2.2,depth=12,est=38:, f1_score: 0.6425, recall_score: 0.6534, precision_score: 0.6320, roc_auc_score: 0.8773\n",
      "frac =2.2,depth=12,est=57:, f1_score: 0.6419, recall_score: 0.6626, precision_score: 0.6225, roc_auc_score: 0.8768\n",
      "frac =2.2,depth=12,est=86:, f1_score: 0.6485, recall_score: 0.6564, precision_score: 0.6407, roc_auc_score: 0.8777\n",
      "RandomForestClassifier: roc_auc_score= 0.8841314251042558 (0.9955 of best)\n",
      "frac =2.2,depth=12,est=129:, f1_score: 0.6517, recall_score: 0.6687, precision_score: 0.6356, roc_auc_score: 0.8841\n",
      "frac =2.2,depth=13,est=17:, f1_score: 0.6349, recall_score: 0.6748, precision_score: 0.5995, roc_auc_score: 0.8645\n",
      "frac =2.2,depth=13,est=25:, f1_score: 0.6246, recall_score: 0.6380, precision_score: 0.6118, roc_auc_score: 0.8679\n",
      "frac =2.2,depth=13,est=38:, f1_score: 0.6375, recall_score: 0.6472, precision_score: 0.6280, roc_auc_score: 0.8767\n",
      "RandomForestClassifier: roc_auc_score= 0.8805847964480744 (0.9915 of best)\n",
      "frac =2.2,depth=13,est=57:, f1_score: 0.6438, recall_score: 0.6626, precision_score: 0.6261, roc_auc_score: 0.8806\n",
      "frac =2.2,depth=13,est=86:, f1_score: 0.6556, recall_score: 0.6687, precision_score: 0.6431, roc_auc_score: 0.8786\n",
      "RandomForestClassifier: roc_auc_score= 0.8825302655276362 (0.9937 of best)\n",
      "frac =2.2,depth=13,est=129:, f1_score: 0.6537, recall_score: 0.6718, precision_score: 0.6366, roc_auc_score: 0.8825\n",
      "frac =2.2,depth=14,est=17:, f1_score: 0.6346, recall_score: 0.6687, precision_score: 0.6039, roc_auc_score: 0.8600\n",
      "frac =2.2,depth=14,est=25:, f1_score: 0.6441, recall_score: 0.6718, precision_score: 0.6186, roc_auc_score: 0.8641\n",
      "frac =2.2,depth=14,est=38:, f1_score: 0.6428, recall_score: 0.6595, precision_score: 0.6268, roc_auc_score: 0.8715\n",
      "frac =2.2,depth=14,est=57:, f1_score: 0.6438, recall_score: 0.6626, precision_score: 0.6261, roc_auc_score: 0.8760\n",
      "frac =2.2,depth=14,est=86:, f1_score: 0.6437, recall_score: 0.6595, precision_score: 0.6287, roc_auc_score: 0.8779\n",
      "frac =2.2,depth=14,est=129:, f1_score: 0.6517, recall_score: 0.6656, precision_score: 0.6382, roc_auc_score: 0.8749\n",
      "frac =2.2,depth=15,est=17:, f1_score: 0.6319, recall_score: 0.6687, precision_score: 0.5989, roc_auc_score: 0.8647\n",
      "frac =2.2,depth=15,est=25:, f1_score: 0.6350, recall_score: 0.6564, precision_score: 0.6149, roc_auc_score: 0.8705\n",
      "frac =2.2,depth=15,est=38:, f1_score: 0.6392, recall_score: 0.6656, precision_score: 0.6147, roc_auc_score: 0.8774\n",
      "frac =2.2,depth=15,est=57:, f1_score: 0.6415, recall_score: 0.6503, precision_score: 0.6328, roc_auc_score: 0.8749\n",
      "frac =2.2,depth=15,est=86:, f1_score: 0.6519, recall_score: 0.6779, precision_score: 0.6278, roc_auc_score: 0.8776\n",
      "frac =2.2,depth=15,est=129:, f1_score: 0.6577, recall_score: 0.6748, precision_score: 0.6414, roc_auc_score: 0.8788\n",
      "RandomForestClassifier: roc_auc_score= 0.8673373077404628 (1.1034 of best)\n",
      "frac =2.5,depth=4,est=17:, f1_score: 0.6179, recall_score: 0.5706, precision_score: 0.6739, roc_auc_score: 0.8673\n",
      "RandomForestClassifier: roc_auc_score= 0.8659877589544549 (0.9984 of best)\n",
      "frac =2.5,depth=4,est=25:, f1_score: 0.6272, recall_score: 0.6503, precision_score: 0.6057, roc_auc_score: 0.8660\n",
      "RandomForestClassifier: roc_auc_score= 0.877713544124587 (1.0120 of best)\n",
      "frac =2.5,depth=4,est=38:, f1_score: 0.6530, recall_score: 0.5859, precision_score: 0.7375, roc_auc_score: 0.8777\n",
      "RandomForestClassifier: roc_auc_score= 0.8747315348980556 (0.9966 of best)\n",
      "frac =2.5,depth=4,est=57:, f1_score: 0.6462, recall_score: 0.6135, precision_score: 0.6826, roc_auc_score: 0.8747\n",
      "RandomForestClassifier: roc_auc_score= 0.8744534387610636 (0.9963 of best)\n",
      "frac =2.5,depth=4,est=86:, f1_score: 0.6511, recall_score: 0.5982, precision_score: 0.7143, roc_auc_score: 0.8745\n",
      "RandomForestClassifier: roc_auc_score= 0.8769984397723224 (0.9992 of best)\n",
      "frac =2.5,depth=4,est=129:, f1_score: 0.6590, recall_score: 0.6166, precision_score: 0.7077, roc_auc_score: 0.8770\n",
      "RandomForestClassifier: roc_auc_score= 0.8743727788425422 (0.9962 of best)\n",
      "frac =2.5,depth=5,est=17:, f1_score: 0.6401, recall_score: 0.6166, precision_score: 0.6656, roc_auc_score: 0.8744\n",
      "RandomForestClassifier: roc_auc_score= 0.8803223507430343 (1.0030 of best)\n",
      "frac =2.5,depth=5,est=25:, f1_score: 0.6367, recall_score: 0.6074, precision_score: 0.6689, roc_auc_score: 0.8803\n",
      "RandomForestClassifier: roc_auc_score= 0.8773126522907417 (0.9966 of best)\n",
      "frac =2.5,depth=5,est=38:, f1_score: 0.6481, recall_score: 0.6074, precision_score: 0.6947, roc_auc_score: 0.8773\n",
      "RandomForestClassifier: roc_auc_score= 0.8787139678901292 (0.9982 of best)\n",
      "frac =2.5,depth=5,est=57:, f1_score: 0.6452, recall_score: 0.6135, precision_score: 0.6803, roc_auc_score: 0.8787\n"
     ]
    },
    {
     "name": "stdout",
     "output_type": "stream",
     "text": [
      "RandomForestClassifier: roc_auc_score= 0.8808207568067341 (1.0006 of best)\n",
      "frac =2.5,depth=5,est=86:, f1_score: 0.6538, recall_score: 0.6227, precision_score: 0.6881, roc_auc_score: 0.8808\n",
      "RandomForestClassifier: roc_auc_score= 0.8807196309387368 (0.9999 of best)\n",
      "frac =2.5,depth=5,est=129:, f1_score: 0.6624, recall_score: 0.6380, precision_score: 0.6887, roc_auc_score: 0.8807\n",
      "RandomForestClassifier: roc_auc_score= 0.8783215032119502 (0.9972 of best)\n",
      "frac =2.5,depth=6,est=17:, f1_score: 0.6455, recall_score: 0.6534, precision_score: 0.6377, roc_auc_score: 0.8783\n",
      "RandomForestClassifier: roc_auc_score= 0.883477718600418 (1.0030 of best)\n",
      "frac =2.5,depth=6,est=25:, f1_score: 0.6453, recall_score: 0.6472, precision_score: 0.6433, roc_auc_score: 0.8835\n",
      "RandomForestClassifier: roc_auc_score= 0.8821715094721231 (0.9985 of best)\n",
      "frac =2.5,depth=6,est=38:, f1_score: 0.6471, recall_score: 0.6411, precision_score: 0.6531, roc_auc_score: 0.8822\n",
      "RandomForestClassifier: roc_auc_score= 0.880283826602845 (0.9964 of best)\n",
      "frac =2.5,depth=6,est=57:, f1_score: 0.6482, recall_score: 0.6472, precision_score: 0.6492, roc_auc_score: 0.8803\n",
      "RandomForestClassifier: roc_auc_score= 0.8821811405071703 (0.9985 of best)\n",
      "frac =2.5,depth=6,est=86:, f1_score: 0.6562, recall_score: 0.6442, precision_score: 0.6688, roc_auc_score: 0.8822\n",
      "RandomForestClassifier: roc_auc_score= 0.8842036578671111 (1.0008 of best)\n",
      "frac =2.5,depth=6,est=129:, f1_score: 0.6562, recall_score: 0.6442, precision_score: 0.6688, roc_auc_score: 0.8842\n",
      "RandomForestClassifier: roc_auc_score= 0.8820041702381756 (0.9975 of best)\n",
      "frac =2.5,depth=7,est=17:, f1_score: 0.6527, recall_score: 0.6687, precision_score: 0.6374, roc_auc_score: 0.8820\n",
      "RandomForestClassifier: roc_auc_score= 0.885118606196608 (1.0010 of best)\n",
      "frac =2.5,depth=7,est=25:, f1_score: 0.6504, recall_score: 0.6534, precision_score: 0.6474, roc_auc_score: 0.8851\n",
      "RandomForestClassifier: roc_auc_score= 0.8883883425951786 (1.0037 of best)\n",
      "frac =2.5,depth=7,est=38:, f1_score: 0.6588, recall_score: 0.6810, precision_score: 0.6379, roc_auc_score: 0.8884\n",
      "RandomForestClassifier: roc_auc_score= 0.8852221398233667 (0.9964 of best)\n",
      "frac =2.5,depth=7,est=57:, f1_score: 0.6515, recall_score: 0.6595, precision_score: 0.6437, roc_auc_score: 0.8852\n",
      "RandomForestClassifier: roc_auc_score= 0.8864886209320916 (0.9979 of best)\n",
      "frac =2.5,depth=7,est=86:, f1_score: 0.6543, recall_score: 0.6472, precision_score: 0.6614, roc_auc_score: 0.8865\n",
      "RandomForestClassifier: roc_auc_score= 0.8868208916412247 (0.9982 of best)\n",
      "frac =2.5,depth=7,est=129:, f1_score: 0.6636, recall_score: 0.6656, precision_score: 0.6616, roc_auc_score: 0.8868\n",
      "frac =2.5,depth=8,est=17:, f1_score: 0.6368, recall_score: 0.6534, precision_score: 0.6210, roc_auc_score: 0.8783\n",
      "RandomForestClassifier: roc_auc_score= 0.8842108811433965 (0.9953 of best)\n",
      "frac =2.5,depth=8,est=25:, f1_score: 0.6386, recall_score: 0.6748, precision_score: 0.6061, roc_auc_score: 0.8842\n",
      "RandomForestClassifier: roc_auc_score= 0.8880512563685219 (0.9996 of best)\n",
      "frac =2.5,depth=8,est=38:, f1_score: 0.6517, recall_score: 0.6656, precision_score: 0.6382, roc_auc_score: 0.8881\n",
      "RandomForestClassifier: roc_auc_score= 0.8856290510541168 (0.9969 of best)\n",
      "frac =2.5,depth=8,est=57:, f1_score: 0.6528, recall_score: 0.6718, precision_score: 0.6348, roc_auc_score: 0.8856\n",
      "RandomForestClassifier: roc_auc_score= 0.8865078830021864 (0.9979 of best)\n",
      "frac =2.5,depth=8,est=86:, f1_score: 0.6485, recall_score: 0.6564, precision_score: 0.6407, roc_auc_score: 0.8865\n",
      "RandomForestClassifier: roc_auc_score= 0.8872350261482601 (0.9987 of best)\n",
      "frac =2.5,depth=8,est=129:, f1_score: 0.6517, recall_score: 0.6656, precision_score: 0.6382, roc_auc_score: 0.8872\n",
      "frac =2.5,depth=9,est=17:, f1_score: 0.6429, recall_score: 0.6902, precision_score: 0.6016, roc_auc_score: 0.8757\n",
      "RandomForestClassifier: roc_auc_score= 0.8810832025117741 (0.9918 of best)\n",
      "frac =2.5,depth=9,est=25:, f1_score: 0.6442, recall_score: 0.6748, precision_score: 0.6162, roc_auc_score: 0.8811\n",
      "RandomForestClassifier: roc_auc_score= 0.8861876510868623 (0.9975 of best)\n",
      "frac =2.5,depth=9,est=38:, f1_score: 0.6578, recall_score: 0.6840, precision_score: 0.6335, roc_auc_score: 0.8862\n",
      "RandomForestClassifier: roc_auc_score= 0.8861250493590547 (0.9975 of best)\n",
      "frac =2.5,depth=9,est=57:, f1_score: 0.6609, recall_score: 0.7086, precision_score: 0.6193, roc_auc_score: 0.8861\n",
      "RandomForestClassifier: roc_auc_score= 0.886816076123701 (0.9982 of best)\n",
      "frac =2.5,depth=9,est=86:, f1_score: 0.6401, recall_score: 0.6656, precision_score: 0.6165, roc_auc_score: 0.8868\n",
      "RandomForestClassifier: roc_auc_score= 0.8873650451213992 (0.9988 of best)\n",
      "frac =2.5,depth=9,est=129:, f1_score: 0.6438, recall_score: 0.6626, precision_score: 0.6261, roc_auc_score: 0.8874\n",
      "frac =2.5,depth=10,est=17:, f1_score: 0.6549, recall_score: 0.6840, precision_score: 0.6282, roc_auc_score: 0.8743\n",
      "frac =2.5,depth=10,est=25:, f1_score: 0.6278, recall_score: 0.6779, precision_score: 0.5847, roc_auc_score: 0.8744\n",
      "RandomForestClassifier: roc_auc_score= 0.883767853531219 (0.9948 of best)\n",
      "frac =2.5,depth=10,est=38:, f1_score: 0.6493, recall_score: 0.6871, precision_score: 0.6154, roc_auc_score: 0.8838\n",
      "RandomForestClassifier: roc_auc_score= 0.8869220175092216 (0.9983 of best)\n",
      "frac =2.5,depth=10,est=57:, f1_score: 0.6354, recall_score: 0.6656, precision_score: 0.6078, roc_auc_score: 0.8869\n",
      "RandomForestClassifier: roc_auc_score= 0.8863995338579037 (0.9978 of best)\n",
      "frac =2.5,depth=10,est=86:, f1_score: 0.6532, recall_score: 0.6933, precision_score: 0.6175, roc_auc_score: 0.8864\n",
      "RandomForestClassifier: roc_auc_score= 0.8859637295220116 (0.9973 of best)\n",
      "frac =2.5,depth=10,est=129:, f1_score: 0.6483, recall_score: 0.6871, precision_score: 0.6137, roc_auc_score: 0.8860\n",
      "frac =2.5,depth=11,est=17:, f1_score: 0.6192, recall_score: 0.6933, precision_score: 0.5594, roc_auc_score: 0.8714\n",
      "RandomForestClassifier: roc_auc_score= 0.8797685662278125 (0.9903 of best)\n",
      "frac =2.5,depth=11,est=25:, f1_score: 0.6357, recall_score: 0.6933, precision_score: 0.5870, roc_auc_score: 0.8798\n",
      "frac =2.5,depth=11,est=38:, f1_score: 0.6401, recall_score: 0.6902, precision_score: 0.5968, roc_auc_score: 0.8786\n",
      "RandomForestClassifier: roc_auc_score= 0.8862141364332425 (0.9976 of best)\n",
      "frac =2.5,depth=11,est=57:, f1_score: 0.6460, recall_score: 0.7025, precision_score: 0.5979, roc_auc_score: 0.8862\n",
      "RandomForestClassifier: roc_auc_score= 0.8813649102869084 (0.9921 of best)\n",
      "frac =2.5,depth=11,est=86:, f1_score: 0.6415, recall_score: 0.7025, precision_score: 0.5902, roc_auc_score: 0.8814\n",
      "RandomForestClassifier: roc_auc_score= 0.8833537190241835 (0.9943 of best)\n",
      "frac =2.5,depth=11,est=129:, f1_score: 0.6447, recall_score: 0.6902, precision_score: 0.6048, roc_auc_score: 0.8834\n",
      "frac =2.5,depth=12,est=17:, f1_score: 0.6262, recall_score: 0.6963, precision_score: 0.5689, roc_auc_score: 0.8703\n",
      "frac =2.5,depth=12,est=25:, f1_score: 0.6225, recall_score: 0.6779, precision_score: 0.5755, roc_auc_score: 0.8750\n",
      "frac =2.5,depth=12,est=38:, f1_score: 0.6407, recall_score: 0.7055, precision_score: 0.5867, roc_auc_score: 0.8757\n",
      "frac =2.5,depth=12,est=57:, f1_score: 0.6285, recall_score: 0.6902, precision_score: 0.5769, roc_auc_score: 0.8774\n",
      "RandomForestClassifier: roc_auc_score= 0.8848742186822818 (0.9960 of best)\n",
      "frac =2.5,depth=12,est=86:, f1_score: 0.6440, recall_score: 0.6963, precision_score: 0.5989, roc_auc_score: 0.8849\n",
      "RandomForestClassifier: roc_auc_score= 0.8834139129932295 (0.9944 of best)\n",
      "frac =2.5,depth=12,est=129:, f1_score: 0.6374, recall_score: 0.6902, precision_score: 0.5921, roc_auc_score: 0.8834\n",
      "frac =2.5,depth=13,est=17:, f1_score: 0.6260, recall_score: 0.6933, precision_score: 0.5707, roc_auc_score: 0.8646\n",
      "frac =2.5,depth=13,est=25:, f1_score: 0.6254, recall_score: 0.6810, precision_score: 0.5781, roc_auc_score: 0.8692\n",
      "frac =2.5,depth=13,est=38:, f1_score: 0.6252, recall_score: 0.6933, precision_score: 0.5693, roc_auc_score: 0.8760\n",
      "RandomForestClassifier: roc_auc_score= 0.8812974930415772 (0.9920 of best)\n",
      "frac =2.5,depth=13,est=57:, f1_score: 0.6435, recall_score: 0.7086, precision_score: 0.5893, roc_auc_score: 0.8813\n",
      "RandomForestClassifier: roc_auc_score= 0.8837437759436007 (0.9948 of best)\n",
      "frac =2.5,depth=13,est=86:, f1_score: 0.6332, recall_score: 0.6963, precision_score: 0.5806, roc_auc_score: 0.8837\n"
     ]
    },
    {
     "name": "stdout",
     "output_type": "stream",
     "text": [
      "RandomForestClassifier: roc_auc_score= 0.8835487474838921 (0.9946 of best)\n",
      "frac =2.5,depth=13,est=129:, f1_score: 0.6471, recall_score: 0.7117, precision_score: 0.5934, roc_auc_score: 0.8835\n",
      "frac =2.5,depth=14,est=17:, f1_score: 0.6353, recall_score: 0.7239, precision_score: 0.5659, roc_auc_score: 0.8704\n",
      "frac =2.5,depth=14,est=25:, f1_score: 0.6409, recall_score: 0.7117, precision_score: 0.5829, roc_auc_score: 0.8766\n",
      "RandomForestClassifier: roc_auc_score= 0.8805534955841704 (0.9912 of best)\n",
      "frac =2.5,depth=14,est=38:, f1_score: 0.6527, recall_score: 0.7147, precision_score: 0.6005, roc_auc_score: 0.8806\n",
      "RandomForestClassifier: roc_auc_score= 0.8809856882819196 (0.9917 of best)\n",
      "frac =2.5,depth=14,est=57:, f1_score: 0.6271, recall_score: 0.6963, precision_score: 0.5704, roc_auc_score: 0.8810\n",
      "RandomForestClassifier: roc_auc_score= 0.8796915179474338 (0.9902 of best)\n",
      "frac =2.5,depth=14,est=86:, f1_score: 0.6357, recall_score: 0.6933, precision_score: 0.5870, roc_auc_score: 0.8797\n",
      "RandomForestClassifier: roc_auc_score= 0.880110467971993 (0.9907 of best)\n",
      "frac =2.5,depth=14,est=129:, f1_score: 0.6369, recall_score: 0.6994, precision_score: 0.5846, roc_auc_score: 0.8801\n",
      "frac =2.5,depth=15,est=17:, f1_score: 0.6276, recall_score: 0.7055, precision_score: 0.5651, roc_auc_score: 0.8754\n",
      "frac =2.5,depth=15,est=25:, f1_score: 0.6197, recall_score: 0.7147, precision_score: 0.5469, roc_auc_score: 0.8733\n",
      "frac =2.5,depth=15,est=38:, f1_score: 0.6508, recall_score: 0.7117, precision_score: 0.5995, roc_auc_score: 0.8705\n",
      "RandomForestClassifier: roc_auc_score= 0.8814708516724292 (0.9922 of best)\n",
      "frac =2.5,depth=15,est=57:, f1_score: 0.6330, recall_score: 0.7117, precision_score: 0.5700, roc_auc_score: 0.8815\n",
      "frac =2.5,depth=15,est=86:, f1_score: 0.6342, recall_score: 0.6994, precision_score: 0.5802, roc_auc_score: 0.8772\n",
      "frac =2.5,depth=15,est=129:, f1_score: 0.6325, recall_score: 0.6994, precision_score: 0.5772, roc_auc_score: 0.8780\n",
      "RandomForestClassifier: roc_auc_score= 0.8642120368676022 (1.1029 of best)\n",
      "frac =2.8,depth=4,est=17:, f1_score: 0.6296, recall_score: 0.6258, precision_score: 0.6335, roc_auc_score: 0.8642\n",
      "RandomForestClassifier: roc_auc_score= 0.872605483911356 (1.0097 of best)\n",
      "frac =2.8,depth=4,est=25:, f1_score: 0.6390, recall_score: 0.6135, precision_score: 0.6667, roc_auc_score: 0.8726\n",
      "RandomForestClassifier: roc_auc_score= 0.8650523446754823 (0.9913 of best)\n",
      "frac =2.8,depth=4,est=38:, f1_score: 0.6319, recall_score: 0.6503, precision_score: 0.6145, roc_auc_score: 0.8651\n",
      "RandomForestClassifier: roc_auc_score= 0.8663669809594439 (0.9929 of best)\n",
      "frac =2.8,depth=4,est=57:, f1_score: 0.6235, recall_score: 0.6350, precision_score: 0.6124, roc_auc_score: 0.8664\n",
      "RandomForestClassifier: roc_auc_score= 0.8696186591673007 (0.9966 of best)\n",
      "frac =2.8,depth=4,est=86:, f1_score: 0.6362, recall_score: 0.6626, precision_score: 0.6119, roc_auc_score: 0.8696\n",
      "RandomForestClassifier: roc_auc_score= 0.8682558677081025 (0.9950 of best)\n",
      "frac =2.8,depth=4,est=129:, f1_score: 0.6453, recall_score: 0.6472, precision_score: 0.6433, roc_auc_score: 0.8683\n",
      "RandomForestClassifier: roc_auc_score= 0.8706287139678902 (0.9977 of best)\n",
      "frac =2.8,depth=5,est=17:, f1_score: 0.6204, recall_score: 0.6442, precision_score: 0.5983, roc_auc_score: 0.8706\n",
      "RandomForestClassifier: roc_auc_score= 0.8749241555990023 (1.0027 of best)\n",
      "frac =2.8,depth=5,est=25:, f1_score: 0.6473, recall_score: 0.6503, precision_score: 0.6444, roc_auc_score: 0.8749\n",
      "RandomForestClassifier: roc_auc_score= 0.8764133543931966 (1.0017 of best)\n",
      "frac =2.8,depth=5,est=38:, f1_score: 0.6400, recall_score: 0.6380, precision_score: 0.6420, roc_auc_score: 0.8764\n",
      "RandomForestClassifier: roc_auc_score= 0.8795940037175796 (1.0036 of best)\n",
      "frac =2.8,depth=5,est=57:, f1_score: 0.6565, recall_score: 0.6595, precision_score: 0.6535, roc_auc_score: 0.8796\n",
      "RandomForestClassifier: roc_auc_score= 0.8736600822490392 (0.9933 of best)\n",
      "frac =2.8,depth=5,est=86:, f1_score: 0.6311, recall_score: 0.6534, precision_score: 0.6103, roc_auc_score: 0.8737\n",
      "RandomForestClassifier: roc_auc_score= 0.8760317246294459 (0.9960 of best)\n",
      "frac =2.8,depth=5,est=129:, f1_score: 0.6415, recall_score: 0.6503, precision_score: 0.6328, roc_auc_score: 0.8760\n",
      "RandomForestClassifier: roc_auc_score= 0.8828890215831495 (1.0037 of best)\n",
      "frac =2.8,depth=6,est=17:, f1_score: 0.6444, recall_score: 0.7086, precision_score: 0.5908, roc_auc_score: 0.8829\n",
      "frac =2.8,depth=6,est=25:, f1_score: 0.6302, recall_score: 0.6534, precision_score: 0.6086, roc_auc_score: 0.8720\n",
      "RandomForestClassifier: roc_auc_score= 0.8771561479712223 (0.9935 of best)\n",
      "frac =2.8,depth=6,est=38:, f1_score: 0.6405, recall_score: 0.6748, precision_score: 0.6094, roc_auc_score: 0.8772\n",
      "RandomForestClassifier: roc_auc_score= 0.881271007695197 (0.9982 of best)\n",
      "frac =2.8,depth=6,est=57:, f1_score: 0.6420, recall_score: 0.6656, precision_score: 0.6200, roc_auc_score: 0.8813\n",
      "RandomForestClassifier: roc_auc_score= 0.8783070566593792 (0.9948 of best)\n",
      "frac =2.8,depth=6,est=86:, f1_score: 0.6456, recall_score: 0.6595, precision_score: 0.6324, roc_auc_score: 0.8783\n",
      "RandomForestClassifier: roc_auc_score= 0.8833272336778034 (1.0005 of best)\n",
      "frac =2.8,depth=6,est=129:, f1_score: 0.6382, recall_score: 0.6656, precision_score: 0.6130, roc_auc_score: 0.8833\n",
      "RandomForestClassifier: roc_auc_score= 0.881880170661941 (0.9984 of best)\n",
      "frac =2.8,depth=7,est=17:, f1_score: 0.6502, recall_score: 0.6871, precision_score: 0.6171, roc_auc_score: 0.8819\n",
      "RandomForestClassifier: roc_auc_score= 0.8849958104997544 (1.0019 of best)\n",
      "frac =2.8,depth=7,est=25:, f1_score: 0.6325, recall_score: 0.6626, precision_score: 0.6050, roc_auc_score: 0.8850\n",
      "RandomForestClassifier: roc_auc_score= 0.8790606851518332 (0.9933 of best)\n",
      "frac =2.8,depth=7,est=38:, f1_score: 0.6378, recall_score: 0.6779, precision_score: 0.6022, roc_auc_score: 0.8791\n",
      "RandomForestClassifier: roc_auc_score= 0.8813263861467192 (0.9959 of best)\n",
      "frac =2.8,depth=7,est=57:, f1_score: 0.6405, recall_score: 0.6748, precision_score: 0.6094, roc_auc_score: 0.8813\n",
      "RandomForestClassifier: roc_auc_score= 0.8807316697325462 (0.9952 of best)\n",
      "frac =2.8,depth=7,est=86:, f1_score: 0.6411, recall_score: 0.6656, precision_score: 0.6182, roc_auc_score: 0.8807\n",
      "RandomForestClassifier: roc_auc_score= 0.8838762026755016 (0.9987 of best)\n",
      "frac =2.8,depth=7,est=129:, f1_score: 0.6392, recall_score: 0.6656, precision_score: 0.6147, roc_auc_score: 0.8839\n",
      "frac =2.8,depth=8,est=17:, f1_score: 0.6298, recall_score: 0.6994, precision_score: 0.5729, roc_auc_score: 0.8731\n",
      "RandomForestClassifier: roc_auc_score= 0.8775967678246381 (0.9916 of best)\n",
      "frac =2.8,depth=8,est=25:, f1_score: 0.6339, recall_score: 0.6933, precision_score: 0.5840, roc_auc_score: 0.8776\n",
      "RandomForestClassifier: roc_auc_score= 0.8796144696670551 (0.9939 of best)\n",
      "frac =2.8,depth=8,est=38:, f1_score: 0.6453, recall_score: 0.6810, precision_score: 0.6133, roc_auc_score: 0.8796\n",
      "RandomForestClassifier: roc_auc_score= 0.8852245475821287 (1.0003 of best)\n",
      "frac =2.8,depth=8,est=57:, f1_score: 0.6420, recall_score: 0.6656, precision_score: 0.6200, roc_auc_score: 0.8852\n",
      "RandomForestClassifier: roc_auc_score= 0.8837341449085532 (0.9983 of best)\n",
      "frac =2.8,depth=8,est=86:, f1_score: 0.6279, recall_score: 0.6626, precision_score: 0.5967, roc_auc_score: 0.8837\n",
      "RandomForestClassifier: roc_auc_score= 0.885277518274889 (1.0001 of best)\n",
      "frac =2.8,depth=8,est=129:, f1_score: 0.6401, recall_score: 0.6902, precision_score: 0.5968, roc_auc_score: 0.8853\n",
      "RandomForestClassifier: roc_auc_score= 0.8779446889657231 (0.9917 of best)\n",
      "frac =2.8,depth=9,est=17:, f1_score: 0.6238, recall_score: 0.6840, precision_score: 0.5733, roc_auc_score: 0.8779\n",
      "frac =2.8,depth=9,est=25:, f1_score: 0.6295, recall_score: 0.6748, precision_score: 0.5898, roc_auc_score: 0.8746\n",
      "RandomForestClassifier: roc_auc_score= 0.8779169997399621 (0.9917 of best)\n",
      "frac =2.8,depth=9,est=38:, f1_score: 0.6378, recall_score: 0.6994, precision_score: 0.5861, roc_auc_score: 0.8779\n",
      "RandomForestClassifier: roc_auc_score= 0.8860744864250562 (1.0009 of best)\n",
      "frac =2.8,depth=9,est=57:, f1_score: 0.6535, recall_score: 0.7086, precision_score: 0.6063, roc_auc_score: 0.8861\n",
      "RandomForestClassifier: roc_auc_score= 0.8846490932380503 (0.9984 of best)\n",
      "frac =2.8,depth=9,est=86:, f1_score: 0.6491, recall_score: 0.7178, precision_score: 0.5924, roc_auc_score: 0.8846\n"
     ]
    },
    {
     "name": "stdout",
     "output_type": "stream",
     "text": [
      "RandomForestClassifier: roc_auc_score= 0.8831322052180949 (0.9967 of best)\n",
      "frac =2.8,depth=9,est=129:, f1_score: 0.6332, recall_score: 0.6963, precision_score: 0.5806, roc_auc_score: 0.8831\n",
      "frac =2.8,depth=10,est=17:, f1_score: 0.6221, recall_score: 0.6994, precision_score: 0.5602, roc_auc_score: 0.8711\n",
      "RandomForestClassifier: roc_auc_score= 0.8786369196097504 (0.9916 of best)\n",
      "frac =2.8,depth=10,est=25:, f1_score: 0.6431, recall_score: 0.7239, precision_score: 0.5784, roc_auc_score: 0.8786\n",
      "RandomForestClassifier: roc_auc_score= 0.8820426943783649 (0.9954 of best)\n",
      "frac =2.8,depth=10,est=38:, f1_score: 0.6409, recall_score: 0.7117, precision_score: 0.5829, roc_auc_score: 0.8820\n",
      "RandomForestClassifier: roc_auc_score= 0.8840495613063536 (0.9977 of best)\n",
      "frac =2.8,depth=10,est=57:, f1_score: 0.6479, recall_score: 0.7055, precision_score: 0.5990, roc_auc_score: 0.8840\n",
      "RandomForestClassifier: roc_auc_score= 0.8834307673045622 (0.9970 of best)\n",
      "frac =2.8,depth=10,est=86:, f1_score: 0.6482, recall_score: 0.7178, precision_score: 0.5909, roc_auc_score: 0.8834\n",
      "RandomForestClassifier: roc_auc_score= 0.8835246698962738 (0.9971 of best)\n",
      "frac =2.8,depth=10,est=129:, f1_score: 0.6415, recall_score: 0.7025, precision_score: 0.5902, roc_auc_score: 0.8835\n",
      "frac =2.8,depth=11,est=17:, f1_score: 0.6235, recall_score: 0.7086, precision_score: 0.5566, roc_auc_score: 0.8769\n",
      "frac =2.8,depth=11,est=25:, f1_score: 0.6267, recall_score: 0.7055, precision_score: 0.5637, roc_auc_score: 0.8722\n",
      "RandomForestClassifier: roc_auc_score= 0.8813793568394795 (0.9947 of best)\n",
      "frac =2.8,depth=11,est=38:, f1_score: 0.6228, recall_score: 0.7117, precision_score: 0.5537, roc_auc_score: 0.8814\n",
      "RandomForestClassifier: roc_auc_score= 0.8861009717714363 (1.0000 of best)\n",
      "frac =2.8,depth=11,est=57:, f1_score: 0.6400, recall_score: 0.7117, precision_score: 0.5815, roc_auc_score: 0.8861\n",
      "RandomForestClassifier: roc_auc_score= 0.8798745076133332 (0.9930 of best)\n",
      "frac =2.8,depth=11,est=86:, f1_score: 0.6362, recall_score: 0.7055, precision_score: 0.5793, roc_auc_score: 0.8799\n",
      "RandomForestClassifier: roc_auc_score= 0.8843673854629157 (0.9980 of best)\n",
      "frac =2.8,depth=11,est=129:, f1_score: 0.6408, recall_score: 0.7086, precision_score: 0.5848, roc_auc_score: 0.8844\n",
      "frac =2.8,depth=12,est=17:, f1_score: 0.6280, recall_score: 0.7147, precision_score: 0.5601, roc_auc_score: 0.8722\n",
      "frac =2.8,depth=12,est=25:, f1_score: 0.6257, recall_score: 0.7178, precision_score: 0.5545, roc_auc_score: 0.8731\n",
      "RandomForestClassifier: roc_auc_score= 0.8823087517215475 (0.9957 of best)\n",
      "frac =2.8,depth=12,est=38:, f1_score: 0.6361, recall_score: 0.7239, precision_score: 0.5673, roc_auc_score: 0.8823\n",
      "frac =2.8,depth=12,est=57:, f1_score: 0.6255, recall_score: 0.7147, precision_score: 0.5561, roc_auc_score: 0.8757\n",
      "RandomForestClassifier: roc_auc_score= 0.879792643815431 (0.9929 of best)\n",
      "frac =2.8,depth=12,est=86:, f1_score: 0.6357, recall_score: 0.7147, precision_score: 0.5725, roc_auc_score: 0.8798\n",
      "RandomForestClassifier: roc_auc_score= 0.8802790110853215 (0.9934 of best)\n",
      "frac =2.8,depth=12,est=129:, f1_score: 0.6355, recall_score: 0.7086, precision_score: 0.5761, roc_auc_score: 0.8803\n",
      "frac =2.8,depth=13,est=17:, f1_score: 0.5971, recall_score: 0.6933, precision_score: 0.5244, roc_auc_score: 0.8636\n",
      "frac =2.8,depth=13,est=25:, f1_score: 0.6371, recall_score: 0.7270, precision_score: 0.5670, roc_auc_score: 0.8754\n",
      "frac =2.8,depth=13,est=38:, f1_score: 0.6252, recall_score: 0.7086, precision_score: 0.5593, roc_auc_score: 0.8721\n",
      "RandomForestClassifier: roc_auc_score= 0.8773102445319798 (0.9901 of best)\n",
      "frac =2.8,depth=13,est=57:, f1_score: 0.6171, recall_score: 0.6994, precision_score: 0.5521, roc_auc_score: 0.8773\n",
      "RandomForestClassifier: roc_auc_score= 0.8790667045487379 (0.9921 of best)\n",
      "frac =2.8,depth=13,est=86:, f1_score: 0.6359, recall_score: 0.7178, precision_score: 0.5707, roc_auc_score: 0.8791\n",
      "RandomForestClassifier: roc_auc_score= 0.881925918078416 (0.9953 of best)\n",
      "frac =2.8,depth=13,est=129:, f1_score: 0.6392, recall_score: 0.7147, precision_score: 0.5782, roc_auc_score: 0.8819\n",
      "frac =2.8,depth=14,est=17:, f1_score: 0.6164, recall_score: 0.7147, precision_score: 0.5419, roc_auc_score: 0.8655\n",
      "frac =2.8,depth=14,est=25:, f1_score: 0.6129, recall_score: 0.6994, precision_score: 0.5455, roc_auc_score: 0.8649\n",
      "frac =2.8,depth=14,est=38:, f1_score: 0.6300, recall_score: 0.7209, precision_score: 0.5595, roc_auc_score: 0.8765\n",
      "frac =2.8,depth=14,est=57:, f1_score: 0.6356, recall_score: 0.7331, precision_score: 0.5610, roc_auc_score: 0.8744\n",
      "RandomForestClassifier: roc_auc_score= 0.8800081382246149 (0.9931 of best)\n",
      "frac =2.8,depth=14,est=86:, f1_score: 0.6359, recall_score: 0.7178, precision_score: 0.5707, roc_auc_score: 0.8800\n",
      "RandomForestClassifier: roc_auc_score= 0.8801044485750884 (0.9932 of best)\n",
      "frac =2.8,depth=14,est=129:, f1_score: 0.6423, recall_score: 0.7270, precision_score: 0.5752, roc_auc_score: 0.8801\n",
      "frac =2.8,depth=15,est=17:, f1_score: 0.6115, recall_score: 0.7147, precision_score: 0.5344, roc_auc_score: 0.8565\n",
      "frac =2.8,depth=15,est=25:, f1_score: 0.6112, recall_score: 0.7209, precision_score: 0.5305, roc_auc_score: 0.8681\n",
      "frac =2.8,depth=15,est=38:, f1_score: 0.6312, recall_score: 0.7270, precision_score: 0.5576, roc_auc_score: 0.8725\n",
      "frac =2.8,depth=15,est=57:, f1_score: 0.6259, recall_score: 0.7055, precision_score: 0.5623, roc_auc_score: 0.8743\n",
      "RandomForestClassifier: roc_auc_score= 0.8791112480858317 (0.9921 of best)\n",
      "frac =2.8,depth=15,est=86:, f1_score: 0.6343, recall_score: 0.7209, precision_score: 0.5663, roc_auc_score: 0.8791\n",
      "frac =2.8,depth=15,est=129:, f1_score: 0.6369, recall_score: 0.7209, precision_score: 0.5704, roc_auc_score: 0.8768\n",
      "RandomForestClassifier: roc_auc_score= 0.8637906790842812 (1.1002 of best)\n",
      "frac =3.1,depth=4,est=17:, f1_score: 0.6167, recall_score: 0.6810, precision_score: 0.5635, roc_auc_score: 0.8638\n",
      "RandomForestClassifier: roc_auc_score= 0.8721371748321793 (1.0097 of best)\n",
      "frac =3.1,depth=4,est=25:, f1_score: 0.6287, recall_score: 0.6779, precision_score: 0.5862, roc_auc_score: 0.8721\n",
      "RandomForestClassifier: roc_auc_score= 0.8725260278722153 (1.0004 of best)\n",
      "frac =3.1,depth=4,est=38:, f1_score: 0.6419, recall_score: 0.6902, precision_score: 0.6000, roc_auc_score: 0.8725\n",
      "RandomForestClassifier: roc_auc_score= 0.8768792557136115 (1.0050 of best)\n",
      "frac =3.1,depth=4,est=57:, f1_score: 0.6443, recall_score: 0.6779, precision_score: 0.6139, roc_auc_score: 0.8769\n",
      "RandomForestClassifier: roc_auc_score= 0.8762989858520096 (0.9993 of best)\n",
      "frac =3.1,depth=4,est=86:, f1_score: 0.6328, recall_score: 0.6871, precision_score: 0.5864, roc_auc_score: 0.8763\n",
      "RandomForestClassifier: roc_auc_score= 0.8735276555171383 (0.9962 of best)\n",
      "frac =3.1,depth=4,est=129:, f1_score: 0.6301, recall_score: 0.6871, precision_score: 0.5818, roc_auc_score: 0.8735\n",
      "frac =3.1,depth=5,est=17:, f1_score: 0.6226, recall_score: 0.7086, precision_score: 0.5553, roc_auc_score: 0.8664\n",
      "RandomForestClassifier: roc_auc_score= 0.8779651549151986 (1.0012 of best)\n",
      "frac =3.1,depth=5,est=25:, f1_score: 0.6476, recall_score: 0.6933, precision_score: 0.6075, roc_auc_score: 0.8780\n",
      "RandomForestClassifier: roc_auc_score= 0.8761352582562048 (0.9979 of best)\n",
      "frac =3.1,depth=5,est=38:, f1_score: 0.6301, recall_score: 0.7055, precision_score: 0.5693, roc_auc_score: 0.8761\n",
      "RandomForestClassifier: roc_auc_score= 0.8759643073841146 (0.9977 of best)\n",
      "frac =3.1,depth=5,est=57:, f1_score: 0.6365, recall_score: 0.6902, precision_score: 0.5906, roc_auc_score: 0.8760\n",
      "RandomForestClassifier: roc_auc_score= 0.8785165316716588 (1.0006 of best)\n",
      "frac =3.1,depth=5,est=86:, f1_score: 0.6407, recall_score: 0.7055, precision_score: 0.5867, roc_auc_score: 0.8785\n",
      "RandomForestClassifier: roc_auc_score= 0.8776834471400642 (0.9991 of best)\n",
      "frac =3.1,depth=5,est=129:, f1_score: 0.6247, recall_score: 0.7147, precision_score: 0.5548, roc_auc_score: 0.8777\n",
      "RandomForestClassifier: roc_auc_score= 0.8774535061783091 (0.9988 of best)\n",
      "frac =3.1,depth=6,est=17:, f1_score: 0.6324, recall_score: 0.7178, precision_score: 0.5652, roc_auc_score: 0.8775\n",
      "RandomForestClassifier: roc_auc_score= 0.8812890658859107 (1.0032 of best)\n",
      "frac =3.1,depth=6,est=25:, f1_score: 0.6327, recall_score: 0.7055, precision_score: 0.5736, roc_auc_score: 0.8813\n",
      "RandomForestClassifier: roc_auc_score= 0.8805944274831217 (0.9992 of best)\n",
      "frac =3.1,depth=6,est=38:, f1_score: 0.6294, recall_score: 0.7086, precision_score: 0.5662, roc_auc_score: 0.8806\n"
     ]
    },
    {
     "name": "stdout",
     "output_type": "stream",
     "text": [
      "RandomForestClassifier: roc_auc_score= 0.8800382352091379 (0.9986 of best)\n",
      "frac =3.1,depth=6,est=57:, f1_score: 0.6293, recall_score: 0.7239, precision_score: 0.5566, roc_auc_score: 0.8800\n",
      "RandomForestClassifier: roc_auc_score= 0.8820800146391733 (1.0009 of best)\n",
      "frac =3.1,depth=6,est=86:, f1_score: 0.6300, recall_score: 0.7025, precision_score: 0.5711, roc_auc_score: 0.8821\n",
      "RandomForestClassifier: roc_auc_score= 0.88296847762229 (1.0010 of best)\n",
      "frac =3.1,depth=6,est=129:, f1_score: 0.6386, recall_score: 0.7209, precision_score: 0.5732, roc_auc_score: 0.8830\n",
      "RandomForestClassifier: roc_auc_score= 0.8763940923231018 (0.9926 of best)\n",
      "frac =3.1,depth=7,est=17:, f1_score: 0.6139, recall_score: 0.7025, precision_score: 0.5452, roc_auc_score: 0.8764\n",
      "RandomForestClassifier: roc_auc_score= 0.8760461711820171 (0.9922 of best)\n",
      "frac =3.1,depth=7,est=25:, f1_score: 0.6207, recall_score: 0.7178, precision_score: 0.5467, roc_auc_score: 0.8760\n",
      "RandomForestClassifier: roc_auc_score= 0.8768214695033276 (0.9930 of best)\n",
      "frac =3.1,depth=7,est=38:, f1_score: 0.6156, recall_score: 0.7270, precision_score: 0.5338, roc_auc_score: 0.8768\n",
      "RandomForestClassifier: roc_auc_score= 0.8851017518852751 (1.0024 of best)\n",
      "frac =3.1,depth=7,est=57:, f1_score: 0.6341, recall_score: 0.7178, precision_score: 0.5680, roc_auc_score: 0.8851\n",
      "RandomForestClassifier: roc_auc_score= 0.8819162870433687 (0.9964 of best)\n",
      "frac =3.1,depth=7,est=86:, f1_score: 0.6328, recall_score: 0.7270, precision_score: 0.5603, roc_auc_score: 0.8819\n",
      "RandomForestClassifier: roc_auc_score= 0.8831538750469512 (0.9978 of best)\n",
      "frac =3.1,depth=7,est=129:, f1_score: 0.6313, recall_score: 0.7301, precision_score: 0.5561, roc_auc_score: 0.8832\n",
      "RandomForestClassifier: roc_auc_score= 0.8850535967100384 (0.9999 of best)\n",
      "frac =3.1,depth=8,est=17:, f1_score: 0.6290, recall_score: 0.7515, precision_score: 0.5408, roc_auc_score: 0.8851\n",
      "RandomForestClassifier: roc_auc_score= 0.8815069680538569 (0.9959 of best)\n",
      "frac =3.1,depth=8,est=25:, f1_score: 0.6291, recall_score: 0.7362, precision_score: 0.5492, roc_auc_score: 0.8815\n",
      "RandomForestClassifier: roc_auc_score= 0.8805438645491233 (0.9949 of best)\n",
      "frac =3.1,depth=8,est=38:, f1_score: 0.6295, recall_score: 0.7270, precision_score: 0.5550, roc_auc_score: 0.8805\n",
      "RandomForestClassifier: roc_auc_score= 0.8845672294401479 (0.9994 of best)\n",
      "frac =3.1,depth=8,est=57:, f1_score: 0.6421, recall_score: 0.7485, precision_score: 0.5622, roc_auc_score: 0.8846\n",
      "RandomForestClassifier: roc_auc_score= 0.8852606639635563 (1.0002 of best)\n",
      "frac =3.1,depth=8,est=86:, f1_score: 0.6297, recall_score: 0.7147, precision_score: 0.5628, roc_auc_score: 0.8853\n",
      "RandomForestClassifier: roc_auc_score= 0.8827541870924869 (0.9972 of best)\n",
      "frac =3.1,depth=8,est=129:, f1_score: 0.6317, recall_score: 0.7393, precision_score: 0.5515, roc_auc_score: 0.8828\n",
      "RandomForestClassifier: roc_auc_score= 0.8765361500900501 (0.9901 of best)\n",
      "frac =3.1,depth=9,est=17:, f1_score: 0.6126, recall_score: 0.7301, precision_score: 0.5277, roc_auc_score: 0.8765\n",
      "RandomForestClassifier: roc_auc_score= 0.8782613092429042 (0.9921 of best)\n",
      "frac =3.1,depth=9,est=25:, f1_score: 0.6142, recall_score: 0.7301, precision_score: 0.5301, roc_auc_score: 0.8783\n",
      "RandomForestClassifier: roc_auc_score= 0.880979668885015 (0.9952 of best)\n",
      "frac =3.1,depth=9,est=38:, f1_score: 0.6280, recall_score: 0.7301, precision_score: 0.5509, roc_auc_score: 0.8810\n",
      "RandomForestClassifier: roc_auc_score= 0.8793520239620153 (0.9933 of best)\n",
      "frac =3.1,depth=9,est=57:, f1_score: 0.6230, recall_score: 0.7301, precision_score: 0.5434, roc_auc_score: 0.8794\n",
      "RandomForestClassifier: roc_auc_score= 0.8806401748995965 (0.9948 of best)\n",
      "frac =3.1,depth=9,est=86:, f1_score: 0.6265, recall_score: 0.7331, precision_score: 0.5469, roc_auc_score: 0.8806\n",
      "RandomForestClassifier: roc_auc_score= 0.8808978050871128 (0.9951 of best)\n",
      "frac =3.1,depth=9,est=129:, f1_score: 0.6280, recall_score: 0.7301, precision_score: 0.5509, roc_auc_score: 0.8809\n",
      "frac =3.1,depth=10,est=17:, f1_score: 0.6003, recall_score: 0.7301, precision_score: 0.5096, roc_auc_score: 0.8668\n",
      "frac =3.1,depth=10,est=25:, f1_score: 0.6099, recall_score: 0.7147, precision_score: 0.5320, roc_auc_score: 0.8664\n",
      "RandomForestClassifier: roc_auc_score= 0.8769298186476102 (0.9906 of best)\n",
      "frac =3.1,depth=10,est=38:, f1_score: 0.6280, recall_score: 0.7301, precision_score: 0.5509, roc_auc_score: 0.8769\n",
      "RandomForestClassifier: roc_auc_score= 0.877772534214252 (0.9915 of best)\n",
      "frac =3.1,depth=10,est=57:, f1_score: 0.6255, recall_score: 0.7301, precision_score: 0.5471, roc_auc_score: 0.8778\n",
      "RandomForestClassifier: roc_auc_score= 0.8807099999036897 (0.9949 of best)\n",
      "frac =3.1,depth=10,est=86:, f1_score: 0.6201, recall_score: 0.7209, precision_score: 0.5440, roc_auc_score: 0.8807\n",
      "RandomForestClassifier: roc_auc_score= 0.8805847964480743 (0.9947 of best)\n",
      "frac =3.1,depth=10,est=129:, f1_score: 0.6178, recall_score: 0.7239, precision_score: 0.5388, roc_auc_score: 0.8806\n",
      "frac =3.1,depth=11,est=17:, f1_score: 0.6028, recall_score: 0.7239, precision_score: 0.5164, roc_auc_score: 0.8725\n",
      "frac =3.1,depth=11,est=25:, f1_score: 0.6136, recall_score: 0.7331, precision_score: 0.5276, roc_auc_score: 0.8727\n",
      "frac =3.1,depth=11,est=38:, f1_score: 0.6174, recall_score: 0.7301, precision_score: 0.5348, roc_auc_score: 0.8725\n",
      "frac =3.1,depth=11,est=57:, f1_score: 0.6181, recall_score: 0.7423, precision_score: 0.5295, roc_auc_score: 0.8764\n",
      "RandomForestClassifier: roc_auc_score= 0.8803175352255107 (0.9944 of best)\n",
      "frac =3.1,depth=11,est=86:, f1_score: 0.6194, recall_score: 0.7239, precision_score: 0.5413, roc_auc_score: 0.8803\n",
      "RandomForestClassifier: roc_auc_score= 0.8799467403761881 (0.9940 of best)\n",
      "frac =3.1,depth=11,est=129:, f1_score: 0.6269, recall_score: 0.7423, precision_score: 0.5426, roc_auc_score: 0.8799\n",
      "frac =3.1,depth=12,est=17:, f1_score: 0.6142, recall_score: 0.7301, precision_score: 0.5301, roc_auc_score: 0.8644\n",
      "frac =3.1,depth=12,est=25:, f1_score: 0.5928, recall_score: 0.7055, precision_score: 0.5111, roc_auc_score: 0.8668\n",
      "frac =3.1,depth=12,est=38:, f1_score: 0.6172, recall_score: 0.7393, precision_score: 0.5297, roc_auc_score: 0.8716\n",
      "frac =3.1,depth=12,est=57:, f1_score: 0.6160, recall_score: 0.7331, precision_score: 0.5311, roc_auc_score: 0.8733\n",
      "RandomForestClassifier: roc_auc_score= 0.8795831688031512 (0.9936 of best)\n",
      "frac =3.1,depth=12,est=86:, f1_score: 0.6207, recall_score: 0.7454, precision_score: 0.5317, roc_auc_score: 0.8796\n",
      "RandomForestClassifier: roc_auc_score= 0.8806546214521674 (0.9948 of best)\n",
      "frac =3.1,depth=12,est=129:, f1_score: 0.6122, recall_score: 0.7239, precision_score: 0.5303, roc_auc_score: 0.8807\n",
      "frac =3.1,depth=13,est=17:, f1_score: 0.6105, recall_score: 0.7331, precision_score: 0.5230, roc_auc_score: 0.8653\n",
      "frac =3.1,depth=13,est=25:, f1_score: 0.6229, recall_score: 0.7423, precision_score: 0.5366, roc_auc_score: 0.8677\n",
      "frac =3.1,depth=13,est=38:, f1_score: 0.6102, recall_score: 0.7178, precision_score: 0.5306, roc_auc_score: 0.8725\n",
      "frac =3.1,depth=13,est=57:, f1_score: 0.6072, recall_score: 0.7209, precision_score: 0.5246, roc_auc_score: 0.8699\n",
      "RandomForestClassifier: roc_auc_score= 0.8778110583544414 (0.9916 of best)\n",
      "frac =3.1,depth=13,est=86:, f1_score: 0.6182, recall_score: 0.7301, precision_score: 0.5360, roc_auc_score: 0.8778\n",
      "frac =3.1,depth=13,est=129:, f1_score: 0.6232, recall_score: 0.7331, precision_score: 0.5420, roc_auc_score: 0.8746\n",
      "frac =3.1,depth=14,est=17:, f1_score: 0.6140, recall_score: 0.7270, precision_score: 0.5314, roc_auc_score: 0.8641\n",
      "frac =3.1,depth=14,est=25:, f1_score: 0.5954, recall_score: 0.7178, precision_score: 0.5087, roc_auc_score: 0.8672\n",
      "frac =3.1,depth=14,est=38:, f1_score: 0.6099, recall_score: 0.7362, precision_score: 0.5206, roc_auc_score: 0.8674\n",
      "frac =3.1,depth=14,est=57:, f1_score: 0.6188, recall_score: 0.7270, precision_score: 0.5386, roc_auc_score: 0.8756\n",
      "frac =3.1,depth=14,est=86:, f1_score: 0.6110, recall_score: 0.7301, precision_score: 0.5254, roc_auc_score: 0.8740\n",
      "frac =3.1,depth=14,est=129:, f1_score: 0.6070, recall_score: 0.7178, precision_score: 0.5258, roc_auc_score: 0.8740\n",
      "frac =3.1,depth=15,est=17:, f1_score: 0.5965, recall_score: 0.7393, precision_score: 0.5000, roc_auc_score: 0.8566\n"
     ]
    },
    {
     "name": "stdout",
     "output_type": "stream",
     "text": [
      "frac =3.1,depth=15,est=25:, f1_score: 0.5985, recall_score: 0.7362, precision_score: 0.5042, roc_auc_score: 0.8691\n",
      "frac =3.1,depth=15,est=38:, f1_score: 0.5997, recall_score: 0.7239, precision_score: 0.5119, roc_auc_score: 0.8663\n",
      "frac =3.1,depth=15,est=57:, f1_score: 0.6148, recall_score: 0.7393, precision_score: 0.5262, roc_auc_score: 0.8713\n",
      "frac =3.1,depth=15,est=86:, f1_score: 0.6286, recall_score: 0.7423, precision_score: 0.5450, roc_auc_score: 0.8752\n",
      "frac =3.1,depth=15,est=129:, f1_score: 0.6164, recall_score: 0.7393, precision_score: 0.5285, roc_auc_score: 0.8751\n",
      "RandomForestClassifier: roc_auc_score= 0.8555934643796169 (1.0887 of best)\n",
      "frac =3.4,depth=4,est=17:, f1_score: 0.5850, recall_score: 0.6810, precision_score: 0.5127, roc_auc_score: 0.8556\n",
      "RandomForestClassifier: roc_auc_score= 0.8719758549951363 (1.0191 of best)\n",
      "frac =3.4,depth=4,est=25:, f1_score: 0.6276, recall_score: 0.7546, precision_score: 0.5371, roc_auc_score: 0.8720\n",
      "frac =3.4,depth=4,est=38:, f1_score: 0.5965, recall_score: 0.7393, precision_score: 0.5000, roc_auc_score: 0.8631\n",
      "RandomForestClassifier: roc_auc_score= 0.8730075796245823 (1.0012 of best)\n",
      "frac =3.4,depth=4,est=57:, f1_score: 0.6164, recall_score: 0.7515, precision_score: 0.5224, roc_auc_score: 0.8730\n",
      "RandomForestClassifier: roc_auc_score= 0.8713799347015825 (0.9981 of best)\n",
      "frac =3.4,depth=4,est=86:, f1_score: 0.6185, recall_score: 0.7086, precision_score: 0.5487, roc_auc_score: 0.8714\n",
      "RandomForestClassifier: roc_auc_score= 0.8699376872032438 (0.9965 of best)\n",
      "frac =3.4,depth=4,est=129:, f1_score: 0.6150, recall_score: 0.7423, precision_score: 0.5249, roc_auc_score: 0.8699\n",
      "frac =3.4,depth=5,est=17:, f1_score: 0.6043, recall_score: 0.7730, precision_score: 0.4961, roc_auc_score: 0.8635\n",
      "RandomForestClassifier: roc_auc_score= 0.8708393928595507 (0.9975 of best)\n",
      "frac =3.4,depth=5,est=25:, f1_score: 0.6110, recall_score: 0.7301, precision_score: 0.5254, roc_auc_score: 0.8708\n",
      "RandomForestClassifier: roc_auc_score= 0.8712017605532066 (0.9979 of best)\n",
      "frac =3.4,depth=5,est=38:, f1_score: 0.6041, recall_score: 0.7301, precision_score: 0.5152, roc_auc_score: 0.8712\n",
      "RandomForestClassifier: roc_auc_score= 0.875492386666795 (1.0028 of best)\n",
      "frac =3.4,depth=5,est=57:, f1_score: 0.6166, recall_score: 0.7423, precision_score: 0.5272, roc_auc_score: 0.8755\n",
      "RandomForestClassifier: roc_auc_score= 0.8763688108561027 (1.0010 of best)\n",
      "frac =3.4,depth=5,est=86:, f1_score: 0.6236, recall_score: 0.7546, precision_score: 0.5313, roc_auc_score: 0.8764\n",
      "RandomForestClassifier: roc_auc_score= 0.8784563377026129 (1.0024 of best)\n",
      "frac =3.4,depth=5,est=129:, f1_score: 0.6217, recall_score: 0.7638, precision_score: 0.5242, roc_auc_score: 0.8785\n",
      "frac =3.4,depth=6,est=17:, f1_score: 0.6142, recall_score: 0.7546, precision_score: 0.5179, roc_auc_score: 0.8689\n",
      "RandomForestClassifier: roc_auc_score= 0.8767648871724244 (0.9981 of best)\n",
      "frac =3.4,depth=6,est=25:, f1_score: 0.6136, recall_score: 0.7454, precision_score: 0.5215, roc_auc_score: 0.8768\n",
      "RandomForestClassifier: roc_auc_score= 0.8780566497481485 (0.9995 of best)\n",
      "frac =3.4,depth=6,est=38:, f1_score: 0.6173, recall_score: 0.7546, precision_score: 0.5223, roc_auc_score: 0.8781\n",
      "RandomForestClassifier: roc_auc_score= 0.8759980160067802 (0.9972 of best)\n",
      "frac =3.4,depth=6,est=57:, f1_score: 0.6158, recall_score: 0.7301, precision_score: 0.5324, roc_auc_score: 0.8760\n",
      "RandomForestClassifier: roc_auc_score= 0.8780831350945286 (0.9996 of best)\n",
      "frac =3.4,depth=6,est=86:, f1_score: 0.6284, recall_score: 0.7730, precision_score: 0.5294, roc_auc_score: 0.8781\n",
      "RandomForestClassifier: roc_auc_score= 0.878482823048993 (1.0000 of best)\n",
      "frac =3.4,depth=6,est=129:, f1_score: 0.6187, recall_score: 0.7515, precision_score: 0.5258, roc_auc_score: 0.8785\n",
      "RandomForestClassifier: roc_auc_score= 0.8749542525835251 (0.9960 of best)\n",
      "frac =3.4,depth=7,est=17:, f1_score: 0.6013, recall_score: 0.7147, precision_score: 0.5189, roc_auc_score: 0.8750\n",
      "frac =3.4,depth=7,est=25:, f1_score: 0.6121, recall_score: 0.7577, precision_score: 0.5135, roc_auc_score: 0.8663\n",
      "RandomForestClassifier: roc_auc_score= 0.875942637555258 (0.9971 of best)\n",
      "frac =3.4,depth=7,est=38:, f1_score: 0.6086, recall_score: 0.7607, precision_score: 0.5072, roc_auc_score: 0.8759\n",
      "RandomForestClassifier: roc_auc_score= 0.8794049946547757 (1.0010 of best)\n",
      "frac =3.4,depth=7,est=57:, f1_score: 0.6131, recall_score: 0.7607, precision_score: 0.5135, roc_auc_score: 0.8794\n",
      "RandomForestClassifier: roc_auc_score= 0.8810302318190136 (1.0018 of best)\n",
      "frac =3.4,depth=7,est=86:, f1_score: 0.6313, recall_score: 0.7669, precision_score: 0.5365, roc_auc_score: 0.8810\n",
      "RandomForestClassifier: roc_auc_score= 0.8816105016806156 (1.0007 of best)\n",
      "frac =3.4,depth=7,est=129:, f1_score: 0.6183, recall_score: 0.7454, precision_score: 0.5283, roc_auc_score: 0.8816\n",
      "RandomForestClassifier: roc_auc_score= 0.8762568500736775 (0.9939 of best)\n",
      "frac =3.4,depth=8,est=17:, f1_score: 0.6213, recall_score: 0.7699, precision_score: 0.5207, roc_auc_score: 0.8763\n",
      "RandomForestClassifier: roc_auc_score= 0.8775750979957815 (0.9954 of best)\n",
      "frac =3.4,depth=8,est=25:, f1_score: 0.6154, recall_score: 0.7730, precision_score: 0.5112, roc_auc_score: 0.8776\n",
      "RandomForestClassifier: roc_auc_score= 0.8770815074496054 (0.9949 of best)\n",
      "frac =3.4,depth=8,est=38:, f1_score: 0.6113, recall_score: 0.7331, precision_score: 0.5241, roc_auc_score: 0.8771\n",
      "RandomForestClassifier: roc_auc_score= 0.8797180032938141 (0.9979 of best)\n",
      "frac =3.4,depth=8,est=57:, f1_score: 0.6042, recall_score: 0.7423, precision_score: 0.5095, roc_auc_score: 0.8797\n",
      "RandomForestClassifier: roc_auc_score= 0.8755742504646974 (0.9932 of best)\n",
      "frac =3.4,depth=8,est=86:, f1_score: 0.6190, recall_score: 0.7577, precision_score: 0.5233, roc_auc_score: 0.8756\n",
      "RandomForestClassifier: roc_auc_score= 0.8813167551116718 (0.9997 of best)\n",
      "frac =3.4,depth=8,est=129:, f1_score: 0.6090, recall_score: 0.7454, precision_score: 0.5148, roc_auc_score: 0.8813\n",
      "frac =3.4,depth=9,est=17:, f1_score: 0.6022, recall_score: 0.7546, precision_score: 0.5010, roc_auc_score: 0.8715\n",
      "RandomForestClassifier: roc_auc_score= 0.8763784418911499 (0.9941 of best)\n",
      "frac =3.4,depth=9,est=25:, f1_score: 0.6152, recall_score: 0.7577, precision_score: 0.5178, roc_auc_score: 0.8764\n",
      "frac =3.4,depth=9,est=38:, f1_score: 0.6134, recall_score: 0.7423, precision_score: 0.5227, roc_auc_score: 0.8726\n",
      "RandomForestClassifier: roc_auc_score= 0.8751288150937581 (0.9926 of best)\n",
      "frac =3.4,depth=9,est=57:, f1_score: 0.6161, recall_score: 0.7607, precision_score: 0.5177, roc_auc_score: 0.8751\n",
      "RandomForestClassifier: roc_auc_score= 0.8793664705145863 (0.9975 of best)\n",
      "frac =3.4,depth=9,est=86:, f1_score: 0.6160, recall_score: 0.7577, precision_score: 0.5189, roc_auc_score: 0.8794\n",
      "RandomForestClassifier: roc_auc_score= 0.8801562153884678 (0.9984 of best)\n",
      "frac =3.4,depth=9,est=129:, f1_score: 0.6125, recall_score: 0.7515, precision_score: 0.5169, roc_auc_score: 0.8802\n",
      "frac =3.4,depth=10,est=17:, f1_score: 0.5965, recall_score: 0.7822, precision_score: 0.4820, roc_auc_score: 0.8685\n",
      "frac =3.4,depth=10,est=25:, f1_score: 0.6165, recall_score: 0.7546, precision_score: 0.5212, roc_auc_score: 0.8699\n",
      "RandomForestClassifier: roc_auc_score= 0.8759763461779237 (0.9936 of best)\n",
      "frac =3.4,depth=10,est=38:, f1_score: 0.6087, recall_score: 0.7515, precision_score: 0.5115, roc_auc_score: 0.8760\n",
      "RandomForestClassifier: roc_auc_score= 0.8755862892585067 (0.9932 of best)\n",
      "frac =3.4,depth=10,est=57:, f1_score: 0.6123, recall_score: 0.7485, precision_score: 0.5180, roc_auc_score: 0.8756\n",
      "RandomForestClassifier: roc_auc_score= 0.8804355154048406 (0.9987 of best)\n",
      "frac =3.4,depth=10,est=86:, f1_score: 0.6085, recall_score: 0.7485, precision_score: 0.5126, roc_auc_score: 0.8804\n",
      "RandomForestClassifier: roc_auc_score= 0.8789956756652638 (0.9970 of best)\n",
      "frac =3.4,depth=10,est=129:, f1_score: 0.6179, recall_score: 0.7638, precision_score: 0.5188, roc_auc_score: 0.8790\n",
      "RandomForestClassifier: roc_auc_score= 0.8731688994616251 (0.9904 of best)\n",
      "frac =3.4,depth=11,est=17:, f1_score: 0.6000, recall_score: 0.7638, precision_score: 0.4940, roc_auc_score: 0.8732\n",
      "frac =3.4,depth=11,est=25:, f1_score: 0.5913, recall_score: 0.7301, precision_score: 0.4969, roc_auc_score: 0.8724\n"
     ]
    },
    {
     "name": "stdout",
     "output_type": "stream",
     "text": [
      "RandomForestClassifier: roc_auc_score= 0.8738466835530815 (0.9912 of best)\n",
      "frac =3.4,depth=11,est=38:, f1_score: 0.6055, recall_score: 0.7485, precision_score: 0.5083, roc_auc_score: 0.8738\n",
      "RandomForestClassifier: roc_auc_score= 0.8735758106923752 (0.9909 of best)\n",
      "frac =3.4,depth=11,est=57:, f1_score: 0.6050, recall_score: 0.7423, precision_score: 0.5105, roc_auc_score: 0.8736\n",
      "RandomForestClassifier: roc_auc_score= 0.8760943263572535 (0.9937 of best)\n",
      "frac =3.4,depth=11,est=86:, f1_score: 0.6018, recall_score: 0.7301, precision_score: 0.5118, roc_auc_score: 0.8761\n",
      "RandomForestClassifier: roc_auc_score= 0.8785406092592771 (0.9965 of best)\n",
      "frac =3.4,depth=11,est=129:, f1_score: 0.6150, recall_score: 0.7546, precision_score: 0.5190, roc_auc_score: 0.8785\n",
      "frac =3.4,depth=12,est=17:, f1_score: 0.5711, recall_score: 0.7270, precision_score: 0.4702, roc_auc_score: 0.8553\n",
      "frac =3.4,depth=12,est=25:, f1_score: 0.6234, recall_score: 0.7669, precision_score: 0.5252, roc_auc_score: 0.8698\n",
      "frac =3.4,depth=12,est=38:, f1_score: 0.6076, recall_score: 0.7577, precision_score: 0.5072, roc_auc_score: 0.8657\n",
      "RandomForestClassifier: roc_auc_score= 0.8735264516377576 (0.9908 of best)\n",
      "frac =3.4,depth=12,est=57:, f1_score: 0.6119, recall_score: 0.7546, precision_score: 0.5146, roc_auc_score: 0.8735\n",
      "RandomForestClassifier: roc_auc_score= 0.8762086948984407 (0.9939 of best)\n",
      "frac =3.4,depth=12,est=86:, f1_score: 0.6194, recall_score: 0.7638, precision_score: 0.5209, roc_auc_score: 0.8762\n",
      "RandomForestClassifier: roc_auc_score= 0.8760076470418277 (0.9936 of best)\n",
      "frac =3.4,depth=12,est=129:, f1_score: 0.6179, recall_score: 0.7638, precision_score: 0.5188, roc_auc_score: 0.8760\n",
      "frac =3.4,depth=13,est=17:, f1_score: 0.6002, recall_score: 0.7393, precision_score: 0.5052, roc_auc_score: 0.8632\n",
      "frac =3.4,depth=13,est=25:, f1_score: 0.5816, recall_score: 0.7485, precision_score: 0.4756, roc_auc_score: 0.8617\n",
      "frac =3.4,depth=13,est=38:, f1_score: 0.5833, recall_score: 0.7301, precision_score: 0.4857, roc_auc_score: 0.8630\n",
      "frac =3.4,depth=13,est=57:, f1_score: 0.6068, recall_score: 0.7669, precision_score: 0.5020, roc_auc_score: 0.8693\n",
      "RandomForestClassifier: roc_auc_score= 0.8742668374570215 (0.9917 of best)\n",
      "frac =3.4,depth=13,est=86:, f1_score: 0.6256, recall_score: 0.7638, precision_score: 0.5298, roc_auc_score: 0.8743\n",
      "frac =3.4,depth=13,est=129:, f1_score: 0.6027, recall_score: 0.7515, precision_score: 0.5031, roc_auc_score: 0.8723\n",
      "frac =3.4,depth=14,est=17:, f1_score: 0.5884, recall_score: 0.7301, precision_score: 0.4928, roc_auc_score: 0.8580\n",
      "frac =3.4,depth=14,est=25:, f1_score: 0.5964, recall_score: 0.7546, precision_score: 0.4930, roc_auc_score: 0.8666\n",
      "frac =3.4,depth=14,est=38:, f1_score: 0.5960, recall_score: 0.7331, precision_score: 0.5021, roc_auc_score: 0.8672\n",
      "frac =3.4,depth=14,est=57:, f1_score: 0.6137, recall_score: 0.7822, precision_score: 0.5050, roc_auc_score: 0.8711\n",
      "frac =3.4,depth=14,est=86:, f1_score: 0.6114, recall_score: 0.7577, precision_score: 0.5124, roc_auc_score: 0.8724\n",
      "RandomForestClassifier: roc_auc_score= 0.8760245013531603 (0.9937 of best)\n",
      "frac =3.4,depth=14,est=129:, f1_score: 0.6112, recall_score: 0.7546, precision_score: 0.5136, roc_auc_score: 0.8760\n",
      "frac =3.4,depth=15,est=17:, f1_score: 0.5855, recall_score: 0.7454, precision_score: 0.4821, roc_auc_score: 0.8500\n",
      "frac =3.4,depth=15,est=25:, f1_score: 0.5945, recall_score: 0.7331, precision_score: 0.5000, roc_auc_score: 0.8631\n",
      "frac =3.4,depth=15,est=38:, f1_score: 0.6106, recall_score: 0.7577, precision_score: 0.5114, roc_auc_score: 0.8690\n",
      "frac =3.4,depth=15,est=57:, f1_score: 0.6076, recall_score: 0.7577, precision_score: 0.5072, roc_auc_score: 0.8708\n",
      "RandomForestClassifier: roc_auc_score= 0.8739237318334603 (0.9913 of best)\n",
      "frac =3.4,depth=15,est=86:, f1_score: 0.6025, recall_score: 0.7485, precision_score: 0.5041, roc_auc_score: 0.8739\n",
      "RandomForestClassifier: roc_auc_score= 0.8733314231780489 (0.9906 of best)\n",
      "frac =3.4,depth=15,est=129:, f1_score: 0.6142, recall_score: 0.7546, precision_score: 0.5179, roc_auc_score: 0.8733\n",
      "RandomForestClassifier: roc_auc_score= 0.8633633019040555 (1.1001 of best)\n",
      "frac =3.7,depth=4,est=17:, f1_score: 0.5851, recall_score: 0.7699, precision_score: 0.4718, roc_auc_score: 0.8634\n",
      "RandomForestClassifier: roc_auc_score= 0.8715039342778168 (1.0094 of best)\n",
      "frac =3.7,depth=4,est=25:, f1_score: 0.6108, recall_score: 0.7607, precision_score: 0.5103, roc_auc_score: 0.8715\n",
      "RandomForestClassifier: roc_auc_score= 0.8713654881490114 (0.9998 of best)\n",
      "frac =3.7,depth=4,est=38:, f1_score: 0.6021, recall_score: 0.7822, precision_score: 0.4894, roc_auc_score: 0.8714\n",
      "RandomForestClassifier: roc_auc_score= 0.8683834789224798 (0.9964 of best)\n",
      "frac =3.7,depth=4,est=57:, f1_score: 0.6064, recall_score: 0.7607, precision_score: 0.5041, roc_auc_score: 0.8684\n",
      "RandomForestClassifier: roc_auc_score= 0.8733037339522878 (1.0021 of best)\n",
      "frac =3.7,depth=4,est=86:, f1_score: 0.6145, recall_score: 0.7822, precision_score: 0.5060, roc_auc_score: 0.8733\n",
      "RandomForestClassifier: roc_auc_score= 0.8748085831784344 (1.0017 of best)\n",
      "frac =3.7,depth=4,est=129:, f1_score: 0.6043, recall_score: 0.7822, precision_score: 0.4923, roc_auc_score: 0.8748\n",
      "RandomForestClassifier: roc_auc_score= 0.8685387793626181 (0.9928 of best)\n",
      "frac =3.7,depth=5,est=17:, f1_score: 0.5979, recall_score: 0.7730, precision_score: 0.4874, roc_auc_score: 0.8685\n",
      "RandomForestClassifier: roc_auc_score= 0.8767745182074718 (1.0022 of best)\n",
      "frac =3.7,depth=5,est=25:, f1_score: 0.6193, recall_score: 0.7761, precision_score: 0.5153, roc_auc_score: 0.8768\n",
      "RandomForestClassifier: roc_auc_score= 0.8701640165268563 (0.9925 of best)\n",
      "frac =3.7,depth=5,est=38:, f1_score: 0.6024, recall_score: 0.7761, precision_score: 0.4922, roc_auc_score: 0.8702\n",
      "RandomForestClassifier: roc_auc_score= 0.874086255549884 (0.9969 of best)\n",
      "frac =3.7,depth=5,est=57:, f1_score: 0.6022, recall_score: 0.7546, precision_score: 0.5010, roc_auc_score: 0.8741\n",
      "RandomForestClassifier: roc_auc_score= 0.8765421694869547 (0.9997 of best)\n",
      "frac =3.7,depth=5,est=86:, f1_score: 0.6142, recall_score: 0.7546, precision_score: 0.5179, roc_auc_score: 0.8765\n",
      "RandomForestClassifier: roc_auc_score= 0.8759378220377344 (0.9990 of best)\n",
      "frac =3.7,depth=5,est=129:, f1_score: 0.6150, recall_score: 0.7914, precision_score: 0.5029, roc_auc_score: 0.8759\n",
      "RandomForestClassifier: roc_auc_score= 0.8731616761853397 (0.9959 of best)\n",
      "frac =3.7,depth=6,est=17:, f1_score: 0.5933, recall_score: 0.7607, precision_score: 0.4863, roc_auc_score: 0.8732\n",
      "RandomForestClassifier: roc_auc_score= 0.8785032889984687 (1.0020 of best)\n",
      "frac =3.7,depth=6,est=25:, f1_score: 0.6152, recall_score: 0.7822, precision_score: 0.5070, roc_auc_score: 0.8785\n",
      "RandomForestClassifier: roc_auc_score= 0.8788006472055552 (1.0003 of best)\n",
      "frac =3.7,depth=6,est=38:, f1_score: 0.6212, recall_score: 0.7822, precision_score: 0.5152, roc_auc_score: 0.8788\n",
      "RandomForestClassifier: roc_auc_score= 0.8766457031137136 (0.9975 of best)\n",
      "frac =3.7,depth=6,est=57:, f1_score: 0.6156, recall_score: 0.8006, precision_score: 0.5000, roc_auc_score: 0.8766\n",
      "RandomForestClassifier: roc_auc_score= 0.8796337317371498 (1.0009 of best)\n",
      "frac =3.7,depth=6,est=86:, f1_score: 0.6288, recall_score: 0.7975, precision_score: 0.5190, roc_auc_score: 0.8796\n",
      "RandomForestClassifier: roc_auc_score= 0.8796722558773391 (1.0000 of best)\n",
      "frac =3.7,depth=6,est=129:, f1_score: 0.6221, recall_score: 0.7853, precision_score: 0.5151, roc_auc_score: 0.8797\n",
      "RandomForestClassifier: roc_auc_score= 0.8712162071057777 (0.9904 of best)\n",
      "frac =3.7,depth=7,est=17:, f1_score: 0.6280, recall_score: 0.7638, precision_score: 0.5332, roc_auc_score: 0.8712\n",
      "RandomForestClassifier: roc_auc_score= 0.874113944775645 (0.9937 of best)\n",
      "frac =3.7,depth=7,est=25:, f1_score: 0.6165, recall_score: 0.7669, precision_score: 0.5155, roc_auc_score: 0.8741\n",
      "RandomForestClassifier: roc_auc_score= 0.873968275370554 (0.9935 of best)\n",
      "frac =3.7,depth=7,est=38:, f1_score: 0.6087, recall_score: 0.7730, precision_score: 0.5020, roc_auc_score: 0.8740\n",
      "RandomForestClassifier: roc_auc_score= 0.8785622790881334 (0.9987 of best)\n",
      "frac =3.7,depth=7,est=57:, f1_score: 0.6154, recall_score: 0.7853, precision_score: 0.5059, roc_auc_score: 0.8786\n"
     ]
    },
    {
     "name": "stdout",
     "output_type": "stream",
     "text": [
      "RandomForestClassifier: roc_auc_score= 0.8814491818435727 (1.0020 of best)\n",
      "frac =3.7,depth=7,est=86:, f1_score: 0.6275, recall_score: 0.7853, precision_score: 0.5224, roc_auc_score: 0.8814\n",
      "RandomForestClassifier: roc_auc_score= 0.8807942714603539 (0.9993 of best)\n",
      "frac =3.7,depth=7,est=129:, f1_score: 0.6137, recall_score: 0.7699, precision_score: 0.5102, roc_auc_score: 0.8808\n",
      "frac =3.7,depth=8,est=17:, f1_score: 0.5978, recall_score: 0.7546, precision_score: 0.4950, roc_auc_score: 0.8708\n",
      "RandomForestClassifier: roc_auc_score= 0.8728342209937301 (0.9902 of best)\n",
      "frac =3.7,depth=8,est=25:, f1_score: 0.6105, recall_score: 0.7883, precision_score: 0.4981, roc_auc_score: 0.8728\n",
      "RandomForestClassifier: roc_auc_score= 0.8814564051198581 (1.0000 of best)\n",
      "frac =3.7,depth=8,est=38:, f1_score: 0.6225, recall_score: 0.7791, precision_score: 0.5184, roc_auc_score: 0.8815\n",
      "RandomForestClassifier: roc_auc_score= 0.8771417014186514 (0.9951 of best)\n",
      "frac =3.7,depth=8,est=57:, f1_score: 0.6191, recall_score: 0.7853, precision_score: 0.5110, roc_auc_score: 0.8771\n",
      "RandomForestClassifier: roc_auc_score= 0.8813649102869083 (0.9999 of best)\n",
      "frac =3.7,depth=8,est=86:, f1_score: 0.6274, recall_score: 0.8006, precision_score: 0.5158, roc_auc_score: 0.8814\n",
      "RandomForestClassifier: roc_auc_score= 0.8819716654948908 (1.0006 of best)\n",
      "frac =3.7,depth=8,est=129:, f1_score: 0.6239, recall_score: 0.7914, precision_score: 0.5150, roc_auc_score: 0.8820\n",
      "RandomForestClassifier: roc_auc_score= 0.8751805819071375 (0.9923 of best)\n",
      "frac =3.7,depth=9,est=17:, f1_score: 0.6208, recall_score: 0.7883, precision_score: 0.5120, roc_auc_score: 0.8752\n",
      "RandomForestClassifier: roc_auc_score= 0.878484026928374 (0.9960 of best)\n",
      "frac =3.7,depth=9,est=25:, f1_score: 0.6210, recall_score: 0.7791, precision_score: 0.5163, roc_auc_score: 0.8785\n",
      "RandomForestClassifier: roc_auc_score= 0.8781890764800493 (0.9957 of best)\n",
      "frac =3.7,depth=9,est=38:, f1_score: 0.6200, recall_score: 0.7883, precision_score: 0.5109, roc_auc_score: 0.8782\n",
      "RandomForestClassifier: roc_auc_score= 0.8779507083626278 (0.9954 of best)\n",
      "frac =3.7,depth=9,est=57:, f1_score: 0.6078, recall_score: 0.7607, precision_score: 0.5061, roc_auc_score: 0.8780\n",
      "RandomForestClassifier: roc_auc_score= 0.8822124413710741 (1.0003 of best)\n",
      "frac =3.7,depth=9,est=86:, f1_score: 0.6220, recall_score: 0.7822, precision_score: 0.5162, roc_auc_score: 0.8822\n",
      "RandomForestClassifier: roc_auc_score= 0.8810061542313952 (0.9986 of best)\n",
      "frac =3.7,depth=9,est=129:, f1_score: 0.6135, recall_score: 0.7791, precision_score: 0.5060, roc_auc_score: 0.8810\n",
      "frac =3.7,depth=10,est=17:, f1_score: 0.6119, recall_score: 0.7761, precision_score: 0.5050, roc_auc_score: 0.8719\n",
      "RandomForestClassifier: roc_auc_score= 0.8772428272866485 (0.9944 of best)\n",
      "frac =3.7,depth=10,est=25:, f1_score: 0.6060, recall_score: 0.7761, precision_score: 0.4971, roc_auc_score: 0.8772\n",
      "RandomForestClassifier: roc_auc_score= 0.8770718764145583 (0.9942 of best)\n",
      "frac =3.7,depth=10,est=38:, f1_score: 0.6143, recall_score: 0.7791, precision_score: 0.5070, roc_auc_score: 0.8771\n",
      "RandomForestClassifier: roc_auc_score= 0.8759450453140198 (0.9929 of best)\n",
      "frac =3.7,depth=10,est=57:, f1_score: 0.6096, recall_score: 0.7761, precision_score: 0.5020, roc_auc_score: 0.8759\n",
      "RandomForestClassifier: roc_auc_score= 0.8819259180784159 (0.9997 of best)\n",
      "frac =3.7,depth=10,est=86:, f1_score: 0.6230, recall_score: 0.7883, precision_score: 0.5150, roc_auc_score: 0.8819\n",
      "RandomForestClassifier: roc_auc_score= 0.8793592472383007 (0.9968 of best)\n",
      "frac =3.7,depth=10,est=129:, f1_score: 0.6069, recall_score: 0.7791, precision_score: 0.4971, roc_auc_score: 0.8794\n",
      "RandomForestClassifier: roc_auc_score= 0.8758162302202619 (0.9927 of best)\n",
      "frac =3.7,depth=11,est=17:, f1_score: 0.6124, recall_score: 0.7853, precision_score: 0.5020, roc_auc_score: 0.8758\n",
      "frac =3.7,depth=11,est=25:, f1_score: 0.6135, recall_score: 0.7791, precision_score: 0.5060, roc_auc_score: 0.8706\n",
      "frac =3.7,depth=11,est=38:, f1_score: 0.6131, recall_score: 0.7730, precision_score: 0.5081, roc_auc_score: 0.8705\n",
      "RandomForestClassifier: roc_auc_score= 0.8783311342469977 (0.9956 of best)\n",
      "frac =3.7,depth=11,est=57:, f1_score: 0.6242, recall_score: 0.7822, precision_score: 0.5193, roc_auc_score: 0.8783\n",
      "RandomForestClassifier: roc_auc_score= 0.8819475879072723 (0.9997 of best)\n",
      "frac =3.7,depth=11,est=86:, f1_score: 0.6217, recall_score: 0.7914, precision_score: 0.5119, roc_auc_score: 0.8819\n",
      "RandomForestClassifier: roc_auc_score= 0.8814251042559544 (0.9991 of best)\n",
      "frac =3.7,depth=11,est=129:, f1_score: 0.6291, recall_score: 0.7883, precision_score: 0.5234, roc_auc_score: 0.8814\n",
      "frac =3.7,depth=12,est=17:, f1_score: 0.5878, recall_score: 0.7699, precision_score: 0.4754, roc_auc_score: 0.8598\n",
      "RandomForestClassifier: roc_auc_score= 0.8742680413364023 (0.9910 of best)\n",
      "frac =3.7,depth=12,est=25:, f1_score: 0.6156, recall_score: 0.7761, precision_score: 0.5101, roc_auc_score: 0.8743\n",
      "frac =3.7,depth=12,est=38:, f1_score: 0.6060, recall_score: 0.7761, precision_score: 0.4971, roc_auc_score: 0.8654\n",
      "RandomForestClassifier: roc_auc_score= 0.8751577081989 (0.9920 of best)\n",
      "frac =3.7,depth=12,est=57:, f1_score: 0.6120, recall_score: 0.7791, precision_score: 0.5040, roc_auc_score: 0.8752\n",
      "RandomForestClassifier: roc_auc_score= 0.8811843283797709 (0.9988 of best)\n",
      "frac =3.7,depth=12,est=86:, f1_score: 0.6178, recall_score: 0.7883, precision_score: 0.5079, roc_auc_score: 0.8812\n",
      "RandomForestClassifier: roc_auc_score= 0.8756440754687906 (0.9926 of best)\n",
      "frac =3.7,depth=12,est=129:, f1_score: 0.6233, recall_score: 0.7791, precision_score: 0.5194, roc_auc_score: 0.8756\n",
      "frac =3.7,depth=13,est=17:, f1_score: 0.5933, recall_score: 0.7853, precision_score: 0.4767, roc_auc_score: 0.8642\n",
      "frac =3.7,depth=13,est=25:, f1_score: 0.6068, recall_score: 0.7883, precision_score: 0.4933, roc_auc_score: 0.8694\n",
      "frac =3.7,depth=13,est=38:, f1_score: 0.5964, recall_score: 0.7730, precision_score: 0.4855, roc_auc_score: 0.8657\n",
      "RandomForestClassifier: roc_auc_score= 0.8745280792826805 (0.9913 of best)\n",
      "frac =3.7,depth=13,est=57:, f1_score: 0.6112, recall_score: 0.7669, precision_score: 0.5081, roc_auc_score: 0.8745\n",
      "frac =3.7,depth=13,est=86:, f1_score: 0.6132, recall_score: 0.7853, precision_score: 0.5029, roc_auc_score: 0.8710\n",
      "RandomForestClassifier: roc_auc_score= 0.8767155281178068 (0.9938 of best)\n",
      "frac =3.7,depth=13,est=129:, f1_score: 0.6251, recall_score: 0.8006, precision_score: 0.5128, roc_auc_score: 0.8767\n",
      "frac =3.7,depth=14,est=17:, f1_score: 0.5845, recall_score: 0.7638, precision_score: 0.4734, roc_auc_score: 0.8570\n",
      "frac =3.7,depth=14,est=25:, f1_score: 0.5977, recall_score: 0.7975, precision_score: 0.4779, roc_auc_score: 0.8682\n",
      "frac =3.7,depth=14,est=38:, f1_score: 0.6055, recall_score: 0.7699, precision_score: 0.4990, roc_auc_score: 0.8645\n",
      "RandomForestClassifier: roc_auc_score= 0.8734349568048078 (0.9901 of best)\n",
      "frac =3.7,depth=14,est=57:, f1_score: 0.6084, recall_score: 0.7791, precision_score: 0.4990, roc_auc_score: 0.8734\n",
      "RandomForestClassifier: roc_auc_score= 0.8754418237327964 (0.9923 of best)\n",
      "frac =3.7,depth=14,est=86:, f1_score: 0.6067, recall_score: 0.7761, precision_score: 0.4980, roc_auc_score: 0.8754\n",
      "RandomForestClassifier: roc_auc_score= 0.8741404301220252 (0.9909 of best)\n",
      "frac =3.7,depth=14,est=129:, f1_score: 0.5962, recall_score: 0.7607, precision_score: 0.4901, roc_auc_score: 0.8741\n",
      "frac =3.7,depth=15,est=17:, f1_score: 0.5718, recall_score: 0.7393, precision_score: 0.4662, roc_auc_score: 0.8476\n",
      "frac =3.7,depth=15,est=25:, f1_score: 0.6103, recall_score: 0.7975, precision_score: 0.4943, roc_auc_score: 0.8721\n",
      "frac =3.7,depth=15,est=38:, f1_score: 0.6043, recall_score: 0.7730, precision_score: 0.4961, roc_auc_score: 0.8671\n",
      "frac =3.7,depth=15,est=57:, f1_score: 0.6055, recall_score: 0.7791, precision_score: 0.4951, roc_auc_score: 0.8679\n",
      "frac =3.7,depth=15,est=86:, f1_score: 0.6055, recall_score: 0.7699, precision_score: 0.4990, roc_auc_score: 0.8722\n",
      "frac =3.7,depth=15,est=129:, f1_score: 0.6204, recall_score: 0.7945, precision_score: 0.5088, roc_auc_score: 0.8707\n",
      "RandomForestClassifier: roc_auc_score= 0.8537009659928153 (1.0749 of best)\n",
      "frac =4.0,depth=4,est=17:, f1_score: 0.5779, recall_score: 0.7393, precision_score: 0.4744, roc_auc_score: 0.8537\n",
      "RandomForestClassifier: roc_auc_score= 0.861949947510859 (1.0097 of best)\n",
      "frac =4.0,depth=4,est=25:, f1_score: 0.5822, recall_score: 0.7546, precision_score: 0.4740, roc_auc_score: 0.8619\n"
     ]
    },
    {
     "name": "stdout",
     "output_type": "stream",
     "text": [
      "RandomForestClassifier: roc_auc_score= 0.8594831986593598 (0.9971 of best)\n",
      "frac =4.0,depth=4,est=38:, f1_score: 0.5767, recall_score: 0.7607, precision_score: 0.4644, roc_auc_score: 0.8595\n",
      "RandomForestClassifier: roc_auc_score= 0.8690155155974614 (1.0082 of best)\n",
      "frac =4.0,depth=4,est=57:, f1_score: 0.5943, recall_score: 0.7638, precision_score: 0.4863, roc_auc_score: 0.8690\n",
      "RandomForestClassifier: roc_auc_score= 0.8720203985322302 (1.0035 of best)\n",
      "frac =4.0,depth=4,est=86:, f1_score: 0.5911, recall_score: 0.7515, precision_score: 0.4871, roc_auc_score: 0.8720\n",
      "RandomForestClassifier: roc_auc_score= 0.8713967890129153 (0.9993 of best)\n",
      "frac =4.0,depth=4,est=129:, f1_score: 0.5971, recall_score: 0.7638, precision_score: 0.4902, roc_auc_score: 0.8714\n",
      "RandomForestClassifier: roc_auc_score= 0.8747724667970066 (1.0032 of best)\n",
      "frac =4.0,depth=5,est=17:, f1_score: 0.6137, recall_score: 0.7699, precision_score: 0.5102, roc_auc_score: 0.8748\n",
      "RandomForestClassifier: roc_auc_score= 0.8683485664204332 (0.9927 of best)\n",
      "frac =4.0,depth=5,est=25:, f1_score: 0.5767, recall_score: 0.7607, precision_score: 0.4644, roc_auc_score: 0.8683\n",
      "RandomForestClassifier: roc_auc_score= 0.868962544904701 (0.9934 of best)\n",
      "frac =4.0,depth=5,est=38:, f1_score: 0.5966, recall_score: 0.7485, precision_score: 0.4959, roc_auc_score: 0.8690\n",
      "RandomForestClassifier: roc_auc_score= 0.87170498213443 (0.9965 of best)\n",
      "frac =4.0,depth=5,est=57:, f1_score: 0.5758, recall_score: 0.7577, precision_score: 0.4643, roc_auc_score: 0.8717\n",
      "RandomForestClassifier: roc_auc_score= 0.8724923192495497 (0.9974 of best)\n",
      "frac =4.0,depth=5,est=86:, f1_score: 0.5871, recall_score: 0.7546, precision_score: 0.4805, roc_auc_score: 0.8725\n",
      "RandomForestClassifier: roc_auc_score= 0.8723478537238396 (0.9972 of best)\n",
      "frac =4.0,depth=5,est=129:, f1_score: 0.5947, recall_score: 0.7515, precision_score: 0.4920, roc_auc_score: 0.8723\n",
      "RandomForestClassifier: roc_auc_score= 0.8747664474001021 (1.0000 of best)\n",
      "frac =4.0,depth=6,est=17:, f1_score: 0.5995, recall_score: 0.7577, precision_score: 0.4960, roc_auc_score: 0.8748\n",
      "RandomForestClassifier: roc_auc_score= 0.8712186148645397 (0.9959 of best)\n",
      "frac =4.0,depth=6,est=25:, f1_score: 0.5878, recall_score: 0.7699, precision_score: 0.4754, roc_auc_score: 0.8712\n",
      "RandomForestClassifier: roc_auc_score= 0.8743727788425423 (0.9995 of best)\n",
      "frac =4.0,depth=6,est=38:, f1_score: 0.6071, recall_score: 0.7822, precision_score: 0.4961, roc_auc_score: 0.8744\n",
      "RandomForestClassifier: roc_auc_score= 0.8788199092756498 (1.0046 of best)\n",
      "frac =4.0,depth=6,est=57:, f1_score: 0.5995, recall_score: 0.7669, precision_score: 0.4921, roc_auc_score: 0.8788\n",
      "RandomForestClassifier: roc_auc_score= 0.8767612755342817 (0.9977 of best)\n",
      "frac =4.0,depth=6,est=86:, f1_score: 0.5978, recall_score: 0.7454, precision_score: 0.4990, roc_auc_score: 0.8768\n",
      "RandomForestClassifier: roc_auc_score= 0.8785093083953733 (0.9996 of best)\n",
      "frac =4.0,depth=6,est=129:, f1_score: 0.5988, recall_score: 0.7761, precision_score: 0.4875, roc_auc_score: 0.8785\n",
      "RandomForestClassifier: roc_auc_score= 0.8701038225578102 (0.9901 of best)\n",
      "frac =4.0,depth=7,est=17:, f1_score: 0.5981, recall_score: 0.7577, precision_score: 0.4940, roc_auc_score: 0.8701\n",
      "RandomForestClassifier: roc_auc_score= 0.8722118153537961 (0.9925 of best)\n",
      "frac =4.0,depth=7,est=25:, f1_score: 0.5952, recall_score: 0.7669, precision_score: 0.4864, roc_auc_score: 0.8722\n",
      "RandomForestClassifier: roc_auc_score= 0.8744570503992063 (0.9950 of best)\n",
      "frac =4.0,depth=7,est=38:, f1_score: 0.6041, recall_score: 0.7699, precision_score: 0.4970, roc_auc_score: 0.8745\n",
      "RandomForestClassifier: roc_auc_score= 0.8784202213211854 (0.9995 of best)\n",
      "frac =4.0,depth=7,est=57:, f1_score: 0.6086, recall_score: 0.7607, precision_score: 0.5072, roc_auc_score: 0.8784\n",
      "RandomForestClassifier: roc_auc_score= 0.8799058084772371 (1.0012 of best)\n",
      "frac =4.0,depth=7,est=86:, f1_score: 0.6137, recall_score: 0.7822, precision_score: 0.5050, roc_auc_score: 0.8799\n",
      "RandomForestClassifier: roc_auc_score= 0.8820583448103168 (1.0024 of best)\n",
      "frac =4.0,depth=7,est=129:, f1_score: 0.6124, recall_score: 0.7730, precision_score: 0.5070, roc_auc_score: 0.8821\n",
      "frac =4.0,depth=8,est=17:, f1_score: 0.6019, recall_score: 0.7607, precision_score: 0.4980, roc_auc_score: 0.8658\n",
      "RandomForestClassifier: roc_auc_score= 0.87391048916027 (0.9908 of best)\n",
      "frac =4.0,depth=8,est=25:, f1_score: 0.5974, recall_score: 0.7761, precision_score: 0.4856, roc_auc_score: 0.8739\n",
      "RandomForestClassifier: roc_auc_score= 0.8773174678082653 (0.9946 of best)\n",
      "frac =4.0,depth=8,est=38:, f1_score: 0.5976, recall_score: 0.7515, precision_score: 0.4960, roc_auc_score: 0.8773\n",
      "RandomForestClassifier: roc_auc_score= 0.875668153056409 (0.9928 of best)\n",
      "frac =4.0,depth=8,est=57:, f1_score: 0.6010, recall_score: 0.7669, precision_score: 0.4941, roc_auc_score: 0.8757\n",
      "RandomForestClassifier: roc_auc_score= 0.8792653446465891 (0.9968 of best)\n",
      "frac =4.0,depth=8,est=86:, f1_score: 0.6126, recall_score: 0.7761, precision_score: 0.5060, roc_auc_score: 0.8793\n",
      "RandomForestClassifier: roc_auc_score= 0.8816105016806156 (0.9995 of best)\n",
      "frac =4.0,depth=8,est=129:, f1_score: 0.6077, recall_score: 0.7699, precision_score: 0.5020, roc_auc_score: 0.8816\n",
      "frac =4.0,depth=9,est=17:, f1_score: 0.5874, recall_score: 0.7730, precision_score: 0.4737, roc_auc_score: 0.8634\n",
      "RandomForestClassifier: roc_auc_score= 0.8777604954204429 (0.9951 of best)\n",
      "frac =4.0,depth=9,est=25:, f1_score: 0.6067, recall_score: 0.7761, precision_score: 0.4980, roc_auc_score: 0.8778\n",
      "frac =4.0,depth=9,est=38:, f1_score: 0.5998, recall_score: 0.7607, precision_score: 0.4950, roc_auc_score: 0.8728\n",
      "RandomForestClassifier: roc_auc_score= 0.8778592135296779 (0.9952 of best)\n",
      "frac =4.0,depth=9,est=57:, f1_score: 0.6014, recall_score: 0.7638, precision_score: 0.4960, roc_auc_score: 0.8779\n",
      "RandomForestClassifier: roc_auc_score= 0.8783407652820447 (0.9958 of best)\n",
      "frac =4.0,depth=9,est=86:, f1_score: 0.6000, recall_score: 0.7638, precision_score: 0.4940, roc_auc_score: 0.8783\n",
      "RandomForestClassifier: roc_auc_score= 0.8782468626903334 (0.9957 of best)\n",
      "frac =4.0,depth=9,est=129:, f1_score: 0.6041, recall_score: 0.7607, precision_score: 0.5010, roc_auc_score: 0.8782\n",
      "frac =4.0,depth=10,est=17:, f1_score: 0.5946, recall_score: 0.7761, precision_score: 0.4819, roc_auc_score: 0.8729\n",
      "frac =4.0,depth=10,est=25:, f1_score: 0.6031, recall_score: 0.7669, precision_score: 0.4970, roc_auc_score: 0.8699\n",
      "RandomForestClassifier: roc_auc_score= 0.8746280012712966 (0.9916 of best)\n",
      "frac =4.0,depth=10,est=38:, f1_score: 0.6173, recall_score: 0.7791, precision_score: 0.5111, roc_auc_score: 0.8746\n",
      "RandomForestClassifier: roc_auc_score= 0.8785791333994665 (0.9961 of best)\n",
      "frac =4.0,depth=10,est=57:, f1_score: 0.6194, recall_score: 0.7914, precision_score: 0.5089, roc_auc_score: 0.8786\n",
      "RandomForestClassifier: roc_auc_score= 0.878323910970712 (0.9958 of best)\n",
      "frac =4.0,depth=10,est=86:, f1_score: 0.6039, recall_score: 0.7669, precision_score: 0.4980, roc_auc_score: 0.8783\n",
      "RandomForestClassifier: roc_auc_score= 0.8786032109870848 (0.9961 of best)\n",
      "frac =4.0,depth=10,est=129:, f1_score: 0.6056, recall_score: 0.7607, precision_score: 0.5030, roc_auc_score: 0.8786\n",
      "frac =4.0,depth=11,est=17:, f1_score: 0.5899, recall_score: 0.7699, precision_score: 0.4781, roc_auc_score: 0.8654\n",
      "frac =4.0,depth=11,est=25:, f1_score: 0.5974, recall_score: 0.7761, precision_score: 0.4856, roc_auc_score: 0.8684\n",
      "RandomForestClassifier: roc_auc_score= 0.8733711511976192 (0.9902 of best)\n",
      "frac =4.0,depth=11,est=38:, f1_score: 0.6061, recall_score: 0.7669, precision_score: 0.5010, roc_auc_score: 0.8734\n",
      "RandomForestClassifier: roc_auc_score= 0.8776665928287313 (0.9950 of best)\n",
      "frac =4.0,depth=11,est=57:, f1_score: 0.5995, recall_score: 0.7577, precision_score: 0.4960, roc_auc_score: 0.8777\n",
      "RandomForestClassifier: roc_auc_score= 0.8761039573923008 (0.9932 of best)\n",
      "frac =4.0,depth=11,est=86:, f1_score: 0.6065, recall_score: 0.7730, precision_score: 0.4990, roc_auc_score: 0.8761\n",
      "RandomForestClassifier: roc_auc_score= 0.8764603056890524 (0.9937 of best)\n",
      "frac =4.0,depth=11,est=129:, f1_score: 0.6091, recall_score: 0.7791, precision_score: 0.5000, roc_auc_score: 0.8765\n",
      "frac =4.0,depth=12,est=17:, f1_score: 0.5878, recall_score: 0.7699, precision_score: 0.4754, roc_auc_score: 0.8635\n"
     ]
    },
    {
     "name": "stdout",
     "output_type": "stream",
     "text": [
      "frac =4.0,depth=12,est=25:, f1_score: 0.5945, recall_score: 0.7669, precision_score: 0.4854, roc_auc_score: 0.8697\n",
      "RandomForestClassifier: roc_auc_score= 0.8737612081170363 (0.9906 of best)\n",
      "frac =4.0,depth=12,est=38:, f1_score: 0.5962, recall_score: 0.7699, precision_score: 0.4864, roc_auc_score: 0.8738\n",
      "frac =4.0,depth=12,est=57:, f1_score: 0.5875, recall_score: 0.7669, precision_score: 0.4762, roc_auc_score: 0.8681\n",
      "frac =4.0,depth=12,est=86:, f1_score: 0.5969, recall_score: 0.7607, precision_score: 0.4911, roc_auc_score: 0.8717\n",
      "RandomForestClassifier: roc_auc_score= 0.8752203099267079 (0.9922 of best)\n",
      "frac =4.0,depth=12,est=129:, f1_score: 0.6087, recall_score: 0.7730, precision_score: 0.5020, roc_auc_score: 0.8752\n",
      "frac =4.0,depth=13,est=17:, f1_score: 0.5662, recall_score: 0.7546, precision_score: 0.4530, roc_auc_score: 0.8531\n",
      "frac =4.0,depth=13,est=25:, f1_score: 0.5804, recall_score: 0.7914, precision_score: 0.4583, roc_auc_score: 0.8695\n",
      "frac =4.0,depth=13,est=38:, f1_score: 0.5957, recall_score: 0.7638, precision_score: 0.4882, roc_auc_score: 0.8635\n",
      "frac =4.0,depth=13,est=57:, f1_score: 0.5995, recall_score: 0.7669, precision_score: 0.4921, roc_auc_score: 0.8721\n",
      "RandomForestClassifier: roc_auc_score= 0.8788584334158392 (0.9964 of best)\n",
      "frac =4.0,depth=13,est=86:, f1_score: 0.5966, recall_score: 0.7577, precision_score: 0.4920, roc_auc_score: 0.8789\n",
      "RandomForestClassifier: roc_auc_score= 0.8751769702689948 (0.9922 of best)\n",
      "frac =4.0,depth=13,est=129:, f1_score: 0.5916, recall_score: 0.7577, precision_score: 0.4853, roc_auc_score: 0.8752\n",
      "frac =4.0,depth=14,est=17:, f1_score: 0.5724, recall_score: 0.7577, precision_score: 0.4600, roc_auc_score: 0.8472\n",
      "frac =4.0,depth=14,est=25:, f1_score: 0.5881, recall_score: 0.7730, precision_score: 0.4746, roc_auc_score: 0.8674\n",
      "frac =4.0,depth=14,est=38:, f1_score: 0.6000, recall_score: 0.7730, precision_score: 0.4903, roc_auc_score: 0.8645\n",
      "frac =4.0,depth=14,est=57:, f1_score: 0.5919, recall_score: 0.7607, precision_score: 0.4844, roc_auc_score: 0.8701\n",
      "RandomForestClassifier: roc_auc_score= 0.8766637613044274 (0.9939 of best)\n",
      "frac =4.0,depth=14,est=86:, f1_score: 0.6183, recall_score: 0.7975, precision_score: 0.5049, roc_auc_score: 0.8767\n",
      "frac =4.0,depth=14,est=129:, f1_score: 0.5933, recall_score: 0.7607, precision_score: 0.4863, roc_auc_score: 0.8705\n",
      "frac =4.0,depth=15,est=17:, f1_score: 0.5856, recall_score: 0.7607, precision_score: 0.4760, roc_auc_score: 0.8574\n",
      "frac =4.0,depth=15,est=25:, f1_score: 0.5868, recall_score: 0.7883, precision_score: 0.4673, roc_auc_score: 0.8657\n",
      "frac =4.0,depth=15,est=38:, f1_score: 0.5832, recall_score: 0.7577, precision_score: 0.4741, roc_auc_score: 0.8673\n",
      "frac =4.0,depth=15,est=57:, f1_score: 0.5843, recall_score: 0.7761, precision_score: 0.4685, roc_auc_score: 0.8660\n",
      "RandomForestClassifier: roc_auc_score= 0.8739321589891265 (0.9908 of best)\n",
      "frac =4.0,depth=15,est=86:, f1_score: 0.6070, recall_score: 0.7699, precision_score: 0.5010, roc_auc_score: 0.8739\n",
      "frac =4.0,depth=15,est=129:, f1_score: 0.5903, recall_score: 0.7669, precision_score: 0.4798, roc_auc_score: 0.8711\n",
      "CPU times: total: 4min 19s\n",
      "Wall time: 4min 27s\n"
     ]
    }
   ],
   "source": [
    "%%time\n",
    "\n",
    "models_down = {}\n",
    "for f in frac_range:\n",
    "    for depth in range(4,16):\n",
    "        for base_est in range(7,13):\n",
    "            est = int( 1.5**base_est )\n",
    "            models_down[round(f,1)] = TrainedModel(\n",
    "                 RandomForestClassifier( n_estimators=est,max_depth=depth),\n",
    "                 dsets_down[round(f,1)]\n",
    "            )\n",
    "            models_down[round(f,1)].predict_and_print_metrics(comment = f'frac ={f:.1f},depth={depth},est={est}:')"
   ]
  },
  {
   "cell_type": "markdown",
   "metadata": {},
   "source": [
    "И для лучшей модели в каждом датасете подберем порог"
   ]
  },
  {
   "cell_type": "code",
   "execution_count": 52,
   "metadata": {},
   "outputs": [
    {
     "name": "stdout",
     "output_type": "stream",
     "text": [
      "( (1.3, 8, 129) ): roc_auc_score= 0.8887615452032629 (0.9989 of best)\n",
      "( (1.3, 8, 129) )|0.40: , f1_score: 0.6431, recall_score: 0.5859, precision_score: 0.7127, roc_auc_score: 0.8888\n",
      "( (1.3, 8, 129) )|0.42: , f1_score: 0.6353, recall_score: 0.5583, precision_score: 0.7368, roc_auc_score: 0.8888\n",
      "( (1.6, 9, 57) ): roc_auc_score= 0.8874974718533003 (0.9992 of best)\n",
      "( (1.6, 9, 57) )|0.40: , f1_score: 0.6595, recall_score: 0.6595, precision_score: 0.6595, roc_auc_score: 0.8875\n",
      "( (1.6, 9, 57) )|0.42: , f1_score: 0.6528, recall_score: 0.6258, precision_score: 0.6823, roc_auc_score: 0.8875\n",
      "( (1.6, 9, 57) )|0.44: , f1_score: 0.6568, recall_score: 0.6104, precision_score: 0.7107, roc_auc_score: 0.8875\n",
      "( (1.9, 6, 86) ): roc_auc_score= 0.8820824223979351 (0.9950 of best)\n",
      "( (1.9, 6, 86) )|0.40: , f1_score: 0.6422, recall_score: 0.6718, precision_score: 0.6152, roc_auc_score: 0.8821\n",
      "( (1.9, 6, 86) )|0.42: , f1_score: 0.6420, recall_score: 0.6380, precision_score: 0.6460, roc_auc_score: 0.8821\n",
      "( (1.9, 6, 86) )|0.44: , f1_score: 0.6355, recall_score: 0.6043, precision_score: 0.6701, roc_auc_score: 0.8821\n",
      "( (1.9, 6, 86) )|0.46: , f1_score: 0.6356, recall_score: 0.5859, precision_score: 0.6945, roc_auc_score: 0.8821\n",
      "( (1.9, 6, 86) )|0.48: , f1_score: 0.6381, recall_score: 0.5706, precision_score: 0.7237, roc_auc_score: 0.8821\n",
      "( (1.9, 6, 86) )|0.50: , f1_score: 0.6325, recall_score: 0.5491, precision_score: 0.7458, roc_auc_score: 0.8821\n",
      "( (2.2, 8, 129) ): roc_auc_score= 0.8864332424805694 (0.9981 of best)\n",
      "( (2.2, 8, 129) )|0.40: , f1_score: 0.6501, recall_score: 0.7638, precision_score: 0.5659, roc_auc_score: 0.8864\n",
      "( (2.2, 8, 129) )|0.42: , f1_score: 0.6539, recall_score: 0.7331, precision_score: 0.5901, roc_auc_score: 0.8864\n",
      "( (2.2, 8, 129) )|0.44: , f1_score: 0.6620, recall_score: 0.7178, precision_score: 0.6142, roc_auc_score: 0.8864\n",
      "( (2.2, 8, 129) )|0.46: , f1_score: 0.6726, recall_score: 0.6963, precision_score: 0.6504, roc_auc_score: 0.8864\n",
      "( (2.2, 8, 129) )|0.48: , f1_score: 0.6656, recall_score: 0.6656, precision_score: 0.6656, roc_auc_score: 0.8864\n",
      "( (2.2, 8, 129) )|0.50: , f1_score: 0.6688, recall_score: 0.6472, precision_score: 0.6918, roc_auc_score: 0.8864\n",
      "( (2.2, 8, 129) )|0.52: , f1_score: 0.6633, recall_score: 0.6135, precision_score: 0.7220, roc_auc_score: 0.8864\n",
      "( (2.2, 8, 129) )|0.54: , f1_score: 0.6610, recall_score: 0.5951, precision_score: 0.7433, roc_auc_score: 0.8864\n",
      "( (2.5, 7, 38) ): roc_auc_score= 0.8837341449085534 (0.9948 of best)\n",
      "( (2.5, 7, 38) )|0.40: , f1_score: 0.6064, recall_score: 0.7822, precision_score: 0.4951, roc_auc_score: 0.8837\n",
      "( (2.5, 7, 38) )|0.42: , f1_score: 0.6161, recall_score: 0.7607, precision_score: 0.5177, roc_auc_score: 0.8837\n",
      "( (2.5, 7, 38) )|0.44: , f1_score: 0.6227, recall_score: 0.7239, precision_score: 0.5463, roc_auc_score: 0.8837\n",
      "( (2.5, 7, 38) )|0.46: , f1_score: 0.6490, recall_score: 0.7117, precision_score: 0.5964, roc_auc_score: 0.8837\n",
      "( (2.5, 7, 38) )|0.48: , f1_score: 0.6550, recall_score: 0.6871, precision_score: 0.6257, roc_auc_score: 0.8837\n",
      "( (2.5, 7, 38) )|0.50: , f1_score: 0.6554, recall_score: 0.6564, precision_score: 0.6544, roc_auc_score: 0.8837\n",
      "( (2.5, 7, 38) )|0.52: , f1_score: 0.6551, recall_score: 0.6350, precision_score: 0.6765, roc_auc_score: 0.8837\n",
      "( (2.5, 7, 38) )|0.54: , f1_score: 0.6494, recall_score: 0.6135, precision_score: 0.6897, roc_auc_score: 0.8837\n",
      "( (2.5, 7, 38) )|0.56: , f1_score: 0.6511, recall_score: 0.5982, precision_score: 0.7143, roc_auc_score: 0.8837\n",
      "( (2.5, 7, 38) )|0.58: , f1_score: 0.6472, recall_score: 0.5767, precision_score: 0.7373, roc_auc_score: 0.8837\n",
      "( (2.8, 11, 57) ): roc_auc_score= 0.8831623022026178 (0.9967 of best)\n",
      "( (2.8, 11, 57) )|0.40: , f1_score: 0.5995, recall_score: 0.8037, precision_score: 0.4781, roc_auc_score: 0.8832\n",
      "( (2.8, 11, 57) )|0.42: , f1_score: 0.6161, recall_score: 0.7975, precision_score: 0.5019, roc_auc_score: 0.8832\n",
      "( (2.8, 11, 57) )|0.44: , f1_score: 0.6276, recall_score: 0.7730, precision_score: 0.5283, roc_auc_score: 0.8832\n",
      "( (2.8, 11, 57) )|0.46: , f1_score: 0.6295, recall_score: 0.7454, precision_score: 0.5448, roc_auc_score: 0.8832\n",
      "( (2.8, 11, 57) )|0.48: , f1_score: 0.6345, recall_score: 0.7270, precision_score: 0.5629, roc_auc_score: 0.8832\n",
      "( (2.8, 11, 57) )|0.50: , f1_score: 0.6372, recall_score: 0.7086, precision_score: 0.5789, roc_auc_score: 0.8832\n",
      "( (2.8, 11, 57) )|0.52: , f1_score: 0.6391, recall_score: 0.6871, precision_score: 0.5973, roc_auc_score: 0.8832\n",
      "( (2.8, 11, 57) )|0.54: , f1_score: 0.6409, recall_score: 0.6626, precision_score: 0.6207, roc_auc_score: 0.8832\n",
      "( (2.8, 11, 57) )|0.56: , f1_score: 0.6524, recall_score: 0.6534, precision_score: 0.6514, roc_auc_score: 0.8832\n",
      "( (2.8, 11, 57) )|0.58: , f1_score: 0.6508, recall_score: 0.6288, precision_score: 0.6743, roc_auc_score: 0.8832\n",
      "( (2.8, 11, 57) )|0.60: , f1_score: 0.6407, recall_score: 0.6043, precision_score: 0.6817, roc_auc_score: 0.8832\n",
      "( (3.1, 8, 86) ): roc_auc_score= 0.8813480559755756 (0.9956 of best)\n",
      "( (3.1, 8, 86) )|0.40: , f1_score: 0.5785, recall_score: 0.8252, precision_score: 0.4454, roc_auc_score: 0.8813\n",
      "( (3.1, 8, 86) )|0.42: , f1_score: 0.5886, recall_score: 0.8098, precision_score: 0.4623, roc_auc_score: 0.8813\n",
      "( (3.1, 8, 86) )|0.44: , f1_score: 0.6054, recall_score: 0.7883, precision_score: 0.4914, roc_auc_score: 0.8813\n",
      "( (3.1, 8, 86) )|0.46: , f1_score: 0.6167, recall_score: 0.7699, precision_score: 0.5143, roc_auc_score: 0.8813\n",
      "( (3.1, 8, 86) )|0.48: , f1_score: 0.6207, recall_score: 0.7454, precision_score: 0.5317, roc_auc_score: 0.8813\n",
      "( (3.1, 8, 86) )|0.50: , f1_score: 0.6321, recall_score: 0.7301, precision_score: 0.5574, roc_auc_score: 0.8813\n",
      "( (3.1, 8, 86) )|0.52: , f1_score: 0.6298, recall_score: 0.6994, precision_score: 0.5729, roc_auc_score: 0.8813\n",
      "( (3.1, 8, 86) )|0.54: , f1_score: 0.6360, recall_score: 0.6779, precision_score: 0.5989, roc_auc_score: 0.8813\n",
      "( (3.1, 8, 86) )|0.56: , f1_score: 0.6464, recall_score: 0.6534, precision_score: 0.6396, roc_auc_score: 0.8813\n",
      "( (3.1, 8, 86) )|0.58: , f1_score: 0.6529, recall_score: 0.6288, precision_score: 0.6788, roc_auc_score: 0.8813\n",
      "( (3.1, 8, 86) )|0.60: , f1_score: 0.6545, recall_score: 0.6074, precision_score: 0.7097, roc_auc_score: 0.8813\n",
      "( (3.4, 7, 129) ): roc_auc_score= 0.8786032109870848 (0.9966 of best)\n",
      "( (3.4, 7, 129) )|0.40: , f1_score: 0.5694, recall_score: 0.8620, precision_score: 0.4251, roc_auc_score: 0.8786\n",
      "( (3.4, 7, 129) )|0.42: , f1_score: 0.5847, recall_score: 0.8466, precision_score: 0.4466, roc_auc_score: 0.8786\n",
      "( (3.4, 7, 129) )|0.44: , f1_score: 0.5938, recall_score: 0.8252, precision_score: 0.4638, roc_auc_score: 0.8786\n",
      "( (3.4, 7, 129) )|0.46: , f1_score: 0.6085, recall_score: 0.8129, precision_score: 0.4862, roc_auc_score: 0.8786\n",
      "( (3.4, 7, 129) )|0.48: , f1_score: 0.6053, recall_score: 0.7761, precision_score: 0.4961, roc_auc_score: 0.8786\n",
      "( (3.4, 7, 129) )|0.50: , f1_score: 0.6167, recall_score: 0.7577, precision_score: 0.5200, roc_auc_score: 0.8786\n",
      "( (3.4, 7, 129) )|0.52: , f1_score: 0.6306, recall_score: 0.7331, precision_score: 0.5532, roc_auc_score: 0.8786\n",
      "( (3.4, 7, 129) )|0.54: , f1_score: 0.6307, recall_score: 0.6994, precision_score: 0.5743, roc_auc_score: 0.8786\n",
      "( (3.4, 7, 129) )|0.56: , f1_score: 0.6362, recall_score: 0.6626, precision_score: 0.6119, roc_auc_score: 0.8786\n",
      "( (3.4, 7, 129) )|0.58: , f1_score: 0.6269, recall_score: 0.6288, precision_score: 0.6250, roc_auc_score: 0.8786\n",
      "( (3.4, 7, 129) )|0.60: , f1_score: 0.6368, recall_score: 0.6104, precision_score: 0.6656, roc_auc_score: 0.8786\n",
      "( (3.7, 9, 86) ): roc_auc_score= 0.8780662807831958 (0.9953 of best)\n",
      "( (3.7, 9, 86) )|0.40: , f1_score: 0.5648, recall_score: 0.8620, precision_score: 0.4200, roc_auc_score: 0.8781\n",
      "( (3.7, 9, 86) )|0.42: , f1_score: 0.5741, recall_score: 0.8374, precision_score: 0.4368, roc_auc_score: 0.8781\n",
      "( (3.7, 9, 86) )|0.44: , f1_score: 0.5836, recall_score: 0.8190, precision_score: 0.4533, roc_auc_score: 0.8781\n",
      "( (3.7, 9, 86) )|0.46: , f1_score: 0.5900, recall_score: 0.7945, precision_score: 0.4692, roc_auc_score: 0.8781\n",
      "( (3.7, 9, 86) )|0.48: , f1_score: 0.6031, recall_score: 0.7853, precision_score: 0.4895, roc_auc_score: 0.8781\n",
      "( (3.7, 9, 86) )|0.50: , f1_score: 0.6127, recall_score: 0.7669, precision_score: 0.5102, roc_auc_score: 0.8781\n",
      "( (3.7, 9, 86) )|0.52: , f1_score: 0.6212, recall_score: 0.7546, precision_score: 0.5279, roc_auc_score: 0.8781\n",
      "( (3.7, 9, 86) )|0.54: , f1_score: 0.6334, recall_score: 0.7393, precision_score: 0.5540, roc_auc_score: 0.8781\n",
      "( (3.7, 9, 86) )|0.56: , f1_score: 0.6401, recall_score: 0.7147, precision_score: 0.5796, roc_auc_score: 0.8781\n",
      "( (3.7, 9, 86) )|0.58: , f1_score: 0.6334, recall_score: 0.6810, precision_score: 0.5920, roc_auc_score: 0.8781\n",
      "( (3.7, 9, 86) )|0.60: , f1_score: 0.6372, recall_score: 0.6626, precision_score: 0.6136, roc_auc_score: 0.8781\n"
     ]
    },
    {
     "name": "stdout",
     "output_type": "stream",
     "text": [
      "( (4.0, 7, 129) ): roc_auc_score= 0.8795952075969605 (0.9972 of best)\n",
      "( (4.0, 7, 129) )|0.40: , f1_score: 0.5451, recall_score: 0.8712, precision_score: 0.3966, roc_auc_score: 0.8796\n",
      "( (4.0, 7, 129) )|0.42: , f1_score: 0.5553, recall_score: 0.8466, precision_score: 0.4132, roc_auc_score: 0.8796\n",
      "( (4.0, 7, 129) )|0.44: , f1_score: 0.5687, recall_score: 0.8313, precision_score: 0.4322, roc_auc_score: 0.8796\n",
      "( (4.0, 7, 129) )|0.46: , f1_score: 0.5777, recall_score: 0.8098, precision_score: 0.4490, roc_auc_score: 0.8796\n",
      "( (4.0, 7, 129) )|0.48: , f1_score: 0.5913, recall_score: 0.7945, precision_score: 0.4709, roc_auc_score: 0.8796\n",
      "( (4.0, 7, 129) )|0.50: , f1_score: 0.6041, recall_score: 0.7699, precision_score: 0.4970, roc_auc_score: 0.8796\n",
      "( (4.0, 7, 129) )|0.52: , f1_score: 0.6250, recall_score: 0.7515, precision_score: 0.5349, roc_auc_score: 0.8796\n",
      "( (4.0, 7, 129) )|0.54: , f1_score: 0.6258, recall_score: 0.7209, precision_score: 0.5529, roc_auc_score: 0.8796\n",
      "( (4.0, 7, 129) )|0.56: , f1_score: 0.6327, recall_score: 0.7055, precision_score: 0.5736, roc_auc_score: 0.8796\n",
      "( (4.0, 7, 129) )|0.58: , f1_score: 0.6409, recall_score: 0.6871, precision_score: 0.6005, roc_auc_score: 0.8796\n",
      "( (4.0, 7, 129) )|0.60: , f1_score: 0.6448, recall_score: 0.6626, precision_score: 0.6279, roc_auc_score: 0.8796\n"
     ]
    },
    {
     "data": {
      "text/plain": [
       "{'score': 0.6725925925925926,\n",
       " 'model': <__main__.TrainedModel at 0x254f3617ca0>,\n",
       " 'frac': 2.2,\n",
       " 'depth': 8,\n",
       " 'est': 129,\n",
       " 'threshold': 0.46}"
      ]
     },
     "execution_count": 52,
     "metadata": {},
     "output_type": "execute_result"
    }
   ],
   "source": [
    "best_down ={'score': 0}\n",
    "for k in dsets_down:\n",
    "    md = dsets_down[k].best_auc_roc['model']\n",
    "    model = TrainedModel( md , dsets_down[k],\n",
    "            title=f\"( {(k,md.get_params()['max_depth'],md.get_params()['n_estimators'])} )\"\n",
    "            )  \n",
    "    for th in np.arange(.4,.61,.02):\n",
    "        model.predict_and_print_metrics( threshold=th, comment=model.title+f'|{th:.2f}: ')\n",
    "    if model.best_f1['score']>best_down['score']:\n",
    "        best_down['score'] = model.best_f1['score']\n",
    "        best_down['model'] = model\n",
    "        best_down['frac'] = k\n",
    "        best_down['depth'] = model.model.get_params()['max_depth']\n",
    "        best_down['est'] = model.model.get_params()['n_estimators']\n",
    "        best_down['threshold'] = round(model.best_f1['threshold'],2)\n",
    "best_down        "
   ]
  },
  {
   "cell_type": "markdown",
   "metadata": {},
   "source": [
    "#### RandomForest upsampled"
   ]
  },
  {
   "cell_type": "code",
   "execution_count": 53,
   "metadata": {},
   "outputs": [
    {
     "name": "stdout",
     "output_type": "stream",
     "text": [
      "Forest depth=2: roc_auc_score= 0.8638821739172309 (1.0977 of best)\n",
      "depth=2, f1_score: 0.5864, recall_score: 0.7546, precision_score: 0.4795, roc_auc_score: 0.8639\n",
      "Forest depth=3: roc_auc_score= 0.8562242971752174 (0.9911 of best)\n",
      "depth=3, f1_score: 0.5816, recall_score: 0.7485, precision_score: 0.4756, roc_auc_score: 0.8562\n",
      "Forest depth=4: roc_auc_score= 0.8698594350434841 (1.0069 of best)\n",
      "depth=4, f1_score: 0.6000, recall_score: 0.7822, precision_score: 0.4866, roc_auc_score: 0.8699\n",
      "Forest depth=5: roc_auc_score= 0.8753262513122285 (1.0063 of best)\n",
      "depth=5, f1_score: 0.6055, recall_score: 0.7485, precision_score: 0.5083, roc_auc_score: 0.8753\n",
      "Forest depth=6: roc_auc_score= 0.8800839826256127 (1.0054 of best)\n",
      "depth=6, f1_score: 0.6043, recall_score: 0.7822, precision_score: 0.4923, roc_auc_score: 0.8801\n",
      "Forest depth=7: roc_auc_score= 0.8783275226088549 (0.9980 of best)\n",
      "depth=7, f1_score: 0.6236, recall_score: 0.7853, precision_score: 0.5172, roc_auc_score: 0.8783\n",
      "Forest depth=8: roc_auc_score= 0.8780133100904354 (0.9976 of best)\n",
      "depth=8, f1_score: 0.6143, recall_score: 0.7669, precision_score: 0.5123, roc_auc_score: 0.8780\n",
      "Forest depth=9: roc_auc_score= 0.8796963334649575 (0.9996 of best)\n",
      "depth=9, f1_score: 0.6260, recall_score: 0.7393, precision_score: 0.5428, roc_auc_score: 0.8797\n",
      "Forest depth=10: roc_auc_score= 0.873737130529418 (0.9928 of best)\n",
      "depth=10, f1_score: 0.6036, recall_score: 0.7147, precision_score: 0.5224, roc_auc_score: 0.8737\n",
      "Forest depth=11: roc_auc_score= 0.876161743602585 (0.9955 of best)\n",
      "depth=11, f1_score: 0.6490, recall_score: 0.7147, precision_score: 0.5944, roc_auc_score: 0.8762\n",
      "depth=12, f1_score: 0.6145, recall_score: 0.6626, precision_score: 0.5729, roc_auc_score: 0.8676\n",
      "depth=13, f1_score: 0.6295, recall_score: 0.6411, precision_score: 0.6183, roc_auc_score: 0.8650\n",
      "depth=14, f1_score: 0.6250, recall_score: 0.6288, precision_score: 0.6212, roc_auc_score: 0.8636\n",
      "depth=15, f1_score: 0.6062, recall_score: 0.5951, precision_score: 0.6178, roc_auc_score: 0.8619\n"
     ]
    }
   ],
   "source": [
    "for depth in range(2,16):\n",
    "    upsampled_forest = TrainedModel(\n",
    "        RandomForestClassifier( n_estimators=20,max_depth=depth),\n",
    "        upsampled, title = f'Forest depth={depth}' )                         \n",
    "    upsampled_forest.predict_and_print_metrics(comment='depth='+str(depth) )"
   ]
  },
  {
   "cell_type": "code",
   "execution_count": 54,
   "metadata": {},
   "outputs": [],
   "source": [
    "    \n",
    "depth_for_test = upsampled.best_auc_roc['model'].get_params()['max_depth']    "
   ]
  },
  {
   "cell_type": "code",
   "execution_count": 55,
   "metadata": {},
   "outputs": [
    {
     "name": "stdout",
     "output_type": "stream",
     "text": [
      "Forest 15 6: : roc_auc_score= 0.8748097870578151 (0.9940 of best)\n",
      "est=15, f1_score: 0.6014, recall_score: 0.7730, precision_score: 0.4922, roc_auc_score: 0.8748\n",
      "Forest 20 6: : roc_auc_score= 0.873519228361472 (0.9925 of best)\n",
      "est=20, f1_score: 0.6082, recall_score: 0.7761, precision_score: 0.5000, roc_auc_score: 0.8735\n",
      "Forest 25 6: : roc_auc_score= 0.880167050302896 (1.0001 of best)\n",
      "est=25, f1_score: 0.6031, recall_score: 0.7853, precision_score: 0.4895, roc_auc_score: 0.8802\n",
      "Forest 30 6: : roc_auc_score= 0.8735445098284714 (0.9925 of best)\n",
      "est=30, f1_score: 0.6073, recall_score: 0.7638, precision_score: 0.5040, roc_auc_score: 0.8735\n",
      "Forest 35 6: : roc_auc_score= 0.8768985177837063 (0.9963 of best)\n",
      "est=35, f1_score: 0.6146, recall_score: 0.7730, precision_score: 0.5101, roc_auc_score: 0.8769\n",
      "Forest 40 6: : roc_auc_score= 0.8814046383064789 (1.0014 of best)\n",
      "est=40, f1_score: 0.6182, recall_score: 0.7822, precision_score: 0.5110, roc_auc_score: 0.8814\n",
      "Forest 45 6: : roc_auc_score= 0.8857530506303511 (1.0049 of best)\n",
      "est=45, f1_score: 0.6189, recall_score: 0.7945, precision_score: 0.5068, roc_auc_score: 0.8858\n",
      "Forest 50 6: : roc_auc_score= 0.878382901060377 (0.9917 of best)\n",
      "est=50, f1_score: 0.6063, recall_score: 0.7914, precision_score: 0.4914, roc_auc_score: 0.8784\n",
      "Forest 55 6: : roc_auc_score= 0.8812734154539589 (0.9949 of best)\n",
      "est=55, f1_score: 0.6195, recall_score: 0.7791, precision_score: 0.5142, roc_auc_score: 0.8813\n",
      "Forest 60 6: : roc_auc_score= 0.8794700041413451 (0.9929 of best)\n",
      "est=60, f1_score: 0.6137, recall_score: 0.7699, precision_score: 0.5102, roc_auc_score: 0.8795\n",
      "Forest 65 6: : roc_auc_score= 0.8812806387302442 (0.9950 of best)\n",
      "est=65, f1_score: 0.6128, recall_score: 0.7791, precision_score: 0.5050, roc_auc_score: 0.8813\n"
     ]
    }
   ],
   "source": [
    "for est in range(15,70,5):\n",
    "    upsampled_forest = TrainedModel(\n",
    "        RandomForestClassifier( n_estimators=est,max_depth=depth_for_test),\n",
    "        upsampled,\n",
    "        title = f'Forest {est} {depth_for_test}: '  )\n",
    "    upsampled_forest.predict_and_print_metrics(comment='est='+str(est)                                    \n",
    "      ) "
   ]
  },
  {
   "cell_type": "code",
   "execution_count": 56,
   "metadata": {},
   "outputs": [],
   "source": [
    "est_for_test = upsampled.best_auc_roc['model'].get_params()['n_estimators']  "
   ]
  },
  {
   "cell_type": "code",
   "execution_count": 57,
   "metadata": {},
   "outputs": [
    {
     "name": "stdout",
     "output_type": "stream",
     "text": [
      "Forest 45 6: : roc_auc_score= 0.8787320260808429 (0.9921 of best)\n"
     ]
    }
   ],
   "source": [
    "upsampled_forest = TrainedModel(\n",
    "    RandomForestClassifier( n_estimators=est_for_test,max_depth=depth_for_test),\n",
    "        upsampled,\n",
    "        title=f'Forest {est_for_test} {depth_for_test}: ')"
   ]
  },
  {
   "cell_type": "code",
   "execution_count": 58,
   "metadata": {},
   "outputs": [
    {
     "name": "stdout",
     "output_type": "stream",
     "text": [
      "threshold 0.30, f1_score: 0.4701, recall_score: 0.9663, precision_score: 0.3107, roc_auc_score: 0.8787\n",
      "threshold 0.35, f1_score: 0.5122, recall_score: 0.9325, precision_score: 0.3531, roc_auc_score: 0.8787\n",
      "threshold 0.40, f1_score: 0.5383, recall_score: 0.8834, precision_score: 0.3871, roc_auc_score: 0.8787\n",
      "threshold 0.45, f1_score: 0.5867, recall_score: 0.8405, precision_score: 0.4507, roc_auc_score: 0.8787\n",
      "threshold 0.50, f1_score: 0.6036, recall_score: 0.7638, precision_score: 0.4990, roc_auc_score: 0.8787\n",
      "threshold 0.55, f1_score: 0.6313, recall_score: 0.6933, precision_score: 0.5795, roc_auc_score: 0.8787\n",
      "threshold 0.60, f1_score: 0.6374, recall_score: 0.6227, precision_score: 0.6527, roc_auc_score: 0.8787\n",
      "threshold 0.65, f1_score: 0.6361, recall_score: 0.5736, precision_score: 0.7137, roc_auc_score: 0.8787\n"
     ]
    }
   ],
   "source": [
    "for th in np.arange(0.3,0.81,0.05):\n",
    "    t,p = upsampled_forest.predict_and_print_metrics(\n",
    "        threshold = th, comment = f'threshold {th:.2f}' )"
   ]
  },
  {
   "cell_type": "code",
   "execution_count": 59,
   "metadata": {},
   "outputs": [
    {
     "name": "stdout",
     "output_type": "stream",
     "text": [
      "roc_auc_soore =  0.8787320260808429\n"
     ]
    },
    {
     "data": {
      "image/png": "[encoded data removed]",
      "text/plain": [
       "<Figure size 640x480 with 1 Axes>"
      ]
     },
     "metadata": {},
     "output_type": "display_data"
    }
   ],
   "source": [
    "upsampled_forest.plot_roc_curve('Случайный лес с расширенным датасетом ')"
   ]
  },
  {
   "cell_type": "code",
   "execution_count": 60,
   "metadata": {},
   "outputs": [
    {
     "data": {
      "text/plain": [
       "0.5999999999999999"
      ]
     },
     "execution_count": 60,
     "metadata": {},
     "output_type": "execute_result"
    }
   ],
   "source": [
    "threshold_for_test = upsampled_forest.best_f1['threshold']\n",
    "threshold_for_test"
   ]
  },
  {
   "cell_type": "markdown",
   "metadata": {},
   "source": [
    "### Выбор модели (версия 3)"
   ]
  },
  {
   "cell_type": "markdown",
   "metadata": {},
   "source": [
    "Посмотрим, какие модели остались лучшими в датасетах dset_valid и upsampled  и в downsampled "
   ]
  },
  {
   "cell_type": "code",
   "execution_count": 61,
   "metadata": {},
   "outputs": [
    {
     "data": {
      "text/plain": [
       "{'score': 0.8899919099305602,\n",
       " 'model': RandomForestClassifier(max_depth=7, n_estimators=40)}"
      ]
     },
     "execution_count": 61,
     "metadata": {},
     "output_type": "execute_result"
    }
   ],
   "source": [
    "dset_valid.best_auc_roc"
   ]
  },
  {
   "cell_type": "code",
   "execution_count": 62,
   "metadata": {},
   "outputs": [
    {
     "data": {
      "text/plain": [
       "{'bootstrap': True,\n",
       " 'ccp_alpha': 0.0,\n",
       " 'class_weight': None,\n",
       " 'criterion': 'gini',\n",
       " 'max_depth': 7,\n",
       " 'max_features': 'sqrt',\n",
       " 'max_leaf_nodes': None,\n",
       " 'max_samples': None,\n",
       " 'min_impurity_decrease': 0.0,\n",
       " 'min_samples_leaf': 1,\n",
       " 'min_samples_split': 2,\n",
       " 'min_weight_fraction_leaf': 0.0,\n",
       " 'n_estimators': 40,\n",
       " 'n_jobs': None,\n",
       " 'oob_score': False,\n",
       " 'random_state': None,\n",
       " 'verbose': 0,\n",
       " 'warm_start': False}"
      ]
     },
     "execution_count": 62,
     "metadata": {},
     "output_type": "execute_result"
    }
   ],
   "source": [
    "dset_valid.best_auc_roc['model'].get_params()"
   ]
  },
  {
   "cell_type": "markdown",
   "metadata": {},
   "source": [
    "class_weight = None , так что это несбалансированная модель basic_forest"
   ]
  },
  {
   "cell_type": "code",
   "execution_count": 63,
   "metadata": {},
   "outputs": [
    {
     "data": {
      "text/plain": [
       "{'score': 0.8857530506303511,\n",
       " 'model': RandomForestClassifier(max_depth=6, n_estimators=45)}"
      ]
     },
     "execution_count": 63,
     "metadata": {},
     "output_type": "execute_result"
    }
   ],
   "source": [
    "upsampled.best_auc_roc"
   ]
  },
  {
   "cell_type": "code",
   "execution_count": 64,
   "metadata": {},
   "outputs": [
    {
     "data": {
      "text/plain": [
       "{'bootstrap': True,\n",
       " 'ccp_alpha': 0.0,\n",
       " 'class_weight': None,\n",
       " 'criterion': 'gini',\n",
       " 'max_depth': 6,\n",
       " 'max_features': 'sqrt',\n",
       " 'max_leaf_nodes': None,\n",
       " 'max_samples': None,\n",
       " 'min_impurity_decrease': 0.0,\n",
       " 'min_samples_leaf': 1,\n",
       " 'min_samples_split': 2,\n",
       " 'min_weight_fraction_leaf': 0.0,\n",
       " 'n_estimators': 45,\n",
       " 'n_jobs': None,\n",
       " 'oob_score': False,\n",
       " 'random_state': None,\n",
       " 'verbose': 0,\n",
       " 'warm_start': False}"
      ]
     },
     "execution_count": 64,
     "metadata": {},
     "output_type": "execute_result"
    }
   ],
   "source": [
    "upsampled.best_auc_roc['model'].get_params()"
   ]
  },
  {
   "cell_type": "code",
   "execution_count": 65,
   "metadata": {},
   "outputs": [
    {
     "data": {
      "text/plain": [
       "{'score': 0.6614906832298136,\n",
       " 'model': RandomForestClassifier(max_depth=7, n_estimators=40),\n",
       " 'threshold': 0.3}"
      ]
     },
     "execution_count": 65,
     "metadata": {},
     "output_type": "execute_result"
    }
   ],
   "source": [
    "basic_forest.best_f1"
   ]
  },
  {
   "cell_type": "code",
   "execution_count": 66,
   "metadata": {},
   "outputs": [
    {
     "name": "stdout",
     "output_type": "stream",
     "text": [
      "{'score': 0.6725925925925926, 'model': <__main__.TrainedModel object at 0x00000254F3617CA0>, 'frac': 2.2, 'depth': 8, 'est': 129, 'threshold': 0.46}\n"
     ]
    }
   ],
   "source": [
    "print( best_down)"
   ]
  },
  {
   "cell_type": "markdown",
   "metadata": {},
   "source": [
    "<b>В качестве финальной модели выбран RandomForest на набора данных сжатым с коэф 2.2 <br>\n",
    "    c глубиной 8 , количеством элементов 129 и порогом 0.46</b>"
   ]
  },
  {
   "cell_type": "markdown",
   "metadata": {},
   "source": [
    "## Тестирование модели (версия 3)"
   ]
  },
  {
   "cell_type": "markdown",
   "metadata": {},
   "source": [
    "Как я понимаю, финальный датасет нужно преобразовать также, как и обучающий"
   ]
  },
  {
   "cell_type": "code",
   "execution_count": 67,
   "metadata": {},
   "outputs": [
    {
     "name": "stdout",
     "output_type": "stream",
     "text": [
      "RandomForestClassifier: roc_auc_score= 0.8518934959612926 (851.8935 of best)\n",
      "FINAL RESULT, f1_score: 0.6098, recall_score: 0.6143, precision_score: 0.6053, roc_auc_score: 0.8519\n"
     ]
    }
   ],
   "source": [
    "dset_final = dset_test.downsample(frac= 1/best_down['frac'])\n",
    "dset_final.scale(num_cols)\n",
    "final_model = TrainedModel(  RandomForestClassifier( n_estimators=best_down['est'],max_depth=best_down['depth']), \n",
    "                          dset_final )\n",
    "t,p = final_model.predict_and_print_metrics(threshold = best_down['threshold'], comment='FINAL RESULT'      )  "
   ]
  },
  {
   "cell_type": "markdown",
   "metadata": {},
   "source": [
    "<b><u>На финальном тесте достигнута метрика F1 = 0.61</u></b>"
   ]
  },
  {
   "cell_type": "code",
   "execution_count": 68,
   "metadata": {},
   "outputs": [
    {
     "name": "stdout",
     "output_type": "stream",
     "text": [
      "roc_auc_soore =  0.8518934959612926\n"
     ]
    },
    {
     "data": {
      "image/png": "[encoded data removed]",
      "text/plain": [
       "<Figure size 640x480 with 1 Axes>"
      ]
     },
     "metadata": {},
     "output_type": "display_data"
    }
   ],
   "source": [
    "final_model.plot_roc_curve('Финальный тест')"
   ]
  },
  {
   "cell_type": "markdown",
   "metadata": {},
   "source": [
    "<b>Метрика AUC-ROC для выбраной модели 0.851</b>"
   ]
  },
  {
   "cell_type": "markdown",
   "metadata": {},
   "source": [
    "## Чек-лист готовности проекта"
   ]
  },
  {
   "cell_type": "markdown",
   "metadata": {},
   "source": [
    "Поставьте 'x' в выполненных пунктах. Далее нажмите Shift+Enter."
   ]
  },
  {
   "cell_type": "markdown",
   "metadata": {},
   "source": [
    "- [x]  Jupyter Notebook открыт\n",
    "- [x]  Весь код выполняется без ошибок\n",
    "- [x]  Ячейки с кодом расположены в порядке исполнения\n",
    "- [x]  Выполнен шаг 1: данные подготовлены\n",
    "- [x]  Выполнен шаг 2: задача исследована\n",
    "    - [x]  Исследован баланс классов\n",
    "    - [x]  Изучены модели без учёта дисбаланса\n",
    "    - [x]  Написаны выводы по результатам исследования\n",
    "- [x]  Выполнен шаг 3: учтён дисбаланс\n",
    "    - [x]  Применено несколько способов борьбы с дисбалансом\n",
    "    - [x]  Написаны выводы по результатам исследования\n",
    "- [x]  Выполнен шаг 4: проведено тестирование\n",
    "- [x]  Удалось достичь *F1*-меры не менее 0.59\n",
    "- [x]  Исследована метрика *AUC-ROC*"
   ]
  }
 ],
 "metadata": {
  "ExecuteTimeLog": [
   {
    "duration": 50,
    "start_time": "2023-02-11T18:26:55.317Z"
   },
   {
    "duration": 56,
    "start_time": "2023-02-11T18:26:59.496Z"
   },
   {
    "duration": 408,
    "start_time": "2023-02-11T18:27:04.274Z"
   },
   {
    "duration": 86,
    "start_time": "2023-02-11T18:27:06.847Z"
   },
   {
    "duration": 19,
    "start_time": "2023-02-11T18:27:37.979Z"
   },
   {
    "duration": 23,
    "start_time": "2023-02-11T18:27:57.020Z"
   },
   {
    "duration": 32,
    "start_time": "2023-02-11T18:28:56.013Z"
   },
   {
    "duration": 9,
    "start_time": "2023-02-11T18:29:04.797Z"
   },
   {
    "duration": 8,
    "start_time": "2023-02-11T18:29:44.584Z"
   },
   {
    "duration": 5,
    "start_time": "2023-02-11T18:29:55.119Z"
   },
   {
    "duration": 4,
    "start_time": "2023-02-11T18:30:26.050Z"
   },
   {
    "duration": 9,
    "start_time": "2023-02-11T18:30:36.576Z"
   },
   {
    "duration": 10,
    "start_time": "2023-02-11T18:31:03.510Z"
   },
   {
    "duration": 46,
    "start_time": "2023-02-11T18:31:16.270Z"
   },
   {
    "duration": 8,
    "start_time": "2023-02-11T18:31:25.637Z"
   },
   {
    "duration": 8,
    "start_time": "2023-02-11T18:31:57.373Z"
   },
   {
    "duration": 9,
    "start_time": "2023-02-11T18:32:35.688Z"
   },
   {
    "duration": 5,
    "start_time": "2023-02-11T18:32:52.662Z"
   },
   {
    "duration": 8,
    "start_time": "2023-02-11T18:33:15.633Z"
   },
   {
    "duration": 6,
    "start_time": "2023-02-11T18:35:17.741Z"
   },
   {
    "duration": 3,
    "start_time": "2023-02-11T18:35:26.805Z"
   },
   {
    "duration": 13,
    "start_time": "2023-02-11T18:35:46.484Z"
   },
   {
    "duration": 31,
    "start_time": "2023-02-11T18:37:01.769Z"
   },
   {
    "duration": 6,
    "start_time": "2023-02-11T18:38:10.345Z"
   },
   {
    "duration": 9,
    "start_time": "2023-02-11T18:38:38.668Z"
   },
   {
    "duration": 7,
    "start_time": "2023-02-11T18:39:00.665Z"
   },
   {
    "duration": 7,
    "start_time": "2023-02-11T18:40:02.187Z"
   },
   {
    "duration": 8,
    "start_time": "2023-02-11T18:40:58.308Z"
   },
   {
    "duration": 9,
    "start_time": "2023-02-11T18:41:02.369Z"
   },
   {
    "duration": 4,
    "start_time": "2023-02-11T18:41:32.337Z"
   },
   {
    "duration": 4,
    "start_time": "2023-02-11T18:41:42.015Z"
   },
   {
    "duration": 9,
    "start_time": "2023-02-11T18:41:48.805Z"
   },
   {
    "duration": 8,
    "start_time": "2023-02-11T18:45:15.506Z"
   },
   {
    "duration": 7,
    "start_time": "2023-02-11T18:46:12.023Z"
   },
   {
    "duration": 452,
    "start_time": "2023-02-12T10:34:36.331Z"
   },
   {
    "duration": 75,
    "start_time": "2023-02-12T10:34:36.785Z"
   },
   {
    "duration": 14,
    "start_time": "2023-02-12T10:34:36.862Z"
   },
   {
    "duration": 19,
    "start_time": "2023-02-12T10:34:36.878Z"
   },
   {
    "duration": 6,
    "start_time": "2023-02-12T10:34:36.899Z"
   },
   {
    "duration": 9,
    "start_time": "2023-02-12T10:34:36.906Z"
   },
   {
    "duration": 3,
    "start_time": "2023-02-12T10:34:36.916Z"
   },
   {
    "duration": 10,
    "start_time": "2023-02-12T10:34:36.921Z"
   },
   {
    "duration": 23,
    "start_time": "2023-02-12T10:34:36.933Z"
   },
   {
    "duration": 4,
    "start_time": "2023-02-12T10:38:16.123Z"
   },
   {
    "duration": 48,
    "start_time": "2023-02-12T10:38:53.276Z"
   },
   {
    "duration": 69,
    "start_time": "2023-02-12T10:39:37.055Z"
   },
   {
    "duration": 15,
    "start_time": "2023-02-12T10:40:26.184Z"
   },
   {
    "duration": 9,
    "start_time": "2023-02-12T10:45:16.597Z"
   },
   {
    "duration": 7,
    "start_time": "2023-02-12T10:45:26.729Z"
   },
   {
    "duration": 3,
    "start_time": "2023-02-12T10:45:50.347Z"
   },
   {
    "duration": 16,
    "start_time": "2023-02-12T10:46:32.040Z"
   },
   {
    "duration": 19,
    "start_time": "2023-02-12T10:46:53.643Z"
   },
   {
    "duration": 11,
    "start_time": "2023-02-12T10:47:06.016Z"
   },
   {
    "duration": 220,
    "start_time": "2023-02-12T10:47:32.570Z"
   },
   {
    "duration": 263,
    "start_time": "2023-02-12T10:47:57.221Z"
   },
   {
    "duration": 525,
    "start_time": "2023-02-12T10:48:15.412Z"
   },
   {
    "duration": 3,
    "start_time": "2023-02-12T10:49:46.991Z"
   },
   {
    "duration": 32,
    "start_time": "2023-02-12T10:49:55.102Z"
   },
   {
    "duration": 4,
    "start_time": "2023-02-12T10:50:25.918Z"
   },
   {
    "duration": 17,
    "start_time": "2023-02-12T10:50:35.366Z"
   },
   {
    "duration": 9,
    "start_time": "2023-02-12T10:51:35.289Z"
   },
   {
    "duration": 21,
    "start_time": "2023-02-12T10:51:50.198Z"
   },
   {
    "duration": 8,
    "start_time": "2023-02-12T10:54:32.154Z"
   },
   {
    "duration": 4,
    "start_time": "2023-02-12T10:55:11.470Z"
   },
   {
    "duration": 7,
    "start_time": "2023-02-12T10:59:27.070Z"
   },
   {
    "duration": 7,
    "start_time": "2023-02-12T10:59:51.566Z"
   },
   {
    "duration": 7,
    "start_time": "2023-02-12T11:00:17.673Z"
   },
   {
    "duration": 4,
    "start_time": "2023-02-12T11:00:32.572Z"
   },
   {
    "duration": 15,
    "start_time": "2023-02-12T11:01:45.796Z"
   },
   {
    "duration": 4,
    "start_time": "2023-02-12T11:02:19.783Z"
   },
   {
    "duration": 4,
    "start_time": "2023-02-12T11:02:43.738Z"
   },
   {
    "duration": 12,
    "start_time": "2023-02-12T11:02:57.799Z"
   },
   {
    "duration": 3,
    "start_time": "2023-02-12T11:03:20.427Z"
   },
   {
    "duration": 5,
    "start_time": "2023-02-12T11:04:31.311Z"
   },
   {
    "duration": 4,
    "start_time": "2023-02-12T11:04:42.737Z"
   },
   {
    "duration": 42,
    "start_time": "2023-02-12T11:05:35.342Z"
   },
   {
    "duration": 10,
    "start_time": "2023-02-12T11:05:38.291Z"
   },
   {
    "duration": 9,
    "start_time": "2023-02-12T11:07:31.719Z"
   },
   {
    "duration": 8,
    "start_time": "2023-02-12T11:08:28.006Z"
   },
   {
    "duration": 8,
    "start_time": "2023-02-12T11:10:02.848Z"
   },
   {
    "duration": 5,
    "start_time": "2023-02-12T11:10:45.390Z"
   },
   {
    "duration": 5,
    "start_time": "2023-02-12T11:11:15.683Z"
   },
   {
    "duration": 9,
    "start_time": "2023-02-12T11:11:51.367Z"
   },
   {
    "duration": 5,
    "start_time": "2023-02-12T11:12:30.867Z"
   },
   {
    "duration": 9,
    "start_time": "2023-02-12T11:13:13.616Z"
   },
   {
    "duration": 9,
    "start_time": "2023-02-12T11:14:14.371Z"
   },
   {
    "duration": 8,
    "start_time": "2023-02-12T11:15:33.424Z"
   },
   {
    "duration": 5,
    "start_time": "2023-02-12T11:16:40.238Z"
   },
   {
    "duration": 8,
    "start_time": "2023-02-12T11:17:17.076Z"
   },
   {
    "duration": 4,
    "start_time": "2023-02-12T11:17:25.569Z"
   },
   {
    "duration": 203,
    "start_time": "2023-02-12T11:17:52.698Z"
   },
   {
    "duration": 4,
    "start_time": "2023-02-12T11:18:04.799Z"
   },
   {
    "duration": 4,
    "start_time": "2023-02-12T11:18:14.931Z"
   },
   {
    "duration": 37,
    "start_time": "2023-02-12T11:19:14.782Z"
   },
   {
    "duration": 4,
    "start_time": "2023-02-12T11:19:22.192Z"
   },
   {
    "duration": 3,
    "start_time": "2023-02-12T11:19:23.271Z"
   },
   {
    "duration": 4,
    "start_time": "2023-02-12T11:19:24.572Z"
   },
   {
    "duration": 8,
    "start_time": "2023-02-12T11:19:51.130Z"
   },
   {
    "duration": 5,
    "start_time": "2023-02-12T11:19:52.249Z"
   },
   {
    "duration": 6,
    "start_time": "2023-02-12T11:20:00.282Z"
   },
   {
    "duration": 9,
    "start_time": "2023-02-12T11:20:01.266Z"
   },
   {
    "duration": 13,
    "start_time": "2023-02-12T11:20:04.700Z"
   },
   {
    "duration": 4,
    "start_time": "2023-02-12T11:20:24.633Z"
   },
   {
    "duration": 9,
    "start_time": "2023-02-12T11:20:32.018Z"
   },
   {
    "duration": 13,
    "start_time": "2023-02-12T11:20:44.521Z"
   },
   {
    "duration": 8,
    "start_time": "2023-02-12T11:23:11.171Z"
   },
   {
    "duration": 416,
    "start_time": "2023-02-12T11:23:30.165Z"
   },
   {
    "duration": 38,
    "start_time": "2023-02-12T11:23:30.583Z"
   },
   {
    "duration": 16,
    "start_time": "2023-02-12T11:23:30.623Z"
   },
   {
    "duration": 44,
    "start_time": "2023-02-12T11:23:30.641Z"
   },
   {
    "duration": 34,
    "start_time": "2023-02-12T11:23:30.687Z"
   },
   {
    "duration": 29,
    "start_time": "2023-02-12T11:23:30.723Z"
   },
   {
    "duration": 24,
    "start_time": "2023-02-12T11:23:30.760Z"
   },
   {
    "duration": 13,
    "start_time": "2023-02-12T11:23:30.786Z"
   },
   {
    "duration": 10,
    "start_time": "2023-02-12T11:23:30.800Z"
   },
   {
    "duration": 25,
    "start_time": "2023-02-12T11:23:30.812Z"
   },
   {
    "duration": 11,
    "start_time": "2023-02-12T11:23:30.839Z"
   },
   {
    "duration": 30,
    "start_time": "2023-02-12T11:23:30.852Z"
   },
   {
    "duration": 34,
    "start_time": "2023-02-12T11:23:30.884Z"
   },
   {
    "duration": 17,
    "start_time": "2023-02-12T11:23:30.920Z"
   },
   {
    "duration": 77,
    "start_time": "2023-02-12T11:28:32.743Z"
   },
   {
    "duration": 5,
    "start_time": "2023-02-12T11:28:47.286Z"
   },
   {
    "duration": 48,
    "start_time": "2023-02-12T11:31:11.206Z"
   },
   {
    "duration": 694,
    "start_time": "2023-02-12T11:31:23.675Z"
   },
   {
    "duration": 7,
    "start_time": "2023-02-12T11:31:49.368Z"
   },
   {
    "duration": 48,
    "start_time": "2023-02-12T11:32:44.342Z"
   },
   {
    "duration": 5,
    "start_time": "2023-02-12T11:32:52.402Z"
   },
   {
    "duration": 3,
    "start_time": "2023-02-12T11:34:02.271Z"
   },
   {
    "duration": 9,
    "start_time": "2023-02-12T11:42:18.440Z"
   },
   {
    "duration": 3,
    "start_time": "2023-02-12T11:42:26.533Z"
   },
   {
    "duration": 12,
    "start_time": "2023-02-12T11:42:36.282Z"
   },
   {
    "duration": 3156,
    "start_time": "2023-02-12T11:43:03.922Z"
   },
   {
    "duration": 3048,
    "start_time": "2023-02-12T11:45:25.506Z"
   },
   {
    "duration": 1113,
    "start_time": "2023-02-12T11:46:31.848Z"
   },
   {
    "duration": 8,
    "start_time": "2023-02-12T11:49:08.641Z"
   },
   {
    "duration": 8,
    "start_time": "2023-02-12T11:49:24.944Z"
   },
   {
    "duration": 30,
    "start_time": "2023-02-12T11:50:18.930Z"
   },
   {
    "duration": 12,
    "start_time": "2023-02-12T11:50:47.289Z"
   },
   {
    "duration": 10,
    "start_time": "2023-02-12T11:50:58.969Z"
   },
   {
    "duration": 12,
    "start_time": "2023-02-12T11:51:26.637Z"
   },
   {
    "duration": 14,
    "start_time": "2023-02-12T11:52:49.582Z"
   },
   {
    "duration": 292,
    "start_time": "2023-02-12T11:52:59.334Z"
   },
   {
    "duration": 11,
    "start_time": "2023-02-12T11:53:57.479Z"
   },
   {
    "duration": 40,
    "start_time": "2023-02-12T11:54:05.126Z"
   },
   {
    "duration": 42,
    "start_time": "2023-02-12T11:56:12.404Z"
   },
   {
    "duration": 33,
    "start_time": "2023-02-12T11:56:18.556Z"
   },
   {
    "duration": 30,
    "start_time": "2023-02-12T11:56:52.389Z"
   },
   {
    "duration": 48,
    "start_time": "2023-02-12T11:58:09.577Z"
   },
   {
    "duration": 47,
    "start_time": "2023-02-12T11:58:29.038Z"
   },
   {
    "duration": 45,
    "start_time": "2023-02-12T11:58:52.889Z"
   },
   {
    "duration": 34,
    "start_time": "2023-02-12T11:59:42.038Z"
   },
   {
    "duration": 56,
    "start_time": "2023-02-12T12:00:03.871Z"
   },
   {
    "duration": 18,
    "start_time": "2023-02-12T12:02:35.462Z"
   },
   {
    "duration": 11,
    "start_time": "2023-02-12T12:03:31.217Z"
   },
   {
    "duration": 4,
    "start_time": "2023-02-12T12:03:42.513Z"
   },
   {
    "duration": 35,
    "start_time": "2023-02-12T12:03:51.717Z"
   },
   {
    "duration": 39,
    "start_time": "2023-02-12T12:04:02.586Z"
   },
   {
    "duration": 43,
    "start_time": "2023-02-12T12:04:22.526Z"
   },
   {
    "duration": 737,
    "start_time": "2023-02-12T12:06:26.157Z"
   },
   {
    "duration": 180,
    "start_time": "2023-02-12T12:06:46.187Z"
   },
   {
    "duration": 11,
    "start_time": "2023-02-12T12:07:53.104Z"
   },
   {
    "duration": 5,
    "start_time": "2023-02-12T12:08:01.041Z"
   },
   {
    "duration": 1187,
    "start_time": "2023-02-12T18:27:45.671Z"
   },
   {
    "duration": 182,
    "start_time": "2023-02-12T18:27:46.860Z"
   },
   {
    "duration": 16,
    "start_time": "2023-02-12T18:27:47.047Z"
   },
   {
    "duration": 21,
    "start_time": "2023-02-12T18:27:47.064Z"
   },
   {
    "duration": 4,
    "start_time": "2023-02-12T18:27:47.087Z"
   },
   {
    "duration": 9,
    "start_time": "2023-02-12T18:27:47.093Z"
   },
   {
    "duration": 26,
    "start_time": "2023-02-12T18:27:47.104Z"
   },
   {
    "duration": 18,
    "start_time": "2023-02-12T18:27:47.137Z"
   },
   {
    "duration": 6,
    "start_time": "2023-02-12T18:27:47.158Z"
   },
   {
    "duration": 29,
    "start_time": "2023-02-12T18:27:47.165Z"
   },
   {
    "duration": 19,
    "start_time": "2023-02-12T18:27:47.196Z"
   },
   {
    "duration": 29,
    "start_time": "2023-02-12T18:27:47.218Z"
   },
   {
    "duration": 31,
    "start_time": "2023-02-12T18:27:47.249Z"
   },
   {
    "duration": 20,
    "start_time": "2023-02-12T18:27:47.283Z"
   },
   {
    "duration": 12,
    "start_time": "2023-02-12T18:27:47.305Z"
   },
   {
    "duration": 25,
    "start_time": "2023-02-12T18:27:47.319Z"
   },
   {
    "duration": 24,
    "start_time": "2023-02-12T18:27:47.346Z"
   },
   {
    "duration": 967,
    "start_time": "2023-02-12T18:27:47.373Z"
   },
   {
    "duration": 127,
    "start_time": "2023-02-12T18:27:48.342Z"
   },
   {
    "duration": 157,
    "start_time": "2023-02-12T18:27:48.471Z"
   },
   {
    "duration": 9,
    "start_time": "2023-02-12T18:27:48.629Z"
   },
   {
    "duration": 3,
    "start_time": "2023-02-12T18:30:21.118Z"
   },
   {
    "duration": 552,
    "start_time": "2023-02-12T18:31:14.188Z"
   },
   {
    "duration": 554,
    "start_time": "2023-02-12T18:32:45.886Z"
   },
   {
    "duration": 845,
    "start_time": "2023-02-12T18:33:14.154Z"
   },
   {
    "duration": 713,
    "start_time": "2023-02-12T18:33:30.626Z"
   },
   {
    "duration": 637,
    "start_time": "2023-02-12T18:33:53.707Z"
   },
   {
    "duration": 35,
    "start_time": "2023-02-12T18:34:49.901Z"
   },
   {
    "duration": 153,
    "start_time": "2023-02-12T18:35:57.906Z"
   },
   {
    "duration": 163,
    "start_time": "2023-02-12T18:43:01.076Z"
   },
   {
    "duration": 39,
    "start_time": "2023-02-12T18:44:20.351Z"
   },
   {
    "duration": 165,
    "start_time": "2023-02-12T18:45:18.023Z"
   },
   {
    "duration": 16,
    "start_time": "2023-02-12T18:55:44.833Z"
   },
   {
    "duration": 13,
    "start_time": "2023-02-12T18:57:30.952Z"
   },
   {
    "duration": 20,
    "start_time": "2023-02-12T18:59:29.429Z"
   },
   {
    "duration": 3,
    "start_time": "2023-02-12T18:59:52.108Z"
   },
   {
    "duration": 433,
    "start_time": "2023-02-12T19:00:29.366Z"
   },
   {
    "duration": 36,
    "start_time": "2023-02-12T19:00:41.178Z"
   },
   {
    "duration": 148,
    "start_time": "2023-02-12T19:01:08.732Z"
   },
   {
    "duration": 134,
    "start_time": "2023-02-12T19:06:42.214Z"
   },
   {
    "duration": 5,
    "start_time": "2023-02-12T19:06:57.165Z"
   },
   {
    "duration": 109,
    "start_time": "2023-02-12T19:07:51.041Z"
   },
   {
    "duration": 96,
    "start_time": "2023-02-12T19:08:03.065Z"
   },
   {
    "duration": 69,
    "start_time": "2023-02-12T19:08:08.106Z"
   },
   {
    "duration": 4,
    "start_time": "2023-02-12T19:08:18.807Z"
   },
   {
    "duration": 111,
    "start_time": "2023-02-12T19:08:31.729Z"
   },
   {
    "duration": 4,
    "start_time": "2023-02-12T19:08:42.955Z"
   },
   {
    "duration": 5,
    "start_time": "2023-02-12T19:08:58.757Z"
   },
   {
    "duration": 12,
    "start_time": "2023-02-12T19:11:46.871Z"
   },
   {
    "duration": 5,
    "start_time": "2023-02-12T19:12:06.489Z"
   },
   {
    "duration": 19,
    "start_time": "2023-02-12T19:14:51.951Z"
   },
   {
    "duration": 55,
    "start_time": "2023-02-12T19:18:45.826Z"
   },
   {
    "duration": 45,
    "start_time": "2023-02-12T19:19:03.392Z"
   },
   {
    "duration": 45,
    "start_time": "2023-02-12T19:20:09.175Z"
   },
   {
    "duration": 53,
    "start_time": "2023-02-12T19:20:26.062Z"
   },
   {
    "duration": 1345,
    "start_time": "2023-02-13T17:13:23.802Z"
   },
   {
    "duration": 80,
    "start_time": "2023-02-13T17:13:25.149Z"
   },
   {
    "duration": 12,
    "start_time": "2023-02-13T17:13:25.231Z"
   },
   {
    "duration": 15,
    "start_time": "2023-02-13T17:13:25.245Z"
   },
   {
    "duration": 3,
    "start_time": "2023-02-13T17:13:25.261Z"
   },
   {
    "duration": 8,
    "start_time": "2023-02-13T17:13:25.265Z"
   },
   {
    "duration": 8,
    "start_time": "2023-02-13T17:13:25.274Z"
   },
   {
    "duration": 5,
    "start_time": "2023-02-13T17:13:25.283Z"
   },
   {
    "duration": 4,
    "start_time": "2023-02-13T17:13:25.290Z"
   },
   {
    "duration": 11,
    "start_time": "2023-02-13T17:13:25.297Z"
   },
   {
    "duration": 30,
    "start_time": "2023-02-13T17:13:25.309Z"
   },
   {
    "duration": 6,
    "start_time": "2023-02-13T17:13:25.341Z"
   },
   {
    "duration": 12,
    "start_time": "2023-02-13T17:13:25.348Z"
   },
   {
    "duration": 10,
    "start_time": "2023-02-13T17:13:25.362Z"
   },
   {
    "duration": 6,
    "start_time": "2023-02-13T17:13:25.374Z"
   },
   {
    "duration": 8,
    "start_time": "2023-02-13T17:13:25.381Z"
   },
   {
    "duration": 7,
    "start_time": "2023-02-13T17:13:25.390Z"
   },
   {
    "duration": 738,
    "start_time": "2023-02-13T17:13:25.398Z"
   },
   {
    "duration": 32,
    "start_time": "2023-02-13T17:13:26.138Z"
   },
   {
    "duration": 153,
    "start_time": "2023-02-13T17:13:26.171Z"
   },
   {
    "duration": 15,
    "start_time": "2023-02-13T17:13:26.326Z"
   },
   {
    "duration": 98,
    "start_time": "2023-02-13T17:13:26.342Z"
   },
   {
    "duration": 363,
    "start_time": "2023-02-13T17:13:26.442Z"
   },
   {
    "duration": 52,
    "start_time": "2023-02-13T17:13:26.807Z"
   },
   {
    "duration": 32,
    "start_time": "2023-02-13T17:13:26.861Z"
   },
   {
    "duration": 148,
    "start_time": "2023-02-13T17:13:26.894Z"
   },
   {
    "duration": 3,
    "start_time": "2023-02-13T17:20:28.243Z"
   },
   {
    "duration": 51,
    "start_time": "2023-02-13T17:22:44.587Z"
   },
   {
    "duration": 56,
    "start_time": "2023-02-13T17:22:57.730Z"
   },
   {
    "duration": 114,
    "start_time": "2023-02-13T17:23:07.538Z"
   },
   {
    "duration": 8,
    "start_time": "2023-02-13T17:26:13.882Z"
   },
   {
    "duration": 3,
    "start_time": "2023-02-13T17:26:22.223Z"
   },
   {
    "duration": 4,
    "start_time": "2023-02-13T17:26:41.497Z"
   },
   {
    "duration": 5,
    "start_time": "2023-02-13T17:29:59.217Z"
   },
   {
    "duration": 12,
    "start_time": "2023-02-13T17:32:55.557Z"
   },
   {
    "duration": 13,
    "start_time": "2023-02-13T17:33:39.385Z"
   },
   {
    "duration": 13,
    "start_time": "2023-02-13T17:34:16.915Z"
   },
   {
    "duration": 13,
    "start_time": "2023-02-13T17:35:16.835Z"
   },
   {
    "duration": 4,
    "start_time": "2023-02-13T17:35:19.171Z"
   },
   {
    "duration": 4,
    "start_time": "2023-02-13T17:35:38.745Z"
   },
   {
    "duration": 38,
    "start_time": "2023-02-13T17:35:41.606Z"
   },
   {
    "duration": 4,
    "start_time": "2023-02-13T17:38:10.886Z"
   },
   {
    "duration": 30,
    "start_time": "2023-02-13T17:38:13.306Z"
   },
   {
    "duration": 3,
    "start_time": "2023-02-13T17:38:43.598Z"
   },
   {
    "duration": 47,
    "start_time": "2023-02-13T17:38:47.491Z"
   },
   {
    "duration": 4,
    "start_time": "2023-02-13T17:38:59.732Z"
   },
   {
    "duration": 53,
    "start_time": "2023-02-13T17:39:02.296Z"
   },
   {
    "duration": 4,
    "start_time": "2023-02-13T17:39:56.756Z"
   },
   {
    "duration": 30,
    "start_time": "2023-02-13T17:40:01.657Z"
   },
   {
    "duration": 4,
    "start_time": "2023-02-13T17:41:12.209Z"
   },
   {
    "duration": 32,
    "start_time": "2023-02-13T17:41:14.615Z"
   },
   {
    "duration": 3,
    "start_time": "2023-02-13T17:43:05.277Z"
   },
   {
    "duration": 129,
    "start_time": "2023-02-13T17:43:07.910Z"
   },
   {
    "duration": 3,
    "start_time": "2023-02-13T17:43:29.511Z"
   },
   {
    "duration": 32,
    "start_time": "2023-02-13T17:43:39.717Z"
   },
   {
    "duration": 3,
    "start_time": "2023-02-13T17:45:49.052Z"
   },
   {
    "duration": 126,
    "start_time": "2023-02-13T17:46:13.112Z"
   },
   {
    "duration": 51,
    "start_time": "2023-02-13T17:47:15.019Z"
   },
   {
    "duration": 3,
    "start_time": "2023-02-13T17:47:32.563Z"
   },
   {
    "duration": 55,
    "start_time": "2023-02-13T17:47:35.493Z"
   },
   {
    "duration": 74,
    "start_time": "2023-02-13T17:48:05.863Z"
   },
   {
    "duration": 4,
    "start_time": "2023-02-13T17:49:26.768Z"
   },
   {
    "duration": 347,
    "start_time": "2023-02-13T17:52:45.691Z"
   },
   {
    "duration": 320,
    "start_time": "2023-02-13T17:53:47.720Z"
   },
   {
    "duration": 5,
    "start_time": "2023-02-13T17:55:46.011Z"
   },
   {
    "duration": 453,
    "start_time": "2023-02-13T17:55:55.786Z"
   },
   {
    "duration": 5,
    "start_time": "2023-02-13T17:59:52.160Z"
   },
   {
    "duration": 4,
    "start_time": "2023-02-13T18:00:03.802Z"
   },
   {
    "duration": 4,
    "start_time": "2023-02-13T18:00:13.902Z"
   },
   {
    "duration": 4,
    "start_time": "2023-02-13T18:00:30.107Z"
   },
   {
    "duration": 422,
    "start_time": "2023-02-13T18:00:43.031Z"
   },
   {
    "duration": 43,
    "start_time": "2023-02-13T18:02:36.196Z"
   },
   {
    "duration": 4,
    "start_time": "2023-02-13T18:02:48.715Z"
   },
   {
    "duration": 3,
    "start_time": "2023-02-13T18:04:23.304Z"
   },
   {
    "duration": 9,
    "start_time": "2023-02-13T18:04:32.055Z"
   },
   {
    "duration": 8,
    "start_time": "2023-02-13T18:04:41.279Z"
   },
   {
    "duration": 9,
    "start_time": "2023-02-13T18:04:48.378Z"
   },
   {
    "duration": 4,
    "start_time": "2023-02-13T18:05:41.512Z"
   },
   {
    "duration": 4,
    "start_time": "2023-02-13T18:05:57.533Z"
   },
   {
    "duration": 387,
    "start_time": "2023-02-13T18:06:01.654Z"
   },
   {
    "duration": 4,
    "start_time": "2023-02-13T18:06:31.370Z"
   },
   {
    "duration": 344,
    "start_time": "2023-02-13T18:06:35.098Z"
   },
   {
    "duration": 4,
    "start_time": "2023-02-13T18:07:38.736Z"
   },
   {
    "duration": 421,
    "start_time": "2023-02-13T18:07:41.817Z"
   },
   {
    "duration": 4,
    "start_time": "2023-02-13T18:08:08.758Z"
   },
   {
    "duration": 472,
    "start_time": "2023-02-13T18:08:11.566Z"
   },
   {
    "duration": 4,
    "start_time": "2023-02-13T18:08:27.771Z"
   },
   {
    "duration": 4,
    "start_time": "2023-02-13T18:08:40.537Z"
   },
   {
    "duration": 371,
    "start_time": "2023-02-13T18:08:43.468Z"
   },
   {
    "duration": 6,
    "start_time": "2023-02-13T18:09:10.191Z"
   },
   {
    "duration": 4,
    "start_time": "2023-02-13T18:09:23.089Z"
   },
   {
    "duration": 2632,
    "start_time": "2023-02-13T18:09:38.217Z"
   },
   {
    "duration": 11,
    "start_time": "2023-02-13T18:10:08.747Z"
   },
   {
    "duration": 5,
    "start_time": "2023-02-13T18:10:16.015Z"
   },
   {
    "duration": 368,
    "start_time": "2023-02-13T18:10:19.981Z"
   },
   {
    "duration": 4,
    "start_time": "2023-02-13T18:10:41.366Z"
   },
   {
    "duration": 446,
    "start_time": "2023-02-13T18:10:44.596Z"
   },
   {
    "duration": 9,
    "start_time": "2023-02-13T18:11:31.976Z"
   },
   {
    "duration": 33,
    "start_time": "2023-02-13T18:11:43.441Z"
   },
   {
    "duration": 6,
    "start_time": "2023-02-13T18:12:44.814Z"
   },
   {
    "duration": 131,
    "start_time": "2023-02-13T18:13:40.077Z"
   },
   {
    "duration": 29,
    "start_time": "2023-02-13T18:14:03.440Z"
   },
   {
    "duration": 4,
    "start_time": "2023-02-13T18:15:26.757Z"
   },
   {
    "duration": 356,
    "start_time": "2023-02-13T18:15:32.392Z"
   },
   {
    "duration": 32,
    "start_time": "2023-02-13T18:15:37.485Z"
   },
   {
    "duration": 106,
    "start_time": "2023-02-13T18:20:21.939Z"
   },
   {
    "duration": 263,
    "start_time": "2023-02-13T18:20:25.150Z"
   },
   {
    "duration": 82,
    "start_time": "2023-02-13T18:21:05.462Z"
   },
   {
    "duration": 293,
    "start_time": "2023-02-13T18:21:15.535Z"
   },
   {
    "duration": 4,
    "start_time": "2023-02-13T19:02:58.237Z"
   },
   {
    "duration": 100,
    "start_time": "2023-02-13T19:04:15.863Z"
   },
   {
    "duration": 4,
    "start_time": "2023-02-13T19:04:23.938Z"
   },
   {
    "duration": 8,
    "start_time": "2023-02-13T19:04:55.063Z"
   },
   {
    "duration": 3,
    "start_time": "2023-02-13T19:05:04.588Z"
   },
   {
    "duration": 10,
    "start_time": "2023-02-13T19:05:14.863Z"
   },
   {
    "duration": 3,
    "start_time": "2023-02-13T19:08:08.539Z"
   },
   {
    "duration": 3,
    "start_time": "2023-02-13T19:08:22.819Z"
   },
   {
    "duration": 3,
    "start_time": "2023-02-13T19:08:32.664Z"
   },
   {
    "duration": 4,
    "start_time": "2023-02-13T19:08:41.364Z"
   },
   {
    "duration": 10,
    "start_time": "2023-02-13T19:08:50.050Z"
   },
   {
    "duration": 8,
    "start_time": "2023-02-13T19:10:25.789Z"
   },
   {
    "duration": 10,
    "start_time": "2023-02-13T19:10:42.552Z"
   },
   {
    "duration": 1509,
    "start_time": "2023-02-14T16:47:45.926Z"
   },
   {
    "duration": 4,
    "start_time": "2023-02-14T16:49:34.215Z"
   },
   {
    "duration": 3,
    "start_time": "2023-02-14T16:50:09.121Z"
   },
   {
    "duration": 84,
    "start_time": "2023-02-14T16:50:09.126Z"
   },
   {
    "duration": 14,
    "start_time": "2023-02-14T16:50:09.212Z"
   },
   {
    "duration": 16,
    "start_time": "2023-02-14T16:50:09.228Z"
   },
   {
    "duration": 3,
    "start_time": "2023-02-14T16:50:09.246Z"
   },
   {
    "duration": 6,
    "start_time": "2023-02-14T16:50:09.251Z"
   },
   {
    "duration": 8,
    "start_time": "2023-02-14T16:50:09.259Z"
   },
   {
    "duration": 9,
    "start_time": "2023-02-14T16:50:09.268Z"
   },
   {
    "duration": 17,
    "start_time": "2023-02-14T16:50:09.278Z"
   },
   {
    "duration": 8,
    "start_time": "2023-02-14T16:50:09.297Z"
   },
   {
    "duration": 6,
    "start_time": "2023-02-14T16:50:09.307Z"
   },
   {
    "duration": 5,
    "start_time": "2023-02-14T16:50:09.315Z"
   },
   {
    "duration": 13,
    "start_time": "2023-02-14T16:50:09.321Z"
   },
   {
    "duration": 10,
    "start_time": "2023-02-14T16:50:09.336Z"
   },
   {
    "duration": 4,
    "start_time": "2023-02-14T16:50:09.347Z"
   },
   {
    "duration": 6,
    "start_time": "2023-02-14T16:50:09.353Z"
   },
   {
    "duration": 6,
    "start_time": "2023-02-14T16:50:14.960Z"
   },
   {
    "duration": 111,
    "start_time": "2023-02-14T16:52:19.456Z"
   },
   {
    "duration": 12,
    "start_time": "2023-02-14T16:53:10.019Z"
   },
   {
    "duration": 16,
    "start_time": "2023-02-14T16:54:45.676Z"
   },
   {
    "duration": 13,
    "start_time": "2023-02-14T17:00:17.129Z"
   },
   {
    "duration": 15,
    "start_time": "2023-02-14T17:00:29.328Z"
   },
   {
    "duration": 29,
    "start_time": "2023-02-14T17:00:50.476Z"
   },
   {
    "duration": 26,
    "start_time": "2023-02-14T17:01:31.959Z"
   },
   {
    "duration": 9,
    "start_time": "2023-02-14T17:14:54.846Z"
   },
   {
    "duration": 5,
    "start_time": "2023-02-14T17:15:14.125Z"
   },
   {
    "duration": 8,
    "start_time": "2023-02-14T17:15:48.411Z"
   },
   {
    "duration": 16,
    "start_time": "2023-02-14T17:15:58.456Z"
   },
   {
    "duration": 8,
    "start_time": "2023-02-14T17:16:23.152Z"
   },
   {
    "duration": 3,
    "start_time": "2023-02-14T17:16:34.592Z"
   },
   {
    "duration": 4,
    "start_time": "2023-02-14T17:16:43.190Z"
   },
   {
    "duration": 4,
    "start_time": "2023-02-14T17:16:50.590Z"
   },
   {
    "duration": 6,
    "start_time": "2023-02-14T17:17:27.521Z"
   },
   {
    "duration": 8,
    "start_time": "2023-02-14T17:17:30.418Z"
   },
   {
    "duration": 17,
    "start_time": "2023-02-14T17:17:37.567Z"
   },
   {
    "duration": 3,
    "start_time": "2023-02-14T17:17:51.826Z"
   },
   {
    "duration": 9,
    "start_time": "2023-02-14T17:18:55.024Z"
   },
   {
    "duration": 2,
    "start_time": "2023-02-14T17:19:02.769Z"
   },
   {
    "duration": 4,
    "start_time": "2023-02-14T17:19:11.710Z"
   },
   {
    "duration": 8,
    "start_time": "2023-02-14T17:19:21.006Z"
   },
   {
    "duration": 4,
    "start_time": "2023-02-14T17:23:54.142Z"
   },
   {
    "duration": 6,
    "start_time": "2023-02-14T17:24:27.087Z"
   },
   {
    "duration": 17,
    "start_time": "2023-02-14T17:24:42.731Z"
   },
   {
    "duration": 18,
    "start_time": "2023-02-14T17:24:59.144Z"
   },
   {
    "duration": 7,
    "start_time": "2023-02-14T17:37:07.437Z"
   },
   {
    "duration": 8,
    "start_time": "2023-02-14T17:38:24.313Z"
   },
   {
    "duration": 6,
    "start_time": "2023-02-14T17:41:23.735Z"
   },
   {
    "duration": 29,
    "start_time": "2023-02-14T17:48:12.337Z"
   },
   {
    "duration": 29,
    "start_time": "2023-02-14T17:49:48.762Z"
   },
   {
    "duration": 26,
    "start_time": "2023-02-14T17:50:56.512Z"
   },
   {
    "duration": 4,
    "start_time": "2023-02-14T17:54:21.644Z"
   },
   {
    "duration": 257,
    "start_time": "2023-02-14T17:54:25.444Z"
   },
   {
    "duration": 36,
    "start_time": "2023-02-14T17:54:55.644Z"
   },
   {
    "duration": 138,
    "start_time": "2023-02-14T17:56:36.975Z"
   },
   {
    "duration": 137,
    "start_time": "2023-02-14T17:57:00.248Z"
   },
   {
    "duration": 10,
    "start_time": "2023-02-14T17:58:05.713Z"
   },
   {
    "duration": 4,
    "start_time": "2023-02-14T17:58:16.167Z"
   },
   {
    "duration": 25,
    "start_time": "2023-02-14T17:58:49.816Z"
   },
   {
    "duration": 30,
    "start_time": "2023-02-14T18:00:34.783Z"
   },
   {
    "duration": 9,
    "start_time": "2023-02-14T18:01:07.446Z"
   },
   {
    "duration": 9,
    "start_time": "2023-02-14T18:01:25.325Z"
   },
   {
    "duration": 78,
    "start_time": "2023-02-14T18:01:34.218Z"
   },
   {
    "duration": 30,
    "start_time": "2023-02-14T18:04:15.724Z"
   },
   {
    "duration": 132,
    "start_time": "2023-02-14T18:05:37.824Z"
   },
   {
    "duration": 6,
    "start_time": "2023-02-14T18:06:12.585Z"
   },
   {
    "duration": 1320,
    "start_time": "2023-02-14T18:06:24.810Z"
   },
   {
    "duration": 39,
    "start_time": "2023-02-14T18:06:26.132Z"
   },
   {
    "duration": 16,
    "start_time": "2023-02-14T18:06:26.173Z"
   },
   {
    "duration": 25,
    "start_time": "2023-02-14T18:06:26.191Z"
   },
   {
    "duration": 17,
    "start_time": "2023-02-14T18:06:26.219Z"
   },
   {
    "duration": 17,
    "start_time": "2023-02-14T18:06:26.238Z"
   },
   {
    "duration": 19,
    "start_time": "2023-02-14T18:06:26.257Z"
   },
   {
    "duration": 36,
    "start_time": "2023-02-14T18:06:26.278Z"
   },
   {
    "duration": 7,
    "start_time": "2023-02-14T18:06:26.315Z"
   },
   {
    "duration": 16,
    "start_time": "2023-02-14T18:06:26.323Z"
   },
   {
    "duration": 22,
    "start_time": "2023-02-14T18:06:26.341Z"
   },
   {
    "duration": 24,
    "start_time": "2023-02-14T18:06:26.365Z"
   },
   {
    "duration": 31,
    "start_time": "2023-02-14T18:06:26.391Z"
   },
   {
    "duration": 11,
    "start_time": "2023-02-14T18:06:26.425Z"
   },
   {
    "duration": 5,
    "start_time": "2023-02-14T18:06:26.437Z"
   },
   {
    "duration": 4,
    "start_time": "2023-02-14T18:06:26.444Z"
   },
   {
    "duration": 6,
    "start_time": "2023-02-14T18:06:26.450Z"
   },
   {
    "duration": 5,
    "start_time": "2023-02-14T18:06:26.458Z"
   },
   {
    "duration": 6,
    "start_time": "2023-02-14T18:06:26.465Z"
   },
   {
    "duration": 125,
    "start_time": "2023-02-14T18:06:26.473Z"
   },
   {
    "duration": 0,
    "start_time": "2023-02-14T18:06:26.600Z"
   },
   {
    "duration": 0,
    "start_time": "2023-02-14T18:06:26.601Z"
   },
   {
    "duration": 0,
    "start_time": "2023-02-14T18:06:26.602Z"
   },
   {
    "duration": 0,
    "start_time": "2023-02-14T18:06:26.603Z"
   },
   {
    "duration": 0,
    "start_time": "2023-02-14T18:06:26.604Z"
   },
   {
    "duration": 0,
    "start_time": "2023-02-14T18:06:26.605Z"
   },
   {
    "duration": 0,
    "start_time": "2023-02-14T18:06:26.606Z"
   },
   {
    "duration": 0,
    "start_time": "2023-02-14T18:06:26.607Z"
   },
   {
    "duration": 0,
    "start_time": "2023-02-14T18:06:26.608Z"
   },
   {
    "duration": 0,
    "start_time": "2023-02-14T18:06:26.609Z"
   },
   {
    "duration": 0,
    "start_time": "2023-02-14T18:06:26.610Z"
   },
   {
    "duration": 0,
    "start_time": "2023-02-14T18:06:26.611Z"
   },
   {
    "duration": 0,
    "start_time": "2023-02-14T18:06:26.612Z"
   },
   {
    "duration": 0,
    "start_time": "2023-02-14T18:06:26.613Z"
   },
   {
    "duration": 27,
    "start_time": "2023-02-14T18:08:01.138Z"
   },
   {
    "duration": 4,
    "start_time": "2023-02-14T18:08:16.363Z"
   },
   {
    "duration": 238,
    "start_time": "2023-02-14T18:08:19.358Z"
   },
   {
    "duration": 21,
    "start_time": "2023-02-14T18:08:27.028Z"
   },
   {
    "duration": 139,
    "start_time": "2023-02-14T18:08:37.432Z"
   },
   {
    "duration": 26,
    "start_time": "2023-02-14T18:08:49.725Z"
   },
   {
    "duration": 29,
    "start_time": "2023-02-14T18:09:08.739Z"
   },
   {
    "duration": 127,
    "start_time": "2023-02-14T18:09:16.712Z"
   },
   {
    "duration": 537,
    "start_time": "2023-02-14T18:40:40.681Z"
   },
   {
    "duration": 12,
    "start_time": "2023-02-14T18:44:34.139Z"
   },
   {
    "duration": 58,
    "start_time": "2023-02-14T18:45:04.671Z"
   },
   {
    "duration": 57,
    "start_time": "2023-02-14T18:45:11.239Z"
   },
   {
    "duration": 9,
    "start_time": "2023-02-14T18:45:24.538Z"
   },
   {
    "duration": 56,
    "start_time": "2023-02-14T18:46:18.906Z"
   },
   {
    "duration": 1755,
    "start_time": "2023-02-14T18:47:21.706Z"
   },
   {
    "duration": 3442,
    "start_time": "2023-02-14T18:49:13.044Z"
   },
   {
    "duration": 5636,
    "start_time": "2023-02-14T18:49:54.846Z"
   },
   {
    "duration": 7740,
    "start_time": "2023-02-14T18:51:12.628Z"
   },
   {
    "duration": 7268,
    "start_time": "2023-02-14T18:51:28.124Z"
   },
   {
    "duration": 5344,
    "start_time": "2023-02-14T18:51:43.018Z"
   },
   {
    "duration": 5669,
    "start_time": "2023-02-14T18:51:56.881Z"
   },
   {
    "duration": 639,
    "start_time": "2023-02-14T18:54:55.374Z"
   },
   {
    "duration": 50,
    "start_time": "2023-02-15T12:18:08.062Z"
   },
   {
    "duration": 38,
    "start_time": "2023-02-15T12:18:31.783Z"
   },
   {
    "duration": 47,
    "start_time": "2023-02-15T12:18:52.150Z"
   },
   {
    "duration": 54,
    "start_time": "2023-02-15T12:19:10.950Z"
   },
   {
    "duration": 5,
    "start_time": "2023-02-15T12:19:55.525Z"
   },
   {
    "duration": 3,
    "start_time": "2023-02-15T12:20:06.625Z"
   },
   {
    "duration": 1626,
    "start_time": "2023-02-15T12:21:53.066Z"
   },
   {
    "duration": 79,
    "start_time": "2023-02-15T12:21:54.694Z"
   },
   {
    "duration": 13,
    "start_time": "2023-02-15T12:21:54.775Z"
   },
   {
    "duration": 16,
    "start_time": "2023-02-15T12:21:54.790Z"
   },
   {
    "duration": 3,
    "start_time": "2023-02-15T12:21:54.807Z"
   },
   {
    "duration": 6,
    "start_time": "2023-02-15T12:21:54.812Z"
   },
   {
    "duration": 12,
    "start_time": "2023-02-15T12:21:54.819Z"
   },
   {
    "duration": 8,
    "start_time": "2023-02-15T12:21:54.832Z"
   },
   {
    "duration": 6,
    "start_time": "2023-02-15T12:21:54.842Z"
   },
   {
    "duration": 9,
    "start_time": "2023-02-15T12:21:54.850Z"
   },
   {
    "duration": 11,
    "start_time": "2023-02-15T12:21:54.860Z"
   },
   {
    "duration": 25,
    "start_time": "2023-02-15T12:21:54.873Z"
   },
   {
    "duration": 14,
    "start_time": "2023-02-15T12:21:54.900Z"
   },
   {
    "duration": 10,
    "start_time": "2023-02-15T12:21:54.915Z"
   },
   {
    "duration": 5,
    "start_time": "2023-02-15T12:21:54.926Z"
   },
   {
    "duration": 7,
    "start_time": "2023-02-15T12:21:54.932Z"
   },
   {
    "duration": 10,
    "start_time": "2023-02-15T12:21:54.941Z"
   },
   {
    "duration": 14,
    "start_time": "2023-02-15T12:21:54.953Z"
   },
   {
    "duration": 109,
    "start_time": "2023-02-15T12:22:07.596Z"
   },
   {
    "duration": 4,
    "start_time": "2023-02-15T12:23:18.918Z"
   },
   {
    "duration": 11,
    "start_time": "2023-02-15T12:23:28.386Z"
   },
   {
    "duration": 4,
    "start_time": "2023-02-15T12:23:41.922Z"
   },
   {
    "duration": 5,
    "start_time": "2023-02-15T12:23:45.789Z"
   },
   {
    "duration": 5,
    "start_time": "2023-02-15T12:25:28.243Z"
   },
   {
    "duration": 9,
    "start_time": "2023-02-15T12:26:56.451Z"
   },
   {
    "duration": 9,
    "start_time": "2023-02-15T12:27:43.001Z"
   },
   {
    "duration": 7,
    "start_time": "2023-02-15T12:27:59.126Z"
   },
   {
    "duration": 10,
    "start_time": "2023-02-15T12:28:31.810Z"
   },
   {
    "duration": 8,
    "start_time": "2023-02-15T12:28:45.469Z"
   },
   {
    "duration": 5,
    "start_time": "2023-02-15T12:28:52.390Z"
   },
   {
    "duration": 14,
    "start_time": "2023-02-15T12:30:35.124Z"
   },
   {
    "duration": 4,
    "start_time": "2023-02-15T12:37:52.887Z"
   },
   {
    "duration": 3,
    "start_time": "2023-02-15T12:37:55.923Z"
   },
   {
    "duration": 16,
    "start_time": "2023-02-15T12:38:14.640Z"
   },
   {
    "duration": 5,
    "start_time": "2023-02-15T12:38:42.427Z"
   },
   {
    "duration": 17,
    "start_time": "2023-02-15T12:38:51.942Z"
   },
   {
    "duration": 5,
    "start_time": "2023-02-15T12:39:13.449Z"
   },
   {
    "duration": 16,
    "start_time": "2023-02-15T12:39:22.365Z"
   },
   {
    "duration": 5,
    "start_time": "2023-02-15T12:40:21.559Z"
   },
   {
    "duration": 14,
    "start_time": "2023-02-15T12:40:32.682Z"
   },
   {
    "duration": 6,
    "start_time": "2023-02-15T12:41:20.709Z"
   },
   {
    "duration": 5,
    "start_time": "2023-02-15T12:41:27.481Z"
   },
   {
    "duration": 39,
    "start_time": "2023-02-15T12:41:38.183Z"
   },
   {
    "duration": 47,
    "start_time": "2023-02-15T12:50:47.607Z"
   },
   {
    "duration": 4,
    "start_time": "2023-02-15T12:51:04.730Z"
   },
   {
    "duration": 11,
    "start_time": "2023-02-15T12:53:52.563Z"
   },
   {
    "duration": 226,
    "start_time": "2023-02-15T12:55:15.578Z"
   },
   {
    "duration": 4,
    "start_time": "2023-02-15T12:56:05.531Z"
   },
   {
    "duration": 10,
    "start_time": "2023-02-15T12:56:42.850Z"
   },
   {
    "duration": 400,
    "start_time": "2023-02-15T12:57:56.402Z"
   },
   {
    "duration": 9,
    "start_time": "2023-02-15T12:58:14.480Z"
   },
   {
    "duration": 4,
    "start_time": "2023-02-15T12:59:40.808Z"
   },
   {
    "duration": 4,
    "start_time": "2023-02-15T13:04:02.574Z"
   },
   {
    "duration": 695,
    "start_time": "2023-02-15T13:04:11.499Z"
   },
   {
    "duration": 12,
    "start_time": "2023-02-15T13:04:22.489Z"
   },
   {
    "duration": 4,
    "start_time": "2023-02-15T13:06:00.839Z"
   },
   {
    "duration": 139,
    "start_time": "2023-02-15T13:06:12.258Z"
   },
   {
    "duration": 18,
    "start_time": "2023-02-15T13:06:23.939Z"
   },
   {
    "duration": 6,
    "start_time": "2023-02-15T13:07:26.738Z"
   },
   {
    "duration": 230,
    "start_time": "2023-02-15T13:07:32.470Z"
   },
   {
    "duration": 16,
    "start_time": "2023-02-15T13:07:40.502Z"
   },
   {
    "duration": 47,
    "start_time": "2023-02-15T17:29:24.247Z"
   },
   {
    "duration": 4,
    "start_time": "2023-02-15T17:29:39.302Z"
   },
   {
    "duration": 6,
    "start_time": "2023-02-15T17:30:43.675Z"
   },
   {
    "duration": 287,
    "start_time": "2023-02-15T17:30:50.411Z"
   },
   {
    "duration": 17,
    "start_time": "2023-02-15T17:31:00.535Z"
   },
   {
    "duration": 5,
    "start_time": "2023-02-15T17:32:12.598Z"
   },
   {
    "duration": 255,
    "start_time": "2023-02-15T17:32:37.042Z"
   },
   {
    "duration": 15,
    "start_time": "2023-02-15T17:32:44.614Z"
   },
   {
    "duration": 4,
    "start_time": "2023-02-15T17:42:24.133Z"
   },
   {
    "duration": 4,
    "start_time": "2023-02-15T17:42:47.032Z"
   },
   {
    "duration": 3,
    "start_time": "2023-02-15T17:47:23.593Z"
   },
   {
    "duration": 5,
    "start_time": "2023-02-15T17:47:52.121Z"
   },
   {
    "duration": 682,
    "start_time": "2023-02-15T17:47:59.217Z"
   },
   {
    "duration": 17,
    "start_time": "2023-02-15T17:48:08.950Z"
   },
   {
    "duration": 3,
    "start_time": "2023-02-15T17:51:18.819Z"
   },
   {
    "duration": 4,
    "start_time": "2023-02-15T17:51:20.644Z"
   },
   {
    "duration": 222,
    "start_time": "2023-02-15T17:51:27.278Z"
   },
   {
    "duration": 18,
    "start_time": "2023-02-15T17:51:55.731Z"
   },
   {
    "duration": 6,
    "start_time": "2023-02-15T17:55:06.497Z"
   },
   {
    "duration": 299,
    "start_time": "2023-02-15T17:55:18.599Z"
   },
   {
    "duration": 12,
    "start_time": "2023-02-15T17:55:29.449Z"
   },
   {
    "duration": 4,
    "start_time": "2023-02-15T17:56:13.120Z"
   },
   {
    "duration": 221,
    "start_time": "2023-02-15T17:56:19.080Z"
   },
   {
    "duration": 47,
    "start_time": "2023-02-15T17:56:25.249Z"
   },
   {
    "duration": 4,
    "start_time": "2023-02-15T17:59:18.507Z"
   },
   {
    "duration": 311,
    "start_time": "2023-02-15T17:59:24.888Z"
   },
   {
    "duration": 14,
    "start_time": "2023-02-15T17:59:33.968Z"
   },
   {
    "duration": 220,
    "start_time": "2023-02-15T18:00:18.182Z"
   },
   {
    "duration": 13,
    "start_time": "2023-02-15T18:00:24.396Z"
   },
   {
    "duration": 215,
    "start_time": "2023-02-15T18:01:15.781Z"
   },
   {
    "duration": 5,
    "start_time": "2023-02-15T18:01:28.694Z"
   },
   {
    "duration": 279,
    "start_time": "2023-02-15T18:01:32.620Z"
   },
   {
    "duration": 83,
    "start_time": "2023-02-15T18:01:37.313Z"
   },
   {
    "duration": 6,
    "start_time": "2023-02-15T18:13:21.015Z"
   },
   {
    "duration": 270,
    "start_time": "2023-02-15T18:13:37.629Z"
   },
   {
    "duration": 32,
    "start_time": "2023-02-15T18:13:40.761Z"
   },
   {
    "duration": 14,
    "start_time": "2023-02-15T18:16:16.816Z"
   },
   {
    "duration": 5,
    "start_time": "2023-02-15T18:19:32.539Z"
   },
   {
    "duration": 253,
    "start_time": "2023-02-15T18:19:42.544Z"
   },
   {
    "duration": 33,
    "start_time": "2023-02-15T18:19:48.866Z"
   },
   {
    "duration": 5,
    "start_time": "2023-02-15T18:21:00.220Z"
   },
   {
    "duration": 5,
    "start_time": "2023-02-15T18:21:47.876Z"
   },
   {
    "duration": 272,
    "start_time": "2023-02-15T18:21:54.522Z"
   },
   {
    "duration": 16,
    "start_time": "2023-02-15T18:21:57.229Z"
   },
   {
    "duration": 6,
    "start_time": "2023-02-15T18:22:44.022Z"
   },
   {
    "duration": 267,
    "start_time": "2023-02-15T18:22:59.535Z"
   },
   {
    "duration": 58,
    "start_time": "2023-02-15T18:23:03.340Z"
   },
   {
    "duration": 5,
    "start_time": "2023-02-15T18:32:59.737Z"
   },
   {
    "duration": 8,
    "start_time": "2023-02-15T18:34:22.208Z"
   },
   {
    "duration": 288,
    "start_time": "2023-02-15T18:34:29.514Z"
   },
   {
    "duration": 29,
    "start_time": "2023-02-15T18:34:32.779Z"
   },
   {
    "duration": 4,
    "start_time": "2023-02-15T18:36:54.212Z"
   },
   {
    "duration": 42,
    "start_time": "2023-02-15T18:36:54.219Z"
   },
   {
    "duration": 13,
    "start_time": "2023-02-15T18:36:54.263Z"
   },
   {
    "duration": 11,
    "start_time": "2023-02-15T18:36:54.279Z"
   },
   {
    "duration": 5,
    "start_time": "2023-02-15T18:36:54.292Z"
   },
   {
    "duration": 5,
    "start_time": "2023-02-15T18:36:54.298Z"
   },
   {
    "duration": 7,
    "start_time": "2023-02-15T18:36:54.604Z"
   },
   {
    "duration": 6,
    "start_time": "2023-02-15T18:36:54.613Z"
   },
   {
    "duration": 8,
    "start_time": "2023-02-15T18:36:54.620Z"
   },
   {
    "duration": 26,
    "start_time": "2023-02-15T18:36:54.629Z"
   },
   {
    "duration": 15,
    "start_time": "2023-02-15T18:36:54.657Z"
   },
   {
    "duration": 10,
    "start_time": "2023-02-15T18:36:54.673Z"
   },
   {
    "duration": 13,
    "start_time": "2023-02-15T18:36:54.685Z"
   },
   {
    "duration": 11,
    "start_time": "2023-02-15T18:36:54.699Z"
   },
   {
    "duration": 4,
    "start_time": "2023-02-15T18:36:54.712Z"
   },
   {
    "duration": 7,
    "start_time": "2023-02-15T18:36:54.717Z"
   },
   {
    "duration": 7,
    "start_time": "2023-02-15T18:36:54.725Z"
   },
   {
    "duration": 7,
    "start_time": "2023-02-15T18:36:54.733Z"
   },
   {
    "duration": 7,
    "start_time": "2023-02-15T18:36:54.742Z"
   },
   {
    "duration": 6,
    "start_time": "2023-02-15T18:36:54.751Z"
   },
   {
    "duration": 46,
    "start_time": "2023-02-15T18:36:54.759Z"
   },
   {
    "duration": 383,
    "start_time": "2023-02-15T18:36:59.920Z"
   },
   {
    "duration": 401,
    "start_time": "2023-02-15T18:37:39.593Z"
   },
   {
    "duration": 8,
    "start_time": "2023-02-15T18:40:36.277Z"
   },
   {
    "duration": 38,
    "start_time": "2023-02-15T18:40:50.766Z"
   },
   {
    "duration": 280,
    "start_time": "2023-02-15T18:41:25.815Z"
   },
   {
    "duration": 145,
    "start_time": "2023-02-15T18:43:17.356Z"
   },
   {
    "duration": 4,
    "start_time": "2023-02-15T18:43:28.214Z"
   },
   {
    "duration": 30,
    "start_time": "2023-02-15T18:45:39.968Z"
   },
   {
    "duration": 113,
    "start_time": "2023-02-15T18:47:03.780Z"
   },
   {
    "duration": 44,
    "start_time": "2023-02-15T18:51:15.877Z"
   },
   {
    "duration": 8,
    "start_time": "2023-02-15T18:51:29.438Z"
   },
   {
    "duration": 119,
    "start_time": "2023-02-15T18:52:12.902Z"
   },
   {
    "duration": 14,
    "start_time": "2023-02-15T18:55:53.234Z"
   },
   {
    "duration": 13,
    "start_time": "2023-02-15T18:56:10.605Z"
   },
   {
    "duration": 13,
    "start_time": "2023-02-15T18:56:26.011Z"
   },
   {
    "duration": 4,
    "start_time": "2023-02-15T18:56:59.989Z"
   },
   {
    "duration": 46,
    "start_time": "2023-02-15T18:56:59.995Z"
   },
   {
    "duration": 11,
    "start_time": "2023-02-15T18:57:00.043Z"
   },
   {
    "duration": 17,
    "start_time": "2023-02-15T18:57:00.056Z"
   },
   {
    "duration": 20,
    "start_time": "2023-02-15T18:57:00.075Z"
   },
   {
    "duration": 4,
    "start_time": "2023-02-15T18:57:00.176Z"
   },
   {
    "duration": 19,
    "start_time": "2023-02-15T18:57:00.181Z"
   },
   {
    "duration": 9,
    "start_time": "2023-02-15T18:57:00.202Z"
   },
   {
    "duration": 9,
    "start_time": "2023-02-15T18:57:00.213Z"
   },
   {
    "duration": 15,
    "start_time": "2023-02-15T18:57:00.224Z"
   },
   {
    "duration": 25,
    "start_time": "2023-02-15T18:57:00.241Z"
   },
   {
    "duration": 7,
    "start_time": "2023-02-15T18:57:00.267Z"
   },
   {
    "duration": 25,
    "start_time": "2023-02-15T18:57:00.276Z"
   },
   {
    "duration": 21,
    "start_time": "2023-02-15T18:57:00.302Z"
   },
   {
    "duration": 15,
    "start_time": "2023-02-15T18:57:00.324Z"
   },
   {
    "duration": 25,
    "start_time": "2023-02-15T18:57:00.341Z"
   },
   {
    "duration": 18,
    "start_time": "2023-02-15T18:57:00.367Z"
   },
   {
    "duration": 18,
    "start_time": "2023-02-15T18:57:00.387Z"
   },
   {
    "duration": 8,
    "start_time": "2023-02-15T18:57:00.407Z"
   },
   {
    "duration": 34,
    "start_time": "2023-02-15T18:57:00.417Z"
   },
   {
    "duration": 46,
    "start_time": "2023-02-15T18:57:00.453Z"
   },
   {
    "duration": 293,
    "start_time": "2023-02-15T18:57:00.501Z"
   },
   {
    "duration": 131,
    "start_time": "2023-02-15T18:57:00.797Z"
   },
   {
    "duration": 149,
    "start_time": "2023-02-15T18:57:00.930Z"
   },
   {
    "duration": 5,
    "start_time": "2023-02-15T18:57:01.081Z"
   },
   {
    "duration": 105,
    "start_time": "2023-02-15T18:57:01.093Z"
   },
   {
    "duration": 144,
    "start_time": "2023-02-15T18:57:34.148Z"
   },
   {
    "duration": 103,
    "start_time": "2023-02-15T18:58:05.228Z"
   },
   {
    "duration": 8,
    "start_time": "2023-02-15T19:00:58.460Z"
   },
   {
    "duration": 10,
    "start_time": "2023-02-15T19:01:30.050Z"
   },
   {
    "duration": 5,
    "start_time": "2023-02-15T19:02:43.619Z"
   },
   {
    "duration": 9,
    "start_time": "2023-02-15T19:02:55.781Z"
   },
   {
    "duration": 39,
    "start_time": "2023-02-15T19:03:07.465Z"
   },
   {
    "duration": 12,
    "start_time": "2023-02-15T19:03:14.161Z"
   },
   {
    "duration": 69,
    "start_time": "2023-02-15T19:04:14.418Z"
   },
   {
    "duration": 8,
    "start_time": "2023-02-15T19:04:27.161Z"
   },
   {
    "duration": 3,
    "start_time": "2023-02-15T19:04:50.121Z"
   },
   {
    "duration": 59,
    "start_time": "2023-02-15T19:04:59.863Z"
   },
   {
    "duration": 45,
    "start_time": "2023-02-15T19:05:56.414Z"
   },
   {
    "duration": 59,
    "start_time": "2023-02-15T19:06:06.546Z"
   },
   {
    "duration": 58,
    "start_time": "2023-02-15T19:08:16.365Z"
   },
   {
    "duration": 60,
    "start_time": "2023-02-15T19:10:37.914Z"
   },
   {
    "duration": 1579,
    "start_time": "2023-02-16T11:16:48.784Z"
   },
   {
    "duration": 78,
    "start_time": "2023-02-16T11:16:50.365Z"
   },
   {
    "duration": 14,
    "start_time": "2023-02-16T11:16:50.445Z"
   },
   {
    "duration": 16,
    "start_time": "2023-02-16T11:16:50.461Z"
   },
   {
    "duration": 4,
    "start_time": "2023-02-16T11:16:50.478Z"
   },
   {
    "duration": 10,
    "start_time": "2023-02-16T11:16:50.483Z"
   },
   {
    "duration": 23,
    "start_time": "2023-02-16T11:16:50.494Z"
   },
   {
    "duration": 9,
    "start_time": "2023-02-16T11:16:50.519Z"
   },
   {
    "duration": 24,
    "start_time": "2023-02-16T11:16:50.529Z"
   },
   {
    "duration": 6,
    "start_time": "2023-02-16T11:16:50.556Z"
   },
   {
    "duration": 15,
    "start_time": "2023-02-16T11:16:50.564Z"
   },
   {
    "duration": 18,
    "start_time": "2023-02-16T11:16:50.581Z"
   },
   {
    "duration": 23,
    "start_time": "2023-02-16T11:16:50.601Z"
   },
   {
    "duration": 14,
    "start_time": "2023-02-16T11:16:50.625Z"
   },
   {
    "duration": 16,
    "start_time": "2023-02-16T11:16:50.640Z"
   },
   {
    "duration": 129,
    "start_time": "2023-02-16T11:16:50.658Z"
   },
   {
    "duration": 0,
    "start_time": "2023-02-16T11:16:50.789Z"
   },
   {
    "duration": 0,
    "start_time": "2023-02-16T11:16:50.790Z"
   },
   {
    "duration": 0,
    "start_time": "2023-02-16T11:16:50.791Z"
   },
   {
    "duration": 0,
    "start_time": "2023-02-16T11:16:50.792Z"
   },
   {
    "duration": 0,
    "start_time": "2023-02-16T11:16:50.794Z"
   },
   {
    "duration": 0,
    "start_time": "2023-02-16T11:16:50.795Z"
   },
   {
    "duration": 0,
    "start_time": "2023-02-16T11:16:50.796Z"
   },
   {
    "duration": 0,
    "start_time": "2023-02-16T11:16:50.798Z"
   },
   {
    "duration": 0,
    "start_time": "2023-02-16T11:16:50.798Z"
   },
   {
    "duration": 0,
    "start_time": "2023-02-16T11:16:50.799Z"
   },
   {
    "duration": 0,
    "start_time": "2023-02-16T11:16:50.801Z"
   },
   {
    "duration": 0,
    "start_time": "2023-02-16T11:16:50.801Z"
   },
   {
    "duration": 0,
    "start_time": "2023-02-16T11:16:50.802Z"
   },
   {
    "duration": 0,
    "start_time": "2023-02-16T11:16:50.803Z"
   },
   {
    "duration": 0,
    "start_time": "2023-02-16T11:16:50.804Z"
   },
   {
    "duration": 17,
    "start_time": "2023-02-16T11:17:35.507Z"
   },
   {
    "duration": 50,
    "start_time": "2023-02-16T11:18:00.743Z"
   },
   {
    "duration": 61,
    "start_time": "2023-02-16T11:18:26.739Z"
   },
   {
    "duration": 6,
    "start_time": "2023-02-16T11:18:45.943Z"
   },
   {
    "duration": 6,
    "start_time": "2023-02-16T11:19:01.757Z"
   },
   {
    "duration": 6,
    "start_time": "2023-02-16T11:19:15.551Z"
   },
   {
    "duration": 13,
    "start_time": "2023-02-16T11:19:15.559Z"
   },
   {
    "duration": 7,
    "start_time": "2023-02-16T11:19:15.574Z"
   },
   {
    "duration": 7,
    "start_time": "2023-02-16T11:19:15.583Z"
   },
   {
    "duration": 6,
    "start_time": "2023-02-16T11:19:15.592Z"
   },
   {
    "duration": 57,
    "start_time": "2023-02-16T11:19:15.599Z"
   },
   {
    "duration": 306,
    "start_time": "2023-02-16T11:19:15.657Z"
   },
   {
    "duration": 131,
    "start_time": "2023-02-16T11:19:16.060Z"
   },
   {
    "duration": 169,
    "start_time": "2023-02-16T11:19:16.193Z"
   },
   {
    "duration": 5,
    "start_time": "2023-02-16T11:19:16.364Z"
   },
   {
    "duration": 186,
    "start_time": "2023-02-16T11:19:16.372Z"
   },
   {
    "duration": 225,
    "start_time": "2023-02-16T11:19:16.561Z"
   },
   {
    "duration": 78,
    "start_time": "2023-02-16T11:19:16.788Z"
   },
   {
    "duration": 11,
    "start_time": "2023-02-16T11:19:16.870Z"
   },
   {
    "duration": 0,
    "start_time": "2023-02-16T11:19:16.883Z"
   },
   {
    "duration": 0,
    "start_time": "2023-02-16T11:19:16.884Z"
   },
   {
    "duration": 364,
    "start_time": "2023-02-16T11:19:43.398Z"
   },
   {
    "duration": 372,
    "start_time": "2023-02-16T11:20:01.950Z"
   },
   {
    "duration": 4,
    "start_time": "2023-02-16T11:20:15.143Z"
   },
   {
    "duration": 10,
    "start_time": "2023-02-16T11:20:24.857Z"
   },
   {
    "duration": 1823,
    "start_time": "2023-02-16T11:20:37.544Z"
   },
   {
    "duration": 12,
    "start_time": "2023-02-16T11:21:01.047Z"
   },
   {
    "duration": 10,
    "start_time": "2023-02-16T11:21:53.493Z"
   },
   {
    "duration": 6242,
    "start_time": "2023-02-16T11:22:31.880Z"
   },
   {
    "duration": 6241,
    "start_time": "2023-02-16T11:23:03.549Z"
   },
   {
    "duration": 4,
    "start_time": "2023-02-16T11:25:49.357Z"
   },
   {
    "duration": 5765,
    "start_time": "2023-02-16T11:29:06.881Z"
   },
   {
    "duration": 5,
    "start_time": "2023-02-16T12:12:58.616Z"
   },
   {
    "duration": 12,
    "start_time": "2023-02-16T12:13:03.998Z"
   },
   {
    "duration": 11,
    "start_time": "2023-02-16T12:13:10.728Z"
   },
   {
    "duration": 9,
    "start_time": "2023-02-16T12:13:22.766Z"
   },
   {
    "duration": 4,
    "start_time": "2023-02-16T12:14:38.618Z"
   },
   {
    "duration": 3,
    "start_time": "2023-02-16T12:14:51.640Z"
   },
   {
    "duration": 55,
    "start_time": "2023-02-16T12:17:55.739Z"
   },
   {
    "duration": 6,
    "start_time": "2023-02-16T12:18:11.366Z"
   },
   {
    "duration": 15,
    "start_time": "2023-02-16T12:18:25.254Z"
   },
   {
    "duration": 4,
    "start_time": "2023-02-16T12:19:34.896Z"
   },
   {
    "duration": 7,
    "start_time": "2023-02-16T12:20:27.841Z"
   },
   {
    "duration": 5,
    "start_time": "2023-02-16T12:20:35.735Z"
   },
   {
    "duration": 6,
    "start_time": "2023-02-16T12:20:41.229Z"
   },
   {
    "duration": 7,
    "start_time": "2023-02-16T12:20:44.715Z"
   },
   {
    "duration": 8,
    "start_time": "2023-02-16T12:25:52.513Z"
   },
   {
    "duration": 8,
    "start_time": "2023-02-16T12:27:21.674Z"
   },
   {
    "duration": 11,
    "start_time": "2023-02-16T12:28:48.929Z"
   },
   {
    "duration": 7,
    "start_time": "2023-02-16T12:29:39.784Z"
   },
   {
    "duration": 8,
    "start_time": "2023-02-16T12:29:46.678Z"
   },
   {
    "duration": 9,
    "start_time": "2023-02-16T12:29:54.818Z"
   },
   {
    "duration": 11,
    "start_time": "2023-02-16T12:30:12.072Z"
   },
   {
    "duration": 10,
    "start_time": "2023-02-16T12:30:54.448Z"
   },
   {
    "duration": 3,
    "start_time": "2023-02-16T12:31:28.423Z"
   },
   {
    "duration": 8,
    "start_time": "2023-02-16T12:32:47.647Z"
   },
   {
    "duration": 7,
    "start_time": "2023-02-16T12:32:57.129Z"
   },
   {
    "duration": 6,
    "start_time": "2023-02-16T12:33:21.055Z"
   },
   {
    "duration": 16,
    "start_time": "2023-02-16T12:33:24.949Z"
   },
   {
    "duration": 4,
    "start_time": "2023-02-16T12:34:04.246Z"
   },
   {
    "duration": 7,
    "start_time": "2023-02-16T12:34:16.224Z"
   },
   {
    "duration": 7,
    "start_time": "2023-02-16T12:34:24.611Z"
   },
   {
    "duration": 22,
    "start_time": "2023-02-16T12:34:27.267Z"
   },
   {
    "duration": 8,
    "start_time": "2023-02-16T12:35:31.983Z"
   },
   {
    "duration": 6,
    "start_time": "2023-02-16T12:35:37.130Z"
   },
   {
    "duration": 36,
    "start_time": "2023-02-16T12:35:40.618Z"
   },
   {
    "duration": 7,
    "start_time": "2023-02-16T12:36:22.172Z"
   },
   {
    "duration": 6,
    "start_time": "2023-02-16T12:36:31.319Z"
   },
   {
    "duration": 24,
    "start_time": "2023-02-16T12:36:33.940Z"
   },
   {
    "duration": 9,
    "start_time": "2023-02-16T12:37:34.675Z"
   },
   {
    "duration": 6,
    "start_time": "2023-02-16T12:37:41.597Z"
   },
   {
    "duration": 24,
    "start_time": "2023-02-16T12:37:44.219Z"
   },
   {
    "duration": 9,
    "start_time": "2023-02-16T12:38:29.201Z"
   },
   {
    "duration": 6,
    "start_time": "2023-02-16T12:38:35.951Z"
   },
   {
    "duration": 11,
    "start_time": "2023-02-16T12:38:38.631Z"
   },
   {
    "duration": 6,
    "start_time": "2023-02-16T12:38:47.311Z"
   },
   {
    "duration": 647,
    "start_time": "2023-02-16T12:40:36.908Z"
   },
   {
    "duration": 372,
    "start_time": "2023-02-16T12:40:41.383Z"
   },
   {
    "duration": 470,
    "start_time": "2023-02-16T12:41:32.684Z"
   },
   {
    "duration": 9,
    "start_time": "2023-02-16T12:43:10.666Z"
   },
   {
    "duration": 47,
    "start_time": "2023-02-16T12:43:49.675Z"
   },
   {
    "duration": 244,
    "start_time": "2023-02-16T12:44:00.314Z"
   },
   {
    "duration": 480,
    "start_time": "2023-02-16T12:44:10.674Z"
   },
   {
    "duration": 8,
    "start_time": "2023-02-16T16:44:02.360Z"
   },
   {
    "duration": 9,
    "start_time": "2023-02-16T16:47:34.234Z"
   },
   {
    "duration": 10,
    "start_time": "2023-02-16T16:52:00.524Z"
   },
   {
    "duration": 430,
    "start_time": "2023-02-16T16:52:12.528Z"
   },
   {
    "duration": 6,
    "start_time": "2023-02-16T16:52:42.532Z"
   },
   {
    "duration": 343,
    "start_time": "2023-02-16T16:52:51.513Z"
   },
   {
    "duration": 6,
    "start_time": "2023-02-16T16:53:14.252Z"
   },
   {
    "duration": 428,
    "start_time": "2023-02-16T16:53:22.632Z"
   },
   {
    "duration": 1337,
    "start_time": "2023-02-16T17:10:50.805Z"
   },
   {
    "duration": 38,
    "start_time": "2023-02-16T17:10:52.144Z"
   },
   {
    "duration": 13,
    "start_time": "2023-02-16T17:10:52.184Z"
   },
   {
    "duration": 23,
    "start_time": "2023-02-16T17:10:52.199Z"
   },
   {
    "duration": 22,
    "start_time": "2023-02-16T17:10:52.224Z"
   },
   {
    "duration": 7,
    "start_time": "2023-02-16T17:10:52.248Z"
   },
   {
    "duration": 13,
    "start_time": "2023-02-16T17:10:52.257Z"
   },
   {
    "duration": 14,
    "start_time": "2023-02-16T17:10:52.272Z"
   },
   {
    "duration": 6,
    "start_time": "2023-02-16T17:10:52.288Z"
   },
   {
    "duration": 29,
    "start_time": "2023-02-16T17:10:52.296Z"
   },
   {
    "duration": 13,
    "start_time": "2023-02-16T17:10:52.327Z"
   },
   {
    "duration": 11,
    "start_time": "2023-02-16T17:10:52.342Z"
   },
   {
    "duration": 25,
    "start_time": "2023-02-16T17:10:52.354Z"
   },
   {
    "duration": 21,
    "start_time": "2023-02-16T17:10:52.381Z"
   },
   {
    "duration": 7,
    "start_time": "2023-02-16T17:10:52.404Z"
   },
   {
    "duration": 17,
    "start_time": "2023-02-16T17:10:52.412Z"
   },
   {
    "duration": 15,
    "start_time": "2023-02-16T17:10:52.431Z"
   },
   {
    "duration": 8,
    "start_time": "2023-02-16T17:10:52.448Z"
   },
   {
    "duration": 14,
    "start_time": "2023-02-16T17:10:52.457Z"
   },
   {
    "duration": 28,
    "start_time": "2023-02-16T17:10:52.472Z"
   },
   {
    "duration": 11,
    "start_time": "2023-02-16T17:10:52.502Z"
   },
   {
    "duration": 740,
    "start_time": "2023-02-16T17:10:52.514Z"
   },
   {
    "duration": 121,
    "start_time": "2023-02-16T17:10:53.256Z"
   },
   {
    "duration": 377,
    "start_time": "2023-02-16T17:10:53.378Z"
   },
   {
    "duration": 405,
    "start_time": "2023-02-16T17:10:53.757Z"
   },
   {
    "duration": 302,
    "start_time": "2023-02-16T17:10:54.254Z"
   },
   {
    "duration": 297,
    "start_time": "2023-02-16T17:10:54.558Z"
   },
   {
    "duration": 596,
    "start_time": "2023-02-16T17:10:54.860Z"
   },
   {
    "duration": 132,
    "start_time": "2023-02-16T17:10:55.458Z"
   },
   {
    "duration": 155,
    "start_time": "2023-02-16T17:10:55.592Z"
   },
   {
    "duration": 7,
    "start_time": "2023-02-16T17:10:55.748Z"
   },
   {
    "duration": 101,
    "start_time": "2023-02-16T17:10:55.756Z"
   },
   {
    "duration": 234,
    "start_time": "2023-02-16T17:10:55.859Z"
   },
   {
    "duration": 130,
    "start_time": "2023-02-16T17:10:56.094Z"
   },
   {
    "duration": 0,
    "start_time": "2023-02-16T17:10:56.226Z"
   },
   {
    "duration": 0,
    "start_time": "2023-02-16T17:10:56.227Z"
   },
   {
    "duration": 0,
    "start_time": "2023-02-16T17:10:56.228Z"
   },
   {
    "duration": 0,
    "start_time": "2023-02-16T17:10:56.229Z"
   },
   {
    "duration": 0,
    "start_time": "2023-02-16T17:10:56.231Z"
   },
   {
    "duration": 233,
    "start_time": "2023-02-16T17:11:41.221Z"
   },
   {
    "duration": 1358,
    "start_time": "2023-02-16T17:12:38.145Z"
   },
   {
    "duration": 41,
    "start_time": "2023-02-16T17:12:39.506Z"
   },
   {
    "duration": 18,
    "start_time": "2023-02-16T17:12:39.549Z"
   },
   {
    "duration": 23,
    "start_time": "2023-02-16T17:12:39.569Z"
   },
   {
    "duration": 6,
    "start_time": "2023-02-16T17:12:39.595Z"
   },
   {
    "duration": 21,
    "start_time": "2023-02-16T17:12:39.603Z"
   },
   {
    "duration": 13,
    "start_time": "2023-02-16T17:12:39.626Z"
   },
   {
    "duration": 7,
    "start_time": "2023-02-16T17:12:39.641Z"
   },
   {
    "duration": 4,
    "start_time": "2023-02-16T17:12:39.653Z"
   },
   {
    "duration": 8,
    "start_time": "2023-02-16T17:12:39.659Z"
   },
   {
    "duration": 12,
    "start_time": "2023-02-16T17:12:39.669Z"
   },
   {
    "duration": 10,
    "start_time": "2023-02-16T17:12:39.683Z"
   },
   {
    "duration": 18,
    "start_time": "2023-02-16T17:12:39.694Z"
   },
   {
    "duration": 10,
    "start_time": "2023-02-16T17:12:39.715Z"
   },
   {
    "duration": 8,
    "start_time": "2023-02-16T17:12:39.726Z"
   },
   {
    "duration": 24,
    "start_time": "2023-02-16T17:12:39.735Z"
   },
   {
    "duration": 13,
    "start_time": "2023-02-16T17:12:39.762Z"
   },
   {
    "duration": 10,
    "start_time": "2023-02-16T17:12:39.777Z"
   },
   {
    "duration": 7,
    "start_time": "2023-02-16T17:12:39.788Z"
   },
   {
    "duration": 11,
    "start_time": "2023-02-16T17:12:39.796Z"
   },
   {
    "duration": 7,
    "start_time": "2023-02-16T17:12:39.808Z"
   },
   {
    "duration": 643,
    "start_time": "2023-02-16T17:12:39.817Z"
   },
   {
    "duration": 23,
    "start_time": "2023-02-16T17:12:40.553Z"
   },
   {
    "duration": 285,
    "start_time": "2023-02-16T17:12:40.578Z"
   },
   {
    "duration": 399,
    "start_time": "2023-02-16T17:12:40.955Z"
   },
   {
    "duration": 605,
    "start_time": "2023-02-16T17:12:41.357Z"
   },
   {
    "duration": 789,
    "start_time": "2023-02-16T17:12:41.964Z"
   },
   {
    "duration": 608,
    "start_time": "2023-02-16T17:12:42.756Z"
   },
   {
    "duration": 130,
    "start_time": "2023-02-16T17:12:43.456Z"
   },
   {
    "duration": 145,
    "start_time": "2023-02-16T17:12:43.588Z"
   },
   {
    "duration": 5,
    "start_time": "2023-02-16T17:12:43.735Z"
   },
   {
    "duration": 119,
    "start_time": "2023-02-16T17:12:43.741Z"
   },
   {
    "duration": 234,
    "start_time": "2023-02-16T17:12:43.862Z"
   },
   {
    "duration": 117,
    "start_time": "2023-02-16T17:12:44.097Z"
   },
   {
    "duration": 0,
    "start_time": "2023-02-16T17:12:44.215Z"
   },
   {
    "duration": 0,
    "start_time": "2023-02-16T17:12:44.217Z"
   },
   {
    "duration": 0,
    "start_time": "2023-02-16T17:12:44.218Z"
   },
   {
    "duration": 0,
    "start_time": "2023-02-16T17:12:44.219Z"
   },
   {
    "duration": 0,
    "start_time": "2023-02-16T17:12:44.220Z"
   },
   {
    "duration": 1341,
    "start_time": "2023-02-16T17:16:59.197Z"
   },
   {
    "duration": 39,
    "start_time": "2023-02-16T17:17:00.540Z"
   },
   {
    "duration": 16,
    "start_time": "2023-02-16T17:17:00.581Z"
   },
   {
    "duration": 28,
    "start_time": "2023-02-16T17:17:00.599Z"
   },
   {
    "duration": 4,
    "start_time": "2023-02-16T17:17:00.629Z"
   },
   {
    "duration": 45,
    "start_time": "2023-02-16T17:17:00.634Z"
   },
   {
    "duration": 31,
    "start_time": "2023-02-16T17:17:00.681Z"
   },
   {
    "duration": 51,
    "start_time": "2023-02-16T17:17:00.714Z"
   },
   {
    "duration": 22,
    "start_time": "2023-02-16T17:17:00.766Z"
   },
   {
    "duration": 16,
    "start_time": "2023-02-16T17:17:00.791Z"
   },
   {
    "duration": 20,
    "start_time": "2023-02-16T17:17:00.809Z"
   },
   {
    "duration": 26,
    "start_time": "2023-02-16T17:17:00.830Z"
   },
   {
    "duration": 28,
    "start_time": "2023-02-16T17:17:00.858Z"
   },
   {
    "duration": 11,
    "start_time": "2023-02-16T17:17:00.888Z"
   },
   {
    "duration": 8,
    "start_time": "2023-02-16T17:17:00.900Z"
   },
   {
    "duration": 18,
    "start_time": "2023-02-16T17:17:00.910Z"
   },
   {
    "duration": 37,
    "start_time": "2023-02-16T17:17:00.930Z"
   },
   {
    "duration": 23,
    "start_time": "2023-02-16T17:17:00.969Z"
   },
   {
    "duration": 20,
    "start_time": "2023-02-16T17:17:00.994Z"
   },
   {
    "duration": 32,
    "start_time": "2023-02-16T17:17:01.016Z"
   },
   {
    "duration": 22,
    "start_time": "2023-02-16T17:17:01.050Z"
   },
   {
    "duration": 887,
    "start_time": "2023-02-16T17:17:01.074Z"
   },
   {
    "duration": 0,
    "start_time": "2023-02-16T17:17:01.964Z"
   },
   {
    "duration": 0,
    "start_time": "2023-02-16T17:17:01.965Z"
   },
   {
    "duration": 0,
    "start_time": "2023-02-16T17:17:01.966Z"
   },
   {
    "duration": 0,
    "start_time": "2023-02-16T17:17:01.968Z"
   },
   {
    "duration": 0,
    "start_time": "2023-02-16T17:17:01.969Z"
   },
   {
    "duration": 0,
    "start_time": "2023-02-16T17:17:01.971Z"
   },
   {
    "duration": 0,
    "start_time": "2023-02-16T17:17:01.972Z"
   },
   {
    "duration": 0,
    "start_time": "2023-02-16T17:17:01.974Z"
   },
   {
    "duration": 0,
    "start_time": "2023-02-16T17:17:01.976Z"
   },
   {
    "duration": 0,
    "start_time": "2023-02-16T17:17:01.977Z"
   },
   {
    "duration": 0,
    "start_time": "2023-02-16T17:17:01.978Z"
   },
   {
    "duration": 0,
    "start_time": "2023-02-16T17:17:01.980Z"
   },
   {
    "duration": 0,
    "start_time": "2023-02-16T17:17:01.981Z"
   },
   {
    "duration": 0,
    "start_time": "2023-02-16T17:17:01.983Z"
   },
   {
    "duration": 0,
    "start_time": "2023-02-16T17:17:01.984Z"
   },
   {
    "duration": 0,
    "start_time": "2023-02-16T17:17:01.986Z"
   },
   {
    "duration": 0,
    "start_time": "2023-02-16T17:17:01.987Z"
   },
   {
    "duration": 1392,
    "start_time": "2023-02-16T17:17:21.773Z"
   },
   {
    "duration": 36,
    "start_time": "2023-02-16T17:17:23.167Z"
   },
   {
    "duration": 13,
    "start_time": "2023-02-16T17:17:23.204Z"
   },
   {
    "duration": 16,
    "start_time": "2023-02-16T17:17:23.219Z"
   },
   {
    "duration": 7,
    "start_time": "2023-02-16T17:17:23.237Z"
   },
   {
    "duration": 7,
    "start_time": "2023-02-16T17:17:23.246Z"
   },
   {
    "duration": 22,
    "start_time": "2023-02-16T17:17:23.255Z"
   },
   {
    "duration": 6,
    "start_time": "2023-02-16T17:17:23.279Z"
   },
   {
    "duration": 13,
    "start_time": "2023-02-16T17:17:23.287Z"
   },
   {
    "duration": 21,
    "start_time": "2023-02-16T17:17:23.303Z"
   },
   {
    "duration": 13,
    "start_time": "2023-02-16T17:17:23.325Z"
   },
   {
    "duration": 6,
    "start_time": "2023-02-16T17:17:23.339Z"
   },
   {
    "duration": 14,
    "start_time": "2023-02-16T17:17:23.347Z"
   },
   {
    "duration": 18,
    "start_time": "2023-02-16T17:17:23.362Z"
   },
   {
    "duration": 15,
    "start_time": "2023-02-16T17:17:23.383Z"
   },
   {
    "duration": 17,
    "start_time": "2023-02-16T17:17:23.400Z"
   },
   {
    "duration": 31,
    "start_time": "2023-02-16T17:17:23.419Z"
   },
   {
    "duration": 7,
    "start_time": "2023-02-16T17:17:23.451Z"
   },
   {
    "duration": 8,
    "start_time": "2023-02-16T17:17:23.459Z"
   },
   {
    "duration": 18,
    "start_time": "2023-02-16T17:17:23.469Z"
   },
   {
    "duration": 7,
    "start_time": "2023-02-16T17:17:23.489Z"
   },
   {
    "duration": 870,
    "start_time": "2023-02-16T17:17:23.498Z"
   },
   {
    "duration": 35,
    "start_time": "2023-02-16T17:17:24.454Z"
   },
   {
    "duration": 268,
    "start_time": "2023-02-16T17:17:24.490Z"
   },
   {
    "duration": 393,
    "start_time": "2023-02-16T17:17:24.762Z"
   },
   {
    "duration": 493,
    "start_time": "2023-02-16T17:17:25.161Z"
   },
   {
    "duration": 205,
    "start_time": "2023-02-16T17:17:25.655Z"
   },
   {
    "duration": 503,
    "start_time": "2023-02-16T17:17:25.953Z"
   },
   {
    "duration": 129,
    "start_time": "2023-02-16T17:17:26.458Z"
   },
   {
    "duration": 164,
    "start_time": "2023-02-16T17:17:26.589Z"
   },
   {
    "duration": 5,
    "start_time": "2023-02-16T17:17:26.755Z"
   },
   {
    "duration": 95,
    "start_time": "2023-02-16T17:17:26.762Z"
   },
   {
    "duration": 238,
    "start_time": "2023-02-16T17:17:26.860Z"
   },
   {
    "duration": 122,
    "start_time": "2023-02-16T17:17:27.100Z"
   },
   {
    "duration": 0,
    "start_time": "2023-02-16T17:17:27.224Z"
   },
   {
    "duration": 0,
    "start_time": "2023-02-16T17:17:27.225Z"
   },
   {
    "duration": 0,
    "start_time": "2023-02-16T17:17:27.227Z"
   },
   {
    "duration": 0,
    "start_time": "2023-02-16T17:17:27.228Z"
   },
   {
    "duration": 0,
    "start_time": "2023-02-16T17:17:27.229Z"
   },
   {
    "duration": 1328,
    "start_time": "2023-02-16T17:19:43.473Z"
   },
   {
    "duration": 38,
    "start_time": "2023-02-16T17:19:44.803Z"
   },
   {
    "duration": 14,
    "start_time": "2023-02-16T17:19:44.842Z"
   },
   {
    "duration": 15,
    "start_time": "2023-02-16T17:19:44.858Z"
   },
   {
    "duration": 3,
    "start_time": "2023-02-16T17:19:44.875Z"
   },
   {
    "duration": 22,
    "start_time": "2023-02-16T17:19:44.879Z"
   },
   {
    "duration": 8,
    "start_time": "2023-02-16T17:19:44.903Z"
   },
   {
    "duration": 6,
    "start_time": "2023-02-16T17:19:44.912Z"
   },
   {
    "duration": 4,
    "start_time": "2023-02-16T17:19:44.919Z"
   },
   {
    "duration": 8,
    "start_time": "2023-02-16T17:19:44.925Z"
   },
   {
    "duration": 22,
    "start_time": "2023-02-16T17:19:44.935Z"
   },
   {
    "duration": 6,
    "start_time": "2023-02-16T17:19:44.959Z"
   },
   {
    "duration": 13,
    "start_time": "2023-02-16T17:19:44.967Z"
   },
   {
    "duration": 11,
    "start_time": "2023-02-16T17:19:44.982Z"
   },
   {
    "duration": 8,
    "start_time": "2023-02-16T17:19:44.994Z"
   },
   {
    "duration": 8,
    "start_time": "2023-02-16T17:19:45.003Z"
   },
   {
    "duration": 35,
    "start_time": "2023-02-16T17:19:45.012Z"
   },
   {
    "duration": 26,
    "start_time": "2023-02-16T17:19:45.049Z"
   },
   {
    "duration": 17,
    "start_time": "2023-02-16T17:19:45.077Z"
   },
   {
    "duration": 14,
    "start_time": "2023-02-16T17:19:45.095Z"
   },
   {
    "duration": 19,
    "start_time": "2023-02-16T17:19:45.110Z"
   },
   {
    "duration": 825,
    "start_time": "2023-02-16T17:19:45.130Z"
   },
   {
    "duration": 115,
    "start_time": "2023-02-16T17:19:45.959Z"
   },
   {
    "duration": 279,
    "start_time": "2023-02-16T17:19:46.076Z"
   },
   {
    "duration": 398,
    "start_time": "2023-02-16T17:19:46.357Z"
   },
   {
    "duration": 506,
    "start_time": "2023-02-16T17:19:46.757Z"
   },
   {
    "duration": 600,
    "start_time": "2023-02-16T17:19:47.354Z"
   },
   {
    "duration": 604,
    "start_time": "2023-02-16T17:19:47.959Z"
   },
   {
    "duration": 123,
    "start_time": "2023-02-16T17:19:48.658Z"
   },
   {
    "duration": 155,
    "start_time": "2023-02-16T17:19:48.783Z"
   },
   {
    "duration": 14,
    "start_time": "2023-02-16T17:19:48.941Z"
   },
   {
    "duration": 102,
    "start_time": "2023-02-16T17:19:48.956Z"
   },
   {
    "duration": 212,
    "start_time": "2023-02-16T17:19:49.061Z"
   },
   {
    "duration": 111,
    "start_time": "2023-02-16T17:19:49.275Z"
   },
   {
    "duration": 0,
    "start_time": "2023-02-16T17:19:49.387Z"
   },
   {
    "duration": 0,
    "start_time": "2023-02-16T17:19:49.389Z"
   },
   {
    "duration": 0,
    "start_time": "2023-02-16T17:19:49.389Z"
   },
   {
    "duration": 0,
    "start_time": "2023-02-16T17:19:49.391Z"
   },
   {
    "duration": 0,
    "start_time": "2023-02-16T17:19:49.392Z"
   },
   {
    "duration": 14,
    "start_time": "2023-02-16T17:20:51.917Z"
   },
   {
    "duration": 370,
    "start_time": "2023-02-16T17:21:08.289Z"
   },
   {
    "duration": 1446,
    "start_time": "2023-02-16T17:21:26.395Z"
   },
   {
    "duration": 40,
    "start_time": "2023-02-16T17:21:27.843Z"
   },
   {
    "duration": 15,
    "start_time": "2023-02-16T17:21:27.886Z"
   },
   {
    "duration": 17,
    "start_time": "2023-02-16T17:21:27.903Z"
   },
   {
    "duration": 3,
    "start_time": "2023-02-16T17:21:27.922Z"
   },
   {
    "duration": 7,
    "start_time": "2023-02-16T17:21:27.927Z"
   },
   {
    "duration": 18,
    "start_time": "2023-02-16T17:21:27.936Z"
   },
   {
    "duration": 5,
    "start_time": "2023-02-16T17:21:27.955Z"
   },
   {
    "duration": 4,
    "start_time": "2023-02-16T17:21:27.962Z"
   },
   {
    "duration": 9,
    "start_time": "2023-02-16T17:21:27.967Z"
   },
   {
    "duration": 15,
    "start_time": "2023-02-16T17:21:27.978Z"
   },
   {
    "duration": 5,
    "start_time": "2023-02-16T17:21:27.995Z"
   },
   {
    "duration": 14,
    "start_time": "2023-02-16T17:21:28.002Z"
   },
   {
    "duration": 11,
    "start_time": "2023-02-16T17:21:28.018Z"
   },
   {
    "duration": 8,
    "start_time": "2023-02-16T17:21:28.053Z"
   },
   {
    "duration": 8,
    "start_time": "2023-02-16T17:21:28.062Z"
   },
   {
    "duration": 16,
    "start_time": "2023-02-16T17:21:28.072Z"
   },
   {
    "duration": 16,
    "start_time": "2023-02-16T17:21:28.090Z"
   },
   {
    "duration": 6,
    "start_time": "2023-02-16T17:21:28.108Z"
   },
   {
    "duration": 12,
    "start_time": "2023-02-16T17:21:28.116Z"
   },
   {
    "duration": 6,
    "start_time": "2023-02-16T17:21:28.129Z"
   },
   {
    "duration": 520,
    "start_time": "2023-02-16T17:21:28.136Z"
   },
   {
    "duration": 109,
    "start_time": "2023-02-16T17:21:28.658Z"
   },
   {
    "duration": 383,
    "start_time": "2023-02-16T17:21:28.769Z"
   },
   {
    "duration": 409,
    "start_time": "2023-02-16T17:21:29.156Z"
   },
   {
    "duration": 506,
    "start_time": "2023-02-16T17:21:29.654Z"
   },
   {
    "duration": 499,
    "start_time": "2023-02-16T17:21:30.163Z"
   },
   {
    "duration": 1008,
    "start_time": "2023-02-16T17:21:30.754Z"
   },
   {
    "duration": 115,
    "start_time": "2023-02-16T17:21:31.854Z"
   },
   {
    "duration": 160,
    "start_time": "2023-02-16T17:21:31.971Z"
   },
   {
    "duration": 5,
    "start_time": "2023-02-16T17:21:32.133Z"
   },
   {
    "duration": 114,
    "start_time": "2023-02-16T17:21:32.140Z"
   },
   {
    "duration": 224,
    "start_time": "2023-02-16T17:21:32.258Z"
   },
   {
    "duration": 123,
    "start_time": "2023-02-16T17:21:32.484Z"
   },
   {
    "duration": 0,
    "start_time": "2023-02-16T17:21:32.608Z"
   },
   {
    "duration": 0,
    "start_time": "2023-02-16T17:21:32.609Z"
   },
   {
    "duration": 0,
    "start_time": "2023-02-16T17:21:32.610Z"
   },
   {
    "duration": 0,
    "start_time": "2023-02-16T17:21:32.612Z"
   },
   {
    "duration": 0,
    "start_time": "2023-02-16T17:21:32.614Z"
   },
   {
    "duration": 6,
    "start_time": "2023-02-16T17:24:52.146Z"
   },
   {
    "duration": 9,
    "start_time": "2023-02-16T17:25:43.568Z"
   },
   {
    "duration": 7,
    "start_time": "2023-02-16T17:26:03.026Z"
   },
   {
    "duration": 1296,
    "start_time": "2023-02-16T17:26:07.791Z"
   },
   {
    "duration": 38,
    "start_time": "2023-02-16T17:26:09.089Z"
   },
   {
    "duration": 13,
    "start_time": "2023-02-16T17:26:09.128Z"
   },
   {
    "duration": 16,
    "start_time": "2023-02-16T17:26:09.143Z"
   },
   {
    "duration": 3,
    "start_time": "2023-02-16T17:26:09.161Z"
   },
   {
    "duration": 5,
    "start_time": "2023-02-16T17:26:09.166Z"
   },
   {
    "duration": 11,
    "start_time": "2023-02-16T17:26:09.172Z"
   },
   {
    "duration": 10,
    "start_time": "2023-02-16T17:26:09.185Z"
   },
   {
    "duration": 23,
    "start_time": "2023-02-16T17:26:09.197Z"
   },
   {
    "duration": 8,
    "start_time": "2023-02-16T17:26:09.221Z"
   },
   {
    "duration": 8,
    "start_time": "2023-02-16T17:26:09.231Z"
   },
   {
    "duration": 13,
    "start_time": "2023-02-16T17:26:09.240Z"
   },
   {
    "duration": 12,
    "start_time": "2023-02-16T17:26:09.254Z"
   },
   {
    "duration": 10,
    "start_time": "2023-02-16T17:26:09.269Z"
   },
   {
    "duration": 7,
    "start_time": "2023-02-16T17:26:09.281Z"
   },
   {
    "duration": 6,
    "start_time": "2023-02-16T17:26:09.289Z"
   },
   {
    "duration": 7,
    "start_time": "2023-02-16T17:26:09.297Z"
   },
   {
    "duration": 5,
    "start_time": "2023-02-16T17:26:09.306Z"
   },
   {
    "duration": 5,
    "start_time": "2023-02-16T17:26:09.312Z"
   },
   {
    "duration": 42,
    "start_time": "2023-02-16T17:26:09.319Z"
   },
   {
    "duration": 6,
    "start_time": "2023-02-16T17:26:09.362Z"
   },
   {
    "duration": 887,
    "start_time": "2023-02-16T17:26:09.369Z"
   },
   {
    "duration": 112,
    "start_time": "2023-02-16T17:26:10.258Z"
   },
   {
    "duration": 290,
    "start_time": "2023-02-16T17:26:10.372Z"
   },
   {
    "duration": 390,
    "start_time": "2023-02-16T17:26:10.664Z"
   },
   {
    "duration": 505,
    "start_time": "2023-02-16T17:26:11.057Z"
   },
   {
    "duration": 500,
    "start_time": "2023-02-16T17:26:11.654Z"
   },
   {
    "duration": 1100,
    "start_time": "2023-02-16T17:26:12.157Z"
   },
   {
    "duration": 131,
    "start_time": "2023-02-16T17:26:13.259Z"
   },
   {
    "duration": 171,
    "start_time": "2023-02-16T17:26:13.391Z"
   },
   {
    "duration": 5,
    "start_time": "2023-02-16T17:26:13.564Z"
   },
   {
    "duration": 83,
    "start_time": "2023-02-16T17:26:13.571Z"
   },
   {
    "duration": 238,
    "start_time": "2023-02-16T17:26:13.657Z"
   },
   {
    "duration": 128,
    "start_time": "2023-02-16T17:26:13.896Z"
   },
   {
    "duration": 0,
    "start_time": "2023-02-16T17:26:14.026Z"
   },
   {
    "duration": 0,
    "start_time": "2023-02-16T17:26:14.028Z"
   },
   {
    "duration": 0,
    "start_time": "2023-02-16T17:26:14.030Z"
   },
   {
    "duration": 0,
    "start_time": "2023-02-16T17:26:14.032Z"
   },
   {
    "duration": 0,
    "start_time": "2023-02-16T17:26:14.034Z"
   },
   {
    "duration": 6,
    "start_time": "2023-02-16T17:27:01.633Z"
   },
   {
    "duration": 1382,
    "start_time": "2023-02-16T17:27:11.165Z"
   },
   {
    "duration": 39,
    "start_time": "2023-02-16T17:27:12.552Z"
   },
   {
    "duration": 14,
    "start_time": "2023-02-16T17:27:12.593Z"
   },
   {
    "duration": 21,
    "start_time": "2023-02-16T17:27:12.609Z"
   },
   {
    "duration": 5,
    "start_time": "2023-02-16T17:27:12.633Z"
   },
   {
    "duration": 6,
    "start_time": "2023-02-16T17:27:12.640Z"
   },
   {
    "duration": 18,
    "start_time": "2023-02-16T17:27:12.647Z"
   },
   {
    "duration": 19,
    "start_time": "2023-02-16T17:27:12.667Z"
   },
   {
    "duration": 7,
    "start_time": "2023-02-16T17:27:12.687Z"
   },
   {
    "duration": 8,
    "start_time": "2023-02-16T17:27:12.696Z"
   },
   {
    "duration": 9,
    "start_time": "2023-02-16T17:27:12.706Z"
   },
   {
    "duration": 6,
    "start_time": "2023-02-16T17:27:12.716Z"
   },
   {
    "duration": 12,
    "start_time": "2023-02-16T17:27:12.724Z"
   },
   {
    "duration": 12,
    "start_time": "2023-02-16T17:27:12.752Z"
   },
   {
    "duration": 8,
    "start_time": "2023-02-16T17:27:12.766Z"
   },
   {
    "duration": 6,
    "start_time": "2023-02-16T17:27:12.775Z"
   },
   {
    "duration": 10,
    "start_time": "2023-02-16T17:27:12.783Z"
   },
   {
    "duration": 5,
    "start_time": "2023-02-16T17:27:12.794Z"
   },
   {
    "duration": 5,
    "start_time": "2023-02-16T17:27:12.801Z"
   },
   {
    "duration": 12,
    "start_time": "2023-02-16T17:27:12.807Z"
   },
   {
    "duration": 32,
    "start_time": "2023-02-16T17:27:12.821Z"
   },
   {
    "duration": 400,
    "start_time": "2023-02-16T17:27:12.855Z"
   },
   {
    "duration": 114,
    "start_time": "2023-02-16T17:27:13.257Z"
   },
   {
    "duration": 280,
    "start_time": "2023-02-16T17:27:13.373Z"
   },
   {
    "duration": 299,
    "start_time": "2023-02-16T17:27:13.655Z"
   },
   {
    "duration": 302,
    "start_time": "2023-02-16T17:27:13.957Z"
   },
   {
    "duration": 596,
    "start_time": "2023-02-16T17:27:14.261Z"
   },
   {
    "duration": 1104,
    "start_time": "2023-02-16T17:27:14.859Z"
   },
   {
    "duration": 118,
    "start_time": "2023-02-16T17:27:16.054Z"
   },
   {
    "duration": 155,
    "start_time": "2023-02-16T17:27:16.174Z"
   },
   {
    "duration": 6,
    "start_time": "2023-02-16T17:27:16.331Z"
   },
   {
    "duration": 103,
    "start_time": "2023-02-16T17:27:16.353Z"
   },
   {
    "duration": 233,
    "start_time": "2023-02-16T17:27:16.458Z"
   },
   {
    "duration": 77,
    "start_time": "2023-02-16T17:27:16.693Z"
   },
   {
    "duration": 395,
    "start_time": "2023-02-16T17:27:16.772Z"
   },
   {
    "duration": 1835,
    "start_time": "2023-02-16T17:27:17.168Z"
   },
   {
    "duration": 5616,
    "start_time": "2023-02-16T17:27:19.005Z"
   },
   {
    "duration": 3,
    "start_time": "2023-02-16T17:27:24.622Z"
   },
   {
    "duration": 13,
    "start_time": "2023-02-16T17:27:24.626Z"
   },
   {
    "duration": 1414,
    "start_time": "2023-02-16T17:48:40.268Z"
   },
   {
    "duration": 114,
    "start_time": "2023-02-16T17:48:41.684Z"
   },
   {
    "duration": 0,
    "start_time": "2023-02-16T17:48:41.801Z"
   },
   {
    "duration": 0,
    "start_time": "2023-02-16T17:48:41.802Z"
   },
   {
    "duration": 0,
    "start_time": "2023-02-16T17:48:41.803Z"
   },
   {
    "duration": 0,
    "start_time": "2023-02-16T17:48:41.804Z"
   },
   {
    "duration": 0,
    "start_time": "2023-02-16T17:48:41.805Z"
   },
   {
    "duration": 0,
    "start_time": "2023-02-16T17:48:41.807Z"
   },
   {
    "duration": 0,
    "start_time": "2023-02-16T17:48:41.808Z"
   },
   {
    "duration": 0,
    "start_time": "2023-02-16T17:48:41.809Z"
   },
   {
    "duration": 0,
    "start_time": "2023-02-16T17:48:41.810Z"
   },
   {
    "duration": 0,
    "start_time": "2023-02-16T17:48:41.811Z"
   },
   {
    "duration": 0,
    "start_time": "2023-02-16T17:48:41.812Z"
   },
   {
    "duration": 0,
    "start_time": "2023-02-16T17:48:41.813Z"
   },
   {
    "duration": 0,
    "start_time": "2023-02-16T17:48:41.814Z"
   },
   {
    "duration": 0,
    "start_time": "2023-02-16T17:48:41.816Z"
   },
   {
    "duration": 0,
    "start_time": "2023-02-16T17:48:41.817Z"
   },
   {
    "duration": 0,
    "start_time": "2023-02-16T17:48:41.818Z"
   },
   {
    "duration": 0,
    "start_time": "2023-02-16T17:48:41.819Z"
   },
   {
    "duration": 0,
    "start_time": "2023-02-16T17:48:41.854Z"
   },
   {
    "duration": 0,
    "start_time": "2023-02-16T17:48:41.855Z"
   },
   {
    "duration": 0,
    "start_time": "2023-02-16T17:48:41.856Z"
   },
   {
    "duration": 0,
    "start_time": "2023-02-16T17:48:41.857Z"
   },
   {
    "duration": 0,
    "start_time": "2023-02-16T17:48:41.858Z"
   },
   {
    "duration": 0,
    "start_time": "2023-02-16T17:48:41.859Z"
   },
   {
    "duration": 0,
    "start_time": "2023-02-16T17:48:41.860Z"
   },
   {
    "duration": 0,
    "start_time": "2023-02-16T17:48:41.861Z"
   },
   {
    "duration": 0,
    "start_time": "2023-02-16T17:48:41.862Z"
   },
   {
    "duration": 0,
    "start_time": "2023-02-16T17:48:41.863Z"
   },
   {
    "duration": 0,
    "start_time": "2023-02-16T17:48:41.864Z"
   },
   {
    "duration": 0,
    "start_time": "2023-02-16T17:48:41.865Z"
   },
   {
    "duration": 0,
    "start_time": "2023-02-16T17:48:41.866Z"
   },
   {
    "duration": 0,
    "start_time": "2023-02-16T17:48:41.867Z"
   },
   {
    "duration": 0,
    "start_time": "2023-02-16T17:48:41.868Z"
   },
   {
    "duration": 0,
    "start_time": "2023-02-16T17:48:41.869Z"
   },
   {
    "duration": 0,
    "start_time": "2023-02-16T17:48:41.870Z"
   },
   {
    "duration": 0,
    "start_time": "2023-02-16T17:48:41.871Z"
   },
   {
    "duration": 0,
    "start_time": "2023-02-16T17:48:41.872Z"
   },
   {
    "duration": 0,
    "start_time": "2023-02-16T17:48:41.873Z"
   },
   {
    "duration": 0,
    "start_time": "2023-02-16T17:48:41.874Z"
   },
   {
    "duration": 1376,
    "start_time": "2023-02-16T17:49:10.408Z"
   },
   {
    "duration": 3,
    "start_time": "2023-02-16T17:49:11.786Z"
   },
   {
    "duration": 48,
    "start_time": "2023-02-16T17:49:11.790Z"
   },
   {
    "duration": 15,
    "start_time": "2023-02-16T17:49:11.840Z"
   },
   {
    "duration": 17,
    "start_time": "2023-02-16T17:49:11.857Z"
   },
   {
    "duration": 4,
    "start_time": "2023-02-16T17:49:11.875Z"
   },
   {
    "duration": 12,
    "start_time": "2023-02-16T17:49:11.880Z"
   },
   {
    "duration": 9,
    "start_time": "2023-02-16T17:49:11.894Z"
   },
   {
    "duration": 10,
    "start_time": "2023-02-16T17:49:11.904Z"
   },
   {
    "duration": 4,
    "start_time": "2023-02-16T17:49:11.916Z"
   },
   {
    "duration": 18,
    "start_time": "2023-02-16T17:49:11.922Z"
   },
   {
    "duration": 6,
    "start_time": "2023-02-16T17:49:11.954Z"
   },
   {
    "duration": 6,
    "start_time": "2023-02-16T17:49:11.962Z"
   },
   {
    "duration": 13,
    "start_time": "2023-02-16T17:49:11.971Z"
   },
   {
    "duration": 11,
    "start_time": "2023-02-16T17:49:11.985Z"
   },
   {
    "duration": 7,
    "start_time": "2023-02-16T17:49:11.998Z"
   },
   {
    "duration": 6,
    "start_time": "2023-02-16T17:49:12.007Z"
   },
   {
    "duration": 41,
    "start_time": "2023-02-16T17:49:12.015Z"
   },
   {
    "duration": 6,
    "start_time": "2023-02-16T17:49:12.058Z"
   },
   {
    "duration": 20,
    "start_time": "2023-02-16T17:49:12.066Z"
   },
   {
    "duration": 11,
    "start_time": "2023-02-16T17:49:12.087Z"
   },
   {
    "duration": 6,
    "start_time": "2023-02-16T17:49:12.100Z"
   },
   {
    "duration": 846,
    "start_time": "2023-02-16T17:49:12.108Z"
   },
   {
    "duration": 111,
    "start_time": "2023-02-16T17:49:12.957Z"
   },
   {
    "duration": 384,
    "start_time": "2023-02-16T17:49:13.070Z"
   },
   {
    "duration": 398,
    "start_time": "2023-02-16T17:49:13.457Z"
   },
   {
    "duration": 498,
    "start_time": "2023-02-16T17:49:13.857Z"
   },
   {
    "duration": 97,
    "start_time": "2023-02-16T17:49:14.357Z"
   },
   {
    "duration": 0,
    "start_time": "2023-02-16T17:49:14.455Z"
   },
   {
    "duration": 0,
    "start_time": "2023-02-16T17:49:14.457Z"
   },
   {
    "duration": 0,
    "start_time": "2023-02-16T17:49:14.458Z"
   },
   {
    "duration": 1,
    "start_time": "2023-02-16T17:49:14.459Z"
   },
   {
    "duration": 0,
    "start_time": "2023-02-16T17:49:14.461Z"
   },
   {
    "duration": 0,
    "start_time": "2023-02-16T17:49:14.462Z"
   },
   {
    "duration": 0,
    "start_time": "2023-02-16T17:49:14.463Z"
   },
   {
    "duration": 0,
    "start_time": "2023-02-16T17:49:14.464Z"
   },
   {
    "duration": 0,
    "start_time": "2023-02-16T17:49:14.466Z"
   },
   {
    "duration": 0,
    "start_time": "2023-02-16T17:49:14.467Z"
   },
   {
    "duration": 0,
    "start_time": "2023-02-16T17:49:14.469Z"
   },
   {
    "duration": 0,
    "start_time": "2023-02-16T17:49:14.470Z"
   },
   {
    "duration": 368,
    "start_time": "2023-02-16T17:49:49.687Z"
   },
   {
    "duration": 964,
    "start_time": "2023-02-16T17:50:00.390Z"
   },
   {
    "duration": 1390,
    "start_time": "2023-02-16T17:50:14.458Z"
   },
   {
    "duration": 4,
    "start_time": "2023-02-16T17:50:15.850Z"
   },
   {
    "duration": 44,
    "start_time": "2023-02-16T17:50:15.855Z"
   },
   {
    "duration": 15,
    "start_time": "2023-02-16T17:50:15.901Z"
   },
   {
    "duration": 17,
    "start_time": "2023-02-16T17:50:15.917Z"
   },
   {
    "duration": 3,
    "start_time": "2023-02-16T17:50:15.936Z"
   },
   {
    "duration": 14,
    "start_time": "2023-02-16T17:50:15.941Z"
   },
   {
    "duration": 15,
    "start_time": "2023-02-16T17:50:15.957Z"
   },
   {
    "duration": 26,
    "start_time": "2023-02-16T17:50:15.974Z"
   },
   {
    "duration": 4,
    "start_time": "2023-02-16T17:50:16.004Z"
   },
   {
    "duration": 22,
    "start_time": "2023-02-16T17:50:16.009Z"
   },
   {
    "duration": 11,
    "start_time": "2023-02-16T17:50:16.033Z"
   },
   {
    "duration": 8,
    "start_time": "2023-02-16T17:50:16.046Z"
   },
   {
    "duration": 15,
    "start_time": "2023-02-16T17:50:16.055Z"
   },
   {
    "duration": 12,
    "start_time": "2023-02-16T17:50:16.072Z"
   },
   {
    "duration": 8,
    "start_time": "2023-02-16T17:50:16.085Z"
   },
   {
    "duration": 10,
    "start_time": "2023-02-16T17:50:16.095Z"
   },
   {
    "duration": 12,
    "start_time": "2023-02-16T17:50:16.107Z"
   },
   {
    "duration": 5,
    "start_time": "2023-02-16T17:50:16.121Z"
   },
   {
    "duration": 29,
    "start_time": "2023-02-16T17:50:16.128Z"
   },
   {
    "duration": 13,
    "start_time": "2023-02-16T17:50:16.159Z"
   },
   {
    "duration": 5,
    "start_time": "2023-02-16T17:50:16.175Z"
   },
   {
    "duration": 1076,
    "start_time": "2023-02-16T17:50:16.183Z"
   },
   {
    "duration": 107,
    "start_time": "2023-02-16T17:50:17.262Z"
   },
   {
    "duration": 191,
    "start_time": "2023-02-16T17:50:17.371Z"
   },
   {
    "duration": 304,
    "start_time": "2023-02-16T17:50:17.654Z"
   },
   {
    "duration": 302,
    "start_time": "2023-02-16T17:50:17.961Z"
   },
   {
    "duration": 405,
    "start_time": "2023-02-16T17:50:18.353Z"
   },
   {
    "duration": 1098,
    "start_time": "2023-02-16T17:50:18.760Z"
   },
   {
    "duration": 126,
    "start_time": "2023-02-16T17:50:19.860Z"
   },
   {
    "duration": 169,
    "start_time": "2023-02-16T17:50:19.988Z"
   },
   {
    "duration": 3,
    "start_time": "2023-02-16T17:50:20.159Z"
   },
   {
    "duration": 91,
    "start_time": "2023-02-16T17:50:20.164Z"
   },
   {
    "duration": 229,
    "start_time": "2023-02-16T17:50:20.257Z"
   },
   {
    "duration": 79,
    "start_time": "2023-02-16T17:50:20.488Z"
   },
   {
    "duration": 378,
    "start_time": "2023-02-16T17:50:20.568Z"
   },
   {
    "duration": 1793,
    "start_time": "2023-02-16T17:50:20.953Z"
   },
   {
    "duration": 5707,
    "start_time": "2023-02-16T17:50:22.748Z"
   },
   {
    "duration": 2,
    "start_time": "2023-02-16T17:50:28.457Z"
   },
   {
    "duration": 10,
    "start_time": "2023-02-16T17:50:28.461Z"
   },
   {
    "duration": 6784,
    "start_time": "2023-02-16T17:55:35.366Z"
   },
   {
    "duration": 1329,
    "start_time": "2023-02-16T17:57:01.103Z"
   },
   {
    "duration": 46,
    "start_time": "2023-02-16T17:57:02.433Z"
   },
   {
    "duration": 0,
    "start_time": "2023-02-16T17:57:02.482Z"
   },
   {
    "duration": 0,
    "start_time": "2023-02-16T17:57:02.483Z"
   },
   {
    "duration": 0,
    "start_time": "2023-02-16T17:57:02.485Z"
   },
   {
    "duration": 0,
    "start_time": "2023-02-16T17:57:02.486Z"
   },
   {
    "duration": 0,
    "start_time": "2023-02-16T17:57:02.487Z"
   },
   {
    "duration": 0,
    "start_time": "2023-02-16T17:57:02.488Z"
   },
   {
    "duration": 0,
    "start_time": "2023-02-16T17:57:02.489Z"
   },
   {
    "duration": 0,
    "start_time": "2023-02-16T17:57:02.490Z"
   },
   {
    "duration": 0,
    "start_time": "2023-02-16T17:57:02.491Z"
   },
   {
    "duration": 0,
    "start_time": "2023-02-16T17:57:02.492Z"
   },
   {
    "duration": 0,
    "start_time": "2023-02-16T17:57:02.494Z"
   },
   {
    "duration": 0,
    "start_time": "2023-02-16T17:57:02.495Z"
   },
   {
    "duration": 0,
    "start_time": "2023-02-16T17:57:02.496Z"
   },
   {
    "duration": 0,
    "start_time": "2023-02-16T17:57:02.497Z"
   },
   {
    "duration": 0,
    "start_time": "2023-02-16T17:57:02.498Z"
   },
   {
    "duration": 0,
    "start_time": "2023-02-16T17:57:02.500Z"
   },
   {
    "duration": 0,
    "start_time": "2023-02-16T17:57:02.501Z"
   },
   {
    "duration": 0,
    "start_time": "2023-02-16T17:57:02.502Z"
   },
   {
    "duration": 0,
    "start_time": "2023-02-16T17:57:02.503Z"
   },
   {
    "duration": 0,
    "start_time": "2023-02-16T17:57:02.504Z"
   },
   {
    "duration": 0,
    "start_time": "2023-02-16T17:57:02.505Z"
   },
   {
    "duration": 0,
    "start_time": "2023-02-16T17:57:02.506Z"
   },
   {
    "duration": 0,
    "start_time": "2023-02-16T17:57:02.507Z"
   },
   {
    "duration": 0,
    "start_time": "2023-02-16T17:57:02.508Z"
   },
   {
    "duration": 0,
    "start_time": "2023-02-16T17:57:02.509Z"
   },
   {
    "duration": 0,
    "start_time": "2023-02-16T17:57:02.509Z"
   },
   {
    "duration": 0,
    "start_time": "2023-02-16T17:57:02.511Z"
   },
   {
    "duration": 0,
    "start_time": "2023-02-16T17:57:02.512Z"
   },
   {
    "duration": 0,
    "start_time": "2023-02-16T17:57:02.513Z"
   },
   {
    "duration": 0,
    "start_time": "2023-02-16T17:57:02.514Z"
   },
   {
    "duration": 0,
    "start_time": "2023-02-16T17:57:02.515Z"
   },
   {
    "duration": 0,
    "start_time": "2023-02-16T17:57:02.515Z"
   },
   {
    "duration": 0,
    "start_time": "2023-02-16T17:57:02.516Z"
   },
   {
    "duration": 0,
    "start_time": "2023-02-16T17:57:02.517Z"
   },
   {
    "duration": 0,
    "start_time": "2023-02-16T17:57:02.518Z"
   },
   {
    "duration": 0,
    "start_time": "2023-02-16T17:57:02.519Z"
   },
   {
    "duration": 0,
    "start_time": "2023-02-16T17:57:02.520Z"
   },
   {
    "duration": 0,
    "start_time": "2023-02-16T17:57:02.521Z"
   },
   {
    "duration": 1451,
    "start_time": "2023-02-16T17:57:43.824Z"
   },
   {
    "duration": 3,
    "start_time": "2023-02-16T17:57:45.277Z"
   },
   {
    "duration": 67,
    "start_time": "2023-02-16T17:57:45.282Z"
   },
   {
    "duration": 13,
    "start_time": "2023-02-16T17:57:45.351Z"
   },
   {
    "duration": 19,
    "start_time": "2023-02-16T17:57:45.366Z"
   },
   {
    "duration": 4,
    "start_time": "2023-02-16T17:57:45.386Z"
   },
   {
    "duration": 7,
    "start_time": "2023-02-16T17:57:45.392Z"
   },
   {
    "duration": 16,
    "start_time": "2023-02-16T17:57:45.400Z"
   },
   {
    "duration": 36,
    "start_time": "2023-02-16T17:57:45.418Z"
   },
   {
    "duration": 4,
    "start_time": "2023-02-16T17:57:45.456Z"
   },
   {
    "duration": 13,
    "start_time": "2023-02-16T17:57:45.462Z"
   },
   {
    "duration": 11,
    "start_time": "2023-02-16T17:57:45.477Z"
   },
   {
    "duration": 12,
    "start_time": "2023-02-16T17:57:45.490Z"
   },
   {
    "duration": 18,
    "start_time": "2023-02-16T17:57:45.506Z"
   },
   {
    "duration": 35,
    "start_time": "2023-02-16T17:57:45.526Z"
   },
   {
    "duration": 8,
    "start_time": "2023-02-16T17:57:45.563Z"
   },
   {
    "duration": 15,
    "start_time": "2023-02-16T17:57:45.573Z"
   },
   {
    "duration": 37,
    "start_time": "2023-02-16T17:57:45.590Z"
   },
   {
    "duration": 31,
    "start_time": "2023-02-16T17:57:45.629Z"
   },
   {
    "duration": 19,
    "start_time": "2023-02-16T17:57:45.662Z"
   },
   {
    "duration": 21,
    "start_time": "2023-02-16T17:57:45.683Z"
   },
   {
    "duration": 7,
    "start_time": "2023-02-16T17:57:45.706Z"
   },
   {
    "duration": 1240,
    "start_time": "2023-02-16T17:57:45.715Z"
   },
   {
    "duration": 111,
    "start_time": "2023-02-16T17:57:46.959Z"
   },
   {
    "duration": 587,
    "start_time": "2023-02-16T17:57:47.072Z"
   },
   {
    "duration": 393,
    "start_time": "2023-02-16T17:57:47.662Z"
   },
   {
    "duration": 402,
    "start_time": "2023-02-16T17:57:48.059Z"
   },
   {
    "duration": 688,
    "start_time": "2023-02-16T17:57:48.465Z"
   },
   {
    "duration": 1007,
    "start_time": "2023-02-16T17:57:49.159Z"
   },
   {
    "duration": 135,
    "start_time": "2023-02-16T17:57:50.254Z"
   },
   {
    "duration": 151,
    "start_time": "2023-02-16T17:57:50.391Z"
   },
   {
    "duration": 11,
    "start_time": "2023-02-16T17:57:50.543Z"
   },
   {
    "duration": 200,
    "start_time": "2023-02-16T17:57:50.556Z"
   },
   {
    "duration": 226,
    "start_time": "2023-02-16T17:57:50.759Z"
   },
   {
    "duration": 76,
    "start_time": "2023-02-16T17:57:50.987Z"
   },
   {
    "duration": 396,
    "start_time": "2023-02-16T17:57:51.065Z"
   },
   {
    "duration": 1787,
    "start_time": "2023-02-16T17:57:51.462Z"
   },
   {
    "duration": 6781,
    "start_time": "2023-02-16T17:57:53.253Z"
   },
   {
    "duration": 3,
    "start_time": "2023-02-16T17:58:00.036Z"
   },
   {
    "duration": 24,
    "start_time": "2023-02-16T17:58:00.042Z"
   },
   {
    "duration": 1446,
    "start_time": "2023-02-16T17:58:56.426Z"
   },
   {
    "duration": 6,
    "start_time": "2023-02-16T17:58:57.876Z"
   },
   {
    "duration": 53,
    "start_time": "2023-02-16T17:58:57.884Z"
   },
   {
    "duration": 13,
    "start_time": "2023-02-16T17:58:57.939Z"
   },
   {
    "duration": 16,
    "start_time": "2023-02-16T17:58:57.954Z"
   },
   {
    "duration": 3,
    "start_time": "2023-02-16T17:58:57.972Z"
   },
   {
    "duration": 4,
    "start_time": "2023-02-16T17:58:57.977Z"
   },
   {
    "duration": 12,
    "start_time": "2023-02-16T17:58:57.982Z"
   },
   {
    "duration": 8,
    "start_time": "2023-02-16T17:58:57.996Z"
   },
   {
    "duration": 5,
    "start_time": "2023-02-16T17:58:58.005Z"
   },
   {
    "duration": 8,
    "start_time": "2023-02-16T17:58:58.012Z"
   },
   {
    "duration": 35,
    "start_time": "2023-02-16T17:58:58.022Z"
   },
   {
    "duration": 5,
    "start_time": "2023-02-16T17:58:58.059Z"
   },
   {
    "duration": 14,
    "start_time": "2023-02-16T17:58:58.067Z"
   },
   {
    "duration": 12,
    "start_time": "2023-02-16T17:58:58.084Z"
   },
   {
    "duration": 9,
    "start_time": "2023-02-16T17:58:58.098Z"
   },
   {
    "duration": 13,
    "start_time": "2023-02-16T17:58:58.109Z"
   },
   {
    "duration": 41,
    "start_time": "2023-02-16T17:58:58.123Z"
   },
   {
    "duration": 8,
    "start_time": "2023-02-16T17:58:58.166Z"
   },
   {
    "duration": 7,
    "start_time": "2023-02-16T17:58:58.176Z"
   },
   {
    "duration": 14,
    "start_time": "2023-02-16T17:58:58.184Z"
   },
   {
    "duration": 7,
    "start_time": "2023-02-16T17:58:58.200Z"
   },
   {
    "duration": 750,
    "start_time": "2023-02-16T17:58:58.208Z"
   },
   {
    "duration": 112,
    "start_time": "2023-02-16T17:58:58.960Z"
   },
   {
    "duration": 483,
    "start_time": "2023-02-16T17:58:59.074Z"
   },
   {
    "duration": 397,
    "start_time": "2023-02-16T17:58:59.565Z"
   },
   {
    "duration": 506,
    "start_time": "2023-02-16T17:59:00.055Z"
   },
   {
    "duration": 492,
    "start_time": "2023-02-16T17:59:00.564Z"
   },
   {
    "duration": 1193,
    "start_time": "2023-02-16T17:59:01.062Z"
   },
   {
    "duration": 129,
    "start_time": "2023-02-16T17:59:02.257Z"
   },
   {
    "duration": 159,
    "start_time": "2023-02-16T17:59:02.388Z"
   },
   {
    "duration": 5,
    "start_time": "2023-02-16T17:59:02.554Z"
   },
   {
    "duration": 95,
    "start_time": "2023-02-16T17:59:02.560Z"
   },
   {
    "duration": 225,
    "start_time": "2023-02-16T17:59:02.657Z"
   },
   {
    "duration": 74,
    "start_time": "2023-02-16T17:59:02.884Z"
   },
   {
    "duration": 394,
    "start_time": "2023-02-16T17:59:02.959Z"
   },
   {
    "duration": 1802,
    "start_time": "2023-02-16T17:59:03.355Z"
   },
   {
    "duration": 6749,
    "start_time": "2023-02-16T17:59:05.158Z"
   },
   {
    "duration": 3,
    "start_time": "2023-02-16T17:59:11.909Z"
   },
   {
    "duration": 12,
    "start_time": "2023-02-16T17:59:11.914Z"
   },
   {
    "duration": 6,
    "start_time": "2023-02-16T18:04:00.734Z"
   },
   {
    "duration": 1444,
    "start_time": "2023-02-16T18:05:17.818Z"
   },
   {
    "duration": 3,
    "start_time": "2023-02-16T18:05:19.265Z"
   },
   {
    "duration": 39,
    "start_time": "2023-02-16T18:05:19.273Z"
   },
   {
    "duration": 14,
    "start_time": "2023-02-16T18:05:19.315Z"
   },
   {
    "duration": 31,
    "start_time": "2023-02-16T18:05:19.331Z"
   },
   {
    "duration": 7,
    "start_time": "2023-02-16T18:05:19.364Z"
   },
   {
    "duration": 21,
    "start_time": "2023-02-16T18:05:19.373Z"
   },
   {
    "duration": 13,
    "start_time": "2023-02-16T18:05:19.396Z"
   },
   {
    "duration": 8,
    "start_time": "2023-02-16T18:05:19.411Z"
   },
   {
    "duration": 8,
    "start_time": "2023-02-16T18:05:19.422Z"
   },
   {
    "duration": 26,
    "start_time": "2023-02-16T18:05:19.432Z"
   },
   {
    "duration": 13,
    "start_time": "2023-02-16T18:05:19.460Z"
   },
   {
    "duration": 16,
    "start_time": "2023-02-16T18:05:19.478Z"
   },
   {
    "duration": 23,
    "start_time": "2023-02-16T18:05:19.496Z"
   },
   {
    "duration": 31,
    "start_time": "2023-02-16T18:05:19.521Z"
   },
   {
    "duration": 45,
    "start_time": "2023-02-16T18:05:19.554Z"
   },
   {
    "duration": 109,
    "start_time": "2023-02-16T18:05:19.601Z"
   },
   {
    "duration": 118,
    "start_time": "2023-02-16T18:05:19.712Z"
   },
   {
    "duration": 53,
    "start_time": "2023-02-16T18:05:19.832Z"
   },
   {
    "duration": 27,
    "start_time": "2023-02-16T18:05:19.887Z"
   },
   {
    "duration": 11,
    "start_time": "2023-02-16T18:05:19.916Z"
   },
   {
    "duration": 9,
    "start_time": "2023-02-16T18:05:19.928Z"
   },
   {
    "duration": 825,
    "start_time": "2023-02-16T18:05:19.938Z"
   },
   {
    "duration": 123,
    "start_time": "2023-02-16T18:05:20.765Z"
   },
   {
    "duration": 269,
    "start_time": "2023-02-16T18:05:20.890Z"
   },
   {
    "duration": 393,
    "start_time": "2023-02-16T18:05:21.162Z"
   },
   {
    "duration": 303,
    "start_time": "2023-02-16T18:05:21.557Z"
   },
   {
    "duration": 390,
    "start_time": "2023-02-16T18:05:21.862Z"
   },
   {
    "duration": 698,
    "start_time": "2023-02-16T18:05:22.255Z"
   },
   {
    "duration": 40,
    "start_time": "2023-02-16T18:05:22.955Z"
   },
   {
    "duration": 173,
    "start_time": "2023-02-16T18:05:22.998Z"
   },
   {
    "duration": 4,
    "start_time": "2023-02-16T18:05:23.174Z"
   },
   {
    "duration": 175,
    "start_time": "2023-02-16T18:05:23.180Z"
   },
   {
    "duration": 259,
    "start_time": "2023-02-16T18:05:23.357Z"
   },
   {
    "duration": 85,
    "start_time": "2023-02-16T18:05:23.618Z"
   },
   {
    "duration": 426,
    "start_time": "2023-02-16T18:05:23.705Z"
   },
   {
    "duration": 1987,
    "start_time": "2023-02-16T18:05:24.133Z"
   },
   {
    "duration": 6744,
    "start_time": "2023-02-16T18:05:26.122Z"
   },
   {
    "duration": 2,
    "start_time": "2023-02-16T18:05:32.869Z"
   },
   {
    "duration": 7,
    "start_time": "2023-02-16T18:05:32.875Z"
   },
   {
    "duration": 117,
    "start_time": "2023-02-16T18:24:10.991Z"
   },
   {
    "duration": 123,
    "start_time": "2023-02-16T18:24:18.472Z"
   },
   {
    "duration": 78,
    "start_time": "2023-02-16T18:27:22.099Z"
   },
   {
    "duration": 43,
    "start_time": "2023-02-16T18:27:51.245Z"
   },
   {
    "duration": 13,
    "start_time": "2023-02-16T18:27:57.379Z"
   },
   {
    "duration": 4,
    "start_time": "2023-02-16T18:28:08.982Z"
   },
   {
    "duration": 6774,
    "start_time": "2023-02-16T18:28:24.266Z"
   },
   {
    "duration": 65,
    "start_time": "2023-02-16T18:30:28.737Z"
   },
   {
    "duration": 408,
    "start_time": "2023-02-16T18:31:41.765Z"
   },
   {
    "duration": 123,
    "start_time": "2023-02-16T18:31:44.538Z"
   },
   {
    "duration": 93,
    "start_time": "2023-02-16T18:32:18.541Z"
   },
   {
    "duration": 55,
    "start_time": "2023-02-16T18:34:25.942Z"
   },
   {
    "duration": 512,
    "start_time": "2023-02-16T18:38:39.561Z"
   },
   {
    "duration": 528,
    "start_time": "2023-02-16T18:38:54.331Z"
   },
   {
    "duration": 573,
    "start_time": "2023-02-16T18:39:15.847Z"
   },
   {
    "duration": 45,
    "start_time": "2023-02-16T18:42:12.168Z"
   },
   {
    "duration": 523,
    "start_time": "2023-02-16T18:42:42.434Z"
   },
   {
    "duration": 550,
    "start_time": "2023-02-16T18:43:01.492Z"
   },
   {
    "duration": 539,
    "start_time": "2023-02-16T18:43:42.364Z"
   },
   {
    "duration": 559,
    "start_time": "2023-02-16T18:44:16.437Z"
   },
   {
    "duration": 571,
    "start_time": "2023-02-16T18:44:26.386Z"
   },
   {
    "duration": 533,
    "start_time": "2023-02-16T18:45:19.708Z"
   },
   {
    "duration": 523,
    "start_time": "2023-02-16T18:45:31.432Z"
   },
   {
    "duration": 47,
    "start_time": "2023-02-17T17:35:45.381Z"
   },
   {
    "duration": 1476,
    "start_time": "2023-02-17T17:35:51.482Z"
   },
   {
    "duration": 3,
    "start_time": "2023-02-17T17:35:52.961Z"
   },
   {
    "duration": 188,
    "start_time": "2023-02-17T17:35:52.965Z"
   },
   {
    "duration": 14,
    "start_time": "2023-02-17T17:35:53.155Z"
   },
   {
    "duration": 18,
    "start_time": "2023-02-17T17:35:53.170Z"
   },
   {
    "duration": 3,
    "start_time": "2023-02-17T17:35:53.190Z"
   },
   {
    "duration": 5,
    "start_time": "2023-02-17T17:35:53.195Z"
   },
   {
    "duration": 8,
    "start_time": "2023-02-17T17:35:53.201Z"
   },
   {
    "duration": 11,
    "start_time": "2023-02-17T17:35:53.210Z"
   },
   {
    "duration": 4,
    "start_time": "2023-02-17T17:35:53.223Z"
   },
   {
    "duration": 9,
    "start_time": "2023-02-17T17:35:53.228Z"
   },
   {
    "duration": 6,
    "start_time": "2023-02-17T17:35:53.238Z"
   },
   {
    "duration": 4,
    "start_time": "2023-02-17T17:35:53.246Z"
   },
   {
    "duration": 12,
    "start_time": "2023-02-17T17:35:53.252Z"
   },
   {
    "duration": 11,
    "start_time": "2023-02-17T17:35:53.266Z"
   },
   {
    "duration": 8,
    "start_time": "2023-02-17T17:35:53.279Z"
   },
   {
    "duration": 8,
    "start_time": "2023-02-17T17:35:53.321Z"
   },
   {
    "duration": 14,
    "start_time": "2023-02-17T17:35:53.330Z"
   },
   {
    "duration": 5,
    "start_time": "2023-02-17T17:35:53.346Z"
   },
   {
    "duration": 5,
    "start_time": "2023-02-17T17:35:53.353Z"
   },
   {
    "duration": 10,
    "start_time": "2023-02-17T17:35:53.359Z"
   },
   {
    "duration": 7,
    "start_time": "2023-02-17T17:35:53.370Z"
   },
   {
    "duration": 744,
    "start_time": "2023-02-17T17:35:53.379Z"
   },
   {
    "duration": 125,
    "start_time": "2023-02-17T17:35:54.126Z"
   },
   {
    "duration": 278,
    "start_time": "2023-02-17T17:35:54.252Z"
   },
   {
    "duration": 303,
    "start_time": "2023-02-17T17:35:54.621Z"
   },
   {
    "duration": 395,
    "start_time": "2023-02-17T17:35:54.926Z"
   },
   {
    "duration": 104,
    "start_time": "2023-02-17T17:35:55.325Z"
   },
   {
    "duration": 491,
    "start_time": "2023-02-17T17:35:55.430Z"
   },
   {
    "duration": 127,
    "start_time": "2023-02-17T17:35:55.923Z"
   },
   {
    "duration": 148,
    "start_time": "2023-02-17T17:35:56.052Z"
   },
   {
    "duration": 4,
    "start_time": "2023-02-17T17:35:56.202Z"
   },
   {
    "duration": 21,
    "start_time": "2023-02-17T17:35:56.220Z"
   },
   {
    "duration": 197,
    "start_time": "2023-02-17T17:35:56.325Z"
   },
   {
    "duration": 0,
    "start_time": "2023-02-17T17:35:56.524Z"
   },
   {
    "duration": 0,
    "start_time": "2023-02-17T17:35:56.525Z"
   },
   {
    "duration": 0,
    "start_time": "2023-02-17T17:35:56.527Z"
   },
   {
    "duration": 0,
    "start_time": "2023-02-17T17:35:56.528Z"
   },
   {
    "duration": 0,
    "start_time": "2023-02-17T17:35:56.529Z"
   },
   {
    "duration": 0,
    "start_time": "2023-02-17T17:35:56.530Z"
   },
   {
    "duration": 0,
    "start_time": "2023-02-17T17:35:56.531Z"
   },
   {
    "duration": 0,
    "start_time": "2023-02-17T17:35:56.533Z"
   },
   {
    "duration": 0,
    "start_time": "2023-02-17T17:35:56.534Z"
   },
   {
    "duration": 0,
    "start_time": "2023-02-17T17:35:56.535Z"
   },
   {
    "duration": 0,
    "start_time": "2023-02-17T17:35:56.536Z"
   },
   {
    "duration": 1342,
    "start_time": "2023-02-17T17:36:30.964Z"
   },
   {
    "duration": 4,
    "start_time": "2023-02-17T17:36:32.309Z"
   },
   {
    "duration": 52,
    "start_time": "2023-02-17T17:36:32.314Z"
   },
   {
    "duration": 13,
    "start_time": "2023-02-17T17:36:32.368Z"
   },
   {
    "duration": 15,
    "start_time": "2023-02-17T17:36:32.383Z"
   },
   {
    "duration": 3,
    "start_time": "2023-02-17T17:36:32.400Z"
   },
   {
    "duration": 6,
    "start_time": "2023-02-17T17:36:32.404Z"
   },
   {
    "duration": 12,
    "start_time": "2023-02-17T17:36:32.412Z"
   },
   {
    "duration": 9,
    "start_time": "2023-02-17T17:36:32.426Z"
   },
   {
    "duration": 4,
    "start_time": "2023-02-17T17:36:32.438Z"
   },
   {
    "duration": 9,
    "start_time": "2023-02-17T17:36:32.444Z"
   },
   {
    "duration": 8,
    "start_time": "2023-02-17T17:36:32.455Z"
   },
   {
    "duration": 6,
    "start_time": "2023-02-17T17:36:32.465Z"
   },
   {
    "duration": 16,
    "start_time": "2023-02-17T17:36:32.472Z"
   },
   {
    "duration": 39,
    "start_time": "2023-02-17T17:36:32.490Z"
   },
   {
    "duration": 8,
    "start_time": "2023-02-17T17:36:32.531Z"
   },
   {
    "duration": 10,
    "start_time": "2023-02-17T17:36:32.540Z"
   },
   {
    "duration": 10,
    "start_time": "2023-02-17T17:36:32.552Z"
   },
   {
    "duration": 8,
    "start_time": "2023-02-17T17:36:32.564Z"
   },
   {
    "duration": 19,
    "start_time": "2023-02-17T17:36:32.573Z"
   },
   {
    "duration": 20,
    "start_time": "2023-02-17T17:36:32.593Z"
   },
   {
    "duration": 8,
    "start_time": "2023-02-17T17:36:32.620Z"
   },
   {
    "duration": 700,
    "start_time": "2023-02-17T17:36:32.629Z"
   },
   {
    "duration": 114,
    "start_time": "2023-02-17T17:36:33.421Z"
   },
   {
    "duration": 293,
    "start_time": "2023-02-17T17:36:33.537Z"
   },
   {
    "duration": 402,
    "start_time": "2023-02-17T17:36:33.922Z"
   },
   {
    "duration": 302,
    "start_time": "2023-02-17T17:36:34.327Z"
   },
   {
    "duration": 291,
    "start_time": "2023-02-17T17:36:34.634Z"
   },
   {
    "duration": 402,
    "start_time": "2023-02-17T17:36:34.928Z"
   },
   {
    "duration": 136,
    "start_time": "2023-02-17T17:36:35.422Z"
   },
   {
    "duration": 165,
    "start_time": "2023-02-17T17:36:35.560Z"
   },
   {
    "duration": 5,
    "start_time": "2023-02-17T17:36:35.726Z"
   },
   {
    "duration": 91,
    "start_time": "2023-02-17T17:36:35.733Z"
   },
   {
    "duration": 215,
    "start_time": "2023-02-17T17:36:35.827Z"
   },
   {
    "duration": 77,
    "start_time": "2023-02-17T17:36:36.044Z"
   },
   {
    "duration": 389,
    "start_time": "2023-02-17T17:36:36.123Z"
   },
   {
    "duration": 1690,
    "start_time": "2023-02-17T17:36:36.521Z"
   },
   {
    "duration": 6467,
    "start_time": "2023-02-17T17:36:38.213Z"
   },
   {
    "duration": 3,
    "start_time": "2023-02-17T17:36:44.683Z"
   },
   {
    "duration": 420,
    "start_time": "2023-02-17T17:36:44.688Z"
   },
   {
    "duration": 122,
    "start_time": "2023-02-17T17:36:45.110Z"
   },
   {
    "duration": 48,
    "start_time": "2023-02-17T17:36:45.234Z"
   },
   {
    "duration": 519,
    "start_time": "2023-02-17T17:36:45.283Z"
   },
   {
    "duration": 514,
    "start_time": "2023-02-17T17:36:45.804Z"
   },
   {
    "duration": 518,
    "start_time": "2023-02-17T17:36:46.321Z"
   },
   {
    "duration": 1361,
    "start_time": "2023-02-17T17:45:55.855Z"
   },
   {
    "duration": 5,
    "start_time": "2023-02-17T17:45:57.217Z"
   },
   {
    "duration": 45,
    "start_time": "2023-02-17T17:45:57.223Z"
   },
   {
    "duration": 13,
    "start_time": "2023-02-17T17:45:57.270Z"
   },
   {
    "duration": 16,
    "start_time": "2023-02-17T17:45:57.285Z"
   },
   {
    "duration": 4,
    "start_time": "2023-02-17T17:45:57.302Z"
   },
   {
    "duration": 6,
    "start_time": "2023-02-17T17:45:57.308Z"
   },
   {
    "duration": 8,
    "start_time": "2023-02-17T17:45:57.316Z"
   },
   {
    "duration": 5,
    "start_time": "2023-02-17T17:45:57.325Z"
   },
   {
    "duration": 3,
    "start_time": "2023-02-17T17:45:57.334Z"
   },
   {
    "duration": 11,
    "start_time": "2023-02-17T17:45:57.339Z"
   },
   {
    "duration": 8,
    "start_time": "2023-02-17T17:45:57.352Z"
   },
   {
    "duration": 7,
    "start_time": "2023-02-17T17:45:57.362Z"
   },
   {
    "duration": 14,
    "start_time": "2023-02-17T17:45:57.370Z"
   },
   {
    "duration": 40,
    "start_time": "2023-02-17T17:45:57.386Z"
   },
   {
    "duration": 8,
    "start_time": "2023-02-17T17:45:57.428Z"
   },
   {
    "duration": 95,
    "start_time": "2023-02-17T17:45:57.437Z"
   },
   {
    "duration": 0,
    "start_time": "2023-02-17T17:45:57.535Z"
   },
   {
    "duration": 0,
    "start_time": "2023-02-17T17:45:57.537Z"
   },
   {
    "duration": 0,
    "start_time": "2023-02-17T17:45:57.539Z"
   },
   {
    "duration": 0,
    "start_time": "2023-02-17T17:45:57.541Z"
   },
   {
    "duration": 0,
    "start_time": "2023-02-17T17:45:57.542Z"
   },
   {
    "duration": 0,
    "start_time": "2023-02-17T17:45:57.544Z"
   },
   {
    "duration": 0,
    "start_time": "2023-02-17T17:45:57.545Z"
   },
   {
    "duration": 0,
    "start_time": "2023-02-17T17:45:57.546Z"
   },
   {
    "duration": 0,
    "start_time": "2023-02-17T17:45:57.548Z"
   },
   {
    "duration": 0,
    "start_time": "2023-02-17T17:45:57.549Z"
   },
   {
    "duration": 0,
    "start_time": "2023-02-17T17:45:57.550Z"
   },
   {
    "duration": 0,
    "start_time": "2023-02-17T17:45:57.552Z"
   },
   {
    "duration": 0,
    "start_time": "2023-02-17T17:45:57.553Z"
   },
   {
    "duration": 0,
    "start_time": "2023-02-17T17:45:57.554Z"
   },
   {
    "duration": 0,
    "start_time": "2023-02-17T17:45:57.555Z"
   },
   {
    "duration": 0,
    "start_time": "2023-02-17T17:45:57.557Z"
   },
   {
    "duration": 0,
    "start_time": "2023-02-17T17:45:57.558Z"
   },
   {
    "duration": 0,
    "start_time": "2023-02-17T17:45:57.559Z"
   },
   {
    "duration": 0,
    "start_time": "2023-02-17T17:45:57.560Z"
   },
   {
    "duration": 0,
    "start_time": "2023-02-17T17:45:57.561Z"
   },
   {
    "duration": 0,
    "start_time": "2023-02-17T17:45:57.562Z"
   },
   {
    "duration": 0,
    "start_time": "2023-02-17T17:45:57.563Z"
   },
   {
    "duration": 0,
    "start_time": "2023-02-17T17:45:57.564Z"
   },
   {
    "duration": 0,
    "start_time": "2023-02-17T17:45:57.565Z"
   },
   {
    "duration": 0,
    "start_time": "2023-02-17T17:45:57.567Z"
   },
   {
    "duration": 0,
    "start_time": "2023-02-17T17:45:57.568Z"
   },
   {
    "duration": 0,
    "start_time": "2023-02-17T17:45:57.569Z"
   },
   {
    "duration": 0,
    "start_time": "2023-02-17T17:45:57.621Z"
   },
   {
    "duration": 1403,
    "start_time": "2023-02-17T17:46:45.043Z"
   },
   {
    "duration": 3,
    "start_time": "2023-02-17T17:46:46.448Z"
   },
   {
    "duration": 49,
    "start_time": "2023-02-17T17:46:46.452Z"
   },
   {
    "duration": 15,
    "start_time": "2023-02-17T17:46:46.503Z"
   },
   {
    "duration": 18,
    "start_time": "2023-02-17T17:46:46.519Z"
   },
   {
    "duration": 3,
    "start_time": "2023-02-17T17:46:46.539Z"
   },
   {
    "duration": 6,
    "start_time": "2023-02-17T17:46:46.543Z"
   },
   {
    "duration": 15,
    "start_time": "2023-02-17T17:46:46.551Z"
   },
   {
    "duration": 6,
    "start_time": "2023-02-17T17:46:46.568Z"
   },
   {
    "duration": 4,
    "start_time": "2023-02-17T17:46:46.577Z"
   },
   {
    "duration": 15,
    "start_time": "2023-02-17T17:46:46.582Z"
   },
   {
    "duration": 26,
    "start_time": "2023-02-17T17:46:46.599Z"
   },
   {
    "duration": 10,
    "start_time": "2023-02-17T17:46:46.627Z"
   },
   {
    "duration": 13,
    "start_time": "2023-02-17T17:46:46.639Z"
   },
   {
    "duration": 11,
    "start_time": "2023-02-17T17:46:46.653Z"
   },
   {
    "duration": 7,
    "start_time": "2023-02-17T17:46:46.666Z"
   },
   {
    "duration": 7,
    "start_time": "2023-02-17T17:46:46.675Z"
   },
   {
    "duration": 15,
    "start_time": "2023-02-17T17:46:46.683Z"
   },
   {
    "duration": 24,
    "start_time": "2023-02-17T17:46:46.700Z"
   },
   {
    "duration": 5,
    "start_time": "2023-02-17T17:46:46.726Z"
   },
   {
    "duration": 11,
    "start_time": "2023-02-17T17:46:46.732Z"
   },
   {
    "duration": 5,
    "start_time": "2023-02-17T17:46:46.745Z"
   },
   {
    "duration": 670,
    "start_time": "2023-02-17T17:46:46.752Z"
   },
   {
    "duration": 122,
    "start_time": "2023-02-17T17:46:47.424Z"
   },
   {
    "duration": 374,
    "start_time": "2023-02-17T17:46:47.548Z"
   },
   {
    "duration": 307,
    "start_time": "2023-02-17T17:46:47.926Z"
   },
   {
    "duration": 291,
    "start_time": "2023-02-17T17:46:48.235Z"
   },
   {
    "duration": 291,
    "start_time": "2023-02-17T17:46:48.531Z"
   },
   {
    "duration": 504,
    "start_time": "2023-02-17T17:46:48.824Z"
   },
   {
    "duration": 127,
    "start_time": "2023-02-17T17:46:49.330Z"
   },
   {
    "duration": 152,
    "start_time": "2023-02-17T17:46:49.459Z"
   },
   {
    "duration": 8,
    "start_time": "2023-02-17T17:46:49.613Z"
   },
   {
    "duration": 20,
    "start_time": "2023-02-17T17:46:49.623Z"
   },
   {
    "duration": 196,
    "start_time": "2023-02-17T17:46:49.722Z"
   },
   {
    "duration": 0,
    "start_time": "2023-02-17T17:46:49.921Z"
   },
   {
    "duration": 0,
    "start_time": "2023-02-17T17:46:49.922Z"
   },
   {
    "duration": 0,
    "start_time": "2023-02-17T17:46:49.924Z"
   },
   {
    "duration": 0,
    "start_time": "2023-02-17T17:46:49.925Z"
   },
   {
    "duration": 0,
    "start_time": "2023-02-17T17:46:49.927Z"
   },
   {
    "duration": 0,
    "start_time": "2023-02-17T17:46:49.928Z"
   },
   {
    "duration": 0,
    "start_time": "2023-02-17T17:46:49.929Z"
   },
   {
    "duration": 0,
    "start_time": "2023-02-17T17:46:49.931Z"
   },
   {
    "duration": 0,
    "start_time": "2023-02-17T17:46:49.932Z"
   },
   {
    "duration": 0,
    "start_time": "2023-02-17T17:46:49.933Z"
   },
   {
    "duration": 0,
    "start_time": "2023-02-17T17:46:49.935Z"
   },
   {
    "duration": 1434,
    "start_time": "2023-02-17T17:49:23.587Z"
   },
   {
    "duration": 2,
    "start_time": "2023-02-17T17:49:25.025Z"
   },
   {
    "duration": 62,
    "start_time": "2023-02-17T17:49:25.029Z"
   },
   {
    "duration": 15,
    "start_time": "2023-02-17T17:49:25.095Z"
   },
   {
    "duration": 20,
    "start_time": "2023-02-17T17:49:25.112Z"
   },
   {
    "duration": 5,
    "start_time": "2023-02-17T17:49:25.134Z"
   },
   {
    "duration": 7,
    "start_time": "2023-02-17T17:49:25.141Z"
   },
   {
    "duration": 14,
    "start_time": "2023-02-17T17:49:25.149Z"
   },
   {
    "duration": 21,
    "start_time": "2023-02-17T17:49:25.165Z"
   },
   {
    "duration": 4,
    "start_time": "2023-02-17T17:49:25.188Z"
   },
   {
    "duration": 10,
    "start_time": "2023-02-17T17:49:25.194Z"
   },
   {
    "duration": 8,
    "start_time": "2023-02-17T17:49:25.206Z"
   },
   {
    "duration": 4,
    "start_time": "2023-02-17T17:49:25.217Z"
   },
   {
    "duration": 14,
    "start_time": "2023-02-17T17:49:25.223Z"
   },
   {
    "duration": 13,
    "start_time": "2023-02-17T17:49:25.238Z"
   },
   {
    "duration": 8,
    "start_time": "2023-02-17T17:49:25.252Z"
   },
   {
    "duration": 7,
    "start_time": "2023-02-17T17:49:25.262Z"
   },
   {
    "duration": 9,
    "start_time": "2023-02-17T17:49:25.270Z"
   },
   {
    "duration": 6,
    "start_time": "2023-02-17T17:49:25.280Z"
   },
   {
    "duration": 34,
    "start_time": "2023-02-17T17:49:25.287Z"
   },
   {
    "duration": 10,
    "start_time": "2023-02-17T17:49:25.322Z"
   },
   {
    "duration": 5,
    "start_time": "2023-02-17T17:49:25.333Z"
   },
   {
    "duration": 784,
    "start_time": "2023-02-17T17:49:25.340Z"
   },
   {
    "duration": 125,
    "start_time": "2023-02-17T17:49:26.126Z"
   },
   {
    "duration": 369,
    "start_time": "2023-02-17T17:49:26.253Z"
   },
   {
    "duration": 398,
    "start_time": "2023-02-17T17:49:26.624Z"
   },
   {
    "duration": 303,
    "start_time": "2023-02-17T17:49:27.024Z"
   },
   {
    "duration": 296,
    "start_time": "2023-02-17T17:49:27.330Z"
   },
   {
    "duration": 594,
    "start_time": "2023-02-17T17:49:27.628Z"
   },
   {
    "duration": 130,
    "start_time": "2023-02-17T17:49:28.224Z"
   },
   {
    "duration": 157,
    "start_time": "2023-02-17T17:49:28.356Z"
   },
   {
    "duration": 7,
    "start_time": "2023-02-17T17:49:28.515Z"
   },
   {
    "duration": 98,
    "start_time": "2023-02-17T17:49:28.524Z"
   },
   {
    "duration": 229,
    "start_time": "2023-02-17T17:49:28.625Z"
   },
   {
    "duration": 69,
    "start_time": "2023-02-17T17:49:28.856Z"
   },
   {
    "duration": 371,
    "start_time": "2023-02-17T17:49:28.927Z"
   },
   {
    "duration": 1728,
    "start_time": "2023-02-17T17:49:29.300Z"
   },
   {
    "duration": 6471,
    "start_time": "2023-02-17T17:49:31.030Z"
   },
   {
    "duration": 3,
    "start_time": "2023-02-17T17:49:37.503Z"
   },
   {
    "duration": 389,
    "start_time": "2023-02-17T17:49:37.510Z"
   },
   {
    "duration": 120,
    "start_time": "2023-02-17T17:49:37.901Z"
   },
   {
    "duration": 49,
    "start_time": "2023-02-17T17:49:38.023Z"
   },
   {
    "duration": 527,
    "start_time": "2023-02-17T17:49:38.074Z"
   },
   {
    "duration": 500,
    "start_time": "2023-02-17T17:49:38.602Z"
   },
   {
    "duration": 489,
    "start_time": "2023-02-17T17:49:39.104Z"
   },
   {
    "duration": 1412,
    "start_time": "2023-02-17T17:54:11.322Z"
   },
   {
    "duration": 3,
    "start_time": "2023-02-17T17:54:12.736Z"
   },
   {
    "duration": 45,
    "start_time": "2023-02-17T17:54:12.741Z"
   },
   {
    "duration": 15,
    "start_time": "2023-02-17T17:54:12.788Z"
   },
   {
    "duration": 20,
    "start_time": "2023-02-17T17:54:12.804Z"
   },
   {
    "duration": 3,
    "start_time": "2023-02-17T17:54:12.825Z"
   },
   {
    "duration": 6,
    "start_time": "2023-02-17T17:54:12.830Z"
   },
   {
    "duration": 9,
    "start_time": "2023-02-17T17:54:12.837Z"
   },
   {
    "duration": 6,
    "start_time": "2023-02-17T17:54:12.847Z"
   },
   {
    "duration": 3,
    "start_time": "2023-02-17T17:54:12.855Z"
   },
   {
    "duration": 10,
    "start_time": "2023-02-17T17:54:12.860Z"
   },
   {
    "duration": 9,
    "start_time": "2023-02-17T17:54:12.871Z"
   },
   {
    "duration": 5,
    "start_time": "2023-02-17T17:54:12.882Z"
   },
   {
    "duration": 41,
    "start_time": "2023-02-17T17:54:12.888Z"
   },
   {
    "duration": 12,
    "start_time": "2023-02-17T17:54:12.931Z"
   },
   {
    "duration": 8,
    "start_time": "2023-02-17T17:54:12.944Z"
   },
   {
    "duration": 11,
    "start_time": "2023-02-17T17:54:12.953Z"
   },
   {
    "duration": 11,
    "start_time": "2023-02-17T17:54:12.965Z"
   },
   {
    "duration": 5,
    "start_time": "2023-02-17T17:54:12.978Z"
   },
   {
    "duration": 6,
    "start_time": "2023-02-17T17:54:12.985Z"
   },
   {
    "duration": 78,
    "start_time": "2023-02-17T17:54:12.992Z"
   },
   {
    "duration": 0,
    "start_time": "2023-02-17T17:54:13.072Z"
   },
   {
    "duration": 0,
    "start_time": "2023-02-17T17:54:13.073Z"
   },
   {
    "duration": 0,
    "start_time": "2023-02-17T17:54:13.074Z"
   },
   {
    "duration": 0,
    "start_time": "2023-02-17T17:54:13.075Z"
   },
   {
    "duration": 0,
    "start_time": "2023-02-17T17:54:13.077Z"
   },
   {
    "duration": 0,
    "start_time": "2023-02-17T17:54:13.078Z"
   },
   {
    "duration": 0,
    "start_time": "2023-02-17T17:54:13.079Z"
   },
   {
    "duration": 0,
    "start_time": "2023-02-17T17:54:13.080Z"
   },
   {
    "duration": 0,
    "start_time": "2023-02-17T17:54:13.081Z"
   },
   {
    "duration": 0,
    "start_time": "2023-02-17T17:54:13.081Z"
   },
   {
    "duration": 0,
    "start_time": "2023-02-17T17:54:13.083Z"
   },
   {
    "duration": 0,
    "start_time": "2023-02-17T17:54:13.084Z"
   },
   {
    "duration": 0,
    "start_time": "2023-02-17T17:54:13.085Z"
   },
   {
    "duration": 0,
    "start_time": "2023-02-17T17:54:13.086Z"
   },
   {
    "duration": 0,
    "start_time": "2023-02-17T17:54:13.087Z"
   },
   {
    "duration": 0,
    "start_time": "2023-02-17T17:54:13.088Z"
   },
   {
    "duration": 0,
    "start_time": "2023-02-17T17:54:13.089Z"
   },
   {
    "duration": 0,
    "start_time": "2023-02-17T17:54:13.090Z"
   },
   {
    "duration": 0,
    "start_time": "2023-02-17T17:54:13.091Z"
   },
   {
    "duration": 0,
    "start_time": "2023-02-17T17:54:13.092Z"
   },
   {
    "duration": 0,
    "start_time": "2023-02-17T17:54:13.093Z"
   },
   {
    "duration": 0,
    "start_time": "2023-02-17T17:54:13.094Z"
   },
   {
    "duration": 0,
    "start_time": "2023-02-17T17:54:13.094Z"
   },
   {
    "duration": 0,
    "start_time": "2023-02-17T17:54:13.095Z"
   },
   {
    "duration": 1486,
    "start_time": "2023-02-17T17:54:35.443Z"
   },
   {
    "duration": 4,
    "start_time": "2023-02-17T17:54:36.931Z"
   },
   {
    "duration": 51,
    "start_time": "2023-02-17T17:54:36.937Z"
   },
   {
    "duration": 14,
    "start_time": "2023-02-17T17:54:36.990Z"
   },
   {
    "duration": 22,
    "start_time": "2023-02-17T17:54:37.006Z"
   },
   {
    "duration": 5,
    "start_time": "2023-02-17T17:54:37.030Z"
   },
   {
    "duration": 8,
    "start_time": "2023-02-17T17:54:37.037Z"
   },
   {
    "duration": 14,
    "start_time": "2023-02-17T17:54:37.047Z"
   },
   {
    "duration": 13,
    "start_time": "2023-02-17T17:54:37.063Z"
   },
   {
    "duration": 5,
    "start_time": "2023-02-17T17:54:37.078Z"
   },
   {
    "duration": 8,
    "start_time": "2023-02-17T17:54:37.085Z"
   },
   {
    "duration": 28,
    "start_time": "2023-02-17T17:54:37.095Z"
   },
   {
    "duration": 8,
    "start_time": "2023-02-17T17:54:37.125Z"
   },
   {
    "duration": 17,
    "start_time": "2023-02-17T17:54:37.138Z"
   },
   {
    "duration": 12,
    "start_time": "2023-02-17T17:54:37.157Z"
   },
   {
    "duration": 7,
    "start_time": "2023-02-17T17:54:37.172Z"
   },
   {
    "duration": 12,
    "start_time": "2023-02-17T17:54:37.181Z"
   },
   {
    "duration": 31,
    "start_time": "2023-02-17T17:54:37.195Z"
   },
   {
    "duration": 8,
    "start_time": "2023-02-17T17:54:37.228Z"
   },
   {
    "duration": 7,
    "start_time": "2023-02-17T17:54:37.238Z"
   },
   {
    "duration": 11,
    "start_time": "2023-02-17T17:54:37.247Z"
   },
   {
    "duration": 7,
    "start_time": "2023-02-17T17:54:37.260Z"
   },
   {
    "duration": 1261,
    "start_time": "2023-02-17T17:54:37.269Z"
   },
   {
    "duration": 37,
    "start_time": "2023-02-17T17:54:38.621Z"
   },
   {
    "duration": 268,
    "start_time": "2023-02-17T17:54:38.660Z"
   },
   {
    "duration": 401,
    "start_time": "2023-02-17T17:54:38.930Z"
   },
   {
    "duration": 299,
    "start_time": "2023-02-17T17:54:39.333Z"
   },
   {
    "duration": 297,
    "start_time": "2023-02-17T17:54:39.635Z"
   },
   {
    "duration": 787,
    "start_time": "2023-02-17T17:54:39.935Z"
   },
   {
    "duration": 128,
    "start_time": "2023-02-17T17:54:40.725Z"
   },
   {
    "duration": 162,
    "start_time": "2023-02-17T17:54:40.854Z"
   },
   {
    "duration": 5,
    "start_time": "2023-02-17T17:54:41.021Z"
   },
   {
    "duration": 95,
    "start_time": "2023-02-17T17:54:41.027Z"
   },
   {
    "duration": 200,
    "start_time": "2023-02-17T17:54:41.125Z"
   },
   {
    "duration": 65,
    "start_time": "2023-02-17T17:54:41.327Z"
   },
   {
    "duration": 411,
    "start_time": "2023-02-17T17:54:41.394Z"
   },
   {
    "duration": 3,
    "start_time": "2023-02-17T17:54:41.808Z"
   },
   {
    "duration": 6,
    "start_time": "2023-02-17T17:54:41.821Z"
   },
   {
    "duration": 16,
    "start_time": "2023-02-17T17:54:41.829Z"
   },
   {
    "duration": 130,
    "start_time": "2023-02-17T17:54:41.847Z"
   },
   {
    "duration": 0,
    "start_time": "2023-02-17T17:54:41.978Z"
   },
   {
    "duration": 0,
    "start_time": "2023-02-17T17:54:41.979Z"
   },
   {
    "duration": 0,
    "start_time": "2023-02-17T17:54:41.981Z"
   },
   {
    "duration": 0,
    "start_time": "2023-02-17T17:54:41.982Z"
   },
   {
    "duration": 0,
    "start_time": "2023-02-17T17:54:41.983Z"
   },
   {
    "duration": 89,
    "start_time": "2023-02-17T17:59:34.063Z"
   },
   {
    "duration": 8,
    "start_time": "2023-02-17T17:59:48.249Z"
   },
   {
    "duration": 1400,
    "start_time": "2023-02-17T18:05:21.988Z"
   },
   {
    "duration": 3,
    "start_time": "2023-02-17T18:05:23.390Z"
   },
   {
    "duration": 46,
    "start_time": "2023-02-17T18:05:23.395Z"
   },
   {
    "duration": 13,
    "start_time": "2023-02-17T18:05:23.443Z"
   },
   {
    "duration": 18,
    "start_time": "2023-02-17T18:05:23.457Z"
   },
   {
    "duration": 4,
    "start_time": "2023-02-17T18:05:23.477Z"
   },
   {
    "duration": 9,
    "start_time": "2023-02-17T18:05:23.482Z"
   },
   {
    "duration": 9,
    "start_time": "2023-02-17T18:05:23.493Z"
   },
   {
    "duration": 23,
    "start_time": "2023-02-17T18:05:23.504Z"
   },
   {
    "duration": 3,
    "start_time": "2023-02-17T18:05:23.531Z"
   },
   {
    "duration": 8,
    "start_time": "2023-02-17T18:05:23.536Z"
   },
   {
    "duration": 8,
    "start_time": "2023-02-17T18:05:23.546Z"
   },
   {
    "duration": 5,
    "start_time": "2023-02-17T18:05:23.556Z"
   },
   {
    "duration": 13,
    "start_time": "2023-02-17T18:05:23.562Z"
   },
   {
    "duration": 51,
    "start_time": "2023-02-17T18:05:23.577Z"
   },
   {
    "duration": 10,
    "start_time": "2023-02-17T18:05:23.630Z"
   },
   {
    "duration": 8,
    "start_time": "2023-02-17T18:05:23.641Z"
   },
   {
    "duration": 20,
    "start_time": "2023-02-17T18:05:23.651Z"
   },
   {
    "duration": 4,
    "start_time": "2023-02-17T18:05:23.673Z"
   },
   {
    "duration": 6,
    "start_time": "2023-02-17T18:05:23.679Z"
   },
   {
    "duration": 39,
    "start_time": "2023-02-17T18:05:23.686Z"
   },
   {
    "duration": 122,
    "start_time": "2023-02-17T18:05:23.727Z"
   },
   {
    "duration": 0,
    "start_time": "2023-02-17T18:05:23.851Z"
   },
   {
    "duration": 0,
    "start_time": "2023-02-17T18:05:23.853Z"
   },
   {
    "duration": 0,
    "start_time": "2023-02-17T18:05:23.854Z"
   },
   {
    "duration": 0,
    "start_time": "2023-02-17T18:05:23.856Z"
   },
   {
    "duration": 0,
    "start_time": "2023-02-17T18:05:23.856Z"
   },
   {
    "duration": 0,
    "start_time": "2023-02-17T18:05:23.857Z"
   },
   {
    "duration": 0,
    "start_time": "2023-02-17T18:05:23.859Z"
   },
   {
    "duration": 0,
    "start_time": "2023-02-17T18:05:23.860Z"
   },
   {
    "duration": 0,
    "start_time": "2023-02-17T18:05:23.861Z"
   },
   {
    "duration": 0,
    "start_time": "2023-02-17T18:05:23.862Z"
   },
   {
    "duration": 0,
    "start_time": "2023-02-17T18:05:23.863Z"
   },
   {
    "duration": 0,
    "start_time": "2023-02-17T18:05:23.866Z"
   },
   {
    "duration": 0,
    "start_time": "2023-02-17T18:05:23.867Z"
   },
   {
    "duration": 0,
    "start_time": "2023-02-17T18:05:23.868Z"
   },
   {
    "duration": 0,
    "start_time": "2023-02-17T18:05:23.870Z"
   },
   {
    "duration": 0,
    "start_time": "2023-02-17T18:05:23.871Z"
   },
   {
    "duration": 0,
    "start_time": "2023-02-17T18:05:23.872Z"
   },
   {
    "duration": 0,
    "start_time": "2023-02-17T18:05:23.873Z"
   },
   {
    "duration": 0,
    "start_time": "2023-02-17T18:05:23.875Z"
   },
   {
    "duration": 0,
    "start_time": "2023-02-17T18:05:23.877Z"
   },
   {
    "duration": 0,
    "start_time": "2023-02-17T18:05:23.877Z"
   },
   {
    "duration": 0,
    "start_time": "2023-02-17T18:05:23.879Z"
   },
   {
    "duration": 0,
    "start_time": "2023-02-17T18:05:23.921Z"
   },
   {
    "duration": 0,
    "start_time": "2023-02-17T18:05:23.923Z"
   },
   {
    "duration": 0,
    "start_time": "2023-02-17T18:05:23.924Z"
   },
   {
    "duration": 1414,
    "start_time": "2023-02-17T18:05:51.800Z"
   },
   {
    "duration": 5,
    "start_time": "2023-02-17T18:05:53.216Z"
   },
   {
    "duration": 44,
    "start_time": "2023-02-17T18:05:53.222Z"
   },
   {
    "duration": 13,
    "start_time": "2023-02-17T18:05:53.269Z"
   },
   {
    "duration": 16,
    "start_time": "2023-02-17T18:05:53.284Z"
   },
   {
    "duration": 4,
    "start_time": "2023-02-17T18:05:53.302Z"
   },
   {
    "duration": 9,
    "start_time": "2023-02-17T18:05:53.307Z"
   },
   {
    "duration": 13,
    "start_time": "2023-02-17T18:05:53.321Z"
   },
   {
    "duration": 7,
    "start_time": "2023-02-17T18:05:53.336Z"
   },
   {
    "duration": 4,
    "start_time": "2023-02-17T18:05:53.347Z"
   },
   {
    "duration": 10,
    "start_time": "2023-02-17T18:05:53.352Z"
   },
   {
    "duration": 10,
    "start_time": "2023-02-17T18:05:53.364Z"
   },
   {
    "duration": 9,
    "start_time": "2023-02-17T18:05:53.376Z"
   },
   {
    "duration": 12,
    "start_time": "2023-02-17T18:05:53.387Z"
   },
   {
    "duration": 27,
    "start_time": "2023-02-17T18:05:53.401Z"
   },
   {
    "duration": 9,
    "start_time": "2023-02-17T18:05:53.430Z"
   },
   {
    "duration": 8,
    "start_time": "2023-02-17T18:05:53.441Z"
   },
   {
    "duration": 10,
    "start_time": "2023-02-17T18:05:53.450Z"
   },
   {
    "duration": 6,
    "start_time": "2023-02-17T18:05:53.461Z"
   },
   {
    "duration": 6,
    "start_time": "2023-02-17T18:05:53.468Z"
   },
   {
    "duration": 47,
    "start_time": "2023-02-17T18:05:53.476Z"
   },
   {
    "duration": 8,
    "start_time": "2023-02-17T18:05:53.525Z"
   },
   {
    "duration": 792,
    "start_time": "2023-02-17T18:05:53.535Z"
   },
   {
    "duration": 136,
    "start_time": "2023-02-17T18:05:54.333Z"
   },
   {
    "duration": 352,
    "start_time": "2023-02-17T18:05:54.470Z"
   },
   {
    "duration": 401,
    "start_time": "2023-02-17T18:05:54.824Z"
   },
   {
    "duration": 303,
    "start_time": "2023-02-17T18:05:55.227Z"
   },
   {
    "duration": 397,
    "start_time": "2023-02-17T18:05:55.625Z"
   },
   {
    "duration": 798,
    "start_time": "2023-02-17T18:05:56.024Z"
   },
   {
    "duration": 126,
    "start_time": "2023-02-17T18:05:56.824Z"
   },
   {
    "duration": 170,
    "start_time": "2023-02-17T18:05:56.952Z"
   },
   {
    "duration": 5,
    "start_time": "2023-02-17T18:05:57.124Z"
   },
   {
    "duration": 94,
    "start_time": "2023-02-17T18:05:57.131Z"
   },
   {
    "duration": 209,
    "start_time": "2023-02-17T18:05:57.228Z"
   },
   {
    "duration": 64,
    "start_time": "2023-02-17T18:05:57.439Z"
   },
   {
    "duration": 530,
    "start_time": "2023-02-17T18:05:57.505Z"
   },
   {
    "duration": 295,
    "start_time": "2023-02-17T18:05:58.037Z"
   },
   {
    "duration": 389,
    "start_time": "2023-02-17T18:05:58.333Z"
   },
   {
    "duration": 2,
    "start_time": "2023-02-17T18:05:58.724Z"
   },
   {
    "duration": 6,
    "start_time": "2023-02-17T18:05:58.728Z"
   },
   {
    "duration": 7,
    "start_time": "2023-02-17T18:05:58.736Z"
   },
   {
    "duration": 123,
    "start_time": "2023-02-17T18:05:58.745Z"
   },
   {
    "duration": 0,
    "start_time": "2023-02-17T18:05:58.869Z"
   },
   {
    "duration": 0,
    "start_time": "2023-02-17T18:05:58.871Z"
   },
   {
    "duration": 0,
    "start_time": "2023-02-17T18:05:58.872Z"
   },
   {
    "duration": 0,
    "start_time": "2023-02-17T18:05:58.873Z"
   },
   {
    "duration": 0,
    "start_time": "2023-02-17T18:05:58.874Z"
   },
   {
    "duration": 1414,
    "start_time": "2023-02-17T18:08:55.334Z"
   },
   {
    "duration": 3,
    "start_time": "2023-02-17T18:08:56.750Z"
   },
   {
    "duration": 47,
    "start_time": "2023-02-17T18:08:56.754Z"
   },
   {
    "duration": 14,
    "start_time": "2023-02-17T18:08:56.803Z"
   },
   {
    "duration": 17,
    "start_time": "2023-02-17T18:08:56.818Z"
   },
   {
    "duration": 4,
    "start_time": "2023-02-17T18:08:56.836Z"
   },
   {
    "duration": 6,
    "start_time": "2023-02-17T18:08:56.841Z"
   },
   {
    "duration": 9,
    "start_time": "2023-02-17T18:08:56.848Z"
   },
   {
    "duration": 7,
    "start_time": "2023-02-17T18:08:56.858Z"
   },
   {
    "duration": 3,
    "start_time": "2023-02-17T18:08:56.868Z"
   },
   {
    "duration": 8,
    "start_time": "2023-02-17T18:08:56.873Z"
   },
   {
    "duration": 42,
    "start_time": "2023-02-17T18:08:56.883Z"
   },
   {
    "duration": 9,
    "start_time": "2023-02-17T18:08:56.927Z"
   },
   {
    "duration": 15,
    "start_time": "2023-02-17T18:08:56.937Z"
   },
   {
    "duration": 13,
    "start_time": "2023-02-17T18:08:56.954Z"
   },
   {
    "duration": 8,
    "start_time": "2023-02-17T18:08:56.969Z"
   },
   {
    "duration": 15,
    "start_time": "2023-02-17T18:08:56.979Z"
   },
   {
    "duration": 25,
    "start_time": "2023-02-17T18:08:56.996Z"
   },
   {
    "duration": 7,
    "start_time": "2023-02-17T18:08:57.022Z"
   },
   {
    "duration": 7,
    "start_time": "2023-02-17T18:08:57.031Z"
   },
   {
    "duration": 18,
    "start_time": "2023-02-17T18:08:57.040Z"
   },
   {
    "duration": 8,
    "start_time": "2023-02-17T18:08:57.060Z"
   },
   {
    "duration": 756,
    "start_time": "2023-02-17T18:08:57.070Z"
   },
   {
    "duration": 148,
    "start_time": "2023-02-17T18:08:57.828Z"
   },
   {
    "duration": 344,
    "start_time": "2023-02-17T18:08:57.978Z"
   },
   {
    "duration": 398,
    "start_time": "2023-02-17T18:08:58.324Z"
   },
   {
    "duration": 497,
    "start_time": "2023-02-17T18:08:58.724Z"
   },
   {
    "duration": 298,
    "start_time": "2023-02-17T18:08:59.224Z"
   },
   {
    "duration": 706,
    "start_time": "2023-02-17T18:08:59.524Z"
   },
   {
    "duration": 131,
    "start_time": "2023-02-17T18:09:00.322Z"
   },
   {
    "duration": 206,
    "start_time": "2023-02-17T18:09:00.455Z"
   },
   {
    "duration": 5,
    "start_time": "2023-02-17T18:09:00.663Z"
   },
   {
    "duration": 64,
    "start_time": "2023-02-17T18:09:00.669Z"
   },
   {
    "duration": 217,
    "start_time": "2023-02-17T18:09:00.823Z"
   },
   {
    "duration": 89,
    "start_time": "2023-02-17T18:09:01.041Z"
   },
   {
    "duration": 604,
    "start_time": "2023-02-17T18:09:01.131Z"
   },
   {
    "duration": 391,
    "start_time": "2023-02-17T18:09:01.737Z"
   },
   {
    "duration": 369,
    "start_time": "2023-02-17T18:09:02.130Z"
   },
   {
    "duration": 2,
    "start_time": "2023-02-17T18:09:02.501Z"
   },
   {
    "duration": 16,
    "start_time": "2023-02-17T18:09:02.505Z"
   },
   {
    "duration": 5,
    "start_time": "2023-02-17T18:09:02.523Z"
   },
   {
    "duration": 113,
    "start_time": "2023-02-17T18:09:02.530Z"
   },
   {
    "duration": 0,
    "start_time": "2023-02-17T18:09:02.645Z"
   },
   {
    "duration": 0,
    "start_time": "2023-02-17T18:09:02.646Z"
   },
   {
    "duration": 0,
    "start_time": "2023-02-17T18:09:02.647Z"
   },
   {
    "duration": 0,
    "start_time": "2023-02-17T18:09:02.649Z"
   },
   {
    "duration": 0,
    "start_time": "2023-02-17T18:09:02.650Z"
   },
   {
    "duration": 4,
    "start_time": "2023-02-17T18:10:12.280Z"
   },
   {
    "duration": 13,
    "start_time": "2023-02-17T18:11:34.768Z"
   },
   {
    "duration": 1424,
    "start_time": "2023-02-17T18:11:49.295Z"
   },
   {
    "duration": 4,
    "start_time": "2023-02-17T18:11:50.721Z"
   },
   {
    "duration": 50,
    "start_time": "2023-02-17T18:11:50.726Z"
   },
   {
    "duration": 12,
    "start_time": "2023-02-17T18:11:50.778Z"
   },
   {
    "duration": 14,
    "start_time": "2023-02-17T18:11:50.792Z"
   },
   {
    "duration": 3,
    "start_time": "2023-02-17T18:11:50.808Z"
   },
   {
    "duration": 7,
    "start_time": "2023-02-17T18:11:50.813Z"
   },
   {
    "duration": 9,
    "start_time": "2023-02-17T18:11:50.821Z"
   },
   {
    "duration": 8,
    "start_time": "2023-02-17T18:11:50.831Z"
   },
   {
    "duration": 5,
    "start_time": "2023-02-17T18:11:50.841Z"
   },
   {
    "duration": 8,
    "start_time": "2023-02-17T18:11:50.847Z"
   },
   {
    "duration": 7,
    "start_time": "2023-02-17T18:11:50.857Z"
   },
   {
    "duration": 15,
    "start_time": "2023-02-17T18:11:50.866Z"
   },
   {
    "duration": 17,
    "start_time": "2023-02-17T18:11:50.884Z"
   },
   {
    "duration": 21,
    "start_time": "2023-02-17T18:11:50.903Z"
   },
   {
    "duration": 9,
    "start_time": "2023-02-17T18:11:50.925Z"
   },
   {
    "duration": 9,
    "start_time": "2023-02-17T18:11:50.936Z"
   },
   {
    "duration": 14,
    "start_time": "2023-02-17T18:11:50.946Z"
   },
   {
    "duration": 9,
    "start_time": "2023-02-17T18:11:50.962Z"
   },
   {
    "duration": 7,
    "start_time": "2023-02-17T18:11:50.973Z"
   },
   {
    "duration": 18,
    "start_time": "2023-02-17T18:11:50.982Z"
   },
   {
    "duration": 24,
    "start_time": "2023-02-17T18:11:51.002Z"
   },
   {
    "duration": 702,
    "start_time": "2023-02-17T18:11:51.028Z"
   },
   {
    "duration": 140,
    "start_time": "2023-02-17T18:11:51.822Z"
   },
   {
    "duration": 265,
    "start_time": "2023-02-17T18:11:51.964Z"
   },
   {
    "duration": 399,
    "start_time": "2023-02-17T18:11:52.323Z"
   },
   {
    "duration": 398,
    "start_time": "2023-02-17T18:11:52.724Z"
   },
   {
    "duration": 296,
    "start_time": "2023-02-17T18:11:53.128Z"
   },
   {
    "duration": 603,
    "start_time": "2023-02-17T18:11:53.427Z"
   },
   {
    "duration": 117,
    "start_time": "2023-02-17T18:11:54.122Z"
   },
   {
    "duration": 161,
    "start_time": "2023-02-17T18:11:54.241Z"
   },
   {
    "duration": 4,
    "start_time": "2023-02-17T18:11:54.404Z"
   },
   {
    "duration": 112,
    "start_time": "2023-02-17T18:11:54.409Z"
   },
   {
    "duration": 240,
    "start_time": "2023-02-17T18:11:54.524Z"
   },
   {
    "duration": 72,
    "start_time": "2023-02-17T18:11:54.766Z"
   },
   {
    "duration": 560,
    "start_time": "2023-02-17T18:11:54.839Z"
   },
   {
    "duration": 326,
    "start_time": "2023-02-17T18:11:55.400Z"
   },
   {
    "duration": 364,
    "start_time": "2023-02-17T18:11:55.727Z"
   },
   {
    "duration": 2,
    "start_time": "2023-02-17T18:11:56.093Z"
   },
   {
    "duration": 7,
    "start_time": "2023-02-17T18:11:56.097Z"
   },
   {
    "duration": 7,
    "start_time": "2023-02-17T18:11:56.105Z"
   },
   {
    "duration": 111,
    "start_time": "2023-02-17T18:11:56.121Z"
   },
   {
    "duration": 0,
    "start_time": "2023-02-17T18:11:56.234Z"
   },
   {
    "duration": 0,
    "start_time": "2023-02-17T18:11:56.236Z"
   },
   {
    "duration": 0,
    "start_time": "2023-02-17T18:11:56.237Z"
   },
   {
    "duration": 0,
    "start_time": "2023-02-17T18:11:56.239Z"
   },
   {
    "duration": 0,
    "start_time": "2023-02-17T18:11:56.240Z"
   },
   {
    "duration": 1343,
    "start_time": "2023-02-17T18:15:29.080Z"
   },
   {
    "duration": 2,
    "start_time": "2023-02-17T18:15:30.425Z"
   },
   {
    "duration": 58,
    "start_time": "2023-02-17T18:15:30.429Z"
   },
   {
    "duration": 14,
    "start_time": "2023-02-17T18:15:30.489Z"
   },
   {
    "duration": 31,
    "start_time": "2023-02-17T18:15:30.504Z"
   },
   {
    "duration": 5,
    "start_time": "2023-02-17T18:15:30.536Z"
   },
   {
    "duration": 17,
    "start_time": "2023-02-17T18:15:30.542Z"
   },
   {
    "duration": 25,
    "start_time": "2023-02-17T18:15:30.560Z"
   },
   {
    "duration": 24,
    "start_time": "2023-02-17T18:15:30.587Z"
   },
   {
    "duration": 26,
    "start_time": "2023-02-17T18:15:30.615Z"
   },
   {
    "duration": 16,
    "start_time": "2023-02-17T18:15:30.643Z"
   },
   {
    "duration": 19,
    "start_time": "2023-02-17T18:15:30.660Z"
   },
   {
    "duration": 20,
    "start_time": "2023-02-17T18:15:30.681Z"
   },
   {
    "duration": 28,
    "start_time": "2023-02-17T18:15:30.703Z"
   },
   {
    "duration": 34,
    "start_time": "2023-02-17T18:15:30.733Z"
   },
   {
    "duration": 22,
    "start_time": "2023-02-17T18:15:30.769Z"
   },
   {
    "duration": 45,
    "start_time": "2023-02-17T18:15:30.792Z"
   },
   {
    "duration": 40,
    "start_time": "2023-02-17T18:15:30.839Z"
   },
   {
    "duration": 30,
    "start_time": "2023-02-17T18:15:30.881Z"
   },
   {
    "duration": 48,
    "start_time": "2023-02-17T18:15:30.913Z"
   },
   {
    "duration": 45,
    "start_time": "2023-02-17T18:15:30.963Z"
   },
   {
    "duration": 15,
    "start_time": "2023-02-17T18:15:31.010Z"
   },
   {
    "duration": 795,
    "start_time": "2023-02-17T18:15:31.027Z"
   },
   {
    "duration": 146,
    "start_time": "2023-02-17T18:15:31.825Z"
   },
   {
    "duration": 360,
    "start_time": "2023-02-17T18:15:31.973Z"
   },
   {
    "duration": 300,
    "start_time": "2023-02-17T18:15:32.422Z"
   },
   {
    "duration": 305,
    "start_time": "2023-02-17T18:15:32.724Z"
   },
   {
    "duration": 296,
    "start_time": "2023-02-17T18:15:33.034Z"
   },
   {
    "duration": 798,
    "start_time": "2023-02-17T18:15:33.332Z"
   },
   {
    "duration": 135,
    "start_time": "2023-02-17T18:15:34.222Z"
   },
   {
    "duration": 207,
    "start_time": "2023-02-17T18:15:34.359Z"
   },
   {
    "duration": 5,
    "start_time": "2023-02-17T18:15:34.568Z"
   },
   {
    "duration": 59,
    "start_time": "2023-02-17T18:15:34.575Z"
   },
   {
    "duration": 223,
    "start_time": "2023-02-17T18:15:34.721Z"
   },
   {
    "duration": 86,
    "start_time": "2023-02-17T18:15:34.947Z"
   },
   {
    "duration": 605,
    "start_time": "2023-02-17T18:15:35.035Z"
   },
   {
    "duration": 389,
    "start_time": "2023-02-17T18:15:35.642Z"
   },
   {
    "duration": 393,
    "start_time": "2023-02-17T18:15:36.033Z"
   },
   {
    "duration": 3,
    "start_time": "2023-02-17T18:15:36.428Z"
   },
   {
    "duration": 33,
    "start_time": "2023-02-17T18:15:36.432Z"
   },
   {
    "duration": 21,
    "start_time": "2023-02-17T18:15:36.467Z"
   },
   {
    "duration": 145,
    "start_time": "2023-02-17T18:15:36.490Z"
   },
   {
    "duration": 0,
    "start_time": "2023-02-17T18:15:36.637Z"
   },
   {
    "duration": 0,
    "start_time": "2023-02-17T18:15:36.639Z"
   },
   {
    "duration": 0,
    "start_time": "2023-02-17T18:15:36.641Z"
   },
   {
    "duration": 0,
    "start_time": "2023-02-17T18:15:36.642Z"
   },
   {
    "duration": 0,
    "start_time": "2023-02-17T18:15:36.643Z"
   },
   {
    "duration": 1477,
    "start_time": "2023-02-17T18:18:43.815Z"
   },
   {
    "duration": 3,
    "start_time": "2023-02-17T18:18:45.293Z"
   },
   {
    "duration": 49,
    "start_time": "2023-02-17T18:18:45.298Z"
   },
   {
    "duration": 13,
    "start_time": "2023-02-17T18:18:45.349Z"
   },
   {
    "duration": 18,
    "start_time": "2023-02-17T18:18:45.364Z"
   },
   {
    "duration": 3,
    "start_time": "2023-02-17T18:18:45.384Z"
   },
   {
    "duration": 6,
    "start_time": "2023-02-17T18:18:45.389Z"
   },
   {
    "duration": 9,
    "start_time": "2023-02-17T18:18:45.397Z"
   },
   {
    "duration": 6,
    "start_time": "2023-02-17T18:18:45.421Z"
   },
   {
    "duration": 4,
    "start_time": "2023-02-17T18:18:45.429Z"
   },
   {
    "duration": 9,
    "start_time": "2023-02-17T18:18:45.435Z"
   },
   {
    "duration": 8,
    "start_time": "2023-02-17T18:18:45.446Z"
   },
   {
    "duration": 8,
    "start_time": "2023-02-17T18:18:45.456Z"
   },
   {
    "duration": 13,
    "start_time": "2023-02-17T18:18:45.466Z"
   },
   {
    "duration": 42,
    "start_time": "2023-02-17T18:18:45.480Z"
   },
   {
    "duration": 97,
    "start_time": "2023-02-17T18:18:45.524Z"
   },
   {
    "duration": 0,
    "start_time": "2023-02-17T18:18:45.624Z"
   },
   {
    "duration": 0,
    "start_time": "2023-02-17T18:18:45.625Z"
   },
   {
    "duration": 0,
    "start_time": "2023-02-17T18:18:45.626Z"
   },
   {
    "duration": 0,
    "start_time": "2023-02-17T18:18:45.628Z"
   },
   {
    "duration": 0,
    "start_time": "2023-02-17T18:18:45.629Z"
   },
   {
    "duration": 0,
    "start_time": "2023-02-17T18:18:45.631Z"
   },
   {
    "duration": 0,
    "start_time": "2023-02-17T18:18:45.632Z"
   },
   {
    "duration": 0,
    "start_time": "2023-02-17T18:18:45.633Z"
   },
   {
    "duration": 0,
    "start_time": "2023-02-17T18:18:45.634Z"
   },
   {
    "duration": 0,
    "start_time": "2023-02-17T18:18:45.636Z"
   },
   {
    "duration": 0,
    "start_time": "2023-02-17T18:18:45.637Z"
   },
   {
    "duration": 0,
    "start_time": "2023-02-17T18:18:45.638Z"
   },
   {
    "duration": 0,
    "start_time": "2023-02-17T18:18:45.640Z"
   },
   {
    "duration": 0,
    "start_time": "2023-02-17T18:18:45.641Z"
   },
   {
    "duration": 0,
    "start_time": "2023-02-17T18:18:45.642Z"
   },
   {
    "duration": 0,
    "start_time": "2023-02-17T18:18:45.643Z"
   },
   {
    "duration": 0,
    "start_time": "2023-02-17T18:18:45.644Z"
   },
   {
    "duration": 0,
    "start_time": "2023-02-17T18:18:45.645Z"
   },
   {
    "duration": 0,
    "start_time": "2023-02-17T18:18:45.646Z"
   },
   {
    "duration": 0,
    "start_time": "2023-02-17T18:18:45.648Z"
   },
   {
    "duration": 0,
    "start_time": "2023-02-17T18:18:45.649Z"
   },
   {
    "duration": 0,
    "start_time": "2023-02-17T18:18:45.651Z"
   },
   {
    "duration": 0,
    "start_time": "2023-02-17T18:18:45.652Z"
   },
   {
    "duration": 0,
    "start_time": "2023-02-17T18:18:45.653Z"
   },
   {
    "duration": 0,
    "start_time": "2023-02-17T18:18:45.654Z"
   },
   {
    "duration": 0,
    "start_time": "2023-02-17T18:18:45.655Z"
   },
   {
    "duration": 0,
    "start_time": "2023-02-17T18:18:45.656Z"
   },
   {
    "duration": 0,
    "start_time": "2023-02-17T18:18:45.657Z"
   },
   {
    "duration": 0,
    "start_time": "2023-02-17T18:18:45.658Z"
   },
   {
    "duration": 0,
    "start_time": "2023-02-17T18:18:45.659Z"
   },
   {
    "duration": 0,
    "start_time": "2023-02-17T18:18:45.660Z"
   },
   {
    "duration": 1339,
    "start_time": "2023-02-17T18:19:25.868Z"
   },
   {
    "duration": 3,
    "start_time": "2023-02-17T18:19:27.209Z"
   },
   {
    "duration": 48,
    "start_time": "2023-02-17T18:19:27.213Z"
   },
   {
    "duration": 14,
    "start_time": "2023-02-17T18:19:27.263Z"
   },
   {
    "duration": 20,
    "start_time": "2023-02-17T18:19:27.278Z"
   },
   {
    "duration": 4,
    "start_time": "2023-02-17T18:19:27.300Z"
   },
   {
    "duration": 11,
    "start_time": "2023-02-17T18:19:27.305Z"
   },
   {
    "duration": 11,
    "start_time": "2023-02-17T18:19:27.318Z"
   },
   {
    "duration": 8,
    "start_time": "2023-02-17T18:19:27.331Z"
   },
   {
    "duration": 3,
    "start_time": "2023-02-17T18:19:27.342Z"
   },
   {
    "duration": 7,
    "start_time": "2023-02-17T18:19:27.347Z"
   },
   {
    "duration": 7,
    "start_time": "2023-02-17T18:19:27.356Z"
   },
   {
    "duration": 7,
    "start_time": "2023-02-17T18:19:27.365Z"
   },
   {
    "duration": 12,
    "start_time": "2023-02-17T18:19:27.374Z"
   },
   {
    "duration": 34,
    "start_time": "2023-02-17T18:19:27.387Z"
   },
   {
    "duration": 9,
    "start_time": "2023-02-17T18:19:27.423Z"
   },
   {
    "duration": 9,
    "start_time": "2023-02-17T18:19:27.434Z"
   },
   {
    "duration": 8,
    "start_time": "2023-02-17T18:19:27.444Z"
   },
   {
    "duration": 4,
    "start_time": "2023-02-17T18:19:27.454Z"
   },
   {
    "duration": 4,
    "start_time": "2023-02-17T18:19:27.460Z"
   },
   {
    "duration": 18,
    "start_time": "2023-02-17T18:19:27.466Z"
   },
   {
    "duration": 35,
    "start_time": "2023-02-17T18:19:27.485Z"
   },
   {
    "duration": 704,
    "start_time": "2023-02-17T18:19:27.523Z"
   },
   {
    "duration": 141,
    "start_time": "2023-02-17T18:19:28.229Z"
   },
   {
    "duration": 352,
    "start_time": "2023-02-17T18:19:28.372Z"
   },
   {
    "duration": 303,
    "start_time": "2023-02-17T18:19:28.728Z"
   },
   {
    "duration": 301,
    "start_time": "2023-02-17T18:19:29.121Z"
   },
   {
    "duration": 303,
    "start_time": "2023-02-17T18:19:29.427Z"
   },
   {
    "duration": 599,
    "start_time": "2023-02-17T18:19:29.822Z"
   },
   {
    "duration": 122,
    "start_time": "2023-02-17T18:19:30.425Z"
   },
   {
    "duration": 166,
    "start_time": "2023-02-17T18:19:30.549Z"
   },
   {
    "duration": 5,
    "start_time": "2023-02-17T18:19:30.721Z"
   },
   {
    "duration": 98,
    "start_time": "2023-02-17T18:19:30.728Z"
   },
   {
    "duration": 219,
    "start_time": "2023-02-17T18:19:30.828Z"
   },
   {
    "duration": 78,
    "start_time": "2023-02-17T18:19:31.048Z"
   },
   {
    "duration": 550,
    "start_time": "2023-02-17T18:19:31.128Z"
   },
   {
    "duration": 325,
    "start_time": "2023-02-17T18:19:31.680Z"
   },
   {
    "duration": 412,
    "start_time": "2023-02-17T18:19:32.007Z"
   },
   {
    "duration": 5,
    "start_time": "2023-02-17T18:19:32.421Z"
   },
   {
    "duration": 17,
    "start_time": "2023-02-17T18:19:32.428Z"
   },
   {
    "duration": 10,
    "start_time": "2023-02-17T18:19:32.447Z"
   },
   {
    "duration": 115,
    "start_time": "2023-02-17T18:19:32.459Z"
   },
   {
    "duration": 0,
    "start_time": "2023-02-17T18:19:32.576Z"
   },
   {
    "duration": 0,
    "start_time": "2023-02-17T18:19:32.578Z"
   },
   {
    "duration": 0,
    "start_time": "2023-02-17T18:19:32.579Z"
   },
   {
    "duration": 0,
    "start_time": "2023-02-17T18:19:32.581Z"
   },
   {
    "duration": 0,
    "start_time": "2023-02-17T18:19:32.582Z"
   },
   {
    "duration": 1340,
    "start_time": "2023-02-17T18:21:36.936Z"
   },
   {
    "duration": 3,
    "start_time": "2023-02-17T18:21:38.278Z"
   },
   {
    "duration": 52,
    "start_time": "2023-02-17T18:21:38.282Z"
   },
   {
    "duration": 15,
    "start_time": "2023-02-17T18:21:38.335Z"
   },
   {
    "duration": 19,
    "start_time": "2023-02-17T18:21:38.353Z"
   },
   {
    "duration": 3,
    "start_time": "2023-02-17T18:21:38.374Z"
   },
   {
    "duration": 6,
    "start_time": "2023-02-17T18:21:38.378Z"
   },
   {
    "duration": 9,
    "start_time": "2023-02-17T18:21:38.386Z"
   },
   {
    "duration": 28,
    "start_time": "2023-02-17T18:21:38.397Z"
   },
   {
    "duration": 6,
    "start_time": "2023-02-17T18:21:38.427Z"
   },
   {
    "duration": 11,
    "start_time": "2023-02-17T18:21:38.434Z"
   },
   {
    "duration": 10,
    "start_time": "2023-02-17T18:21:38.446Z"
   },
   {
    "duration": 6,
    "start_time": "2023-02-17T18:21:38.457Z"
   },
   {
    "duration": 12,
    "start_time": "2023-02-17T18:21:38.466Z"
   },
   {
    "duration": 11,
    "start_time": "2023-02-17T18:21:38.480Z"
   },
   {
    "duration": 35,
    "start_time": "2023-02-17T18:21:38.492Z"
   },
   {
    "duration": 9,
    "start_time": "2023-02-17T18:21:38.529Z"
   },
   {
    "duration": 14,
    "start_time": "2023-02-17T18:21:38.539Z"
   },
   {
    "duration": 5,
    "start_time": "2023-02-17T18:21:38.555Z"
   },
   {
    "duration": 7,
    "start_time": "2023-02-17T18:21:38.561Z"
   },
   {
    "duration": 18,
    "start_time": "2023-02-17T18:21:38.570Z"
   },
   {
    "duration": 8,
    "start_time": "2023-02-17T18:21:38.590Z"
   },
   {
    "duration": 902,
    "start_time": "2023-02-17T18:21:38.622Z"
   },
   {
    "duration": 142,
    "start_time": "2023-02-17T18:21:39.527Z"
   },
   {
    "duration": 359,
    "start_time": "2023-02-17T18:21:39.670Z"
   },
   {
    "duration": 390,
    "start_time": "2023-02-17T18:21:40.031Z"
   },
   {
    "duration": 299,
    "start_time": "2023-02-17T18:21:40.423Z"
   },
   {
    "duration": 302,
    "start_time": "2023-02-17T18:21:40.724Z"
   },
   {
    "duration": 596,
    "start_time": "2023-02-17T18:21:41.029Z"
   },
   {
    "duration": 128,
    "start_time": "2023-02-17T18:21:41.626Z"
   },
   {
    "duration": 163,
    "start_time": "2023-02-17T18:21:41.756Z"
   },
   {
    "duration": 5,
    "start_time": "2023-02-17T18:21:41.921Z"
   },
   {
    "duration": 94,
    "start_time": "2023-02-17T18:21:41.928Z"
   },
   {
    "duration": 216,
    "start_time": "2023-02-17T18:21:42.025Z"
   },
   {
    "duration": 63,
    "start_time": "2023-02-17T18:21:42.243Z"
   },
   {
    "duration": 715,
    "start_time": "2023-02-17T18:21:42.307Z"
   },
   {
    "duration": 284,
    "start_time": "2023-02-17T18:21:43.024Z"
   },
   {
    "duration": 371,
    "start_time": "2023-02-17T18:21:43.310Z"
   },
   {
    "duration": 3,
    "start_time": "2023-02-17T18:21:43.683Z"
   },
   {
    "duration": 6,
    "start_time": "2023-02-17T18:21:43.688Z"
   },
   {
    "duration": 6,
    "start_time": "2023-02-17T18:21:43.697Z"
   },
   {
    "duration": 118,
    "start_time": "2023-02-17T18:21:43.704Z"
   },
   {
    "duration": 0,
    "start_time": "2023-02-17T18:21:43.824Z"
   },
   {
    "duration": 0,
    "start_time": "2023-02-17T18:21:43.825Z"
   },
   {
    "duration": 0,
    "start_time": "2023-02-17T18:21:43.826Z"
   },
   {
    "duration": 0,
    "start_time": "2023-02-17T18:21:43.827Z"
   },
   {
    "duration": 0,
    "start_time": "2023-02-17T18:21:43.827Z"
   },
   {
    "duration": 1436,
    "start_time": "2023-02-17T18:27:16.345Z"
   },
   {
    "duration": 3,
    "start_time": "2023-02-17T18:27:17.783Z"
   },
   {
    "duration": 47,
    "start_time": "2023-02-17T18:27:17.788Z"
   },
   {
    "duration": 14,
    "start_time": "2023-02-17T18:27:17.837Z"
   },
   {
    "duration": 16,
    "start_time": "2023-02-17T18:27:17.853Z"
   },
   {
    "duration": 5,
    "start_time": "2023-02-17T18:27:17.871Z"
   },
   {
    "duration": 20,
    "start_time": "2023-02-17T18:27:17.878Z"
   },
   {
    "duration": 22,
    "start_time": "2023-02-17T18:27:17.900Z"
   },
   {
    "duration": 7,
    "start_time": "2023-02-17T18:27:17.923Z"
   },
   {
    "duration": 4,
    "start_time": "2023-02-17T18:27:17.933Z"
   },
   {
    "duration": 8,
    "start_time": "2023-02-17T18:27:17.938Z"
   },
   {
    "duration": 8,
    "start_time": "2023-02-17T18:27:17.947Z"
   },
   {
    "duration": 5,
    "start_time": "2023-02-17T18:27:17.957Z"
   },
   {
    "duration": 15,
    "start_time": "2023-02-17T18:27:17.964Z"
   },
   {
    "duration": 41,
    "start_time": "2023-02-17T18:27:17.981Z"
   },
   {
    "duration": 11,
    "start_time": "2023-02-17T18:27:18.024Z"
   },
   {
    "duration": 14,
    "start_time": "2023-02-17T18:27:18.037Z"
   },
   {
    "duration": 10,
    "start_time": "2023-02-17T18:27:18.052Z"
   },
   {
    "duration": 5,
    "start_time": "2023-02-17T18:27:18.064Z"
   },
   {
    "duration": 6,
    "start_time": "2023-02-17T18:27:18.071Z"
   },
   {
    "duration": 159,
    "start_time": "2023-02-17T18:27:18.079Z"
   },
   {
    "duration": 0,
    "start_time": "2023-02-17T18:27:18.241Z"
   },
   {
    "duration": 0,
    "start_time": "2023-02-17T18:27:18.242Z"
   },
   {
    "duration": 0,
    "start_time": "2023-02-17T18:27:18.243Z"
   },
   {
    "duration": 0,
    "start_time": "2023-02-17T18:27:18.244Z"
   },
   {
    "duration": 0,
    "start_time": "2023-02-17T18:27:18.245Z"
   },
   {
    "duration": 0,
    "start_time": "2023-02-17T18:27:18.247Z"
   },
   {
    "duration": 0,
    "start_time": "2023-02-17T18:27:18.248Z"
   },
   {
    "duration": 0,
    "start_time": "2023-02-17T18:27:18.249Z"
   },
   {
    "duration": 0,
    "start_time": "2023-02-17T18:27:18.250Z"
   },
   {
    "duration": 0,
    "start_time": "2023-02-17T18:27:18.251Z"
   },
   {
    "duration": 0,
    "start_time": "2023-02-17T18:27:18.252Z"
   },
   {
    "duration": 0,
    "start_time": "2023-02-17T18:27:18.253Z"
   },
   {
    "duration": 0,
    "start_time": "2023-02-17T18:27:18.254Z"
   },
   {
    "duration": 0,
    "start_time": "2023-02-17T18:27:18.256Z"
   },
   {
    "duration": 0,
    "start_time": "2023-02-17T18:27:18.256Z"
   },
   {
    "duration": 0,
    "start_time": "2023-02-17T18:27:18.257Z"
   },
   {
    "duration": 0,
    "start_time": "2023-02-17T18:27:18.259Z"
   },
   {
    "duration": 0,
    "start_time": "2023-02-17T18:27:18.260Z"
   },
   {
    "duration": 0,
    "start_time": "2023-02-17T18:27:18.261Z"
   },
   {
    "duration": 0,
    "start_time": "2023-02-17T18:27:18.262Z"
   },
   {
    "duration": 0,
    "start_time": "2023-02-17T18:27:18.263Z"
   },
   {
    "duration": 0,
    "start_time": "2023-02-17T18:27:18.265Z"
   },
   {
    "duration": 0,
    "start_time": "2023-02-17T18:27:18.266Z"
   },
   {
    "duration": 0,
    "start_time": "2023-02-17T18:27:18.267Z"
   },
   {
    "duration": 0,
    "start_time": "2023-02-17T18:27:18.320Z"
   },
   {
    "duration": 0,
    "start_time": "2023-02-17T18:27:18.322Z"
   },
   {
    "duration": 1388,
    "start_time": "2023-02-17T18:27:55.823Z"
   },
   {
    "duration": 3,
    "start_time": "2023-02-17T18:27:57.213Z"
   },
   {
    "duration": 46,
    "start_time": "2023-02-17T18:27:57.218Z"
   },
   {
    "duration": 13,
    "start_time": "2023-02-17T18:27:57.267Z"
   },
   {
    "duration": 16,
    "start_time": "2023-02-17T18:27:57.282Z"
   },
   {
    "duration": 4,
    "start_time": "2023-02-17T18:27:57.300Z"
   },
   {
    "duration": 16,
    "start_time": "2023-02-17T18:27:57.305Z"
   },
   {
    "duration": 9,
    "start_time": "2023-02-17T18:27:57.323Z"
   },
   {
    "duration": 6,
    "start_time": "2023-02-17T18:27:57.334Z"
   },
   {
    "duration": 4,
    "start_time": "2023-02-17T18:27:57.342Z"
   },
   {
    "duration": 12,
    "start_time": "2023-02-17T18:27:57.348Z"
   },
   {
    "duration": 10,
    "start_time": "2023-02-17T18:27:57.362Z"
   },
   {
    "duration": 7,
    "start_time": "2023-02-17T18:27:57.373Z"
   },
   {
    "duration": 39,
    "start_time": "2023-02-17T18:27:57.382Z"
   },
   {
    "duration": 14,
    "start_time": "2023-02-17T18:27:57.423Z"
   },
   {
    "duration": 11,
    "start_time": "2023-02-17T18:27:57.439Z"
   },
   {
    "duration": 9,
    "start_time": "2023-02-17T18:27:57.452Z"
   },
   {
    "duration": 10,
    "start_time": "2023-02-17T18:27:57.462Z"
   },
   {
    "duration": 7,
    "start_time": "2023-02-17T18:27:57.474Z"
   },
   {
    "duration": 6,
    "start_time": "2023-02-17T18:27:57.482Z"
   },
   {
    "duration": 48,
    "start_time": "2023-02-17T18:27:57.489Z"
   },
   {
    "duration": 9,
    "start_time": "2023-02-17T18:27:57.538Z"
   },
   {
    "duration": 873,
    "start_time": "2023-02-17T18:27:57.549Z"
   },
   {
    "duration": 148,
    "start_time": "2023-02-17T18:27:58.424Z"
   },
   {
    "duration": 549,
    "start_time": "2023-02-17T18:27:58.574Z"
   },
   {
    "duration": 304,
    "start_time": "2023-02-17T18:27:59.125Z"
   },
   {
    "duration": 210,
    "start_time": "2023-02-17T18:27:59.521Z"
   },
   {
    "duration": 298,
    "start_time": "2023-02-17T18:27:59.826Z"
   },
   {
    "duration": 508,
    "start_time": "2023-02-17T18:28:00.220Z"
   },
   {
    "duration": 40,
    "start_time": "2023-02-17T18:28:00.820Z"
   },
   {
    "duration": 364,
    "start_time": "2023-02-17T18:28:00.862Z"
   },
   {
    "duration": 5,
    "start_time": "2023-02-17T18:28:01.227Z"
   },
   {
    "duration": 96,
    "start_time": "2023-02-17T18:28:01.234Z"
   },
   {
    "duration": 315,
    "start_time": "2023-02-17T18:28:01.423Z"
   },
   {
    "duration": 126,
    "start_time": "2023-02-17T18:28:01.740Z"
   },
   {
    "duration": 632,
    "start_time": "2023-02-17T18:28:01.922Z"
   },
   {
    "duration": 477,
    "start_time": "2023-02-17T18:28:02.555Z"
   },
   {
    "duration": 617,
    "start_time": "2023-02-17T18:28:03.034Z"
   },
   {
    "duration": 3,
    "start_time": "2023-02-17T18:28:03.652Z"
   },
   {
    "duration": 7,
    "start_time": "2023-02-17T18:28:03.657Z"
   },
   {
    "duration": 8,
    "start_time": "2023-02-17T18:28:03.665Z"
   },
   {
    "duration": 128,
    "start_time": "2023-02-17T18:28:03.674Z"
   },
   {
    "duration": 0,
    "start_time": "2023-02-17T18:28:03.804Z"
   },
   {
    "duration": 0,
    "start_time": "2023-02-17T18:28:03.806Z"
   },
   {
    "duration": 0,
    "start_time": "2023-02-17T18:28:03.807Z"
   },
   {
    "duration": 0,
    "start_time": "2023-02-17T18:28:03.808Z"
   },
   {
    "duration": 0,
    "start_time": "2023-02-17T18:28:03.821Z"
   },
   {
    "duration": 1383,
    "start_time": "2023-02-17T18:31:02.659Z"
   },
   {
    "duration": 2,
    "start_time": "2023-02-17T18:31:04.044Z"
   },
   {
    "duration": 47,
    "start_time": "2023-02-17T18:31:04.047Z"
   },
   {
    "duration": 13,
    "start_time": "2023-02-17T18:31:04.096Z"
   },
   {
    "duration": 16,
    "start_time": "2023-02-17T18:31:04.111Z"
   },
   {
    "duration": 5,
    "start_time": "2023-02-17T18:31:04.129Z"
   },
   {
    "duration": 12,
    "start_time": "2023-02-17T18:31:04.136Z"
   },
   {
    "duration": 10,
    "start_time": "2023-02-17T18:31:04.150Z"
   },
   {
    "duration": 13,
    "start_time": "2023-02-17T18:31:04.162Z"
   },
   {
    "duration": 4,
    "start_time": "2023-02-17T18:31:04.178Z"
   },
   {
    "duration": 7,
    "start_time": "2023-02-17T18:31:04.183Z"
   },
   {
    "duration": 7,
    "start_time": "2023-02-17T18:31:04.192Z"
   },
   {
    "duration": 22,
    "start_time": "2023-02-17T18:31:04.200Z"
   },
   {
    "duration": 12,
    "start_time": "2023-02-17T18:31:04.223Z"
   },
   {
    "duration": 12,
    "start_time": "2023-02-17T18:31:04.237Z"
   },
   {
    "duration": 10,
    "start_time": "2023-02-17T18:31:04.250Z"
   },
   {
    "duration": 11,
    "start_time": "2023-02-17T18:31:04.261Z"
   },
   {
    "duration": 10,
    "start_time": "2023-02-17T18:31:04.273Z"
   },
   {
    "duration": 5,
    "start_time": "2023-02-17T18:31:04.284Z"
   },
   {
    "duration": 32,
    "start_time": "2023-02-17T18:31:04.291Z"
   },
   {
    "duration": 38,
    "start_time": "2023-02-17T18:31:04.325Z"
   },
   {
    "duration": 7,
    "start_time": "2023-02-17T18:31:04.364Z"
   },
   {
    "duration": 753,
    "start_time": "2023-02-17T18:31:04.373Z"
   },
   {
    "duration": 140,
    "start_time": "2023-02-17T18:31:05.128Z"
   },
   {
    "duration": 352,
    "start_time": "2023-02-17T18:31:05.270Z"
   },
   {
    "duration": 399,
    "start_time": "2023-02-17T18:31:05.624Z"
   },
   {
    "duration": 297,
    "start_time": "2023-02-17T18:31:06.025Z"
   },
   {
    "duration": 297,
    "start_time": "2023-02-17T18:31:06.327Z"
   },
   {
    "duration": 600,
    "start_time": "2023-02-17T18:31:06.626Z"
   },
   {
    "duration": 123,
    "start_time": "2023-02-17T18:31:07.231Z"
   },
   {
    "duration": 142,
    "start_time": "2023-02-17T18:31:07.356Z"
   },
   {
    "duration": 4,
    "start_time": "2023-02-17T18:31:07.500Z"
   },
   {
    "duration": 116,
    "start_time": "2023-02-17T18:31:07.505Z"
   },
   {
    "duration": 200,
    "start_time": "2023-02-17T18:31:07.624Z"
   },
   {
    "duration": 65,
    "start_time": "2023-02-17T18:31:07.825Z"
   },
   {
    "duration": 614,
    "start_time": "2023-02-17T18:31:07.892Z"
   },
   {
    "duration": 403,
    "start_time": "2023-02-17T18:31:08.508Z"
   },
   {
    "duration": 378,
    "start_time": "2023-02-17T18:31:08.912Z"
   },
   {
    "duration": 3,
    "start_time": "2023-02-17T18:31:09.292Z"
   },
   {
    "duration": 5,
    "start_time": "2023-02-17T18:31:09.297Z"
   },
   {
    "duration": 17,
    "start_time": "2023-02-17T18:31:09.304Z"
   },
   {
    "duration": 115,
    "start_time": "2023-02-17T18:31:09.323Z"
   },
   {
    "duration": 0,
    "start_time": "2023-02-17T18:31:09.440Z"
   },
   {
    "duration": 0,
    "start_time": "2023-02-17T18:31:09.441Z"
   },
   {
    "duration": 0,
    "start_time": "2023-02-17T18:31:09.442Z"
   },
   {
    "duration": 0,
    "start_time": "2023-02-17T18:31:09.443Z"
   },
   {
    "duration": 0,
    "start_time": "2023-02-17T18:31:09.444Z"
   },
   {
    "duration": 1371,
    "start_time": "2023-02-17T18:32:55.037Z"
   },
   {
    "duration": 3,
    "start_time": "2023-02-17T18:32:56.410Z"
   },
   {
    "duration": 53,
    "start_time": "2023-02-17T18:32:56.415Z"
   },
   {
    "duration": 16,
    "start_time": "2023-02-17T18:32:56.470Z"
   },
   {
    "duration": 17,
    "start_time": "2023-02-17T18:32:56.488Z"
   },
   {
    "duration": 4,
    "start_time": "2023-02-17T18:32:56.506Z"
   },
   {
    "duration": 9,
    "start_time": "2023-02-17T18:32:56.512Z"
   },
   {
    "duration": 7,
    "start_time": "2023-02-17T18:32:56.522Z"
   },
   {
    "duration": 7,
    "start_time": "2023-02-17T18:32:56.531Z"
   },
   {
    "duration": 3,
    "start_time": "2023-02-17T18:32:56.541Z"
   },
   {
    "duration": 10,
    "start_time": "2023-02-17T18:32:56.545Z"
   },
   {
    "duration": 7,
    "start_time": "2023-02-17T18:32:56.557Z"
   },
   {
    "duration": 6,
    "start_time": "2023-02-17T18:32:56.566Z"
   },
   {
    "duration": 17,
    "start_time": "2023-02-17T18:32:56.573Z"
   },
   {
    "duration": 38,
    "start_time": "2023-02-17T18:32:56.592Z"
   },
   {
    "duration": 11,
    "start_time": "2023-02-17T18:32:56.631Z"
   },
   {
    "duration": 10,
    "start_time": "2023-02-17T18:32:56.643Z"
   },
   {
    "duration": 10,
    "start_time": "2023-02-17T18:32:56.655Z"
   },
   {
    "duration": 7,
    "start_time": "2023-02-17T18:32:56.667Z"
   },
   {
    "duration": 7,
    "start_time": "2023-02-17T18:32:56.675Z"
   },
   {
    "duration": 50,
    "start_time": "2023-02-17T18:32:56.683Z"
   },
   {
    "duration": 7,
    "start_time": "2023-02-17T18:32:56.735Z"
   },
   {
    "duration": 687,
    "start_time": "2023-02-17T18:32:56.744Z"
   },
   {
    "duration": 142,
    "start_time": "2023-02-17T18:32:57.522Z"
   },
   {
    "duration": 265,
    "start_time": "2023-02-17T18:32:57.666Z"
   },
   {
    "duration": 402,
    "start_time": "2023-02-17T18:32:58.026Z"
   },
   {
    "duration": 299,
    "start_time": "2023-02-17T18:32:58.431Z"
   },
   {
    "duration": 395,
    "start_time": "2023-02-17T18:32:58.826Z"
   },
   {
    "duration": 799,
    "start_time": "2023-02-17T18:32:59.224Z"
   },
   {
    "duration": 135,
    "start_time": "2023-02-17T18:33:00.026Z"
   },
   {
    "duration": 222,
    "start_time": "2023-02-17T18:33:00.163Z"
   },
   {
    "duration": 36,
    "start_time": "2023-02-17T18:33:00.387Z"
   },
   {
    "duration": 102,
    "start_time": "2023-02-17T18:33:00.424Z"
   },
   {
    "duration": 214,
    "start_time": "2023-02-17T18:33:00.529Z"
   },
   {
    "duration": 76,
    "start_time": "2023-02-17T18:33:00.745Z"
   },
   {
    "duration": 493,
    "start_time": "2023-02-17T18:33:00.822Z"
   },
   {
    "duration": 300,
    "start_time": "2023-02-17T18:33:01.321Z"
   },
   {
    "duration": 65,
    "start_time": "2023-02-17T18:33:01.623Z"
   },
   {
    "duration": 395,
    "start_time": "2023-02-17T18:33:01.690Z"
   },
   {
    "duration": 3,
    "start_time": "2023-02-17T18:33:02.087Z"
   },
   {
    "duration": 48,
    "start_time": "2023-02-17T18:33:02.091Z"
   },
   {
    "duration": 25,
    "start_time": "2023-02-17T18:33:02.141Z"
   },
   {
    "duration": 133,
    "start_time": "2023-02-17T18:33:02.168Z"
   },
   {
    "duration": 0,
    "start_time": "2023-02-17T18:33:02.303Z"
   },
   {
    "duration": 0,
    "start_time": "2023-02-17T18:33:02.304Z"
   },
   {
    "duration": 0,
    "start_time": "2023-02-17T18:33:02.305Z"
   },
   {
    "duration": 0,
    "start_time": "2023-02-17T18:33:02.307Z"
   },
   {
    "duration": 0,
    "start_time": "2023-02-17T18:33:02.321Z"
   },
   {
    "duration": 1362,
    "start_time": "2023-02-17T18:41:17.541Z"
   },
   {
    "duration": 3,
    "start_time": "2023-02-17T18:41:18.905Z"
   },
   {
    "duration": 53,
    "start_time": "2023-02-17T18:41:18.910Z"
   },
   {
    "duration": 14,
    "start_time": "2023-02-17T18:41:18.966Z"
   },
   {
    "duration": 16,
    "start_time": "2023-02-17T18:41:18.982Z"
   },
   {
    "duration": 4,
    "start_time": "2023-02-17T18:41:18.999Z"
   },
   {
    "duration": 4,
    "start_time": "2023-02-17T18:41:19.005Z"
   },
   {
    "duration": 15,
    "start_time": "2023-02-17T18:41:19.011Z"
   },
   {
    "duration": 8,
    "start_time": "2023-02-17T18:41:19.027Z"
   },
   {
    "duration": 4,
    "start_time": "2023-02-17T18:41:19.038Z"
   },
   {
    "duration": 7,
    "start_time": "2023-02-17T18:41:19.043Z"
   },
   {
    "duration": 6,
    "start_time": "2023-02-17T18:41:19.052Z"
   },
   {
    "duration": 4,
    "start_time": "2023-02-17T18:41:19.060Z"
   },
   {
    "duration": 12,
    "start_time": "2023-02-17T18:41:19.066Z"
   },
   {
    "duration": 45,
    "start_time": "2023-02-17T18:41:19.079Z"
   },
   {
    "duration": 10,
    "start_time": "2023-02-17T18:41:19.125Z"
   },
   {
    "duration": 15,
    "start_time": "2023-02-17T18:41:19.136Z"
   },
   {
    "duration": 14,
    "start_time": "2023-02-17T18:41:19.152Z"
   },
   {
    "duration": 6,
    "start_time": "2023-02-17T18:41:19.168Z"
   },
   {
    "duration": 5,
    "start_time": "2023-02-17T18:41:19.176Z"
   },
   {
    "duration": 39,
    "start_time": "2023-02-17T18:41:19.183Z"
   },
   {
    "duration": 8,
    "start_time": "2023-02-17T18:41:19.224Z"
   },
   {
    "duration": 1188,
    "start_time": "2023-02-17T18:41:19.233Z"
   },
   {
    "duration": 54,
    "start_time": "2023-02-17T18:41:20.423Z"
   },
   {
    "duration": 348,
    "start_time": "2023-02-17T18:41:20.479Z"
   },
   {
    "duration": 391,
    "start_time": "2023-02-17T18:41:20.829Z"
   },
   {
    "duration": 307,
    "start_time": "2023-02-17T18:41:21.223Z"
   },
   {
    "duration": 506,
    "start_time": "2023-02-17T18:41:21.621Z"
   },
   {
    "duration": 596,
    "start_time": "2023-02-17T18:41:22.132Z"
   },
   {
    "duration": 128,
    "start_time": "2023-02-17T18:41:22.730Z"
   },
   {
    "duration": 164,
    "start_time": "2023-02-17T18:41:22.860Z"
   },
   {
    "duration": 5,
    "start_time": "2023-02-17T18:41:23.026Z"
   },
   {
    "duration": 97,
    "start_time": "2023-02-17T18:41:23.033Z"
   },
   {
    "duration": 207,
    "start_time": "2023-02-17T18:41:23.222Z"
   },
   {
    "duration": 65,
    "start_time": "2023-02-17T18:41:23.431Z"
   },
   {
    "duration": 624,
    "start_time": "2023-02-17T18:41:23.498Z"
   },
   {
    "duration": 289,
    "start_time": "2023-02-17T18:41:24.124Z"
   },
   {
    "duration": 69,
    "start_time": "2023-02-17T18:41:24.421Z"
   },
   {
    "duration": 465,
    "start_time": "2023-02-17T18:41:24.492Z"
   },
   {
    "duration": 2,
    "start_time": "2023-02-17T18:41:24.959Z"
   },
   {
    "duration": 6,
    "start_time": "2023-02-17T18:41:24.963Z"
   },
   {
    "duration": 8,
    "start_time": "2023-02-17T18:41:24.971Z"
   },
   {
    "duration": 143,
    "start_time": "2023-02-17T18:41:24.981Z"
   },
   {
    "duration": 0,
    "start_time": "2023-02-17T18:41:25.126Z"
   },
   {
    "duration": 0,
    "start_time": "2023-02-17T18:41:25.128Z"
   },
   {
    "duration": 0,
    "start_time": "2023-02-17T18:41:25.130Z"
   },
   {
    "duration": 0,
    "start_time": "2023-02-17T18:41:25.131Z"
   },
   {
    "duration": 0,
    "start_time": "2023-02-17T18:41:25.132Z"
   },
   {
    "duration": 1385,
    "start_time": "2023-02-17T18:41:46.748Z"
   },
   {
    "duration": 2,
    "start_time": "2023-02-17T18:41:48.135Z"
   },
   {
    "duration": 47,
    "start_time": "2023-02-17T18:41:48.139Z"
   },
   {
    "duration": 15,
    "start_time": "2023-02-17T18:41:48.189Z"
   },
   {
    "duration": 17,
    "start_time": "2023-02-17T18:41:48.205Z"
   },
   {
    "duration": 4,
    "start_time": "2023-02-17T18:41:48.224Z"
   },
   {
    "duration": 5,
    "start_time": "2023-02-17T18:41:48.230Z"
   },
   {
    "duration": 7,
    "start_time": "2023-02-17T18:41:48.236Z"
   },
   {
    "duration": 5,
    "start_time": "2023-02-17T18:41:48.245Z"
   },
   {
    "duration": 4,
    "start_time": "2023-02-17T18:41:48.253Z"
   },
   {
    "duration": 9,
    "start_time": "2023-02-17T18:41:48.258Z"
   },
   {
    "duration": 12,
    "start_time": "2023-02-17T18:41:48.269Z"
   },
   {
    "duration": 5,
    "start_time": "2023-02-17T18:41:48.283Z"
   },
   {
    "duration": 44,
    "start_time": "2023-02-17T18:41:48.290Z"
   },
   {
    "duration": 16,
    "start_time": "2023-02-17T18:41:48.336Z"
   },
   {
    "duration": 11,
    "start_time": "2023-02-17T18:41:48.354Z"
   },
   {
    "duration": 10,
    "start_time": "2023-02-17T18:41:48.367Z"
   },
   {
    "duration": 9,
    "start_time": "2023-02-17T18:41:48.379Z"
   },
   {
    "duration": 4,
    "start_time": "2023-02-17T18:41:48.390Z"
   },
   {
    "duration": 6,
    "start_time": "2023-02-17T18:41:48.421Z"
   },
   {
    "duration": 23,
    "start_time": "2023-02-17T18:41:48.429Z"
   },
   {
    "duration": 7,
    "start_time": "2023-02-17T18:41:48.454Z"
   },
   {
    "duration": 659,
    "start_time": "2023-02-17T18:41:48.463Z"
   },
   {
    "duration": 146,
    "start_time": "2023-02-17T18:41:49.125Z"
   },
   {
    "duration": 350,
    "start_time": "2023-02-17T18:41:49.272Z"
   },
   {
    "duration": 798,
    "start_time": "2023-02-17T18:41:49.624Z"
   },
   {
    "duration": 401,
    "start_time": "2023-02-17T18:41:50.424Z"
   },
   {
    "duration": 210,
    "start_time": "2023-02-17T18:41:50.920Z"
   },
   {
    "duration": 606,
    "start_time": "2023-02-17T18:41:51.222Z"
   },
   {
    "duration": 119,
    "start_time": "2023-02-17T18:41:51.830Z"
   },
   {
    "duration": 163,
    "start_time": "2023-02-17T18:41:51.951Z"
   },
   {
    "duration": 5,
    "start_time": "2023-02-17T18:41:52.121Z"
   },
   {
    "duration": 102,
    "start_time": "2023-02-17T18:41:52.127Z"
   },
   {
    "duration": 131,
    "start_time": "2023-02-17T18:41:52.320Z"
   },
   {
    "duration": 77,
    "start_time": "2023-02-17T18:41:52.453Z"
   },
   {
    "duration": 596,
    "start_time": "2023-02-17T18:41:52.531Z"
   },
   {
    "duration": 298,
    "start_time": "2023-02-17T18:41:53.129Z"
   },
   {
    "duration": 64,
    "start_time": "2023-02-17T18:41:53.429Z"
   },
   {
    "duration": 391,
    "start_time": "2023-02-17T18:41:53.495Z"
   },
   {
    "duration": 2,
    "start_time": "2023-02-17T18:41:53.888Z"
   },
   {
    "duration": 5,
    "start_time": "2023-02-17T18:41:53.892Z"
   },
   {
    "duration": 22,
    "start_time": "2023-02-17T18:41:53.898Z"
   },
   {
    "duration": 420,
    "start_time": "2023-02-17T18:41:53.923Z"
   },
   {
    "duration": 140,
    "start_time": "2023-02-17T18:41:54.345Z"
   },
   {
    "duration": 88,
    "start_time": "2023-02-17T18:41:54.487Z"
   },
   {
    "duration": 560,
    "start_time": "2023-02-17T18:41:54.576Z"
   },
   {
    "duration": 521,
    "start_time": "2023-02-17T18:41:55.138Z"
   },
   {
    "duration": 535,
    "start_time": "2023-02-17T18:41:55.660Z"
   },
   {
    "duration": 4,
    "start_time": "2023-02-17T18:43:52.969Z"
   },
   {
    "duration": 1437,
    "start_time": "2023-02-17T18:55:12.339Z"
   },
   {
    "duration": 3,
    "start_time": "2023-02-17T18:55:13.778Z"
   },
   {
    "duration": 47,
    "start_time": "2023-02-17T18:55:13.782Z"
   },
   {
    "duration": 12,
    "start_time": "2023-02-17T18:55:13.832Z"
   },
   {
    "duration": 16,
    "start_time": "2023-02-17T18:55:13.846Z"
   },
   {
    "duration": 3,
    "start_time": "2023-02-17T18:55:13.864Z"
   },
   {
    "duration": 7,
    "start_time": "2023-02-17T18:55:13.869Z"
   },
   {
    "duration": 8,
    "start_time": "2023-02-17T18:55:13.878Z"
   },
   {
    "duration": 34,
    "start_time": "2023-02-17T18:55:13.888Z"
   },
   {
    "duration": 3,
    "start_time": "2023-02-17T18:55:13.926Z"
   },
   {
    "duration": 10,
    "start_time": "2023-02-17T18:55:13.931Z"
   },
   {
    "duration": 8,
    "start_time": "2023-02-17T18:55:13.943Z"
   },
   {
    "duration": 6,
    "start_time": "2023-02-17T18:55:13.953Z"
   },
   {
    "duration": 12,
    "start_time": "2023-02-17T18:55:13.961Z"
   },
   {
    "duration": 12,
    "start_time": "2023-02-17T18:55:13.975Z"
   },
   {
    "duration": 39,
    "start_time": "2023-02-17T18:55:13.989Z"
   },
   {
    "duration": 7,
    "start_time": "2023-02-17T18:55:14.030Z"
   },
   {
    "duration": 12,
    "start_time": "2023-02-17T18:55:14.038Z"
   },
   {
    "duration": 4,
    "start_time": "2023-02-17T18:55:14.052Z"
   },
   {
    "duration": 6,
    "start_time": "2023-02-17T18:55:14.057Z"
   },
   {
    "duration": 18,
    "start_time": "2023-02-17T18:55:14.064Z"
   },
   {
    "duration": 6,
    "start_time": "2023-02-17T18:55:14.084Z"
   },
   {
    "duration": 802,
    "start_time": "2023-02-17T18:55:14.121Z"
   },
   {
    "duration": 150,
    "start_time": "2023-02-17T18:55:14.925Z"
   },
   {
    "duration": 161,
    "start_time": "2023-02-17T18:55:15.077Z"
   },
   {
    "duration": 308,
    "start_time": "2023-02-17T18:55:15.321Z"
   },
   {
    "duration": 392,
    "start_time": "2023-02-17T18:55:15.632Z"
   },
   {
    "duration": 297,
    "start_time": "2023-02-17T18:55:16.030Z"
   },
   {
    "duration": 595,
    "start_time": "2023-02-17T18:55:16.330Z"
   },
   {
    "duration": 124,
    "start_time": "2023-02-17T18:55:16.927Z"
   },
   {
    "duration": 150,
    "start_time": "2023-02-17T18:55:17.052Z"
   },
   {
    "duration": 5,
    "start_time": "2023-02-17T18:55:17.204Z"
   },
   {
    "duration": 103,
    "start_time": "2023-02-17T18:55:17.221Z"
   },
   {
    "duration": 203,
    "start_time": "2023-02-17T18:55:17.329Z"
   },
   {
    "duration": 61,
    "start_time": "2023-02-17T18:55:17.534Z"
   },
   {
    "duration": 596,
    "start_time": "2023-02-17T18:55:17.596Z"
   },
   {
    "duration": 313,
    "start_time": "2023-02-17T18:55:18.194Z"
   },
   {
    "duration": 73,
    "start_time": "2023-02-17T18:55:18.509Z"
   },
   {
    "duration": 363,
    "start_time": "2023-02-17T18:55:18.583Z"
   },
   {
    "duration": 2,
    "start_time": "2023-02-17T18:55:18.948Z"
   },
   {
    "duration": 6,
    "start_time": "2023-02-17T18:55:18.951Z"
   },
   {
    "duration": 5,
    "start_time": "2023-02-17T18:55:18.958Z"
   },
   {
    "duration": 391,
    "start_time": "2023-02-17T18:55:18.965Z"
   },
   {
    "duration": 101,
    "start_time": "2023-02-17T18:55:19.358Z"
   },
   {
    "duration": 63,
    "start_time": "2023-02-17T18:55:19.461Z"
   },
   {
    "duration": 483,
    "start_time": "2023-02-17T18:55:19.525Z"
   },
   {
    "duration": 500,
    "start_time": "2023-02-17T18:55:20.010Z"
   },
   {
    "duration": 473,
    "start_time": "2023-02-17T18:55:20.512Z"
   },
   {
    "duration": 4,
    "start_time": "2023-02-17T18:55:20.987Z"
   },
   {
    "duration": 9,
    "start_time": "2023-02-17T18:58:20.344Z"
   },
   {
    "duration": 1373,
    "start_time": "2023-02-17T18:58:25.839Z"
   },
   {
    "duration": 4,
    "start_time": "2023-02-17T18:58:27.214Z"
   },
   {
    "duration": 49,
    "start_time": "2023-02-17T18:58:27.221Z"
   },
   {
    "duration": 14,
    "start_time": "2023-02-17T18:58:27.272Z"
   },
   {
    "duration": 16,
    "start_time": "2023-02-17T18:58:27.288Z"
   },
   {
    "duration": 4,
    "start_time": "2023-02-17T18:58:27.305Z"
   },
   {
    "duration": 17,
    "start_time": "2023-02-17T18:58:27.311Z"
   },
   {
    "duration": 9,
    "start_time": "2023-02-17T18:58:27.330Z"
   },
   {
    "duration": 7,
    "start_time": "2023-02-17T18:58:27.341Z"
   },
   {
    "duration": 8,
    "start_time": "2023-02-17T18:58:27.350Z"
   },
   {
    "duration": 8,
    "start_time": "2023-02-17T18:58:27.359Z"
   },
   {
    "duration": 11,
    "start_time": "2023-02-17T18:58:27.369Z"
   },
   {
    "duration": 8,
    "start_time": "2023-02-17T18:58:27.382Z"
   },
   {
    "duration": 17,
    "start_time": "2023-02-17T18:58:27.391Z"
   },
   {
    "duration": 20,
    "start_time": "2023-02-17T18:58:27.409Z"
   },
   {
    "duration": 9,
    "start_time": "2023-02-17T18:58:27.431Z"
   },
   {
    "duration": 10,
    "start_time": "2023-02-17T18:58:27.441Z"
   },
   {
    "duration": 11,
    "start_time": "2023-02-17T18:58:27.452Z"
   },
   {
    "duration": 7,
    "start_time": "2023-02-17T18:58:27.464Z"
   },
   {
    "duration": 7,
    "start_time": "2023-02-17T18:58:27.472Z"
   },
   {
    "duration": 52,
    "start_time": "2023-02-17T18:58:27.480Z"
   },
   {
    "duration": 9,
    "start_time": "2023-02-17T18:58:27.534Z"
   },
   {
    "duration": 1091,
    "start_time": "2023-02-17T18:58:27.544Z"
   },
   {
    "duration": 135,
    "start_time": "2023-02-17T18:58:28.722Z"
   },
   {
    "duration": 267,
    "start_time": "2023-02-17T18:58:28.859Z"
   },
   {
    "duration": 493,
    "start_time": "2023-02-17T18:58:29.128Z"
   },
   {
    "duration": 307,
    "start_time": "2023-02-17T18:58:29.623Z"
   },
   {
    "duration": 401,
    "start_time": "2023-02-17T18:58:30.023Z"
   },
   {
    "duration": 703,
    "start_time": "2023-02-17T18:58:30.426Z"
   },
   {
    "duration": 109,
    "start_time": "2023-02-17T18:58:31.220Z"
   },
   {
    "duration": 144,
    "start_time": "2023-02-17T18:58:31.330Z"
   },
   {
    "duration": 5,
    "start_time": "2023-02-17T18:58:31.476Z"
   },
   {
    "duration": 48,
    "start_time": "2023-02-17T18:58:31.482Z"
   },
   {
    "duration": 219,
    "start_time": "2023-02-17T18:58:31.626Z"
   },
   {
    "duration": 74,
    "start_time": "2023-02-17T18:58:31.847Z"
   },
   {
    "duration": 608,
    "start_time": "2023-02-17T18:58:31.924Z"
   },
   {
    "duration": 302,
    "start_time": "2023-02-17T18:58:32.534Z"
   },
   {
    "duration": 83,
    "start_time": "2023-02-17T18:58:32.838Z"
   },
   {
    "duration": 406,
    "start_time": "2023-02-17T18:58:32.923Z"
   },
   {
    "duration": 3,
    "start_time": "2023-02-17T18:58:33.330Z"
   },
   {
    "duration": 9,
    "start_time": "2023-02-17T18:58:33.334Z"
   },
   {
    "duration": 5,
    "start_time": "2023-02-17T18:58:33.344Z"
   },
   {
    "duration": 429,
    "start_time": "2023-02-17T18:58:33.351Z"
   },
   {
    "duration": 121,
    "start_time": "2023-02-17T18:58:33.782Z"
   },
   {
    "duration": 87,
    "start_time": "2023-02-17T18:58:33.905Z"
   },
   {
    "duration": 539,
    "start_time": "2023-02-17T18:58:33.993Z"
   },
   {
    "duration": 626,
    "start_time": "2023-02-17T18:58:34.534Z"
   },
   {
    "duration": 535,
    "start_time": "2023-02-17T18:58:35.162Z"
   },
   {
    "duration": 4,
    "start_time": "2023-02-17T18:58:35.699Z"
   },
   {
    "duration": 107,
    "start_time": "2023-02-17T18:59:56.867Z"
   },
   {
    "duration": 32,
    "start_time": "2023-02-17T19:02:43.956Z"
   },
   {
    "duration": 150,
    "start_time": "2023-02-17T19:03:15.702Z"
   },
   {
    "duration": 203,
    "start_time": "2023-02-17T19:03:52.295Z"
   },
   {
    "duration": 50,
    "start_time": "2023-02-18T17:19:12.659Z"
   },
   {
    "duration": 2,
    "start_time": "2023-02-18T17:26:05.127Z"
   },
   {
    "duration": 3,
    "start_time": "2023-02-18T17:38:34.427Z"
   },
   {
    "duration": 1497,
    "start_time": "2023-02-18T18:46:41.843Z"
   },
   {
    "duration": 3,
    "start_time": "2023-02-18T18:46:43.342Z"
   },
   {
    "duration": 90,
    "start_time": "2023-02-18T18:46:43.347Z"
   },
   {
    "duration": 12,
    "start_time": "2023-02-18T18:46:43.439Z"
   },
   {
    "duration": 17,
    "start_time": "2023-02-18T18:46:43.453Z"
   },
   {
    "duration": 7,
    "start_time": "2023-02-18T18:46:43.471Z"
   },
   {
    "duration": 9,
    "start_time": "2023-02-18T18:46:43.480Z"
   },
   {
    "duration": 15,
    "start_time": "2023-02-18T18:46:43.490Z"
   },
   {
    "duration": 7,
    "start_time": "2023-02-18T18:46:43.507Z"
   },
   {
    "duration": 21,
    "start_time": "2023-02-18T18:46:43.517Z"
   },
   {
    "duration": 4,
    "start_time": "2023-02-18T18:46:43.539Z"
   },
   {
    "duration": 11,
    "start_time": "2023-02-18T18:46:43.545Z"
   },
   {
    "duration": 11,
    "start_time": "2023-02-18T18:46:43.557Z"
   },
   {
    "duration": 20,
    "start_time": "2023-02-18T18:46:43.569Z"
   },
   {
    "duration": 11,
    "start_time": "2023-02-18T18:46:43.591Z"
   },
   {
    "duration": 8,
    "start_time": "2023-02-18T18:46:43.604Z"
   },
   {
    "duration": 30,
    "start_time": "2023-02-18T18:46:43.613Z"
   },
   {
    "duration": 8,
    "start_time": "2023-02-18T18:46:43.645Z"
   },
   {
    "duration": 7,
    "start_time": "2023-02-18T18:46:43.655Z"
   },
   {
    "duration": 22,
    "start_time": "2023-02-18T18:46:43.664Z"
   },
   {
    "duration": 9,
    "start_time": "2023-02-18T18:46:43.687Z"
   },
   {
    "duration": 71,
    "start_time": "2023-02-18T18:46:43.698Z"
   },
   {
    "duration": 6,
    "start_time": "2023-02-18T18:46:43.771Z"
   },
   {
    "duration": 18,
    "start_time": "2023-02-18T18:46:43.779Z"
   },
   {
    "duration": 48,
    "start_time": "2023-02-18T18:46:43.799Z"
   },
   {
    "duration": 0,
    "start_time": "2023-02-18T18:46:43.849Z"
   },
   {
    "duration": 0,
    "start_time": "2023-02-18T18:46:43.851Z"
   },
   {
    "duration": 0,
    "start_time": "2023-02-18T18:46:43.852Z"
   },
   {
    "duration": 0,
    "start_time": "2023-02-18T18:46:43.853Z"
   },
   {
    "duration": 0,
    "start_time": "2023-02-18T18:46:43.854Z"
   },
   {
    "duration": 0,
    "start_time": "2023-02-18T18:46:43.856Z"
   },
   {
    "duration": 0,
    "start_time": "2023-02-18T18:46:43.857Z"
   },
   {
    "duration": 0,
    "start_time": "2023-02-18T18:46:43.859Z"
   },
   {
    "duration": 0,
    "start_time": "2023-02-18T18:46:43.860Z"
   },
   {
    "duration": 0,
    "start_time": "2023-02-18T18:46:43.862Z"
   },
   {
    "duration": 0,
    "start_time": "2023-02-18T18:46:43.863Z"
   },
   {
    "duration": 0,
    "start_time": "2023-02-18T18:46:43.865Z"
   },
   {
    "duration": 0,
    "start_time": "2023-02-18T18:46:43.866Z"
   },
   {
    "duration": 0,
    "start_time": "2023-02-18T18:46:43.868Z"
   },
   {
    "duration": 0,
    "start_time": "2023-02-18T18:46:43.870Z"
   },
   {
    "duration": 0,
    "start_time": "2023-02-18T18:46:43.872Z"
   },
   {
    "duration": 0,
    "start_time": "2023-02-18T18:46:43.873Z"
   },
   {
    "duration": 0,
    "start_time": "2023-02-18T18:46:43.875Z"
   },
   {
    "duration": 0,
    "start_time": "2023-02-18T18:46:43.876Z"
   },
   {
    "duration": 0,
    "start_time": "2023-02-18T18:46:43.877Z"
   },
   {
    "duration": 1346,
    "start_time": "2023-02-18T18:47:29.755Z"
   },
   {
    "duration": 3,
    "start_time": "2023-02-18T18:47:31.103Z"
   },
   {
    "duration": 64,
    "start_time": "2023-02-18T18:47:31.108Z"
   },
   {
    "duration": 13,
    "start_time": "2023-02-18T18:47:31.174Z"
   },
   {
    "duration": 19,
    "start_time": "2023-02-18T18:47:31.189Z"
   },
   {
    "duration": 3,
    "start_time": "2023-02-18T18:47:31.210Z"
   },
   {
    "duration": 20,
    "start_time": "2023-02-18T18:47:31.215Z"
   },
   {
    "duration": 11,
    "start_time": "2023-02-18T18:47:31.236Z"
   },
   {
    "duration": 12,
    "start_time": "2023-02-18T18:47:31.249Z"
   },
   {
    "duration": 27,
    "start_time": "2023-02-18T18:47:31.264Z"
   },
   {
    "duration": 7,
    "start_time": "2023-02-18T18:47:31.292Z"
   },
   {
    "duration": 15,
    "start_time": "2023-02-18T18:47:31.301Z"
   },
   {
    "duration": 15,
    "start_time": "2023-02-18T18:47:31.318Z"
   },
   {
    "duration": 20,
    "start_time": "2023-02-18T18:47:31.335Z"
   },
   {
    "duration": 13,
    "start_time": "2023-02-18T18:47:31.356Z"
   },
   {
    "duration": 11,
    "start_time": "2023-02-18T18:47:31.370Z"
   },
   {
    "duration": 9,
    "start_time": "2023-02-18T18:47:31.383Z"
   },
   {
    "duration": 12,
    "start_time": "2023-02-18T18:47:31.394Z"
   },
   {
    "duration": 8,
    "start_time": "2023-02-18T18:47:31.408Z"
   },
   {
    "duration": 20,
    "start_time": "2023-02-18T18:47:31.418Z"
   },
   {
    "duration": 9,
    "start_time": "2023-02-18T18:47:31.439Z"
   },
   {
    "duration": 67,
    "start_time": "2023-02-18T18:47:31.450Z"
   },
   {
    "duration": 8,
    "start_time": "2023-02-18T18:47:31.519Z"
   },
   {
    "duration": 41,
    "start_time": "2023-02-18T18:47:31.529Z"
   },
   {
    "duration": 79,
    "start_time": "2023-02-18T18:47:31.572Z"
   },
   {
    "duration": 123,
    "start_time": "2023-02-18T18:47:31.743Z"
   },
   {
    "duration": 149,
    "start_time": "2023-02-18T18:47:31.868Z"
   },
   {
    "duration": 32,
    "start_time": "2023-02-18T18:47:32.021Z"
   },
   {
    "duration": 601,
    "start_time": "2023-02-18T18:47:32.138Z"
   },
   {
    "duration": 299,
    "start_time": "2023-02-18T18:47:32.741Z"
   },
   {
    "duration": 197,
    "start_time": "2023-02-18T18:47:33.042Z"
   },
   {
    "duration": 215,
    "start_time": "2023-02-18T18:47:33.240Z"
   },
   {
    "duration": 50,
    "start_time": "2023-02-18T18:47:33.456Z"
   },
   {
    "duration": 135,
    "start_time": "2023-02-18T18:47:33.508Z"
   },
   {
    "duration": 227,
    "start_time": "2023-02-18T18:47:33.645Z"
   },
   {
    "duration": 359,
    "start_time": "2023-02-18T18:47:33.874Z"
   },
   {
    "duration": 191,
    "start_time": "2023-02-18T18:47:34.238Z"
   },
   {
    "duration": 7,
    "start_time": "2023-02-18T18:47:34.431Z"
   },
   {
    "duration": 8,
    "start_time": "2023-02-18T18:47:34.439Z"
   },
   {
    "duration": 8,
    "start_time": "2023-02-18T18:47:34.449Z"
   },
   {
    "duration": 437,
    "start_time": "2023-02-18T18:47:34.459Z"
   },
   {
    "duration": 122,
    "start_time": "2023-02-18T18:47:34.898Z"
   },
   {
    "duration": 83,
    "start_time": "2023-02-18T18:47:35.021Z"
   },
   {
    "duration": 483,
    "start_time": "2023-02-18T18:47:35.105Z"
   },
   {
    "duration": 1348,
    "start_time": "2023-02-18T18:57:51.426Z"
   },
   {
    "duration": 3,
    "start_time": "2023-02-18T18:57:52.776Z"
   },
   {
    "duration": 41,
    "start_time": "2023-02-18T18:57:52.780Z"
   },
   {
    "duration": 13,
    "start_time": "2023-02-18T18:57:52.823Z"
   },
   {
    "duration": 15,
    "start_time": "2023-02-18T18:57:52.838Z"
   },
   {
    "duration": 4,
    "start_time": "2023-02-18T18:57:52.855Z"
   },
   {
    "duration": 7,
    "start_time": "2023-02-18T18:57:52.860Z"
   },
   {
    "duration": 10,
    "start_time": "2023-02-18T18:57:52.868Z"
   },
   {
    "duration": 3,
    "start_time": "2023-02-18T18:57:52.880Z"
   },
   {
    "duration": 7,
    "start_time": "2023-02-18T18:57:52.885Z"
   },
   {
    "duration": 4,
    "start_time": "2023-02-18T18:57:52.894Z"
   },
   {
    "duration": 30,
    "start_time": "2023-02-18T18:57:52.899Z"
   },
   {
    "duration": 9,
    "start_time": "2023-02-18T18:57:52.931Z"
   },
   {
    "duration": 14,
    "start_time": "2023-02-18T18:57:52.941Z"
   },
   {
    "duration": 13,
    "start_time": "2023-02-18T18:57:52.957Z"
   },
   {
    "duration": 9,
    "start_time": "2023-02-18T18:57:52.971Z"
   },
   {
    "duration": 8,
    "start_time": "2023-02-18T18:57:52.981Z"
   },
   {
    "duration": 4,
    "start_time": "2023-02-18T18:57:52.990Z"
   },
   {
    "duration": 6,
    "start_time": "2023-02-18T18:57:52.996Z"
   },
   {
    "duration": 38,
    "start_time": "2023-02-18T18:57:53.003Z"
   },
   {
    "duration": 6,
    "start_time": "2023-02-18T18:57:53.043Z"
   },
   {
    "duration": 47,
    "start_time": "2023-02-18T18:57:53.050Z"
   },
   {
    "duration": 8,
    "start_time": "2023-02-18T18:57:53.098Z"
   },
   {
    "duration": 9,
    "start_time": "2023-02-18T18:57:53.108Z"
   },
   {
    "duration": 110,
    "start_time": "2023-02-18T18:57:53.136Z"
   },
   {
    "duration": 205,
    "start_time": "2023-02-18T18:57:53.247Z"
   },
   {
    "duration": 139,
    "start_time": "2023-02-18T18:57:53.453Z"
   },
   {
    "duration": 50,
    "start_time": "2023-02-18T18:57:53.595Z"
   },
   {
    "duration": 199,
    "start_time": "2023-02-18T18:57:53.647Z"
   },
   {
    "duration": 204,
    "start_time": "2023-02-18T18:57:53.937Z"
   },
   {
    "duration": 123,
    "start_time": "2023-02-18T18:57:54.143Z"
   },
   {
    "duration": 272,
    "start_time": "2023-02-18T18:57:54.267Z"
   },
   {
    "duration": 38,
    "start_time": "2023-02-18T18:57:54.541Z"
   },
   {
    "duration": 143,
    "start_time": "2023-02-18T18:57:54.581Z"
   },
   {
    "duration": 156,
    "start_time": "2023-02-18T18:57:54.726Z"
   },
   {
    "duration": 343,
    "start_time": "2023-02-18T18:57:54.884Z"
   },
   {
    "duration": 163,
    "start_time": "2023-02-18T18:57:55.229Z"
   },
   {
    "duration": 1589,
    "start_time": "2023-02-18T18:57:55.394Z"
   },
   {
    "duration": 5895,
    "start_time": "2023-02-18T18:57:56.985Z"
   },
   {
    "duration": 3,
    "start_time": "2023-02-18T18:58:02.881Z"
   },
   {
    "duration": 367,
    "start_time": "2023-02-18T18:58:02.885Z"
   },
   {
    "duration": 157,
    "start_time": "2023-02-18T18:58:03.253Z"
   },
   {
    "duration": 81,
    "start_time": "2023-02-18T18:58:03.411Z"
   },
   {
    "duration": 465,
    "start_time": "2023-02-18T18:58:03.493Z"
   },
   {
    "duration": 1288,
    "start_time": "2023-02-18T19:00:54.223Z"
   },
   {
    "duration": 3,
    "start_time": "2023-02-18T19:00:55.513Z"
   },
   {
    "duration": 40,
    "start_time": "2023-02-18T19:00:55.517Z"
   },
   {
    "duration": 13,
    "start_time": "2023-02-18T19:00:55.559Z"
   },
   {
    "duration": 17,
    "start_time": "2023-02-18T19:00:55.573Z"
   },
   {
    "duration": 4,
    "start_time": "2023-02-18T19:00:55.592Z"
   },
   {
    "duration": 9,
    "start_time": "2023-02-18T19:00:55.597Z"
   },
   {
    "duration": 20,
    "start_time": "2023-02-18T19:00:55.608Z"
   },
   {
    "duration": 9,
    "start_time": "2023-02-18T19:00:55.629Z"
   },
   {
    "duration": 6,
    "start_time": "2023-02-18T19:00:55.641Z"
   },
   {
    "duration": 5,
    "start_time": "2023-02-18T19:00:55.649Z"
   },
   {
    "duration": 24,
    "start_time": "2023-02-18T19:00:55.655Z"
   },
   {
    "duration": 14,
    "start_time": "2023-02-18T19:00:55.680Z"
   },
   {
    "duration": 15,
    "start_time": "2023-02-18T19:00:55.696Z"
   },
   {
    "duration": 11,
    "start_time": "2023-02-18T19:00:55.712Z"
   },
   {
    "duration": 13,
    "start_time": "2023-02-18T19:00:55.724Z"
   },
   {
    "duration": 7,
    "start_time": "2023-02-18T19:00:55.738Z"
   },
   {
    "duration": 8,
    "start_time": "2023-02-18T19:00:55.747Z"
   },
   {
    "duration": 7,
    "start_time": "2023-02-18T19:00:55.756Z"
   },
   {
    "duration": 20,
    "start_time": "2023-02-18T19:00:55.765Z"
   },
   {
    "duration": 7,
    "start_time": "2023-02-18T19:00:55.786Z"
   },
   {
    "duration": 71,
    "start_time": "2023-02-18T19:00:55.794Z"
   },
   {
    "duration": 7,
    "start_time": "2023-02-18T19:00:55.867Z"
   },
   {
    "duration": 9,
    "start_time": "2023-02-18T19:00:55.876Z"
   },
   {
    "duration": 456,
    "start_time": "2023-02-18T19:00:55.887Z"
   },
   {
    "duration": 122,
    "start_time": "2023-02-18T19:00:56.345Z"
   },
   {
    "duration": 140,
    "start_time": "2023-02-18T19:00:56.469Z"
   },
   {
    "duration": 125,
    "start_time": "2023-02-18T19:00:56.613Z"
   },
   {
    "duration": 203,
    "start_time": "2023-02-18T19:00:56.739Z"
   },
   {
    "duration": 202,
    "start_time": "2023-02-18T19:00:56.944Z"
   },
   {
    "duration": 288,
    "start_time": "2023-02-18T19:00:57.148Z"
   },
   {
    "duration": 219,
    "start_time": "2023-02-18T19:00:57.441Z"
   },
   {
    "duration": 37,
    "start_time": "2023-02-18T19:00:57.662Z"
   },
   {
    "duration": 142,
    "start_time": "2023-02-18T19:00:57.700Z"
   },
   {
    "duration": 161,
    "start_time": "2023-02-18T19:00:57.843Z"
   },
   {
    "duration": 345,
    "start_time": "2023-02-18T19:00:58.006Z"
   },
   {
    "duration": 135,
    "start_time": "2023-02-18T19:00:58.353Z"
   },
   {
    "duration": 1573,
    "start_time": "2023-02-18T19:00:58.490Z"
   },
   {
    "duration": 6667,
    "start_time": "2023-02-18T19:01:00.065Z"
   },
   {
    "duration": 4,
    "start_time": "2023-02-18T19:01:06.733Z"
   },
   {
    "duration": 427,
    "start_time": "2023-02-18T19:01:06.739Z"
   },
   {
    "duration": 121,
    "start_time": "2023-02-18T19:01:07.167Z"
   },
   {
    "duration": 83,
    "start_time": "2023-02-18T19:01:07.290Z"
   },
   {
    "duration": 529,
    "start_time": "2023-02-18T19:01:07.374Z"
   },
   {
    "duration": 1317,
    "start_time": "2023-02-18T19:10:30.731Z"
   },
   {
    "duration": 3,
    "start_time": "2023-02-18T19:10:32.050Z"
   },
   {
    "duration": 50,
    "start_time": "2023-02-18T19:10:32.055Z"
   },
   {
    "duration": 13,
    "start_time": "2023-02-18T19:10:32.107Z"
   },
   {
    "duration": 35,
    "start_time": "2023-02-18T19:10:32.122Z"
   },
   {
    "duration": 11,
    "start_time": "2023-02-18T19:10:32.159Z"
   },
   {
    "duration": 11,
    "start_time": "2023-02-18T19:10:32.172Z"
   },
   {
    "duration": 29,
    "start_time": "2023-02-18T19:10:32.184Z"
   },
   {
    "duration": 13,
    "start_time": "2023-02-18T19:10:32.215Z"
   },
   {
    "duration": 15,
    "start_time": "2023-02-18T19:10:32.231Z"
   },
   {
    "duration": 5,
    "start_time": "2023-02-18T19:10:32.248Z"
   },
   {
    "duration": 13,
    "start_time": "2023-02-18T19:10:32.255Z"
   },
   {
    "duration": 12,
    "start_time": "2023-02-18T19:10:32.270Z"
   },
   {
    "duration": 20,
    "start_time": "2023-02-18T19:10:32.284Z"
   },
   {
    "duration": 27,
    "start_time": "2023-02-18T19:10:32.306Z"
   },
   {
    "duration": 13,
    "start_time": "2023-02-18T19:10:32.336Z"
   },
   {
    "duration": 16,
    "start_time": "2023-02-18T19:10:32.350Z"
   },
   {
    "duration": 21,
    "start_time": "2023-02-18T19:10:32.368Z"
   },
   {
    "duration": 5,
    "start_time": "2023-02-18T19:10:32.391Z"
   },
   {
    "duration": 21,
    "start_time": "2023-02-18T19:10:32.398Z"
   },
   {
    "duration": 18,
    "start_time": "2023-02-18T19:10:32.421Z"
   },
   {
    "duration": 114,
    "start_time": "2023-02-18T19:10:32.441Z"
   },
   {
    "duration": 9,
    "start_time": "2023-02-18T19:10:32.559Z"
   },
   {
    "duration": 16,
    "start_time": "2023-02-18T19:10:32.570Z"
   },
   {
    "duration": 156,
    "start_time": "2023-02-18T19:10:32.589Z"
   },
   {
    "duration": 134,
    "start_time": "2023-02-18T19:10:32.838Z"
   },
   {
    "duration": 146,
    "start_time": "2023-02-18T19:10:32.973Z"
   },
   {
    "duration": 114,
    "start_time": "2023-02-18T19:10:33.122Z"
   },
   {
    "duration": 299,
    "start_time": "2023-02-18T19:10:33.239Z"
   },
   {
    "duration": 205,
    "start_time": "2023-02-18T19:10:33.540Z"
   },
   {
    "duration": 206,
    "start_time": "2023-02-18T19:10:33.746Z"
   },
   {
    "duration": 303,
    "start_time": "2023-02-18T19:10:33.953Z"
   },
   {
    "duration": 44,
    "start_time": "2023-02-18T19:10:34.257Z"
   },
   {
    "duration": 182,
    "start_time": "2023-02-18T19:10:34.303Z"
   },
   {
    "duration": 186,
    "start_time": "2023-02-18T19:10:34.487Z"
   },
   {
    "duration": 393,
    "start_time": "2023-02-18T19:10:34.675Z"
   },
   {
    "duration": 139,
    "start_time": "2023-02-18T19:10:35.070Z"
   },
   {
    "duration": 1638,
    "start_time": "2023-02-18T19:10:35.211Z"
   },
   {
    "duration": 6583,
    "start_time": "2023-02-18T19:10:36.850Z"
   },
   {
    "duration": 4,
    "start_time": "2023-02-18T19:10:43.437Z"
   },
   {
    "duration": 363,
    "start_time": "2023-02-18T19:10:43.443Z"
   },
   {
    "duration": 121,
    "start_time": "2023-02-18T19:10:43.808Z"
   },
   {
    "duration": 76,
    "start_time": "2023-02-18T19:10:43.930Z"
   },
   {
    "duration": 458,
    "start_time": "2023-02-18T19:10:44.008Z"
   },
   {
    "duration": 133,
    "start_time": "2023-02-18T19:14:16.573Z"
   },
   {
    "duration": 43,
    "start_time": "2023-02-18T19:15:25.996Z"
   },
   {
    "duration": 1300,
    "start_time": "2023-02-18T19:15:50.534Z"
   },
   {
    "duration": 3,
    "start_time": "2023-02-18T19:15:51.836Z"
   },
   {
    "duration": 40,
    "start_time": "2023-02-18T19:15:51.841Z"
   },
   {
    "duration": 13,
    "start_time": "2023-02-18T19:15:51.883Z"
   },
   {
    "duration": 16,
    "start_time": "2023-02-18T19:15:51.899Z"
   },
   {
    "duration": 8,
    "start_time": "2023-02-18T19:15:51.916Z"
   },
   {
    "duration": 16,
    "start_time": "2023-02-18T19:15:51.926Z"
   },
   {
    "duration": 13,
    "start_time": "2023-02-18T19:15:51.944Z"
   },
   {
    "duration": 7,
    "start_time": "2023-02-18T19:15:51.959Z"
   },
   {
    "duration": 14,
    "start_time": "2023-02-18T19:15:51.967Z"
   },
   {
    "duration": 12,
    "start_time": "2023-02-18T19:15:51.983Z"
   },
   {
    "duration": 12,
    "start_time": "2023-02-18T19:15:51.997Z"
   },
   {
    "duration": 8,
    "start_time": "2023-02-18T19:15:52.011Z"
   },
   {
    "duration": 37,
    "start_time": "2023-02-18T19:15:52.023Z"
   },
   {
    "duration": 15,
    "start_time": "2023-02-18T19:15:52.062Z"
   },
   {
    "duration": 9,
    "start_time": "2023-02-18T19:15:52.078Z"
   },
   {
    "duration": 11,
    "start_time": "2023-02-18T19:15:52.089Z"
   },
   {
    "duration": 7,
    "start_time": "2023-02-18T19:15:52.101Z"
   },
   {
    "duration": 16,
    "start_time": "2023-02-18T19:15:52.109Z"
   },
   {
    "duration": 21,
    "start_time": "2023-02-18T19:15:52.126Z"
   },
   {
    "duration": 7,
    "start_time": "2023-02-18T19:15:52.149Z"
   },
   {
    "duration": 54,
    "start_time": "2023-02-18T19:15:52.157Z"
   },
   {
    "duration": 7,
    "start_time": "2023-02-18T19:15:52.213Z"
   },
   {
    "duration": 16,
    "start_time": "2023-02-18T19:15:52.221Z"
   },
   {
    "duration": 207,
    "start_time": "2023-02-18T19:15:52.238Z"
   },
   {
    "duration": 226,
    "start_time": "2023-02-18T19:15:52.447Z"
   },
   {
    "duration": 155,
    "start_time": "2023-02-18T19:15:52.675Z"
   },
   {
    "duration": 101,
    "start_time": "2023-02-18T19:15:52.837Z"
   },
   {
    "duration": 194,
    "start_time": "2023-02-18T19:15:52.943Z"
   },
   {
    "duration": 202,
    "start_time": "2023-02-18T19:15:53.140Z"
   },
   {
    "duration": 195,
    "start_time": "2023-02-18T19:15:53.343Z"
   },
   {
    "duration": 210,
    "start_time": "2023-02-18T19:15:53.540Z"
   },
   {
    "duration": 38,
    "start_time": "2023-02-18T19:15:53.752Z"
   },
   {
    "duration": 145,
    "start_time": "2023-02-18T19:15:53.792Z"
   },
   {
    "duration": 160,
    "start_time": "2023-02-18T19:15:53.938Z"
   },
   {
    "duration": 344,
    "start_time": "2023-02-18T19:15:54.100Z"
   },
   {
    "duration": 146,
    "start_time": "2023-02-18T19:15:54.446Z"
   },
   {
    "duration": 1644,
    "start_time": "2023-02-18T19:15:54.594Z"
   },
   {
    "duration": 6899,
    "start_time": "2023-02-18T19:15:56.240Z"
   },
   {
    "duration": 2,
    "start_time": "2023-02-18T19:16:03.141Z"
   },
   {
    "duration": 356,
    "start_time": "2023-02-18T19:16:03.147Z"
   },
   {
    "duration": 133,
    "start_time": "2023-02-18T19:16:03.504Z"
   },
   {
    "duration": 74,
    "start_time": "2023-02-18T19:16:03.639Z"
   },
   {
    "duration": 455,
    "start_time": "2023-02-18T19:16:03.715Z"
   },
   {
    "duration": 196,
    "start_time": "2023-02-18T19:16:04.172Z"
   },
   {
    "duration": 1322,
    "start_time": "2023-02-19T16:53:41.616Z"
   },
   {
    "duration": 4,
    "start_time": "2023-02-19T16:53:42.939Z"
   },
   {
    "duration": 51,
    "start_time": "2023-02-19T16:53:42.944Z"
   },
   {
    "duration": 14,
    "start_time": "2023-02-19T16:53:42.998Z"
   },
   {
    "duration": 17,
    "start_time": "2023-02-19T16:53:43.014Z"
   },
   {
    "duration": 4,
    "start_time": "2023-02-19T16:53:43.032Z"
   },
   {
    "duration": 8,
    "start_time": "2023-02-19T16:53:43.037Z"
   },
   {
    "duration": 14,
    "start_time": "2023-02-19T16:53:43.046Z"
   },
   {
    "duration": 5,
    "start_time": "2023-02-19T16:53:43.062Z"
   },
   {
    "duration": 6,
    "start_time": "2023-02-19T16:53:43.085Z"
   },
   {
    "duration": 6,
    "start_time": "2023-02-19T16:53:43.093Z"
   },
   {
    "duration": 7,
    "start_time": "2023-02-19T16:53:43.101Z"
   },
   {
    "duration": 7,
    "start_time": "2023-02-19T16:53:43.110Z"
   },
   {
    "duration": 12,
    "start_time": "2023-02-19T16:53:43.119Z"
   },
   {
    "duration": 11,
    "start_time": "2023-02-19T16:53:43.133Z"
   },
   {
    "duration": 10,
    "start_time": "2023-02-19T16:53:43.146Z"
   },
   {
    "duration": 7,
    "start_time": "2023-02-19T16:53:43.186Z"
   },
   {
    "duration": 7,
    "start_time": "2023-02-19T16:53:43.196Z"
   },
   {
    "duration": 11,
    "start_time": "2023-02-19T16:53:43.205Z"
   },
   {
    "duration": 26,
    "start_time": "2023-02-19T16:53:43.217Z"
   },
   {
    "duration": 57,
    "start_time": "2023-02-19T16:53:43.245Z"
   },
   {
    "duration": 78,
    "start_time": "2023-02-19T16:53:43.303Z"
   },
   {
    "duration": 9,
    "start_time": "2023-02-19T16:53:43.383Z"
   },
   {
    "duration": 23,
    "start_time": "2023-02-19T16:53:43.393Z"
   },
   {
    "duration": 176,
    "start_time": "2023-02-19T16:53:43.418Z"
   },
   {
    "duration": 223,
    "start_time": "2023-02-19T16:53:43.595Z"
   },
   {
    "duration": 142,
    "start_time": "2023-02-19T16:53:43.819Z"
   },
   {
    "duration": 27,
    "start_time": "2023-02-19T16:53:43.964Z"
   },
   {
    "duration": 393,
    "start_time": "2023-02-19T16:53:43.993Z"
   },
   {
    "duration": 207,
    "start_time": "2023-02-19T16:53:44.388Z"
   },
   {
    "duration": 201,
    "start_time": "2023-02-19T16:53:44.686Z"
   },
   {
    "duration": 227,
    "start_time": "2023-02-19T16:53:44.888Z"
   },
   {
    "duration": 39,
    "start_time": "2023-02-19T16:53:45.116Z"
   },
   {
    "duration": 150,
    "start_time": "2023-02-19T16:53:45.157Z"
   },
   {
    "duration": 163,
    "start_time": "2023-02-19T16:53:45.308Z"
   },
   {
    "duration": 402,
    "start_time": "2023-02-19T16:53:45.472Z"
   },
   {
    "duration": 147,
    "start_time": "2023-02-19T16:53:45.875Z"
   },
   {
    "duration": 1652,
    "start_time": "2023-02-19T16:53:46.024Z"
   },
   {
    "duration": 6851,
    "start_time": "2023-02-19T16:53:47.677Z"
   },
   {
    "duration": 3,
    "start_time": "2023-02-19T16:53:54.530Z"
   },
   {
    "duration": 369,
    "start_time": "2023-02-19T16:53:54.534Z"
   },
   {
    "duration": 129,
    "start_time": "2023-02-19T16:53:54.904Z"
   },
   {
    "duration": 86,
    "start_time": "2023-02-19T16:53:55.035Z"
   },
   {
    "duration": 506,
    "start_time": "2023-02-19T16:53:55.123Z"
   },
   {
    "duration": 142,
    "start_time": "2023-02-19T16:53:55.631Z"
   },
   {
    "duration": 1343,
    "start_time": "2023-02-19T16:54:19.143Z"
   },
   {
    "duration": 2,
    "start_time": "2023-02-19T16:54:20.488Z"
   },
   {
    "duration": 53,
    "start_time": "2023-02-19T16:54:20.492Z"
   },
   {
    "duration": 12,
    "start_time": "2023-02-19T16:54:20.548Z"
   },
   {
    "duration": 18,
    "start_time": "2023-02-19T16:54:20.562Z"
   },
   {
    "duration": 3,
    "start_time": "2023-02-19T16:54:20.582Z"
   },
   {
    "duration": 19,
    "start_time": "2023-02-19T16:54:20.586Z"
   },
   {
    "duration": 15,
    "start_time": "2023-02-19T16:54:20.606Z"
   },
   {
    "duration": 31,
    "start_time": "2023-02-19T16:54:20.623Z"
   },
   {
    "duration": 33,
    "start_time": "2023-02-19T16:54:20.657Z"
   },
   {
    "duration": 10,
    "start_time": "2023-02-19T16:54:20.692Z"
   },
   {
    "duration": 14,
    "start_time": "2023-02-19T16:54:20.704Z"
   },
   {
    "duration": 9,
    "start_time": "2023-02-19T16:54:20.719Z"
   },
   {
    "duration": 17,
    "start_time": "2023-02-19T16:54:20.729Z"
   },
   {
    "duration": 12,
    "start_time": "2023-02-19T16:54:20.747Z"
   },
   {
    "duration": 9,
    "start_time": "2023-02-19T16:54:20.760Z"
   },
   {
    "duration": 14,
    "start_time": "2023-02-19T16:54:20.771Z"
   },
   {
    "duration": 11,
    "start_time": "2023-02-19T16:54:20.787Z"
   },
   {
    "duration": 6,
    "start_time": "2023-02-19T16:54:20.799Z"
   },
   {
    "duration": 20,
    "start_time": "2023-02-19T16:54:20.806Z"
   },
   {
    "duration": 7,
    "start_time": "2023-02-19T16:54:20.828Z"
   },
   {
    "duration": 57,
    "start_time": "2023-02-19T16:54:20.837Z"
   },
   {
    "duration": 7,
    "start_time": "2023-02-19T16:54:20.895Z"
   },
   {
    "duration": 21,
    "start_time": "2023-02-19T16:54:20.904Z"
   },
   {
    "duration": 261,
    "start_time": "2023-02-19T16:54:20.926Z"
   },
   {
    "duration": 125,
    "start_time": "2023-02-19T16:54:21.189Z"
   },
   {
    "duration": 152,
    "start_time": "2023-02-19T16:54:21.316Z"
   },
   {
    "duration": 34,
    "start_time": "2023-02-19T16:54:21.472Z"
   },
   {
    "duration": 208,
    "start_time": "2023-02-19T16:54:21.587Z"
   },
   {
    "duration": 300,
    "start_time": "2023-02-19T16:54:21.887Z"
   },
   {
    "duration": 197,
    "start_time": "2023-02-19T16:54:22.190Z"
   },
   {
    "duration": 220,
    "start_time": "2023-02-19T16:54:22.388Z"
   },
   {
    "duration": 40,
    "start_time": "2023-02-19T16:54:22.610Z"
   },
   {
    "duration": 141,
    "start_time": "2023-02-19T16:54:22.652Z"
   },
   {
    "duration": 191,
    "start_time": "2023-02-19T16:54:22.795Z"
   },
   {
    "duration": 378,
    "start_time": "2023-02-19T16:54:22.987Z"
   },
   {
    "duration": 151,
    "start_time": "2023-02-19T16:54:23.367Z"
   },
   {
    "duration": 1686,
    "start_time": "2023-02-19T16:54:23.520Z"
   },
   {
    "duration": 6624,
    "start_time": "2023-02-19T16:54:25.207Z"
   },
   {
    "duration": 2,
    "start_time": "2023-02-19T16:54:31.833Z"
   },
   {
    "duration": 360,
    "start_time": "2023-02-19T16:54:31.837Z"
   },
   {
    "duration": 117,
    "start_time": "2023-02-19T16:54:32.198Z"
   },
   {
    "duration": 93,
    "start_time": "2023-02-19T16:54:32.316Z"
   },
   {
    "duration": 451,
    "start_time": "2023-02-19T16:54:32.411Z"
   },
   {
    "duration": 144,
    "start_time": "2023-02-19T16:54:32.864Z"
   },
   {
    "duration": 1366,
    "start_time": "2023-02-19T16:56:01.024Z"
   },
   {
    "duration": 3,
    "start_time": "2023-02-19T16:56:02.392Z"
   },
   {
    "duration": 65,
    "start_time": "2023-02-19T16:56:02.396Z"
   },
   {
    "duration": 14,
    "start_time": "2023-02-19T16:56:02.464Z"
   },
   {
    "duration": 31,
    "start_time": "2023-02-19T16:56:02.480Z"
   },
   {
    "duration": 26,
    "start_time": "2023-02-19T16:56:02.513Z"
   },
   {
    "duration": 13,
    "start_time": "2023-02-19T16:56:02.540Z"
   },
   {
    "duration": 37,
    "start_time": "2023-02-19T16:56:02.555Z"
   },
   {
    "duration": 36,
    "start_time": "2023-02-19T16:56:02.594Z"
   },
   {
    "duration": 18,
    "start_time": "2023-02-19T16:56:02.634Z"
   },
   {
    "duration": 5,
    "start_time": "2023-02-19T16:56:02.654Z"
   },
   {
    "duration": 25,
    "start_time": "2023-02-19T16:56:02.661Z"
   },
   {
    "duration": 11,
    "start_time": "2023-02-19T16:56:02.688Z"
   },
   {
    "duration": 37,
    "start_time": "2023-02-19T16:56:02.700Z"
   },
   {
    "duration": 16,
    "start_time": "2023-02-19T16:56:02.738Z"
   },
   {
    "duration": 10,
    "start_time": "2023-02-19T16:56:02.755Z"
   },
   {
    "duration": 14,
    "start_time": "2023-02-19T16:56:02.767Z"
   },
   {
    "duration": 7,
    "start_time": "2023-02-19T16:56:02.783Z"
   },
   {
    "duration": 8,
    "start_time": "2023-02-19T16:56:02.792Z"
   },
   {
    "duration": 20,
    "start_time": "2023-02-19T16:56:02.801Z"
   },
   {
    "duration": 7,
    "start_time": "2023-02-19T16:56:02.823Z"
   },
   {
    "duration": 78,
    "start_time": "2023-02-19T16:56:02.832Z"
   },
   {
    "duration": 11,
    "start_time": "2023-02-19T16:56:02.913Z"
   },
   {
    "duration": 19,
    "start_time": "2023-02-19T16:56:02.926Z"
   },
   {
    "duration": 240,
    "start_time": "2023-02-19T16:56:02.947Z"
   },
   {
    "duration": 132,
    "start_time": "2023-02-19T16:56:03.189Z"
   },
   {
    "duration": 169,
    "start_time": "2023-02-19T16:56:03.323Z"
   },
   {
    "duration": 92,
    "start_time": "2023-02-19T16:56:03.497Z"
   },
   {
    "duration": 290,
    "start_time": "2023-02-19T16:56:03.598Z"
   },
   {
    "duration": 204,
    "start_time": "2023-02-19T16:56:03.891Z"
   },
   {
    "duration": 218,
    "start_time": "2023-02-19T16:56:04.097Z"
   },
   {
    "duration": 300,
    "start_time": "2023-02-19T16:56:04.316Z"
   },
   {
    "duration": 44,
    "start_time": "2023-02-19T16:56:04.618Z"
   },
   {
    "duration": 141,
    "start_time": "2023-02-19T16:56:04.664Z"
   },
   {
    "duration": 193,
    "start_time": "2023-02-19T16:56:04.807Z"
   },
   {
    "duration": 400,
    "start_time": "2023-02-19T16:56:05.002Z"
   },
   {
    "duration": 149,
    "start_time": "2023-02-19T16:56:05.404Z"
   },
   {
    "duration": 1676,
    "start_time": "2023-02-19T16:56:05.555Z"
   },
   {
    "duration": 6647,
    "start_time": "2023-02-19T16:56:07.233Z"
   },
   {
    "duration": 5,
    "start_time": "2023-02-19T16:56:13.881Z"
   },
   {
    "duration": 363,
    "start_time": "2023-02-19T16:56:13.887Z"
   },
   {
    "duration": 118,
    "start_time": "2023-02-19T16:56:14.252Z"
   },
   {
    "duration": 78,
    "start_time": "2023-02-19T16:56:14.372Z"
   },
   {
    "duration": 465,
    "start_time": "2023-02-19T16:56:14.452Z"
   },
   {
    "duration": 118,
    "start_time": "2023-02-19T16:56:14.919Z"
   },
   {
    "duration": 4,
    "start_time": "2023-02-19T17:07:06.559Z"
   },
   {
    "duration": 18,
    "start_time": "2023-02-19T17:07:09.753Z"
   },
   {
    "duration": 4,
    "start_time": "2023-02-19T17:07:15.244Z"
   },
   {
    "duration": 17,
    "start_time": "2023-02-19T17:07:25.163Z"
   },
   {
    "duration": 16,
    "start_time": "2023-02-19T17:07:36.287Z"
   },
   {
    "duration": 18,
    "start_time": "2023-02-19T17:07:58.457Z"
   },
   {
    "duration": 16,
    "start_time": "2023-02-19T17:08:04.211Z"
   },
   {
    "duration": 4,
    "start_time": "2023-02-19T17:09:12.589Z"
   },
   {
    "duration": 5,
    "start_time": "2023-02-19T17:09:24.453Z"
   },
   {
    "duration": 4,
    "start_time": "2023-02-19T17:09:30.783Z"
   },
   {
    "duration": 16,
    "start_time": "2023-02-19T17:09:46.294Z"
   },
   {
    "duration": 6,
    "start_time": "2023-02-19T17:09:57.393Z"
   },
   {
    "duration": 6,
    "start_time": "2023-02-19T17:10:03.462Z"
   },
   {
    "duration": 6,
    "start_time": "2023-02-19T17:10:43.523Z"
   },
   {
    "duration": 1480,
    "start_time": "2023-02-20T09:57:43.646Z"
   },
   {
    "duration": 3,
    "start_time": "2023-02-20T09:57:45.128Z"
   },
   {
    "duration": 203,
    "start_time": "2023-02-20T09:57:45.132Z"
   },
   {
    "duration": 14,
    "start_time": "2023-02-20T09:57:45.337Z"
   },
   {
    "duration": 15,
    "start_time": "2023-02-20T09:57:45.353Z"
   },
   {
    "duration": 4,
    "start_time": "2023-02-20T09:57:45.370Z"
   },
   {
    "duration": 6,
    "start_time": "2023-02-20T09:57:45.375Z"
   },
   {
    "duration": 10,
    "start_time": "2023-02-20T09:57:45.382Z"
   },
   {
    "duration": 12,
    "start_time": "2023-02-20T09:58:08.741Z"
   },
   {
    "duration": 11,
    "start_time": "2023-02-20T10:07:33.484Z"
   },
   {
    "duration": 107,
    "start_time": "2023-02-20T10:07:40.290Z"
   },
   {
    "duration": 11,
    "start_time": "2023-02-20T10:08:11.588Z"
   },
   {
    "duration": 5,
    "start_time": "2023-02-20T10:08:22.265Z"
   },
   {
    "duration": 9,
    "start_time": "2023-02-20T10:08:34.159Z"
   },
   {
    "duration": 10,
    "start_time": "2023-02-20T10:09:15.384Z"
   },
   {
    "duration": 15,
    "start_time": "2023-02-20T10:09:22.067Z"
   },
   {
    "duration": 16,
    "start_time": "2023-02-20T10:09:49.788Z"
   },
   {
    "duration": 38,
    "start_time": "2023-02-20T10:10:32.128Z"
   },
   {
    "duration": 24,
    "start_time": "2023-02-20T10:11:04.915Z"
   },
   {
    "duration": 10,
    "start_time": "2023-02-20T10:11:26.380Z"
   },
   {
    "duration": 12,
    "start_time": "2023-02-20T10:11:58.264Z"
   },
   {
    "duration": 13,
    "start_time": "2023-02-20T10:13:01.125Z"
   },
   {
    "duration": 9,
    "start_time": "2023-02-20T10:18:17.568Z"
   },
   {
    "duration": 14,
    "start_time": "2023-02-20T10:21:39.798Z"
   },
   {
    "duration": 11,
    "start_time": "2023-02-20T10:29:27.280Z"
   },
   {
    "duration": 9,
    "start_time": "2023-02-20T10:29:44.447Z"
   },
   {
    "duration": 9,
    "start_time": "2023-02-20T10:30:39.862Z"
   },
   {
    "duration": 14,
    "start_time": "2023-02-20T10:31:04.037Z"
   },
   {
    "duration": 8,
    "start_time": "2023-02-20T10:32:54.848Z"
   },
   {
    "duration": 10,
    "start_time": "2023-02-20T16:23:44.271Z"
   },
   {
    "duration": 9,
    "start_time": "2023-02-20T16:23:52.592Z"
   },
   {
    "duration": 4,
    "start_time": "2023-02-20T16:24:09.241Z"
   },
   {
    "duration": 22,
    "start_time": "2023-02-20T16:24:09.247Z"
   },
   {
    "duration": 57,
    "start_time": "2023-02-20T16:24:09.270Z"
   },
   {
    "duration": 11,
    "start_time": "2023-02-20T16:24:09.329Z"
   },
   {
    "duration": 29,
    "start_time": "2023-02-20T16:24:09.343Z"
   },
   {
    "duration": 23,
    "start_time": "2023-02-20T16:24:09.374Z"
   },
   {
    "duration": 18,
    "start_time": "2023-02-20T16:24:09.399Z"
   },
   {
    "duration": 25,
    "start_time": "2023-02-20T16:24:09.418Z"
   },
   {
    "duration": 13,
    "start_time": "2023-02-20T16:24:09.445Z"
   },
   {
    "duration": 19,
    "start_time": "2023-02-20T16:24:09.459Z"
   },
   {
    "duration": 18,
    "start_time": "2023-02-20T16:24:09.480Z"
   },
   {
    "duration": 21,
    "start_time": "2023-02-20T16:24:09.500Z"
   },
   {
    "duration": 18,
    "start_time": "2023-02-20T16:24:09.523Z"
   },
   {
    "duration": 20,
    "start_time": "2023-02-20T16:24:09.543Z"
   },
   {
    "duration": 6,
    "start_time": "2023-02-20T16:24:09.564Z"
   },
   {
    "duration": 24,
    "start_time": "2023-02-20T16:24:09.572Z"
   },
   {
    "duration": 10,
    "start_time": "2023-02-20T16:24:09.598Z"
   },
   {
    "duration": 31,
    "start_time": "2023-02-20T16:24:09.610Z"
   },
   {
    "duration": 49,
    "start_time": "2023-02-20T16:24:09.643Z"
   },
   {
    "duration": 11,
    "start_time": "2023-02-20T16:24:09.694Z"
   },
   {
    "duration": 9,
    "start_time": "2023-02-20T16:24:15.254Z"
   },
   {
    "duration": 18,
    "start_time": "2023-02-20T16:24:16.951Z"
   },
   {
    "duration": 6,
    "start_time": "2023-02-20T16:24:20.023Z"
   },
   {
    "duration": 7,
    "start_time": "2023-02-20T16:24:23.593Z"
   },
   {
    "duration": 6,
    "start_time": "2023-02-20T16:29:54.879Z"
   },
   {
    "duration": 3,
    "start_time": "2023-02-20T16:31:44.911Z"
   },
   {
    "duration": 4,
    "start_time": "2023-02-20T16:31:51.579Z"
   },
   {
    "duration": 5,
    "start_time": "2023-02-20T16:33:17.182Z"
   },
   {
    "duration": 1354,
    "start_time": "2023-02-20T16:50:47.514Z"
   },
   {
    "duration": 3,
    "start_time": "2023-02-20T16:50:48.869Z"
   },
   {
    "duration": 54,
    "start_time": "2023-02-20T16:50:48.876Z"
   },
   {
    "duration": 13,
    "start_time": "2023-02-20T16:50:48.931Z"
   },
   {
    "duration": 18,
    "start_time": "2023-02-20T16:50:48.946Z"
   },
   {
    "duration": 8,
    "start_time": "2023-02-20T16:50:48.966Z"
   },
   {
    "duration": 12,
    "start_time": "2023-02-20T16:50:48.976Z"
   },
   {
    "duration": 18,
    "start_time": "2023-02-20T16:50:48.989Z"
   },
   {
    "duration": 18,
    "start_time": "2023-02-20T16:50:49.010Z"
   },
   {
    "duration": 15,
    "start_time": "2023-02-20T16:50:49.030Z"
   },
   {
    "duration": 27,
    "start_time": "2023-02-20T16:50:49.047Z"
   },
   {
    "duration": 24,
    "start_time": "2023-02-20T16:50:49.076Z"
   },
   {
    "duration": 9,
    "start_time": "2023-02-20T16:50:49.102Z"
   },
   {
    "duration": 30,
    "start_time": "2023-02-20T16:50:49.113Z"
   },
   {
    "duration": 15,
    "start_time": "2023-02-20T16:50:49.145Z"
   },
   {
    "duration": 26,
    "start_time": "2023-02-20T16:50:49.161Z"
   },
   {
    "duration": 15,
    "start_time": "2023-02-20T16:50:49.188Z"
   },
   {
    "duration": 29,
    "start_time": "2023-02-20T16:50:49.206Z"
   },
   {
    "duration": 14,
    "start_time": "2023-02-20T16:50:49.237Z"
   },
   {
    "duration": 27,
    "start_time": "2023-02-20T16:50:49.253Z"
   },
   {
    "duration": 42,
    "start_time": "2023-02-20T16:50:49.281Z"
   },
   {
    "duration": 6,
    "start_time": "2023-02-20T16:50:49.325Z"
   },
   {
    "duration": 31,
    "start_time": "2023-02-20T16:50:49.332Z"
   },
   {
    "duration": 15,
    "start_time": "2023-02-20T16:50:49.365Z"
   },
   {
    "duration": 64,
    "start_time": "2023-02-20T16:50:49.382Z"
   },
   {
    "duration": 7,
    "start_time": "2023-02-20T16:50:49.448Z"
   },
   {
    "duration": 36,
    "start_time": "2023-02-20T16:50:49.458Z"
   },
   {
    "duration": 160,
    "start_time": "2023-02-20T16:50:49.496Z"
   },
   {
    "duration": 136,
    "start_time": "2023-02-20T16:50:49.658Z"
   },
   {
    "duration": 196,
    "start_time": "2023-02-20T16:50:49.796Z"
   },
   {
    "duration": 62,
    "start_time": "2023-02-20T16:50:49.993Z"
   },
   {
    "duration": 393,
    "start_time": "2023-02-20T16:50:50.056Z"
   },
   {
    "duration": 203,
    "start_time": "2023-02-20T16:50:50.450Z"
   },
   {
    "duration": 201,
    "start_time": "2023-02-20T16:50:50.655Z"
   },
   {
    "duration": 141,
    "start_time": "2023-02-20T16:50:50.949Z"
   },
   {
    "duration": 71,
    "start_time": "2023-02-20T16:50:51.091Z"
   },
   {
    "duration": 137,
    "start_time": "2023-02-20T16:50:51.164Z"
   },
   {
    "duration": 189,
    "start_time": "2023-02-20T16:50:51.303Z"
   },
   {
    "duration": 376,
    "start_time": "2023-02-20T16:50:51.494Z"
   },
   {
    "duration": 156,
    "start_time": "2023-02-20T16:50:51.872Z"
   },
   {
    "duration": 1668,
    "start_time": "2023-02-20T16:50:52.030Z"
   },
   {
    "duration": 6652,
    "start_time": "2023-02-20T16:50:53.700Z"
   },
   {
    "duration": 2,
    "start_time": "2023-02-20T16:51:00.354Z"
   },
   {
    "duration": 363,
    "start_time": "2023-02-20T16:51:00.358Z"
   },
   {
    "duration": 111,
    "start_time": "2023-02-20T16:51:00.723Z"
   },
   {
    "duration": 118,
    "start_time": "2023-02-20T16:51:00.836Z"
   },
   {
    "duration": 457,
    "start_time": "2023-02-20T16:51:00.956Z"
   },
   {
    "duration": 184,
    "start_time": "2023-02-20T16:51:01.414Z"
   },
   {
    "duration": 1324,
    "start_time": "2023-02-20T16:55:17.624Z"
   },
   {
    "duration": 2,
    "start_time": "2023-02-20T16:55:18.950Z"
   },
   {
    "duration": 60,
    "start_time": "2023-02-20T16:55:18.954Z"
   },
   {
    "duration": 14,
    "start_time": "2023-02-20T16:55:19.016Z"
   },
   {
    "duration": 17,
    "start_time": "2023-02-20T16:55:19.031Z"
   },
   {
    "duration": 50,
    "start_time": "2023-02-20T16:55:19.049Z"
   },
   {
    "duration": 30,
    "start_time": "2023-02-20T16:55:19.101Z"
   },
   {
    "duration": 27,
    "start_time": "2023-02-20T16:55:19.132Z"
   },
   {
    "duration": 40,
    "start_time": "2023-02-20T16:55:19.161Z"
   },
   {
    "duration": 37,
    "start_time": "2023-02-20T16:55:19.204Z"
   },
   {
    "duration": 5,
    "start_time": "2023-02-20T16:55:19.243Z"
   },
   {
    "duration": 18,
    "start_time": "2023-02-20T16:55:19.250Z"
   },
   {
    "duration": 10,
    "start_time": "2023-02-20T16:55:19.269Z"
   },
   {
    "duration": 28,
    "start_time": "2023-02-20T16:55:19.281Z"
   },
   {
    "duration": 13,
    "start_time": "2023-02-20T16:55:19.310Z"
   },
   {
    "duration": 91,
    "start_time": "2023-02-20T16:55:19.325Z"
   },
   {
    "duration": 36,
    "start_time": "2023-02-20T16:55:19.418Z"
   },
   {
    "duration": 26,
    "start_time": "2023-02-20T16:55:19.455Z"
   },
   {
    "duration": 91,
    "start_time": "2023-02-20T16:55:19.483Z"
   },
   {
    "duration": 20,
    "start_time": "2023-02-20T16:55:19.576Z"
   },
   {
    "duration": 52,
    "start_time": "2023-02-20T16:55:19.598Z"
   },
   {
    "duration": 10,
    "start_time": "2023-02-20T16:55:19.652Z"
   },
   {
    "duration": 35,
    "start_time": "2023-02-20T16:55:19.664Z"
   },
   {
    "duration": 16,
    "start_time": "2023-02-20T16:55:19.701Z"
   },
   {
    "duration": 63,
    "start_time": "2023-02-20T16:55:19.718Z"
   },
   {
    "duration": 7,
    "start_time": "2023-02-20T16:55:19.783Z"
   },
   {
    "duration": 21,
    "start_time": "2023-02-20T16:55:19.792Z"
   },
   {
    "duration": 333,
    "start_time": "2023-02-20T16:55:19.816Z"
   },
   {
    "duration": 128,
    "start_time": "2023-02-20T16:55:20.152Z"
   },
   {
    "duration": 158,
    "start_time": "2023-02-20T16:55:20.281Z"
   },
   {
    "duration": 109,
    "start_time": "2023-02-20T16:55:20.440Z"
   },
   {
    "duration": 299,
    "start_time": "2023-02-20T16:55:20.551Z"
   },
   {
    "duration": 297,
    "start_time": "2023-02-20T16:55:20.852Z"
   },
   {
    "duration": 205,
    "start_time": "2023-02-20T16:55:21.151Z"
   },
   {
    "duration": 220,
    "start_time": "2023-02-20T16:55:21.358Z"
   },
   {
    "duration": 49,
    "start_time": "2023-02-20T16:55:21.579Z"
   },
   {
    "duration": 134,
    "start_time": "2023-02-20T16:55:21.630Z"
   },
   {
    "duration": 180,
    "start_time": "2023-02-20T16:55:21.765Z"
   },
   {
    "duration": 375,
    "start_time": "2023-02-20T16:55:21.947Z"
   },
   {
    "duration": 156,
    "start_time": "2023-02-20T16:55:22.324Z"
   },
   {
    "duration": 1653,
    "start_time": "2023-02-20T16:55:22.482Z"
   },
   {
    "duration": 6778,
    "start_time": "2023-02-20T16:55:24.136Z"
   },
   {
    "duration": 2,
    "start_time": "2023-02-20T16:55:30.915Z"
   },
   {
    "duration": 399,
    "start_time": "2023-02-20T16:55:30.919Z"
   },
   {
    "duration": 113,
    "start_time": "2023-02-20T16:55:31.319Z"
   },
   {
    "duration": 95,
    "start_time": "2023-02-20T16:55:31.433Z"
   },
   {
    "duration": 503,
    "start_time": "2023-02-20T16:55:31.530Z"
   },
   {
    "duration": 215,
    "start_time": "2023-02-20T16:55:32.034Z"
   },
   {
    "duration": 52,
    "start_time": "2023-02-20T16:58:50.267Z"
   },
   {
    "duration": 173,
    "start_time": "2023-02-20T17:00:57.311Z"
   },
   {
    "duration": 202,
    "start_time": "2023-02-20T17:08:05.983Z"
   },
   {
    "duration": 355,
    "start_time": "2023-02-20T17:09:07.254Z"
   },
   {
    "duration": 427,
    "start_time": "2023-02-20T17:10:55.779Z"
   },
   {
    "duration": 402,
    "start_time": "2023-02-20T17:12:25.038Z"
   },
   {
    "duration": 366,
    "start_time": "2023-02-20T17:17:31.577Z"
   },
   {
    "duration": 351,
    "start_time": "2023-02-20T17:17:57.476Z"
   },
   {
    "duration": 423,
    "start_time": "2023-02-20T17:19:48.366Z"
   },
   {
    "duration": 5495,
    "start_time": "2023-02-20T17:25:23.327Z"
   },
   {
    "duration": 308,
    "start_time": "2023-02-20T17:26:57.355Z"
   },
   {
    "duration": 112,
    "start_time": "2023-02-20T17:27:04.389Z"
   },
   {
    "duration": 100,
    "start_time": "2023-02-20T17:27:30.535Z"
   },
   {
    "duration": 267,
    "start_time": "2023-02-20T17:27:49.775Z"
   },
   {
    "duration": 2,
    "start_time": "2023-02-20T17:28:28.162Z"
   },
   {
    "duration": 258,
    "start_time": "2023-02-20T17:28:31.759Z"
   },
   {
    "duration": 119,
    "start_time": "2023-02-20T17:28:34.628Z"
   },
   {
    "duration": 65,
    "start_time": "2023-02-20T17:29:04.312Z"
   },
   {
    "duration": 298,
    "start_time": "2023-02-20T17:29:26.149Z"
   },
   {
    "duration": 300,
    "start_time": "2023-02-20T17:30:27.547Z"
   },
   {
    "duration": 108,
    "start_time": "2023-02-20T17:41:57.545Z"
   },
   {
    "duration": 4,
    "start_time": "2023-02-20T17:42:21.517Z"
   },
   {
    "duration": 1370,
    "start_time": "2023-02-20T18:54:43.179Z"
   },
   {
    "duration": 3,
    "start_time": "2023-02-20T18:54:44.551Z"
   },
   {
    "duration": 46,
    "start_time": "2023-02-20T18:54:44.555Z"
   },
   {
    "duration": 14,
    "start_time": "2023-02-20T18:54:44.603Z"
   },
   {
    "duration": 16,
    "start_time": "2023-02-20T18:54:44.618Z"
   },
   {
    "duration": 3,
    "start_time": "2023-02-20T18:54:44.635Z"
   },
   {
    "duration": 10,
    "start_time": "2023-02-20T18:54:44.640Z"
   },
   {
    "duration": 13,
    "start_time": "2023-02-20T18:54:44.652Z"
   },
   {
    "duration": 9,
    "start_time": "2023-02-20T18:54:44.667Z"
   },
   {
    "duration": 5,
    "start_time": "2023-02-20T18:54:44.679Z"
   },
   {
    "duration": 4,
    "start_time": "2023-02-20T18:54:44.685Z"
   },
   {
    "duration": 8,
    "start_time": "2023-02-20T18:54:44.690Z"
   },
   {
    "duration": 8,
    "start_time": "2023-02-20T18:54:44.699Z"
   },
   {
    "duration": 47,
    "start_time": "2023-02-20T18:54:44.708Z"
   },
   {
    "duration": 2,
    "start_time": "2023-02-20T18:54:44.756Z"
   },
   {
    "duration": 14,
    "start_time": "2023-02-20T18:54:44.759Z"
   },
   {
    "duration": 98,
    "start_time": "2023-02-20T18:54:44.775Z"
   },
   {
    "duration": 0,
    "start_time": "2023-02-20T18:54:44.876Z"
   },
   {
    "duration": 0,
    "start_time": "2023-02-20T18:54:44.877Z"
   },
   {
    "duration": 0,
    "start_time": "2023-02-20T18:54:44.879Z"
   },
   {
    "duration": 0,
    "start_time": "2023-02-20T18:54:44.880Z"
   },
   {
    "duration": 0,
    "start_time": "2023-02-20T18:54:44.883Z"
   },
   {
    "duration": 0,
    "start_time": "2023-02-20T18:54:44.884Z"
   },
   {
    "duration": 0,
    "start_time": "2023-02-20T18:54:44.885Z"
   },
   {
    "duration": 0,
    "start_time": "2023-02-20T18:54:44.886Z"
   },
   {
    "duration": 0,
    "start_time": "2023-02-20T18:54:44.887Z"
   },
   {
    "duration": 0,
    "start_time": "2023-02-20T18:54:44.888Z"
   },
   {
    "duration": 0,
    "start_time": "2023-02-20T18:54:44.889Z"
   },
   {
    "duration": 0,
    "start_time": "2023-02-20T18:54:44.891Z"
   },
   {
    "duration": 0,
    "start_time": "2023-02-20T18:54:44.892Z"
   },
   {
    "duration": 0,
    "start_time": "2023-02-20T18:54:44.894Z"
   },
   {
    "duration": 0,
    "start_time": "2023-02-20T18:54:44.895Z"
   },
   {
    "duration": 0,
    "start_time": "2023-02-20T18:54:44.896Z"
   },
   {
    "duration": 0,
    "start_time": "2023-02-20T18:54:44.897Z"
   },
   {
    "duration": 0,
    "start_time": "2023-02-20T18:54:44.898Z"
   },
   {
    "duration": 0,
    "start_time": "2023-02-20T18:54:44.899Z"
   },
   {
    "duration": 0,
    "start_time": "2023-02-20T18:54:44.900Z"
   },
   {
    "duration": 0,
    "start_time": "2023-02-20T18:54:44.901Z"
   },
   {
    "duration": 0,
    "start_time": "2023-02-20T18:54:44.902Z"
   },
   {
    "duration": 0,
    "start_time": "2023-02-20T18:54:44.904Z"
   },
   {
    "duration": 0,
    "start_time": "2023-02-20T18:54:44.905Z"
   },
   {
    "duration": 0,
    "start_time": "2023-02-20T18:54:44.906Z"
   },
   {
    "duration": 0,
    "start_time": "2023-02-20T18:54:44.907Z"
   },
   {
    "duration": 0,
    "start_time": "2023-02-20T18:54:44.908Z"
   },
   {
    "duration": 0,
    "start_time": "2023-02-20T18:54:44.909Z"
   },
   {
    "duration": 0,
    "start_time": "2023-02-20T18:54:44.910Z"
   },
   {
    "duration": 11,
    "start_time": "2023-02-20T18:56:42.118Z"
   },
   {
    "duration": 1277,
    "start_time": "2023-02-20T18:56:48.181Z"
   },
   {
    "duration": 4,
    "start_time": "2023-02-20T18:56:49.460Z"
   },
   {
    "duration": 86,
    "start_time": "2023-02-20T18:56:49.465Z"
   },
   {
    "duration": 13,
    "start_time": "2023-02-20T18:56:49.552Z"
   },
   {
    "duration": 70,
    "start_time": "2023-02-20T18:56:49.567Z"
   },
   {
    "duration": 62,
    "start_time": "2023-02-20T18:56:49.638Z"
   },
   {
    "duration": 118,
    "start_time": "2023-02-20T18:56:49.702Z"
   },
   {
    "duration": 69,
    "start_time": "2023-02-20T18:56:49.822Z"
   },
   {
    "duration": 58,
    "start_time": "2023-02-20T18:56:49.893Z"
   },
   {
    "duration": 19,
    "start_time": "2023-02-20T18:56:49.952Z"
   },
   {
    "duration": 8,
    "start_time": "2023-02-20T18:56:49.973Z"
   },
   {
    "duration": 55,
    "start_time": "2023-02-20T18:56:49.983Z"
   },
   {
    "duration": 18,
    "start_time": "2023-02-20T18:56:50.040Z"
   },
   {
    "duration": 28,
    "start_time": "2023-02-20T18:56:50.062Z"
   },
   {
    "duration": 15,
    "start_time": "2023-02-20T18:56:50.092Z"
   },
   {
    "duration": 38,
    "start_time": "2023-02-20T18:56:50.109Z"
   },
   {
    "duration": 18,
    "start_time": "2023-02-20T18:56:50.149Z"
   },
   {
    "duration": 28,
    "start_time": "2023-02-20T18:56:50.168Z"
   },
   {
    "duration": 17,
    "start_time": "2023-02-20T18:56:50.198Z"
   },
   {
    "duration": 32,
    "start_time": "2023-02-20T18:56:50.217Z"
   },
   {
    "duration": 26,
    "start_time": "2023-02-20T18:56:50.251Z"
   },
   {
    "duration": 6,
    "start_time": "2023-02-20T18:56:50.279Z"
   },
   {
    "duration": 13,
    "start_time": "2023-02-20T18:56:50.287Z"
   },
   {
    "duration": 33,
    "start_time": "2023-02-20T18:56:50.301Z"
   },
   {
    "duration": 90,
    "start_time": "2023-02-20T18:56:50.335Z"
   },
   {
    "duration": 9,
    "start_time": "2023-02-20T18:56:50.427Z"
   },
   {
    "duration": 11,
    "start_time": "2023-02-20T18:56:50.438Z"
   },
   {
    "duration": 378,
    "start_time": "2023-02-20T18:56:50.450Z"
   },
   {
    "duration": 0,
    "start_time": "2023-02-20T18:56:50.830Z"
   },
   {
    "duration": 0,
    "start_time": "2023-02-20T18:56:50.831Z"
   },
   {
    "duration": 0,
    "start_time": "2023-02-20T18:56:50.833Z"
   },
   {
    "duration": 0,
    "start_time": "2023-02-20T18:56:50.834Z"
   },
   {
    "duration": 0,
    "start_time": "2023-02-20T18:56:50.848Z"
   },
   {
    "duration": 0,
    "start_time": "2023-02-20T18:56:50.849Z"
   },
   {
    "duration": 0,
    "start_time": "2023-02-20T18:56:50.850Z"
   },
   {
    "duration": 0,
    "start_time": "2023-02-20T18:56:50.852Z"
   },
   {
    "duration": 0,
    "start_time": "2023-02-20T18:56:50.852Z"
   },
   {
    "duration": 0,
    "start_time": "2023-02-20T18:56:50.854Z"
   },
   {
    "duration": 0,
    "start_time": "2023-02-20T18:56:50.855Z"
   },
   {
    "duration": 0,
    "start_time": "2023-02-20T18:56:50.856Z"
   },
   {
    "duration": 0,
    "start_time": "2023-02-20T18:56:50.857Z"
   },
   {
    "duration": 0,
    "start_time": "2023-02-20T18:56:50.858Z"
   },
   {
    "duration": 0,
    "start_time": "2023-02-20T18:56:50.858Z"
   },
   {
    "duration": 0,
    "start_time": "2023-02-20T18:56:50.859Z"
   },
   {
    "duration": 0,
    "start_time": "2023-02-20T18:56:50.860Z"
   },
   {
    "duration": 0,
    "start_time": "2023-02-20T18:56:50.862Z"
   },
   {
    "duration": 1289,
    "start_time": "2023-02-20T18:58:50.096Z"
   },
   {
    "duration": 3,
    "start_time": "2023-02-20T18:58:51.387Z"
   },
   {
    "duration": 71,
    "start_time": "2023-02-20T18:58:51.391Z"
   },
   {
    "duration": 11,
    "start_time": "2023-02-20T18:58:51.464Z"
   },
   {
    "duration": 35,
    "start_time": "2023-02-20T18:58:51.477Z"
   },
   {
    "duration": 16,
    "start_time": "2023-02-20T18:58:51.513Z"
   },
   {
    "duration": 14,
    "start_time": "2023-02-20T18:58:51.531Z"
   },
   {
    "duration": 17,
    "start_time": "2023-02-20T18:58:51.546Z"
   },
   {
    "duration": 32,
    "start_time": "2023-02-20T18:58:51.565Z"
   },
   {
    "duration": 5,
    "start_time": "2023-02-20T18:58:51.599Z"
   },
   {
    "duration": 30,
    "start_time": "2023-02-20T18:58:51.606Z"
   },
   {
    "duration": 23,
    "start_time": "2023-02-20T18:58:51.637Z"
   },
   {
    "duration": 14,
    "start_time": "2023-02-20T18:58:51.662Z"
   },
   {
    "duration": 19,
    "start_time": "2023-02-20T18:58:51.679Z"
   },
   {
    "duration": 13,
    "start_time": "2023-02-20T18:58:51.699Z"
   },
   {
    "duration": 16,
    "start_time": "2023-02-20T18:58:51.714Z"
   },
   {
    "duration": 12,
    "start_time": "2023-02-20T18:58:51.732Z"
   },
   {
    "duration": 22,
    "start_time": "2023-02-20T18:58:51.745Z"
   },
   {
    "duration": 13,
    "start_time": "2023-02-20T18:58:51.769Z"
   },
   {
    "duration": 6,
    "start_time": "2023-02-20T18:58:51.784Z"
   },
   {
    "duration": 18,
    "start_time": "2023-02-20T18:58:51.792Z"
   },
   {
    "duration": 19,
    "start_time": "2023-02-20T18:58:51.811Z"
   },
   {
    "duration": 11,
    "start_time": "2023-02-20T18:58:51.832Z"
   },
   {
    "duration": 9,
    "start_time": "2023-02-20T18:58:51.845Z"
   },
   {
    "duration": 68,
    "start_time": "2023-02-20T18:58:51.855Z"
   },
   {
    "duration": 10,
    "start_time": "2023-02-20T18:58:51.926Z"
   },
   {
    "duration": 13,
    "start_time": "2023-02-20T18:58:51.938Z"
   },
   {
    "duration": 421,
    "start_time": "2023-02-20T18:58:51.953Z"
   },
   {
    "duration": 0,
    "start_time": "2023-02-20T18:58:52.376Z"
   },
   {
    "duration": 0,
    "start_time": "2023-02-20T18:58:52.377Z"
   },
   {
    "duration": 0,
    "start_time": "2023-02-20T18:58:52.378Z"
   },
   {
    "duration": 0,
    "start_time": "2023-02-20T18:58:52.379Z"
   },
   {
    "duration": 0,
    "start_time": "2023-02-20T18:58:52.380Z"
   },
   {
    "duration": 0,
    "start_time": "2023-02-20T18:58:52.382Z"
   },
   {
    "duration": 0,
    "start_time": "2023-02-20T18:58:52.383Z"
   },
   {
    "duration": 0,
    "start_time": "2023-02-20T18:58:52.384Z"
   },
   {
    "duration": 0,
    "start_time": "2023-02-20T18:58:52.384Z"
   },
   {
    "duration": 0,
    "start_time": "2023-02-20T18:58:52.385Z"
   },
   {
    "duration": 0,
    "start_time": "2023-02-20T18:58:52.387Z"
   },
   {
    "duration": 0,
    "start_time": "2023-02-20T18:58:52.388Z"
   },
   {
    "duration": 0,
    "start_time": "2023-02-20T18:58:52.389Z"
   },
   {
    "duration": 0,
    "start_time": "2023-02-20T18:58:52.390Z"
   },
   {
    "duration": 0,
    "start_time": "2023-02-20T18:58:52.391Z"
   },
   {
    "duration": 0,
    "start_time": "2023-02-20T18:58:52.392Z"
   },
   {
    "duration": 0,
    "start_time": "2023-02-20T18:58:52.394Z"
   },
   {
    "duration": 0,
    "start_time": "2023-02-20T18:58:52.395Z"
   },
   {
    "duration": 1457,
    "start_time": "2023-02-20T18:59:44.786Z"
   },
   {
    "duration": 3,
    "start_time": "2023-02-20T18:59:46.245Z"
   },
   {
    "duration": 54,
    "start_time": "2023-02-20T18:59:46.249Z"
   },
   {
    "duration": 13,
    "start_time": "2023-02-20T18:59:46.306Z"
   },
   {
    "duration": 23,
    "start_time": "2023-02-20T18:59:46.320Z"
   },
   {
    "duration": 23,
    "start_time": "2023-02-20T18:59:46.344Z"
   },
   {
    "duration": 27,
    "start_time": "2023-02-20T18:59:46.368Z"
   },
   {
    "duration": 16,
    "start_time": "2023-02-20T18:59:46.397Z"
   },
   {
    "duration": 11,
    "start_time": "2023-02-20T18:59:46.414Z"
   },
   {
    "duration": 5,
    "start_time": "2023-02-20T18:59:46.429Z"
   },
   {
    "duration": 4,
    "start_time": "2023-02-20T18:59:46.436Z"
   },
   {
    "duration": 8,
    "start_time": "2023-02-20T18:59:46.441Z"
   },
   {
    "duration": 6,
    "start_time": "2023-02-20T18:59:46.451Z"
   },
   {
    "duration": 12,
    "start_time": "2023-02-20T18:59:46.459Z"
   },
   {
    "duration": 3,
    "start_time": "2023-02-20T18:59:46.472Z"
   },
   {
    "duration": 11,
    "start_time": "2023-02-20T18:59:46.476Z"
   },
   {
    "duration": 11,
    "start_time": "2023-02-20T18:59:46.489Z"
   },
   {
    "duration": 9,
    "start_time": "2023-02-20T18:59:46.501Z"
   },
   {
    "duration": 8,
    "start_time": "2023-02-20T18:59:46.511Z"
   },
   {
    "duration": 8,
    "start_time": "2023-02-20T18:59:46.547Z"
   },
   {
    "duration": 17,
    "start_time": "2023-02-20T18:59:46.557Z"
   },
   {
    "duration": 6,
    "start_time": "2023-02-20T18:59:46.576Z"
   },
   {
    "duration": 7,
    "start_time": "2023-02-20T18:59:46.583Z"
   },
   {
    "duration": 8,
    "start_time": "2023-02-20T18:59:46.591Z"
   },
   {
    "duration": 82,
    "start_time": "2023-02-20T18:59:46.601Z"
   },
   {
    "duration": 9,
    "start_time": "2023-02-20T18:59:46.685Z"
   },
   {
    "duration": 9,
    "start_time": "2023-02-20T18:59:46.696Z"
   },
   {
    "duration": 499,
    "start_time": "2023-02-20T18:59:46.708Z"
   },
   {
    "duration": 0,
    "start_time": "2023-02-20T18:59:47.209Z"
   },
   {
    "duration": 0,
    "start_time": "2023-02-20T18:59:47.210Z"
   },
   {
    "duration": 0,
    "start_time": "2023-02-20T18:59:47.211Z"
   },
   {
    "duration": 0,
    "start_time": "2023-02-20T18:59:47.212Z"
   },
   {
    "duration": 0,
    "start_time": "2023-02-20T18:59:47.213Z"
   },
   {
    "duration": 0,
    "start_time": "2023-02-20T18:59:47.214Z"
   },
   {
    "duration": 0,
    "start_time": "2023-02-20T18:59:47.215Z"
   },
   {
    "duration": 0,
    "start_time": "2023-02-20T18:59:47.216Z"
   },
   {
    "duration": 0,
    "start_time": "2023-02-20T18:59:47.216Z"
   },
   {
    "duration": 0,
    "start_time": "2023-02-20T18:59:47.217Z"
   },
   {
    "duration": 0,
    "start_time": "2023-02-20T18:59:47.218Z"
   },
   {
    "duration": 0,
    "start_time": "2023-02-20T18:59:47.219Z"
   },
   {
    "duration": 0,
    "start_time": "2023-02-20T18:59:47.220Z"
   },
   {
    "duration": 0,
    "start_time": "2023-02-20T18:59:47.221Z"
   },
   {
    "duration": 0,
    "start_time": "2023-02-20T18:59:47.222Z"
   },
   {
    "duration": 0,
    "start_time": "2023-02-20T18:59:47.248Z"
   },
   {
    "duration": 0,
    "start_time": "2023-02-20T18:59:47.249Z"
   },
   {
    "duration": 0,
    "start_time": "2023-02-20T18:59:47.250Z"
   },
   {
    "duration": 1372,
    "start_time": "2023-02-20T19:00:29.754Z"
   },
   {
    "duration": 2,
    "start_time": "2023-02-20T19:00:31.130Z"
   },
   {
    "duration": 119,
    "start_time": "2023-02-20T19:00:31.134Z"
   },
   {
    "duration": 66,
    "start_time": "2023-02-20T19:00:31.255Z"
   },
   {
    "duration": 92,
    "start_time": "2023-02-20T19:00:31.323Z"
   },
   {
    "duration": 22,
    "start_time": "2023-02-20T19:00:31.416Z"
   },
   {
    "duration": 26,
    "start_time": "2023-02-20T19:00:31.439Z"
   },
   {
    "duration": 32,
    "start_time": "2023-02-20T19:00:31.467Z"
   },
   {
    "duration": 34,
    "start_time": "2023-02-20T19:00:31.501Z"
   },
   {
    "duration": 34,
    "start_time": "2023-02-20T19:00:31.538Z"
   },
   {
    "duration": 40,
    "start_time": "2023-02-20T19:00:31.574Z"
   },
   {
    "duration": 15,
    "start_time": "2023-02-20T19:00:31.616Z"
   },
   {
    "duration": 56,
    "start_time": "2023-02-20T19:00:31.632Z"
   },
   {
    "duration": 36,
    "start_time": "2023-02-20T19:00:31.690Z"
   },
   {
    "duration": 85,
    "start_time": "2023-02-20T19:00:31.727Z"
   },
   {
    "duration": 70,
    "start_time": "2023-02-20T19:00:31.814Z"
   },
   {
    "duration": 122,
    "start_time": "2023-02-20T19:00:31.886Z"
   },
   {
    "duration": 0,
    "start_time": "2023-02-20T19:00:32.011Z"
   },
   {
    "duration": 0,
    "start_time": "2023-02-20T19:00:32.012Z"
   },
   {
    "duration": 0,
    "start_time": "2023-02-20T19:00:32.013Z"
   },
   {
    "duration": 0,
    "start_time": "2023-02-20T19:00:32.015Z"
   },
   {
    "duration": 0,
    "start_time": "2023-02-20T19:00:32.016Z"
   },
   {
    "duration": 0,
    "start_time": "2023-02-20T19:00:32.017Z"
   },
   {
    "duration": 0,
    "start_time": "2023-02-20T19:00:32.019Z"
   },
   {
    "duration": 1,
    "start_time": "2023-02-20T19:00:32.020Z"
   },
   {
    "duration": 0,
    "start_time": "2023-02-20T19:00:32.023Z"
   },
   {
    "duration": 0,
    "start_time": "2023-02-20T19:00:32.024Z"
   },
   {
    "duration": 0,
    "start_time": "2023-02-20T19:00:32.025Z"
   },
   {
    "duration": 0,
    "start_time": "2023-02-20T19:00:32.026Z"
   },
   {
    "duration": 0,
    "start_time": "2023-02-20T19:00:32.027Z"
   },
   {
    "duration": 0,
    "start_time": "2023-02-20T19:00:32.029Z"
   },
   {
    "duration": 0,
    "start_time": "2023-02-20T19:00:32.030Z"
   },
   {
    "duration": 0,
    "start_time": "2023-02-20T19:00:32.031Z"
   },
   {
    "duration": 0,
    "start_time": "2023-02-20T19:00:32.033Z"
   },
   {
    "duration": 0,
    "start_time": "2023-02-20T19:00:32.034Z"
   },
   {
    "duration": 0,
    "start_time": "2023-02-20T19:00:32.036Z"
   },
   {
    "duration": 0,
    "start_time": "2023-02-20T19:00:32.037Z"
   },
   {
    "duration": 0,
    "start_time": "2023-02-20T19:00:32.039Z"
   },
   {
    "duration": 0,
    "start_time": "2023-02-20T19:00:32.041Z"
   },
   {
    "duration": 0,
    "start_time": "2023-02-20T19:00:32.043Z"
   },
   {
    "duration": 0,
    "start_time": "2023-02-20T19:00:32.044Z"
   },
   {
    "duration": 0,
    "start_time": "2023-02-20T19:00:32.045Z"
   },
   {
    "duration": 0,
    "start_time": "2023-02-20T19:00:32.050Z"
   },
   {
    "duration": 0,
    "start_time": "2023-02-20T19:00:32.051Z"
   },
   {
    "duration": 0,
    "start_time": "2023-02-20T19:00:32.052Z"
   },
   {
    "duration": 0,
    "start_time": "2023-02-20T19:00:32.053Z"
   },
   {
    "duration": 1380,
    "start_time": "2023-02-20T19:01:02.431Z"
   },
   {
    "duration": 3,
    "start_time": "2023-02-20T19:01:03.813Z"
   },
   {
    "duration": 45,
    "start_time": "2023-02-20T19:01:03.817Z"
   },
   {
    "duration": 11,
    "start_time": "2023-02-20T19:01:03.864Z"
   },
   {
    "duration": 18,
    "start_time": "2023-02-20T19:01:03.877Z"
   },
   {
    "duration": 3,
    "start_time": "2023-02-20T19:01:03.897Z"
   },
   {
    "duration": 5,
    "start_time": "2023-02-20T19:01:03.902Z"
   },
   {
    "duration": 10,
    "start_time": "2023-02-20T19:01:03.909Z"
   },
   {
    "duration": 29,
    "start_time": "2023-02-20T19:01:03.920Z"
   },
   {
    "duration": 6,
    "start_time": "2023-02-20T19:01:03.951Z"
   },
   {
    "duration": 4,
    "start_time": "2023-02-20T19:01:03.958Z"
   },
   {
    "duration": 10,
    "start_time": "2023-02-20T19:01:03.964Z"
   },
   {
    "duration": 10,
    "start_time": "2023-02-20T19:01:03.975Z"
   },
   {
    "duration": 14,
    "start_time": "2023-02-20T19:01:03.986Z"
   },
   {
    "duration": 3,
    "start_time": "2023-02-20T19:01:04.001Z"
   },
   {
    "duration": 14,
    "start_time": "2023-02-20T19:01:04.005Z"
   },
   {
    "duration": 33,
    "start_time": "2023-02-20T19:01:04.021Z"
   },
   {
    "duration": 9,
    "start_time": "2023-02-20T19:01:04.056Z"
   },
   {
    "duration": 8,
    "start_time": "2023-02-20T19:01:04.067Z"
   },
   {
    "duration": 6,
    "start_time": "2023-02-20T19:01:04.076Z"
   },
   {
    "duration": 17,
    "start_time": "2023-02-20T19:01:04.084Z"
   },
   {
    "duration": 6,
    "start_time": "2023-02-20T19:01:04.103Z"
   },
   {
    "duration": 13,
    "start_time": "2023-02-20T19:01:04.111Z"
   },
   {
    "duration": 12,
    "start_time": "2023-02-20T19:01:04.149Z"
   },
   {
    "duration": 52,
    "start_time": "2023-02-20T19:01:04.163Z"
   },
   {
    "duration": 9,
    "start_time": "2023-02-20T19:01:04.217Z"
   },
   {
    "duration": 6,
    "start_time": "2023-02-20T19:01:04.247Z"
   },
   {
    "duration": 397,
    "start_time": "2023-02-20T19:01:04.256Z"
   },
   {
    "duration": 123,
    "start_time": "2023-02-20T19:01:04.655Z"
   },
   {
    "duration": 149,
    "start_time": "2023-02-20T19:01:04.780Z"
   },
   {
    "duration": 267,
    "start_time": "2023-02-20T19:01:04.930Z"
   },
   {
    "duration": 122,
    "start_time": "2023-02-20T19:01:05.198Z"
   },
   {
    "duration": 544,
    "start_time": "2023-02-20T19:01:05.321Z"
   },
   {
    "duration": 461,
    "start_time": "2023-02-20T19:01:05.867Z"
   },
   {
    "duration": 405,
    "start_time": "2023-02-20T19:01:06.329Z"
   },
   {
    "duration": 366,
    "start_time": "2023-02-20T19:01:06.735Z"
   },
   {
    "duration": 374,
    "start_time": "2023-02-20T19:01:07.102Z"
   },
   {
    "duration": 212,
    "start_time": "2023-02-20T19:01:07.478Z"
   },
   {
    "duration": 1918,
    "start_time": "2023-02-20T19:01:07.692Z"
   },
   {
    "duration": 5325,
    "start_time": "2023-02-20T19:01:09.612Z"
   },
   {
    "duration": 2,
    "start_time": "2023-02-20T19:01:14.938Z"
   },
   {
    "duration": 268,
    "start_time": "2023-02-20T19:01:14.947Z"
   },
   {
    "duration": 133,
    "start_time": "2023-02-20T19:01:15.216Z"
   },
   {
    "duration": 102,
    "start_time": "2023-02-20T19:01:15.351Z"
   },
   {
    "duration": 303,
    "start_time": "2023-02-20T19:01:15.455Z"
   },
   {
    "duration": 118,
    "start_time": "2023-02-20T19:01:15.759Z"
   },
   {
    "duration": 104,
    "start_time": "2023-02-20T19:02:22.885Z"
   },
   {
    "duration": 5,
    "start_time": "2023-02-20T19:02:30.060Z"
   },
   {
    "duration": 11,
    "start_time": "2023-02-20T19:04:29.722Z"
   },
   {
    "duration": 56,
    "start_time": "2023-02-21T10:22:06.040Z"
   },
   {
    "duration": 1465,
    "start_time": "2023-02-21T10:22:34.548Z"
   },
   {
    "duration": 3,
    "start_time": "2023-02-21T10:22:36.015Z"
   },
   {
    "duration": 239,
    "start_time": "2023-02-21T10:22:36.019Z"
   },
   {
    "duration": 13,
    "start_time": "2023-02-21T10:22:36.260Z"
   },
   {
    "duration": 16,
    "start_time": "2023-02-21T10:22:36.275Z"
   },
   {
    "duration": 3,
    "start_time": "2023-02-21T10:22:36.292Z"
   },
   {
    "duration": 11,
    "start_time": "2023-02-21T10:22:36.296Z"
   },
   {
    "duration": 13,
    "start_time": "2023-02-21T10:22:36.308Z"
   },
   {
    "duration": 10,
    "start_time": "2023-02-21T10:22:36.323Z"
   },
   {
    "duration": 6,
    "start_time": "2023-02-21T10:22:36.335Z"
   },
   {
    "duration": 4,
    "start_time": "2023-02-21T10:22:36.343Z"
   },
   {
    "duration": 9,
    "start_time": "2023-02-21T10:22:36.349Z"
   },
   {
    "duration": 6,
    "start_time": "2023-02-21T10:22:36.360Z"
   },
   {
    "duration": 13,
    "start_time": "2023-02-21T10:22:36.368Z"
   },
   {
    "duration": 2,
    "start_time": "2023-02-21T10:22:36.382Z"
   },
   {
    "duration": 10,
    "start_time": "2023-02-21T10:22:36.404Z"
   },
   {
    "duration": 10,
    "start_time": "2023-02-21T10:22:36.416Z"
   },
   {
    "duration": 8,
    "start_time": "2023-02-21T10:22:36.428Z"
   },
   {
    "duration": 7,
    "start_time": "2023-02-21T10:22:36.437Z"
   },
   {
    "duration": 7,
    "start_time": "2023-02-21T10:22:36.446Z"
   },
   {
    "duration": 49,
    "start_time": "2023-02-21T10:22:36.455Z"
   },
   {
    "duration": 7,
    "start_time": "2023-02-21T10:22:36.505Z"
   },
   {
    "duration": 6,
    "start_time": "2023-02-21T10:22:36.514Z"
   },
   {
    "duration": 9,
    "start_time": "2023-02-21T10:22:36.522Z"
   },
   {
    "duration": 77,
    "start_time": "2023-02-21T10:22:36.533Z"
   },
   {
    "duration": 12,
    "start_time": "2023-02-21T10:22:36.612Z"
   },
   {
    "duration": 11,
    "start_time": "2023-02-21T10:22:36.626Z"
   },
   {
    "duration": 569,
    "start_time": "2023-02-21T10:22:36.640Z"
   },
   {
    "duration": 0,
    "start_time": "2023-02-21T10:22:37.211Z"
   },
   {
    "duration": 0,
    "start_time": "2023-02-21T10:22:37.212Z"
   },
   {
    "duration": 0,
    "start_time": "2023-02-21T10:22:37.213Z"
   },
   {
    "duration": 0,
    "start_time": "2023-02-21T10:22:37.214Z"
   },
   {
    "duration": 0,
    "start_time": "2023-02-21T10:22:37.216Z"
   },
   {
    "duration": 0,
    "start_time": "2023-02-21T10:22:37.216Z"
   },
   {
    "duration": 0,
    "start_time": "2023-02-21T10:22:37.218Z"
   },
   {
    "duration": 0,
    "start_time": "2023-02-21T10:22:37.219Z"
   },
   {
    "duration": 0,
    "start_time": "2023-02-21T10:22:37.220Z"
   },
   {
    "duration": 0,
    "start_time": "2023-02-21T10:22:37.221Z"
   },
   {
    "duration": 0,
    "start_time": "2023-02-21T10:22:37.222Z"
   },
   {
    "duration": 0,
    "start_time": "2023-02-21T10:22:37.223Z"
   },
   {
    "duration": 0,
    "start_time": "2023-02-21T10:22:37.224Z"
   },
   {
    "duration": 0,
    "start_time": "2023-02-21T10:22:37.225Z"
   },
   {
    "duration": 0,
    "start_time": "2023-02-21T10:22:37.227Z"
   },
   {
    "duration": 0,
    "start_time": "2023-02-21T10:22:37.228Z"
   },
   {
    "duration": 0,
    "start_time": "2023-02-21T10:22:37.229Z"
   },
   {
    "duration": 0,
    "start_time": "2023-02-21T10:22:37.230Z"
   },
   {
    "duration": 0,
    "start_time": "2023-02-21T10:22:37.231Z"
   },
   {
    "duration": 1398,
    "start_time": "2023-02-21T10:23:48.873Z"
   },
   {
    "duration": 3,
    "start_time": "2023-02-21T10:23:50.273Z"
   },
   {
    "duration": 47,
    "start_time": "2023-02-21T10:23:50.277Z"
   },
   {
    "duration": 13,
    "start_time": "2023-02-21T10:23:50.326Z"
   },
   {
    "duration": 16,
    "start_time": "2023-02-21T10:23:50.340Z"
   },
   {
    "duration": 3,
    "start_time": "2023-02-21T10:23:50.357Z"
   },
   {
    "duration": 17,
    "start_time": "2023-02-21T10:23:50.362Z"
   },
   {
    "duration": 11,
    "start_time": "2023-02-21T10:23:50.381Z"
   },
   {
    "duration": 17,
    "start_time": "2023-02-21T10:23:50.393Z"
   },
   {
    "duration": 10,
    "start_time": "2023-02-21T10:23:50.412Z"
   },
   {
    "duration": 10,
    "start_time": "2023-02-21T10:23:50.423Z"
   },
   {
    "duration": 8,
    "start_time": "2023-02-21T10:23:50.434Z"
   },
   {
    "duration": 9,
    "start_time": "2023-02-21T10:23:50.444Z"
   },
   {
    "duration": 15,
    "start_time": "2023-02-21T10:23:50.454Z"
   },
   {
    "duration": 4,
    "start_time": "2023-02-21T10:23:50.471Z"
   },
   {
    "duration": 12,
    "start_time": "2023-02-21T10:23:50.476Z"
   },
   {
    "duration": 24,
    "start_time": "2023-02-21T10:23:50.489Z"
   },
   {
    "duration": 20,
    "start_time": "2023-02-21T10:23:50.515Z"
   },
   {
    "duration": 11,
    "start_time": "2023-02-21T10:23:50.537Z"
   },
   {
    "duration": 14,
    "start_time": "2023-02-21T10:23:50.549Z"
   },
   {
    "duration": 17,
    "start_time": "2023-02-21T10:23:50.564Z"
   },
   {
    "duration": 6,
    "start_time": "2023-02-21T10:23:50.583Z"
   },
   {
    "duration": 16,
    "start_time": "2023-02-21T10:23:50.590Z"
   },
   {
    "duration": 17,
    "start_time": "2023-02-21T10:23:50.608Z"
   },
   {
    "duration": 57,
    "start_time": "2023-02-21T10:23:50.627Z"
   },
   {
    "duration": 9,
    "start_time": "2023-02-21T10:23:50.686Z"
   },
   {
    "duration": 23,
    "start_time": "2023-02-21T10:23:50.697Z"
   },
   {
    "duration": 381,
    "start_time": "2023-02-21T10:23:50.723Z"
   },
   {
    "duration": 122,
    "start_time": "2023-02-21T10:23:51.107Z"
   },
   {
    "duration": 159,
    "start_time": "2023-02-21T10:23:51.231Z"
   },
   {
    "duration": 277,
    "start_time": "2023-02-21T10:23:51.391Z"
   },
   {
    "duration": 141,
    "start_time": "2023-02-21T10:23:51.669Z"
   },
   {
    "duration": 505,
    "start_time": "2023-02-21T10:23:51.812Z"
   },
   {
    "duration": 489,
    "start_time": "2023-02-21T10:23:52.319Z"
   },
   {
    "duration": 394,
    "start_time": "2023-02-21T10:23:52.810Z"
   },
   {
    "duration": 385,
    "start_time": "2023-02-21T10:23:53.206Z"
   },
   {
    "duration": 405,
    "start_time": "2023-02-21T10:23:53.593Z"
   },
   {
    "duration": 217,
    "start_time": "2023-02-21T10:23:53.999Z"
   },
   {
    "duration": 129,
    "start_time": "2023-02-21T10:23:54.218Z"
   },
   {
    "duration": 0,
    "start_time": "2023-02-21T10:23:54.349Z"
   },
   {
    "duration": 0,
    "start_time": "2023-02-21T10:23:54.350Z"
   },
   {
    "duration": 0,
    "start_time": "2023-02-21T10:23:54.351Z"
   },
   {
    "duration": 0,
    "start_time": "2023-02-21T10:23:54.352Z"
   },
   {
    "duration": 0,
    "start_time": "2023-02-21T10:23:54.354Z"
   },
   {
    "duration": 0,
    "start_time": "2023-02-21T10:23:54.355Z"
   },
   {
    "duration": 0,
    "start_time": "2023-02-21T10:23:54.356Z"
   },
   {
    "duration": 0,
    "start_time": "2023-02-21T10:23:54.358Z"
   },
   {
    "duration": 1658,
    "start_time": "2023-02-21T10:24:23.627Z"
   },
   {
    "duration": 1741,
    "start_time": "2023-02-21T10:26:10.772Z"
   },
   {
    "duration": 1308,
    "start_time": "2023-02-21T10:29:20.962Z"
   },
   {
    "duration": 3,
    "start_time": "2023-02-21T10:29:22.272Z"
   },
   {
    "duration": 44,
    "start_time": "2023-02-21T10:29:22.276Z"
   },
   {
    "duration": 13,
    "start_time": "2023-02-21T10:29:22.322Z"
   },
   {
    "duration": 14,
    "start_time": "2023-02-21T10:29:22.336Z"
   },
   {
    "duration": 5,
    "start_time": "2023-02-21T10:29:22.352Z"
   },
   {
    "duration": 7,
    "start_time": "2023-02-21T10:29:22.359Z"
   },
   {
    "duration": 13,
    "start_time": "2023-02-21T10:29:22.367Z"
   },
   {
    "duration": 25,
    "start_time": "2023-02-21T10:29:22.382Z"
   },
   {
    "duration": 7,
    "start_time": "2023-02-21T10:29:22.410Z"
   },
   {
    "duration": 27,
    "start_time": "2023-02-21T10:29:22.419Z"
   },
   {
    "duration": 34,
    "start_time": "2023-02-21T10:29:22.448Z"
   },
   {
    "duration": 39,
    "start_time": "2023-02-21T10:29:22.484Z"
   },
   {
    "duration": 31,
    "start_time": "2023-02-21T10:29:22.524Z"
   },
   {
    "duration": 31,
    "start_time": "2023-02-21T10:29:22.556Z"
   },
   {
    "duration": 32,
    "start_time": "2023-02-21T10:29:22.589Z"
   },
   {
    "duration": 27,
    "start_time": "2023-02-21T10:29:22.622Z"
   },
   {
    "duration": 40,
    "start_time": "2023-02-21T10:29:22.650Z"
   },
   {
    "duration": 27,
    "start_time": "2023-02-21T10:29:22.692Z"
   },
   {
    "duration": 19,
    "start_time": "2023-02-21T10:29:22.721Z"
   },
   {
    "duration": 25,
    "start_time": "2023-02-21T10:29:22.742Z"
   },
   {
    "duration": 6,
    "start_time": "2023-02-21T10:29:22.768Z"
   },
   {
    "duration": 25,
    "start_time": "2023-02-21T10:29:22.775Z"
   },
   {
    "duration": 26,
    "start_time": "2023-02-21T10:29:22.802Z"
   },
   {
    "duration": 63,
    "start_time": "2023-02-21T10:29:22.830Z"
   },
   {
    "duration": 11,
    "start_time": "2023-02-21T10:29:22.895Z"
   },
   {
    "duration": 25,
    "start_time": "2023-02-21T10:29:22.908Z"
   },
   {
    "duration": 270,
    "start_time": "2023-02-21T10:29:22.937Z"
   },
   {
    "duration": 129,
    "start_time": "2023-02-21T10:29:23.211Z"
   },
   {
    "duration": 145,
    "start_time": "2023-02-21T10:29:23.342Z"
   },
   {
    "duration": 275,
    "start_time": "2023-02-21T10:29:23.489Z"
   },
   {
    "duration": 143,
    "start_time": "2023-02-21T10:29:23.766Z"
   },
   {
    "duration": 485,
    "start_time": "2023-02-21T10:29:23.911Z"
   },
   {
    "duration": 476,
    "start_time": "2023-02-21T10:29:24.397Z"
   },
   {
    "duration": 414,
    "start_time": "2023-02-21T10:29:24.875Z"
   },
   {
    "duration": 374,
    "start_time": "2023-02-21T10:29:25.303Z"
   },
   {
    "duration": 395,
    "start_time": "2023-02-21T10:29:25.678Z"
   },
   {
    "duration": 209,
    "start_time": "2023-02-21T10:29:26.074Z"
   },
   {
    "duration": 1751,
    "start_time": "2023-02-21T10:29:26.285Z"
   },
   {
    "duration": 5700,
    "start_time": "2023-02-21T10:29:28.038Z"
   },
   {
    "duration": 5,
    "start_time": "2023-02-21T10:29:33.740Z"
   },
   {
    "duration": 274,
    "start_time": "2023-02-21T10:29:33.746Z"
   },
   {
    "duration": 129,
    "start_time": "2023-02-21T10:29:34.022Z"
   },
   {
    "duration": 88,
    "start_time": "2023-02-21T10:29:34.154Z"
   },
   {
    "duration": 302,
    "start_time": "2023-02-21T10:29:34.244Z"
   },
   {
    "duration": 127,
    "start_time": "2023-02-21T10:29:34.548Z"
   },
   {
    "duration": 113,
    "start_time": "2023-02-21T10:31:50.587Z"
   },
   {
    "duration": 3,
    "start_time": "2023-02-21T10:32:07.965Z"
   },
   {
    "duration": 4,
    "start_time": "2023-02-21T10:32:18.511Z"
   },
   {
    "duration": 6,
    "start_time": "2023-02-21T10:32:35.115Z"
   },
   {
    "duration": 4,
    "start_time": "2023-02-21T10:33:07.157Z"
   },
   {
    "duration": 3,
    "start_time": "2023-02-21T10:33:18.578Z"
   },
   {
    "duration": 4,
    "start_time": "2023-02-21T10:33:25.963Z"
   },
   {
    "duration": 39,
    "start_time": "2023-02-21T10:36:29.420Z"
   },
   {
    "duration": 3,
    "start_time": "2023-02-21T10:36:37.939Z"
   },
   {
    "duration": 39,
    "start_time": "2023-02-21T10:36:47.993Z"
   },
   {
    "duration": 1725,
    "start_time": "2023-02-21T10:37:48.640Z"
   },
   {
    "duration": 71,
    "start_time": "2023-02-21T10:38:45.873Z"
   },
   {
    "duration": 31,
    "start_time": "2023-02-21T10:38:56.518Z"
   },
   {
    "duration": 29,
    "start_time": "2023-02-21T10:39:09.262Z"
   },
   {
    "duration": 4,
    "start_time": "2023-02-21T10:40:47.735Z"
   },
   {
    "duration": 9,
    "start_time": "2023-02-21T10:41:03.650Z"
   },
   {
    "duration": 3,
    "start_time": "2023-02-21T10:41:12.787Z"
   },
   {
    "duration": 5526,
    "start_time": "2023-02-21T10:41:18.623Z"
   },
   {
    "duration": 3,
    "start_time": "2023-02-21T10:41:58.366Z"
   },
   {
    "duration": 258,
    "start_time": "2023-02-21T10:42:02.600Z"
   },
   {
    "duration": 79,
    "start_time": "2023-02-21T10:42:50.401Z"
   },
   {
    "duration": 118,
    "start_time": "2023-02-21T10:43:44.617Z"
   },
   {
    "duration": 292,
    "start_time": "2023-02-21T10:43:52.027Z"
   },
   {
    "duration": 11,
    "start_time": "2023-02-21T11:41:47.424Z"
   },
   {
    "duration": 11,
    "start_time": "2023-02-21T11:43:42.764Z"
   },
   {
    "duration": 1335,
    "start_time": "2023-02-21T11:43:49.100Z"
   },
   {
    "duration": 3,
    "start_time": "2023-02-21T11:43:50.437Z"
   },
   {
    "duration": 44,
    "start_time": "2023-02-21T11:43:50.442Z"
   },
   {
    "duration": 14,
    "start_time": "2023-02-21T11:43:50.488Z"
   },
   {
    "duration": 17,
    "start_time": "2023-02-21T11:43:50.504Z"
   },
   {
    "duration": 4,
    "start_time": "2023-02-21T11:43:50.523Z"
   },
   {
    "duration": 5,
    "start_time": "2023-02-21T11:43:50.529Z"
   },
   {
    "duration": 9,
    "start_time": "2023-02-21T11:43:50.536Z"
   },
   {
    "duration": 9,
    "start_time": "2023-02-21T11:43:50.546Z"
   },
   {
    "duration": 5,
    "start_time": "2023-02-21T11:43:50.557Z"
   },
   {
    "duration": 7,
    "start_time": "2023-02-21T11:43:50.563Z"
   },
   {
    "duration": 34,
    "start_time": "2023-02-21T11:43:50.572Z"
   },
   {
    "duration": 15,
    "start_time": "2023-02-21T11:43:50.607Z"
   },
   {
    "duration": 14,
    "start_time": "2023-02-21T11:43:50.624Z"
   },
   {
    "duration": 3,
    "start_time": "2023-02-21T11:43:50.640Z"
   },
   {
    "duration": 13,
    "start_time": "2023-02-21T11:43:50.645Z"
   },
   {
    "duration": 9,
    "start_time": "2023-02-21T11:43:50.659Z"
   },
   {
    "duration": 11,
    "start_time": "2023-02-21T11:43:50.670Z"
   },
   {
    "duration": 24,
    "start_time": "2023-02-21T11:43:50.682Z"
   },
   {
    "duration": 7,
    "start_time": "2023-02-21T11:43:50.708Z"
   },
   {
    "duration": 18,
    "start_time": "2023-02-21T11:43:50.716Z"
   },
   {
    "duration": 7,
    "start_time": "2023-02-21T11:43:50.736Z"
   },
   {
    "duration": 20,
    "start_time": "2023-02-21T11:43:50.744Z"
   },
   {
    "duration": 9,
    "start_time": "2023-02-21T11:43:50.765Z"
   },
   {
    "duration": 70,
    "start_time": "2023-02-21T11:43:50.776Z"
   },
   {
    "duration": 10,
    "start_time": "2023-02-21T11:43:50.848Z"
   },
   {
    "duration": 14,
    "start_time": "2023-02-21T11:43:50.859Z"
   },
   {
    "duration": 538,
    "start_time": "2023-02-21T11:43:50.876Z"
   },
   {
    "duration": 0,
    "start_time": "2023-02-21T11:43:51.416Z"
   },
   {
    "duration": 0,
    "start_time": "2023-02-21T11:43:51.418Z"
   },
   {
    "duration": 0,
    "start_time": "2023-02-21T11:43:51.419Z"
   },
   {
    "duration": 0,
    "start_time": "2023-02-21T11:43:51.420Z"
   },
   {
    "duration": 0,
    "start_time": "2023-02-21T11:43:51.421Z"
   },
   {
    "duration": 0,
    "start_time": "2023-02-21T11:43:51.423Z"
   },
   {
    "duration": 0,
    "start_time": "2023-02-21T11:43:51.424Z"
   },
   {
    "duration": 0,
    "start_time": "2023-02-21T11:43:51.425Z"
   },
   {
    "duration": 1,
    "start_time": "2023-02-21T11:43:51.425Z"
   },
   {
    "duration": 0,
    "start_time": "2023-02-21T11:43:51.426Z"
   },
   {
    "duration": 0,
    "start_time": "2023-02-21T11:43:51.427Z"
   },
   {
    "duration": 0,
    "start_time": "2023-02-21T11:43:51.428Z"
   },
   {
    "duration": 0,
    "start_time": "2023-02-21T11:43:51.430Z"
   },
   {
    "duration": 0,
    "start_time": "2023-02-21T11:43:51.431Z"
   },
   {
    "duration": 0,
    "start_time": "2023-02-21T11:43:51.432Z"
   },
   {
    "duration": 0,
    "start_time": "2023-02-21T11:43:51.433Z"
   },
   {
    "duration": 0,
    "start_time": "2023-02-21T11:43:51.434Z"
   },
   {
    "duration": 0,
    "start_time": "2023-02-21T11:43:51.435Z"
   },
   {
    "duration": 0,
    "start_time": "2023-02-21T11:43:51.436Z"
   },
   {
    "duration": 1389,
    "start_time": "2023-02-21T11:44:45.416Z"
   },
   {
    "duration": 2,
    "start_time": "2023-02-21T11:44:46.808Z"
   },
   {
    "duration": 44,
    "start_time": "2023-02-21T11:44:46.812Z"
   },
   {
    "duration": 13,
    "start_time": "2023-02-21T11:44:46.859Z"
   },
   {
    "duration": 16,
    "start_time": "2023-02-21T11:44:46.873Z"
   },
   {
    "duration": 4,
    "start_time": "2023-02-21T11:44:46.890Z"
   },
   {
    "duration": 9,
    "start_time": "2023-02-21T11:44:46.895Z"
   },
   {
    "duration": 13,
    "start_time": "2023-02-21T11:44:46.905Z"
   },
   {
    "duration": 10,
    "start_time": "2023-02-21T11:44:46.919Z"
   },
   {
    "duration": 5,
    "start_time": "2023-02-21T11:44:46.932Z"
   },
   {
    "duration": 4,
    "start_time": "2023-02-21T11:44:46.938Z"
   },
   {
    "duration": 7,
    "start_time": "2023-02-21T11:44:46.944Z"
   },
   {
    "duration": 6,
    "start_time": "2023-02-21T11:44:46.953Z"
   },
   {
    "duration": 42,
    "start_time": "2023-02-21T11:44:46.961Z"
   },
   {
    "duration": 3,
    "start_time": "2023-02-21T11:44:47.005Z"
   },
   {
    "duration": 12,
    "start_time": "2023-02-21T11:44:47.010Z"
   },
   {
    "duration": 10,
    "start_time": "2023-02-21T11:44:47.024Z"
   },
   {
    "duration": 8,
    "start_time": "2023-02-21T11:44:47.036Z"
   },
   {
    "duration": 8,
    "start_time": "2023-02-21T11:44:47.045Z"
   },
   {
    "duration": 7,
    "start_time": "2023-02-21T11:44:47.054Z"
   },
   {
    "duration": 56,
    "start_time": "2023-02-21T11:44:47.063Z"
   },
   {
    "duration": 7,
    "start_time": "2023-02-21T11:44:47.121Z"
   },
   {
    "duration": 7,
    "start_time": "2023-02-21T11:44:47.130Z"
   },
   {
    "duration": 9,
    "start_time": "2023-02-21T11:44:47.139Z"
   },
   {
    "duration": 68,
    "start_time": "2023-02-21T11:44:47.150Z"
   },
   {
    "duration": 10,
    "start_time": "2023-02-21T11:44:47.220Z"
   },
   {
    "duration": 9,
    "start_time": "2023-02-21T11:44:47.232Z"
   },
   {
    "duration": 361,
    "start_time": "2023-02-21T11:44:47.244Z"
   },
   {
    "duration": 126,
    "start_time": "2023-02-21T11:44:47.607Z"
   },
   {
    "duration": 151,
    "start_time": "2023-02-21T11:44:47.734Z"
   },
   {
    "duration": 278,
    "start_time": "2023-02-21T11:44:47.887Z"
   },
   {
    "duration": 145,
    "start_time": "2023-02-21T11:44:48.167Z"
   },
   {
    "duration": 506,
    "start_time": "2023-02-21T11:44:48.313Z"
   },
   {
    "duration": 471,
    "start_time": "2023-02-21T11:44:48.821Z"
   },
   {
    "duration": 397,
    "start_time": "2023-02-21T11:44:49.293Z"
   },
   {
    "duration": 396,
    "start_time": "2023-02-21T11:44:49.691Z"
   },
   {
    "duration": 428,
    "start_time": "2023-02-21T11:44:50.091Z"
   },
   {
    "duration": 215,
    "start_time": "2023-02-21T11:44:50.521Z"
   },
   {
    "duration": 1762,
    "start_time": "2023-02-21T11:44:50.738Z"
   },
   {
    "duration": 3,
    "start_time": "2023-02-21T11:44:52.502Z"
   },
   {
    "duration": 5503,
    "start_time": "2023-02-21T11:44:52.507Z"
   },
   {
    "duration": 2,
    "start_time": "2023-02-21T11:44:58.012Z"
   },
   {
    "duration": 338,
    "start_time": "2023-02-21T11:44:58.016Z"
   },
   {
    "duration": 125,
    "start_time": "2023-02-21T11:44:58.356Z"
   },
   {
    "duration": 93,
    "start_time": "2023-02-21T11:44:58.482Z"
   },
   {
    "duration": 400,
    "start_time": "2023-02-21T11:44:58.577Z"
   },
   {
    "duration": 130,
    "start_time": "2023-02-21T11:44:58.978Z"
   },
   {
    "duration": 1351,
    "start_time": "2023-02-21T11:53:17.225Z"
   },
   {
    "duration": 3,
    "start_time": "2023-02-21T11:53:18.578Z"
   },
   {
    "duration": 47,
    "start_time": "2023-02-21T11:53:18.582Z"
   },
   {
    "duration": 13,
    "start_time": "2023-02-21T11:53:18.631Z"
   },
   {
    "duration": 17,
    "start_time": "2023-02-21T11:53:18.646Z"
   },
   {
    "duration": 4,
    "start_time": "2023-02-21T11:53:18.665Z"
   },
   {
    "duration": 5,
    "start_time": "2023-02-21T11:53:18.671Z"
   },
   {
    "duration": 26,
    "start_time": "2023-02-21T11:53:18.678Z"
   },
   {
    "duration": 9,
    "start_time": "2023-02-21T11:53:18.705Z"
   },
   {
    "duration": 5,
    "start_time": "2023-02-21T11:53:18.716Z"
   },
   {
    "duration": 4,
    "start_time": "2023-02-21T11:53:18.722Z"
   },
   {
    "duration": 9,
    "start_time": "2023-02-21T11:53:18.728Z"
   },
   {
    "duration": 9,
    "start_time": "2023-02-21T11:53:18.738Z"
   },
   {
    "duration": 13,
    "start_time": "2023-02-21T11:53:18.748Z"
   },
   {
    "duration": 2,
    "start_time": "2023-02-21T11:53:18.763Z"
   },
   {
    "duration": 42,
    "start_time": "2023-02-21T11:53:18.767Z"
   },
   {
    "duration": 10,
    "start_time": "2023-02-21T11:53:18.811Z"
   },
   {
    "duration": 13,
    "start_time": "2023-02-21T11:53:18.823Z"
   },
   {
    "duration": 10,
    "start_time": "2023-02-21T11:53:18.837Z"
   },
   {
    "duration": 7,
    "start_time": "2023-02-21T11:53:18.849Z"
   },
   {
    "duration": 19,
    "start_time": "2023-02-21T11:53:18.857Z"
   },
   {
    "duration": 32,
    "start_time": "2023-02-21T11:53:18.877Z"
   },
   {
    "duration": 7,
    "start_time": "2023-02-21T11:53:18.910Z"
   },
   {
    "duration": 10,
    "start_time": "2023-02-21T11:53:18.918Z"
   },
   {
    "duration": 53,
    "start_time": "2023-02-21T11:53:18.929Z"
   },
   {
    "duration": 28,
    "start_time": "2023-02-21T11:53:18.984Z"
   },
   {
    "duration": 10,
    "start_time": "2023-02-21T11:53:19.014Z"
   },
   {
    "duration": 477,
    "start_time": "2023-02-21T11:53:19.028Z"
   },
   {
    "duration": 473,
    "start_time": "2023-02-21T11:53:19.509Z"
   },
   {
    "duration": 1822,
    "start_time": "2023-02-21T11:53:19.983Z"
   },
   {
    "duration": 272,
    "start_time": "2023-02-21T11:53:21.807Z"
   },
   {
    "duration": 154,
    "start_time": "2023-02-21T11:53:22.080Z"
   },
   {
    "duration": 561,
    "start_time": "2023-02-21T11:53:22.236Z"
   },
   {
    "duration": 490,
    "start_time": "2023-02-21T11:53:22.804Z"
   },
   {
    "duration": 394,
    "start_time": "2023-02-21T11:53:23.296Z"
   },
   {
    "duration": 413,
    "start_time": "2023-02-21T11:53:23.692Z"
   },
   {
    "duration": 419,
    "start_time": "2023-02-21T11:53:24.107Z"
   },
   {
    "duration": 223,
    "start_time": "2023-02-21T11:53:24.527Z"
   },
   {
    "duration": 1819,
    "start_time": "2023-02-21T11:53:24.751Z"
   },
   {
    "duration": 3,
    "start_time": "2023-02-21T11:53:26.572Z"
   },
   {
    "duration": 5748,
    "start_time": "2023-02-21T11:53:26.577Z"
   },
   {
    "duration": 3,
    "start_time": "2023-02-21T11:53:32.326Z"
   },
   {
    "duration": 115,
    "start_time": "2023-02-21T11:53:32.331Z"
   },
   {
    "duration": 135,
    "start_time": "2023-02-21T11:53:32.448Z"
   },
   {
    "duration": 128,
    "start_time": "2023-02-21T11:53:32.585Z"
   },
   {
    "duration": 128,
    "start_time": "2023-02-21T11:53:32.715Z"
   },
   {
    "duration": 130,
    "start_time": "2023-02-21T11:53:32.844Z"
   },
   {
    "duration": 1352,
    "start_time": "2023-02-21T12:22:42.874Z"
   },
   {
    "duration": 4,
    "start_time": "2023-02-21T12:22:44.228Z"
   },
   {
    "duration": 45,
    "start_time": "2023-02-21T12:22:44.233Z"
   },
   {
    "duration": 14,
    "start_time": "2023-02-21T12:22:44.280Z"
   },
   {
    "duration": 14,
    "start_time": "2023-02-21T12:22:44.296Z"
   },
   {
    "duration": 3,
    "start_time": "2023-02-21T12:22:44.312Z"
   },
   {
    "duration": 8,
    "start_time": "2023-02-21T12:22:44.316Z"
   },
   {
    "duration": 9,
    "start_time": "2023-02-21T12:22:44.325Z"
   },
   {
    "duration": 8,
    "start_time": "2023-02-21T12:22:44.335Z"
   },
   {
    "duration": 5,
    "start_time": "2023-02-21T12:22:44.345Z"
   },
   {
    "duration": 6,
    "start_time": "2023-02-21T12:22:44.351Z"
   },
   {
    "duration": 9,
    "start_time": "2023-02-21T12:22:44.359Z"
   },
   {
    "duration": 36,
    "start_time": "2023-02-21T12:22:44.369Z"
   },
   {
    "duration": 12,
    "start_time": "2023-02-21T12:22:44.407Z"
   },
   {
    "duration": 2,
    "start_time": "2023-02-21T12:22:44.421Z"
   },
   {
    "duration": 14,
    "start_time": "2023-02-21T12:22:44.425Z"
   },
   {
    "duration": 10,
    "start_time": "2023-02-21T12:22:44.441Z"
   },
   {
    "duration": 10,
    "start_time": "2023-02-21T12:22:44.453Z"
   },
   {
    "duration": 16,
    "start_time": "2023-02-21T12:22:44.464Z"
   },
   {
    "duration": 28,
    "start_time": "2023-02-21T12:22:44.482Z"
   },
   {
    "duration": 31,
    "start_time": "2023-02-21T12:22:44.513Z"
   },
   {
    "duration": 12,
    "start_time": "2023-02-21T12:22:44.552Z"
   },
   {
    "duration": 17,
    "start_time": "2023-02-21T12:22:44.566Z"
   },
   {
    "duration": 18,
    "start_time": "2023-02-21T12:22:44.585Z"
   },
   {
    "duration": 65,
    "start_time": "2023-02-21T12:22:44.605Z"
   },
   {
    "duration": 12,
    "start_time": "2023-02-21T12:22:44.672Z"
   },
   {
    "duration": 18,
    "start_time": "2023-02-21T12:22:44.687Z"
   },
   {
    "duration": 794,
    "start_time": "2023-02-21T12:22:44.710Z"
   },
   {
    "duration": 463,
    "start_time": "2023-02-21T12:22:45.508Z"
   },
   {
    "duration": 1921,
    "start_time": "2023-02-21T12:22:45.973Z"
   },
   {
    "duration": 3,
    "start_time": "2023-02-21T12:22:47.896Z"
   },
   {
    "duration": 146,
    "start_time": "2023-02-21T12:22:47.901Z"
   },
   {
    "duration": 0,
    "start_time": "2023-02-21T12:22:48.048Z"
   },
   {
    "duration": 0,
    "start_time": "2023-02-21T12:22:48.049Z"
   },
   {
    "duration": 0,
    "start_time": "2023-02-21T12:22:48.051Z"
   },
   {
    "duration": 0,
    "start_time": "2023-02-21T12:22:48.052Z"
   },
   {
    "duration": 0,
    "start_time": "2023-02-21T12:22:48.054Z"
   },
   {
    "duration": 0,
    "start_time": "2023-02-21T12:22:48.055Z"
   },
   {
    "duration": 0,
    "start_time": "2023-02-21T12:22:48.056Z"
   },
   {
    "duration": 0,
    "start_time": "2023-02-21T12:22:48.056Z"
   },
   {
    "duration": 1,
    "start_time": "2023-02-21T12:22:48.057Z"
   },
   {
    "duration": 0,
    "start_time": "2023-02-21T12:22:48.059Z"
   },
   {
    "duration": 0,
    "start_time": "2023-02-21T12:22:48.060Z"
   },
   {
    "duration": 0,
    "start_time": "2023-02-21T12:22:48.061Z"
   },
   {
    "duration": 0,
    "start_time": "2023-02-21T12:22:48.061Z"
   },
   {
    "duration": 0,
    "start_time": "2023-02-21T12:22:48.062Z"
   },
   {
    "duration": 0,
    "start_time": "2023-02-21T12:22:48.063Z"
   },
   {
    "duration": 0,
    "start_time": "2023-02-21T12:22:48.064Z"
   },
   {
    "duration": 0,
    "start_time": "2023-02-21T12:22:48.065Z"
   },
   {
    "duration": 2453,
    "start_time": "2023-02-21T12:23:53.330Z"
   },
   {
    "duration": 75,
    "start_time": "2023-02-21T12:24:20.849Z"
   },
   {
    "duration": 2409,
    "start_time": "2023-02-21T12:24:34.447Z"
   },
   {
    "duration": 1432,
    "start_time": "2023-02-21T12:25:18.879Z"
   },
   {
    "duration": 3,
    "start_time": "2023-02-21T12:25:20.313Z"
   },
   {
    "duration": 46,
    "start_time": "2023-02-21T12:25:20.317Z"
   },
   {
    "duration": 14,
    "start_time": "2023-02-21T12:25:20.365Z"
   },
   {
    "duration": 16,
    "start_time": "2023-02-21T12:25:20.380Z"
   },
   {
    "duration": 3,
    "start_time": "2023-02-21T12:25:20.397Z"
   },
   {
    "duration": 7,
    "start_time": "2023-02-21T12:25:20.402Z"
   },
   {
    "duration": 7,
    "start_time": "2023-02-21T12:25:20.411Z"
   },
   {
    "duration": 9,
    "start_time": "2023-02-21T12:25:20.420Z"
   },
   {
    "duration": 5,
    "start_time": "2023-02-21T12:25:20.431Z"
   },
   {
    "duration": 5,
    "start_time": "2023-02-21T12:25:20.437Z"
   },
   {
    "duration": 9,
    "start_time": "2023-02-21T12:25:20.443Z"
   },
   {
    "duration": 8,
    "start_time": "2023-02-21T12:25:20.453Z"
   },
   {
    "duration": 43,
    "start_time": "2023-02-21T12:25:20.462Z"
   },
   {
    "duration": 3,
    "start_time": "2023-02-21T12:25:20.507Z"
   },
   {
    "duration": 18,
    "start_time": "2023-02-21T12:25:20.511Z"
   },
   {
    "duration": 12,
    "start_time": "2023-02-21T12:25:20.531Z"
   },
   {
    "duration": 14,
    "start_time": "2023-02-21T12:25:20.544Z"
   },
   {
    "duration": 9,
    "start_time": "2023-02-21T12:25:20.559Z"
   },
   {
    "duration": 8,
    "start_time": "2023-02-21T12:25:20.570Z"
   },
   {
    "duration": 41,
    "start_time": "2023-02-21T12:25:20.579Z"
   },
   {
    "duration": 7,
    "start_time": "2023-02-21T12:25:20.622Z"
   },
   {
    "duration": 10,
    "start_time": "2023-02-21T12:25:20.630Z"
   },
   {
    "duration": 12,
    "start_time": "2023-02-21T12:25:20.641Z"
   },
   {
    "duration": 78,
    "start_time": "2023-02-21T12:25:20.655Z"
   },
   {
    "duration": 10,
    "start_time": "2023-02-21T12:25:20.735Z"
   },
   {
    "duration": 11,
    "start_time": "2023-02-21T12:25:20.747Z"
   },
   {
    "duration": 343,
    "start_time": "2023-02-21T12:25:20.762Z"
   },
   {
    "duration": 508,
    "start_time": "2023-02-21T12:25:21.107Z"
   },
   {
    "duration": 1759,
    "start_time": "2023-02-21T12:25:21.617Z"
   },
   {
    "duration": 3,
    "start_time": "2023-02-21T12:25:23.378Z"
   },
   {
    "duration": 2415,
    "start_time": "2023-02-21T12:25:23.383Z"
   },
   {
    "duration": 260,
    "start_time": "2023-02-21T12:25:25.803Z"
   },
   {
    "duration": 145,
    "start_time": "2023-02-21T12:25:26.064Z"
   },
   {
    "duration": 493,
    "start_time": "2023-02-21T12:25:26.211Z"
   },
   {
    "duration": 533,
    "start_time": "2023-02-21T12:25:26.705Z"
   },
   {
    "duration": 444,
    "start_time": "2023-02-21T12:25:27.240Z"
   },
   {
    "duration": 407,
    "start_time": "2023-02-21T12:25:27.686Z"
   },
   {
    "duration": 404,
    "start_time": "2023-02-21T12:25:28.094Z"
   },
   {
    "duration": 214,
    "start_time": "2023-02-21T12:25:28.499Z"
   },
   {
    "duration": 1810,
    "start_time": "2023-02-21T12:25:28.714Z"
   },
   {
    "duration": 3,
    "start_time": "2023-02-21T12:25:30.525Z"
   },
   {
    "duration": 5789,
    "start_time": "2023-02-21T12:25:30.529Z"
   },
   {
    "duration": 2,
    "start_time": "2023-02-21T12:25:36.320Z"
   },
   {
    "duration": 169,
    "start_time": "2023-02-21T12:25:36.324Z"
   },
   {
    "duration": 167,
    "start_time": "2023-02-21T12:25:36.495Z"
   },
   {
    "duration": 117,
    "start_time": "2023-02-21T12:25:36.664Z"
   },
   {
    "duration": 205,
    "start_time": "2023-02-21T12:25:36.783Z"
   },
   {
    "duration": 130,
    "start_time": "2023-02-21T12:25:36.990Z"
   },
   {
    "duration": 1323,
    "start_time": "2023-02-21T12:28:22.503Z"
   },
   {
    "duration": 3,
    "start_time": "2023-02-21T12:28:23.828Z"
   },
   {
    "duration": 47,
    "start_time": "2023-02-21T12:28:23.832Z"
   },
   {
    "duration": 11,
    "start_time": "2023-02-21T12:28:23.881Z"
   },
   {
    "duration": 15,
    "start_time": "2023-02-21T12:28:23.894Z"
   },
   {
    "duration": 4,
    "start_time": "2023-02-21T12:28:23.910Z"
   },
   {
    "duration": 5,
    "start_time": "2023-02-21T12:28:23.915Z"
   },
   {
    "duration": 13,
    "start_time": "2023-02-21T12:28:23.921Z"
   },
   {
    "duration": 9,
    "start_time": "2023-02-21T12:28:23.935Z"
   },
   {
    "duration": 5,
    "start_time": "2023-02-21T12:28:23.946Z"
   },
   {
    "duration": 4,
    "start_time": "2023-02-21T12:28:23.952Z"
   },
   {
    "duration": 7,
    "start_time": "2023-02-21T12:28:23.957Z"
   },
   {
    "duration": 40,
    "start_time": "2023-02-21T12:28:23.966Z"
   },
   {
    "duration": 14,
    "start_time": "2023-02-21T12:28:24.008Z"
   },
   {
    "duration": 2,
    "start_time": "2023-02-21T12:28:24.023Z"
   },
   {
    "duration": 14,
    "start_time": "2023-02-21T12:28:24.027Z"
   },
   {
    "duration": 15,
    "start_time": "2023-02-21T12:28:24.044Z"
   },
   {
    "duration": 16,
    "start_time": "2023-02-21T12:28:24.060Z"
   },
   {
    "duration": 30,
    "start_time": "2023-02-21T12:28:24.078Z"
   },
   {
    "duration": 8,
    "start_time": "2023-02-21T12:28:24.110Z"
   },
   {
    "duration": 23,
    "start_time": "2023-02-21T12:28:24.119Z"
   },
   {
    "duration": 6,
    "start_time": "2023-02-21T12:28:24.143Z"
   },
   {
    "duration": 7,
    "start_time": "2023-02-21T12:28:24.151Z"
   },
   {
    "duration": 7,
    "start_time": "2023-02-21T12:28:24.160Z"
   },
   {
    "duration": 92,
    "start_time": "2023-02-21T12:28:24.169Z"
   },
   {
    "duration": 10,
    "start_time": "2023-02-21T12:28:24.263Z"
   },
   {
    "duration": 9,
    "start_time": "2023-02-21T12:28:24.275Z"
   },
   {
    "duration": 716,
    "start_time": "2023-02-21T12:28:24.287Z"
   },
   {
    "duration": 422,
    "start_time": "2023-02-21T12:28:25.004Z"
   },
   {
    "duration": 1829,
    "start_time": "2023-02-21T12:28:25.428Z"
   },
   {
    "duration": 4,
    "start_time": "2023-02-21T12:28:27.258Z"
   },
   {
    "duration": 2374,
    "start_time": "2023-02-21T12:28:27.263Z"
   },
   {
    "duration": 231,
    "start_time": "2023-02-21T12:28:29.638Z"
   },
   {
    "duration": 150,
    "start_time": "2023-02-21T12:28:29.871Z"
   },
   {
    "duration": 707,
    "start_time": "2023-02-21T12:28:30.023Z"
   },
   {
    "duration": 510,
    "start_time": "2023-02-21T12:28:30.733Z"
   },
   {
    "duration": 405,
    "start_time": "2023-02-21T12:28:31.245Z"
   },
   {
    "duration": 434,
    "start_time": "2023-02-21T12:28:31.652Z"
   },
   {
    "duration": 439,
    "start_time": "2023-02-21T12:28:32.088Z"
   },
   {
    "duration": 221,
    "start_time": "2023-02-21T12:28:32.528Z"
   },
   {
    "duration": 1814,
    "start_time": "2023-02-21T12:28:32.751Z"
   },
   {
    "duration": 3,
    "start_time": "2023-02-21T12:28:34.566Z"
   },
   {
    "duration": 5615,
    "start_time": "2023-02-21T12:28:34.571Z"
   },
   {
    "duration": 4,
    "start_time": "2023-02-21T12:28:40.188Z"
   },
   {
    "duration": 165,
    "start_time": "2023-02-21T12:28:40.203Z"
   },
   {
    "duration": 134,
    "start_time": "2023-02-21T12:28:40.370Z"
   },
   {
    "duration": 79,
    "start_time": "2023-02-21T12:28:40.505Z"
   },
   {
    "duration": 195,
    "start_time": "2023-02-21T12:28:40.586Z"
   },
   {
    "duration": 128,
    "start_time": "2023-02-21T12:28:40.783Z"
   },
   {
    "duration": 1402,
    "start_time": "2023-02-21T12:35:37.028Z"
   },
   {
    "duration": 3,
    "start_time": "2023-02-21T12:35:38.432Z"
   },
   {
    "duration": 58,
    "start_time": "2023-02-21T12:35:38.436Z"
   },
   {
    "duration": 14,
    "start_time": "2023-02-21T12:35:38.496Z"
   },
   {
    "duration": 20,
    "start_time": "2023-02-21T12:35:38.512Z"
   },
   {
    "duration": 4,
    "start_time": "2023-02-21T12:35:38.533Z"
   },
   {
    "duration": 5,
    "start_time": "2023-02-21T12:35:38.539Z"
   },
   {
    "duration": 9,
    "start_time": "2023-02-21T12:35:38.546Z"
   },
   {
    "duration": 9,
    "start_time": "2023-02-21T12:35:38.557Z"
   },
   {
    "duration": 6,
    "start_time": "2023-02-21T12:35:38.569Z"
   },
   {
    "duration": 27,
    "start_time": "2023-02-21T12:35:38.577Z"
   },
   {
    "duration": 9,
    "start_time": "2023-02-21T12:35:38.606Z"
   },
   {
    "duration": 10,
    "start_time": "2023-02-21T12:35:38.616Z"
   },
   {
    "duration": 14,
    "start_time": "2023-02-21T12:35:38.627Z"
   },
   {
    "duration": 4,
    "start_time": "2023-02-21T12:35:38.642Z"
   },
   {
    "duration": 15,
    "start_time": "2023-02-21T12:35:38.648Z"
   },
   {
    "duration": 12,
    "start_time": "2023-02-21T12:35:38.664Z"
   },
   {
    "duration": 26,
    "start_time": "2023-02-21T12:35:38.678Z"
   },
   {
    "duration": 16,
    "start_time": "2023-02-21T12:35:38.706Z"
   },
   {
    "duration": 8,
    "start_time": "2023-02-21T12:35:38.724Z"
   },
   {
    "duration": 19,
    "start_time": "2023-02-21T12:35:38.734Z"
   },
   {
    "duration": 7,
    "start_time": "2023-02-21T12:35:38.755Z"
   },
   {
    "duration": 9,
    "start_time": "2023-02-21T12:35:38.763Z"
   },
   {
    "duration": 35,
    "start_time": "2023-02-21T12:35:38.774Z"
   },
   {
    "duration": 51,
    "start_time": "2023-02-21T12:35:38.810Z"
   },
   {
    "duration": 12,
    "start_time": "2023-02-21T12:35:38.863Z"
   },
   {
    "duration": 29,
    "start_time": "2023-02-21T12:35:38.876Z"
   },
   {
    "duration": 396,
    "start_time": "2023-02-21T12:35:38.909Z"
   },
   {
    "duration": 482,
    "start_time": "2023-02-21T12:35:39.307Z"
   },
   {
    "duration": 1808,
    "start_time": "2023-02-21T12:35:39.791Z"
   },
   {
    "duration": 6,
    "start_time": "2023-02-21T12:35:41.601Z"
   },
   {
    "duration": 2397,
    "start_time": "2023-02-21T12:35:41.609Z"
   },
   {
    "duration": 3,
    "start_time": "2023-02-21T12:35:44.008Z"
   },
   {
    "duration": 158,
    "start_time": "2023-02-21T12:35:44.012Z"
   },
   {
    "duration": 84,
    "start_time": "2023-02-21T12:35:44.171Z"
   },
   {
    "duration": 227,
    "start_time": "2023-02-21T12:35:44.257Z"
   },
   {
    "duration": 149,
    "start_time": "2023-02-21T12:35:44.485Z"
   },
   {
    "duration": 479,
    "start_time": "2023-02-21T12:35:44.636Z"
   },
   {
    "duration": 482,
    "start_time": "2023-02-21T12:35:45.117Z"
   },
   {
    "duration": 394,
    "start_time": "2023-02-21T12:35:45.600Z"
   },
   {
    "duration": 388,
    "start_time": "2023-02-21T12:35:46.004Z"
   },
   {
    "duration": 436,
    "start_time": "2023-02-21T12:35:46.393Z"
   },
   {
    "duration": 262,
    "start_time": "2023-02-21T12:35:46.831Z"
   },
   {
    "duration": 1756,
    "start_time": "2023-02-21T12:35:47.103Z"
   },
   {
    "duration": 3,
    "start_time": "2023-02-21T12:35:48.860Z"
   },
   {
    "duration": 2048,
    "start_time": "2023-02-21T12:35:48.865Z"
   },
   {
    "duration": 3,
    "start_time": "2023-02-21T12:35:50.915Z"
   },
   {
    "duration": 159,
    "start_time": "2023-02-21T12:35:50.919Z"
   },
   {
    "duration": 148,
    "start_time": "2023-02-21T12:35:51.080Z"
   },
   {
    "duration": 87,
    "start_time": "2023-02-21T12:35:51.229Z"
   },
   {
    "duration": 191,
    "start_time": "2023-02-21T12:35:51.317Z"
   },
   {
    "duration": 124,
    "start_time": "2023-02-21T12:35:51.509Z"
   },
   {
    "duration": 1432,
    "start_time": "2023-02-21T12:36:47.491Z"
   },
   {
    "duration": 3,
    "start_time": "2023-02-21T12:36:48.925Z"
   },
   {
    "duration": 52,
    "start_time": "2023-02-21T12:36:48.929Z"
   },
   {
    "duration": 13,
    "start_time": "2023-02-21T12:36:48.984Z"
   },
   {
    "duration": 17,
    "start_time": "2023-02-21T12:36:48.999Z"
   },
   {
    "duration": 3,
    "start_time": "2023-02-21T12:36:49.017Z"
   },
   {
    "duration": 5,
    "start_time": "2023-02-21T12:36:49.022Z"
   },
   {
    "duration": 9,
    "start_time": "2023-02-21T12:36:49.028Z"
   },
   {
    "duration": 11,
    "start_time": "2023-02-21T12:36:49.038Z"
   },
   {
    "duration": 6,
    "start_time": "2023-02-21T12:36:49.052Z"
   },
   {
    "duration": 5,
    "start_time": "2023-02-21T12:36:49.060Z"
   },
   {
    "duration": 41,
    "start_time": "2023-02-21T12:36:49.067Z"
   },
   {
    "duration": 7,
    "start_time": "2023-02-21T12:36:49.109Z"
   },
   {
    "duration": 14,
    "start_time": "2023-02-21T12:36:49.118Z"
   },
   {
    "duration": 2,
    "start_time": "2023-02-21T12:36:49.134Z"
   },
   {
    "duration": 17,
    "start_time": "2023-02-21T12:36:49.138Z"
   },
   {
    "duration": 15,
    "start_time": "2023-02-21T12:36:49.157Z"
   },
   {
    "duration": 30,
    "start_time": "2023-02-21T12:36:49.173Z"
   },
   {
    "duration": 11,
    "start_time": "2023-02-21T12:36:49.205Z"
   },
   {
    "duration": 9,
    "start_time": "2023-02-21T12:36:49.217Z"
   },
   {
    "duration": 24,
    "start_time": "2023-02-21T12:36:49.228Z"
   },
   {
    "duration": 6,
    "start_time": "2023-02-21T12:36:49.254Z"
   },
   {
    "duration": 9,
    "start_time": "2023-02-21T12:36:49.261Z"
   },
   {
    "duration": 35,
    "start_time": "2023-02-21T12:36:49.272Z"
   },
   {
    "duration": 50,
    "start_time": "2023-02-21T12:36:49.308Z"
   },
   {
    "duration": 10,
    "start_time": "2023-02-21T12:36:49.360Z"
   },
   {
    "duration": 15,
    "start_time": "2023-02-21T12:36:49.372Z"
   },
   {
    "duration": 321,
    "start_time": "2023-02-21T12:36:49.390Z"
   },
   {
    "duration": 508,
    "start_time": "2023-02-21T12:36:49.713Z"
   },
   {
    "duration": 1862,
    "start_time": "2023-02-21T12:36:50.223Z"
   },
   {
    "duration": 4,
    "start_time": "2023-02-21T12:36:52.087Z"
   },
   {
    "duration": 2467,
    "start_time": "2023-02-21T12:36:52.093Z"
   },
   {
    "duration": 3,
    "start_time": "2023-02-21T12:36:54.562Z"
   },
   {
    "duration": 165,
    "start_time": "2023-02-21T12:36:54.567Z"
   },
   {
    "duration": 83,
    "start_time": "2023-02-21T12:36:54.734Z"
   },
   {
    "duration": 258,
    "start_time": "2023-02-21T12:36:54.819Z"
   },
   {
    "duration": 153,
    "start_time": "2023-02-21T12:36:55.079Z"
   },
   {
    "duration": 575,
    "start_time": "2023-02-21T12:36:55.234Z"
   },
   {
    "duration": 2175,
    "start_time": "2023-02-21T12:36:55.811Z"
   },
   {
    "duration": 402,
    "start_time": "2023-02-21T12:36:57.987Z"
   },
   {
    "duration": 393,
    "start_time": "2023-02-21T12:36:58.390Z"
   },
   {
    "duration": 436,
    "start_time": "2023-02-21T12:36:58.785Z"
   },
   {
    "duration": 231,
    "start_time": "2023-02-21T12:36:59.224Z"
   },
   {
    "duration": 1794,
    "start_time": "2023-02-21T12:36:59.457Z"
   },
   {
    "duration": 3,
    "start_time": "2023-02-21T12:37:01.253Z"
   },
   {
    "duration": 2072,
    "start_time": "2023-02-21T12:37:01.258Z"
   },
   {
    "duration": 3,
    "start_time": "2023-02-21T12:37:03.331Z"
   },
   {
    "duration": 164,
    "start_time": "2023-02-21T12:37:03.335Z"
   },
   {
    "duration": 121,
    "start_time": "2023-02-21T12:37:03.501Z"
   },
   {
    "duration": 93,
    "start_time": "2023-02-21T12:37:03.624Z"
   },
   {
    "duration": 192,
    "start_time": "2023-02-21T12:37:03.719Z"
   },
   {
    "duration": 126,
    "start_time": "2023-02-21T12:37:03.912Z"
   },
   {
    "duration": 178,
    "start_time": "2023-02-21T12:37:47.728Z"
   },
   {
    "duration": 192,
    "start_time": "2023-02-21T12:49:19.558Z"
   },
   {
    "duration": 192,
    "start_time": "2023-02-21T13:42:16.491Z"
   },
   {
    "duration": 466,
    "start_time": "2023-02-21T13:43:43.659Z"
   },
   {
    "duration": 4,
    "start_time": "2023-02-21T13:46:58.688Z"
   },
   {
    "duration": 399,
    "start_time": "2023-02-21T13:47:12.594Z"
   },
   {
    "duration": 1341,
    "start_time": "2023-02-21T14:22:55.395Z"
   },
   {
    "duration": 4,
    "start_time": "2023-02-21T14:22:56.738Z"
   },
   {
    "duration": 45,
    "start_time": "2023-02-21T14:22:56.743Z"
   },
   {
    "duration": 13,
    "start_time": "2023-02-21T14:22:56.791Z"
   },
   {
    "duration": 15,
    "start_time": "2023-02-21T14:22:56.806Z"
   },
   {
    "duration": 3,
    "start_time": "2023-02-21T14:22:56.822Z"
   },
   {
    "duration": 5,
    "start_time": "2023-02-21T14:22:56.827Z"
   },
   {
    "duration": 8,
    "start_time": "2023-02-21T14:22:56.834Z"
   },
   {
    "duration": 12,
    "start_time": "2023-02-21T14:22:56.843Z"
   },
   {
    "duration": 5,
    "start_time": "2023-02-21T14:22:56.857Z"
   },
   {
    "duration": 8,
    "start_time": "2023-02-21T14:22:56.864Z"
   },
   {
    "duration": 33,
    "start_time": "2023-02-21T14:22:56.873Z"
   },
   {
    "duration": 8,
    "start_time": "2023-02-21T14:22:56.907Z"
   },
   {
    "duration": 19,
    "start_time": "2023-02-21T14:22:56.916Z"
   },
   {
    "duration": 3,
    "start_time": "2023-02-21T14:22:56.936Z"
   },
   {
    "duration": 16,
    "start_time": "2023-02-21T14:22:56.940Z"
   },
   {
    "duration": 10,
    "start_time": "2023-02-21T14:22:56.958Z"
   },
   {
    "duration": 15,
    "start_time": "2023-02-21T14:22:56.969Z"
   },
   {
    "duration": 18,
    "start_time": "2023-02-21T14:22:56.986Z"
   },
   {
    "duration": 8,
    "start_time": "2023-02-21T14:22:57.005Z"
   },
   {
    "duration": 17,
    "start_time": "2023-02-21T14:22:57.014Z"
   },
   {
    "duration": 5,
    "start_time": "2023-02-21T14:22:57.033Z"
   },
   {
    "duration": 8,
    "start_time": "2023-02-21T14:22:57.039Z"
   },
   {
    "duration": 8,
    "start_time": "2023-02-21T14:22:57.048Z"
   },
   {
    "duration": 79,
    "start_time": "2023-02-21T14:22:57.058Z"
   },
   {
    "duration": 10,
    "start_time": "2023-02-21T14:22:57.139Z"
   },
   {
    "duration": 10,
    "start_time": "2023-02-21T14:22:57.150Z"
   },
   {
    "duration": 442,
    "start_time": "2023-02-21T14:22:57.163Z"
   },
   {
    "duration": 520,
    "start_time": "2023-02-21T14:22:57.608Z"
   },
   {
    "duration": 92,
    "start_time": "2023-02-21T14:22:58.130Z"
   },
   {
    "duration": 1705,
    "start_time": "2023-02-21T14:22:58.224Z"
   },
   {
    "duration": 4,
    "start_time": "2023-02-21T14:22:59.931Z"
   },
   {
    "duration": 2377,
    "start_time": "2023-02-21T14:22:59.936Z"
   },
   {
    "duration": 2,
    "start_time": "2023-02-21T14:23:02.315Z"
   },
   {
    "duration": 156,
    "start_time": "2023-02-21T14:23:02.318Z"
   },
   {
    "duration": 90,
    "start_time": "2023-02-21T14:23:02.475Z"
   },
   {
    "duration": 203,
    "start_time": "2023-02-21T14:23:02.567Z"
   },
   {
    "duration": 135,
    "start_time": "2023-02-21T14:23:02.803Z"
   },
   {
    "duration": 455,
    "start_time": "2023-02-21T14:23:02.940Z"
   },
   {
    "duration": 485,
    "start_time": "2023-02-21T14:23:03.396Z"
   },
   {
    "duration": 399,
    "start_time": "2023-02-21T14:23:03.883Z"
   },
   {
    "duration": 407,
    "start_time": "2023-02-21T14:23:04.284Z"
   },
   {
    "duration": 441,
    "start_time": "2023-02-21T14:23:04.693Z"
   },
   {
    "duration": 231,
    "start_time": "2023-02-21T14:23:05.137Z"
   },
   {
    "duration": 1736,
    "start_time": "2023-02-21T14:23:05.370Z"
   },
   {
    "duration": 3,
    "start_time": "2023-02-21T14:23:07.107Z"
   },
   {
    "duration": 1951,
    "start_time": "2023-02-21T14:23:07.111Z"
   },
   {
    "duration": 4,
    "start_time": "2023-02-21T14:23:09.063Z"
   },
   {
    "duration": 173,
    "start_time": "2023-02-21T14:23:09.069Z"
   },
   {
    "duration": 130,
    "start_time": "2023-02-21T14:23:09.244Z"
   },
   {
    "duration": 87,
    "start_time": "2023-02-21T14:23:09.375Z"
   },
   {
    "duration": 2261,
    "start_time": "2023-02-21T14:23:09.464Z"
   },
   {
    "duration": 105,
    "start_time": "2023-02-21T14:23:11.727Z"
   },
   {
    "duration": 0,
    "start_time": "2023-02-21T14:23:11.834Z"
   },
   {
    "duration": 0,
    "start_time": "2023-02-21T14:23:11.835Z"
   },
   {
    "duration": 0,
    "start_time": "2023-02-21T14:23:11.836Z"
   },
   {
    "duration": 0,
    "start_time": "2023-02-21T14:23:11.837Z"
   },
   {
    "duration": 0,
    "start_time": "2023-02-21T14:23:11.838Z"
   },
   {
    "duration": 0,
    "start_time": "2023-02-21T14:23:11.840Z"
   },
   {
    "duration": 3,
    "start_time": "2023-02-21T14:23:53.340Z"
   },
   {
    "duration": 2442,
    "start_time": "2023-02-21T14:23:59.500Z"
   },
   {
    "duration": 4,
    "start_time": "2023-02-21T14:24:16.904Z"
   },
   {
    "duration": 124,
    "start_time": "2023-02-21T14:24:53.453Z"
   },
   {
    "duration": 2800,
    "start_time": "2023-02-21T14:25:45.567Z"
   },
   {
    "duration": 3,
    "start_time": "2023-02-21T14:25:55.516Z"
   },
   {
    "duration": 149,
    "start_time": "2023-02-21T14:25:59.262Z"
   },
   {
    "duration": 78,
    "start_time": "2023-02-21T14:26:19.202Z"
   },
   {
    "duration": 135,
    "start_time": "2023-02-21T14:28:35.860Z"
   },
   {
    "duration": 142,
    "start_time": "2023-02-21T14:28:54.053Z"
   },
   {
    "duration": 164,
    "start_time": "2023-02-21T14:32:41.099Z"
   },
   {
    "duration": 186,
    "start_time": "2023-02-21T14:33:44.640Z"
   },
   {
    "duration": 199,
    "start_time": "2023-02-21T14:34:43.058Z"
   },
   {
    "duration": 1331,
    "start_time": "2023-02-21T14:36:29.716Z"
   },
   {
    "duration": 3,
    "start_time": "2023-02-21T14:36:31.049Z"
   },
   {
    "duration": 97,
    "start_time": "2023-02-21T14:36:31.053Z"
   },
   {
    "duration": 14,
    "start_time": "2023-02-21T14:36:31.152Z"
   },
   {
    "duration": 17,
    "start_time": "2023-02-21T14:36:31.168Z"
   },
   {
    "duration": 22,
    "start_time": "2023-02-21T14:36:31.187Z"
   },
   {
    "duration": 17,
    "start_time": "2023-02-21T14:36:31.210Z"
   },
   {
    "duration": 26,
    "start_time": "2023-02-21T14:36:31.229Z"
   },
   {
    "duration": 34,
    "start_time": "2023-02-21T14:36:31.257Z"
   },
   {
    "duration": 27,
    "start_time": "2023-02-21T14:36:31.293Z"
   },
   {
    "duration": 23,
    "start_time": "2023-02-21T14:36:31.322Z"
   },
   {
    "duration": 28,
    "start_time": "2023-02-21T14:36:31.347Z"
   },
   {
    "duration": 21,
    "start_time": "2023-02-21T14:36:31.377Z"
   },
   {
    "duration": 29,
    "start_time": "2023-02-21T14:36:31.399Z"
   },
   {
    "duration": 18,
    "start_time": "2023-02-21T14:36:31.430Z"
   },
   {
    "duration": 16,
    "start_time": "2023-02-21T14:36:31.449Z"
   },
   {
    "duration": 25,
    "start_time": "2023-02-21T14:36:31.467Z"
   },
   {
    "duration": 34,
    "start_time": "2023-02-21T14:36:31.493Z"
   },
   {
    "duration": 24,
    "start_time": "2023-02-21T14:36:31.529Z"
   },
   {
    "duration": 24,
    "start_time": "2023-02-21T14:36:31.555Z"
   },
   {
    "duration": 19,
    "start_time": "2023-02-21T14:36:31.581Z"
   },
   {
    "duration": 16,
    "start_time": "2023-02-21T14:36:31.601Z"
   },
   {
    "duration": 12,
    "start_time": "2023-02-21T14:36:31.619Z"
   },
   {
    "duration": 18,
    "start_time": "2023-02-21T14:36:31.632Z"
   },
   {
    "duration": 75,
    "start_time": "2023-02-21T14:36:31.651Z"
   },
   {
    "duration": 11,
    "start_time": "2023-02-21T14:36:31.728Z"
   },
   {
    "duration": 21,
    "start_time": "2023-02-21T14:36:31.740Z"
   },
   {
    "duration": 441,
    "start_time": "2023-02-21T14:36:31.764Z"
   },
   {
    "duration": 481,
    "start_time": "2023-02-21T14:36:32.209Z"
   },
   {
    "duration": 93,
    "start_time": "2023-02-21T14:36:32.692Z"
   },
   {
    "duration": 1709,
    "start_time": "2023-02-21T14:36:32.787Z"
   },
   {
    "duration": 7,
    "start_time": "2023-02-21T14:36:34.497Z"
   },
   {
    "duration": 2364,
    "start_time": "2023-02-21T14:36:34.506Z"
   },
   {
    "duration": 3,
    "start_time": "2023-02-21T14:36:36.872Z"
   },
   {
    "duration": 154,
    "start_time": "2023-02-21T14:36:36.876Z"
   },
   {
    "duration": 104,
    "start_time": "2023-02-21T14:36:37.032Z"
   },
   {
    "duration": 227,
    "start_time": "2023-02-21T14:36:37.138Z"
   },
   {
    "duration": 148,
    "start_time": "2023-02-21T14:36:37.367Z"
   },
   {
    "duration": 464,
    "start_time": "2023-02-21T14:36:37.518Z"
   },
   {
    "duration": 524,
    "start_time": "2023-02-21T14:36:37.984Z"
   },
   {
    "duration": 379,
    "start_time": "2023-02-21T14:36:38.510Z"
   },
   {
    "duration": 402,
    "start_time": "2023-02-21T14:36:38.891Z"
   },
   {
    "duration": 455,
    "start_time": "2023-02-21T14:36:39.294Z"
   },
   {
    "duration": 201,
    "start_time": "2023-02-21T14:36:39.751Z"
   },
   {
    "duration": 1736,
    "start_time": "2023-02-21T14:36:39.953Z"
   },
   {
    "duration": 3,
    "start_time": "2023-02-21T14:36:41.691Z"
   },
   {
    "duration": 1957,
    "start_time": "2023-02-21T14:36:41.696Z"
   },
   {
    "duration": 3,
    "start_time": "2023-02-21T14:36:43.655Z"
   },
   {
    "duration": 163,
    "start_time": "2023-02-21T14:36:43.659Z"
   },
   {
    "duration": 124,
    "start_time": "2023-02-21T14:36:43.823Z"
   },
   {
    "duration": 87,
    "start_time": "2023-02-21T14:36:43.948Z"
   },
   {
    "duration": 2223,
    "start_time": "2023-02-21T14:36:44.037Z"
   },
   {
    "duration": 3,
    "start_time": "2023-02-21T14:36:46.261Z"
   },
   {
    "duration": 2875,
    "start_time": "2023-02-21T14:36:46.266Z"
   },
   {
    "duration": 3,
    "start_time": "2023-02-21T14:36:49.143Z"
   },
   {
    "duration": 390,
    "start_time": "2023-02-21T14:36:49.148Z"
   },
   {
    "duration": 86,
    "start_time": "2023-02-21T14:36:49.540Z"
   },
   {
    "duration": 496,
    "start_time": "2023-02-21T14:36:49.627Z"
   },
   {
    "duration": 133,
    "start_time": "2023-02-21T14:36:50.125Z"
   },
   {
    "duration": 507,
    "start_time": "2023-02-21T14:38:26.427Z"
   },
   {
    "duration": 460,
    "start_time": "2023-02-21T14:39:17.317Z"
   },
   {
    "duration": 113,
    "start_time": "2023-02-21T14:41:14.337Z"
   },
   {
    "duration": 9,
    "start_time": "2023-02-21T14:42:00.968Z"
   },
   {
    "duration": 9,
    "start_time": "2023-02-21T14:42:39.923Z"
   },
   {
    "duration": 8,
    "start_time": "2023-02-21T14:44:02.471Z"
   },
   {
    "duration": 2,
    "start_time": "2023-02-21T14:44:20.679Z"
   },
   {
    "duration": 5,
    "start_time": "2023-02-21T14:44:45.181Z"
   },
   {
    "duration": 1308,
    "start_time": "2023-02-21T14:45:49.223Z"
   },
   {
    "duration": 2,
    "start_time": "2023-02-21T14:45:50.533Z"
   },
   {
    "duration": 47,
    "start_time": "2023-02-21T14:45:50.537Z"
   },
   {
    "duration": 12,
    "start_time": "2023-02-21T14:45:50.586Z"
   },
   {
    "duration": 15,
    "start_time": "2023-02-21T14:45:50.600Z"
   },
   {
    "duration": 3,
    "start_time": "2023-02-21T14:45:50.617Z"
   },
   {
    "duration": 5,
    "start_time": "2023-02-21T14:45:50.622Z"
   },
   {
    "duration": 9,
    "start_time": "2023-02-21T14:45:50.628Z"
   },
   {
    "duration": 11,
    "start_time": "2023-02-21T14:45:50.638Z"
   },
   {
    "duration": 4,
    "start_time": "2023-02-21T14:45:50.651Z"
   },
   {
    "duration": 5,
    "start_time": "2023-02-21T14:45:50.657Z"
   },
   {
    "duration": 11,
    "start_time": "2023-02-21T14:45:50.663Z"
   },
   {
    "duration": 7,
    "start_time": "2023-02-21T14:45:50.675Z"
   },
   {
    "duration": 13,
    "start_time": "2023-02-21T14:45:50.705Z"
   },
   {
    "duration": 2,
    "start_time": "2023-02-21T14:45:50.720Z"
   },
   {
    "duration": 20,
    "start_time": "2023-02-21T14:45:50.724Z"
   },
   {
    "duration": 9,
    "start_time": "2023-02-21T14:45:50.746Z"
   },
   {
    "duration": 14,
    "start_time": "2023-02-21T14:45:50.756Z"
   },
   {
    "duration": 7,
    "start_time": "2023-02-21T14:45:50.771Z"
   },
   {
    "duration": 24,
    "start_time": "2023-02-21T14:45:50.779Z"
   },
   {
    "duration": 16,
    "start_time": "2023-02-21T14:45:50.805Z"
   },
   {
    "duration": 5,
    "start_time": "2023-02-21T14:45:50.823Z"
   },
   {
    "duration": 9,
    "start_time": "2023-02-21T14:45:50.829Z"
   },
   {
    "duration": 6,
    "start_time": "2023-02-21T14:45:50.839Z"
   },
   {
    "duration": 67,
    "start_time": "2023-02-21T14:45:50.846Z"
   },
   {
    "duration": 11,
    "start_time": "2023-02-21T14:45:50.915Z"
   },
   {
    "duration": 15,
    "start_time": "2023-02-21T14:45:50.927Z"
   },
   {
    "duration": 363,
    "start_time": "2023-02-21T14:45:50.943Z"
   },
   {
    "duration": 495,
    "start_time": "2023-02-21T14:45:51.308Z"
   },
   {
    "duration": 99,
    "start_time": "2023-02-21T14:45:51.805Z"
   },
   {
    "duration": 1776,
    "start_time": "2023-02-21T14:45:51.906Z"
   },
   {
    "duration": 3,
    "start_time": "2023-02-21T14:45:53.683Z"
   },
   {
    "duration": 2447,
    "start_time": "2023-02-21T14:45:53.687Z"
   },
   {
    "duration": 3,
    "start_time": "2023-02-21T14:45:56.136Z"
   },
   {
    "duration": 156,
    "start_time": "2023-02-21T14:45:56.140Z"
   },
   {
    "duration": 92,
    "start_time": "2023-02-21T14:45:56.297Z"
   },
   {
    "duration": 279,
    "start_time": "2023-02-21T14:45:56.391Z"
   },
   {
    "duration": 185,
    "start_time": "2023-02-21T14:45:56.672Z"
   },
   {
    "duration": 560,
    "start_time": "2023-02-21T14:45:56.860Z"
   },
   {
    "duration": 770,
    "start_time": "2023-02-21T14:45:57.422Z"
   },
   {
    "duration": 400,
    "start_time": "2023-02-21T14:45:58.196Z"
   },
   {
    "duration": 388,
    "start_time": "2023-02-21T14:45:58.598Z"
   },
   {
    "duration": 463,
    "start_time": "2023-02-21T14:45:58.987Z"
   },
   {
    "duration": 214,
    "start_time": "2023-02-21T14:45:59.451Z"
   },
   {
    "duration": 1778,
    "start_time": "2023-02-21T14:45:59.666Z"
   },
   {
    "duration": 3,
    "start_time": "2023-02-21T14:46:01.446Z"
   },
   {
    "duration": 2013,
    "start_time": "2023-02-21T14:46:01.450Z"
   },
   {
    "duration": 3,
    "start_time": "2023-02-21T14:46:03.465Z"
   },
   {
    "duration": 154,
    "start_time": "2023-02-21T14:46:03.469Z"
   },
   {
    "duration": 125,
    "start_time": "2023-02-21T14:46:03.625Z"
   },
   {
    "duration": 83,
    "start_time": "2023-02-21T14:46:03.752Z"
   },
   {
    "duration": 2239,
    "start_time": "2023-02-21T14:46:03.837Z"
   },
   {
    "duration": 4,
    "start_time": "2023-02-21T14:46:06.078Z"
   },
   {
    "duration": 2824,
    "start_time": "2023-02-21T14:46:06.083Z"
   },
   {
    "duration": 3,
    "start_time": "2023-02-21T14:46:08.909Z"
   },
   {
    "duration": 390,
    "start_time": "2023-02-21T14:46:08.914Z"
   },
   {
    "duration": 76,
    "start_time": "2023-02-21T14:46:09.306Z"
   },
   {
    "duration": 4,
    "start_time": "2023-02-21T14:46:09.384Z"
   },
   {
    "duration": 505,
    "start_time": "2023-02-21T14:46:09.389Z"
   },
   {
    "duration": 118,
    "start_time": "2023-02-21T14:46:09.896Z"
   },
   {
    "duration": 2363,
    "start_time": "2023-02-21T14:53:18.401Z"
   },
   {
    "duration": 4,
    "start_time": "2023-02-21T14:53:20.766Z"
   },
   {
    "duration": 47,
    "start_time": "2023-02-21T14:53:20.771Z"
   },
   {
    "duration": 12,
    "start_time": "2023-02-21T14:53:20.820Z"
   },
   {
    "duration": 14,
    "start_time": "2023-02-21T14:53:20.833Z"
   },
   {
    "duration": 3,
    "start_time": "2023-02-21T14:53:20.849Z"
   },
   {
    "duration": 8,
    "start_time": "2023-02-21T14:53:20.853Z"
   },
   {
    "duration": 9,
    "start_time": "2023-02-21T14:53:20.862Z"
   },
   {
    "duration": 39,
    "start_time": "2023-02-21T14:53:20.873Z"
   },
   {
    "duration": 6,
    "start_time": "2023-02-21T14:53:20.914Z"
   },
   {
    "duration": 8,
    "start_time": "2023-02-21T14:53:20.921Z"
   },
   {
    "duration": 11,
    "start_time": "2023-02-21T14:53:20.930Z"
   },
   {
    "duration": 7,
    "start_time": "2023-02-21T14:53:20.943Z"
   },
   {
    "duration": 12,
    "start_time": "2023-02-21T14:53:20.951Z"
   },
   {
    "duration": 3,
    "start_time": "2023-02-21T14:53:20.964Z"
   },
   {
    "duration": 43,
    "start_time": "2023-02-21T14:53:20.969Z"
   },
   {
    "duration": 17,
    "start_time": "2023-02-21T14:53:21.015Z"
   },
   {
    "duration": 15,
    "start_time": "2023-02-21T14:53:21.034Z"
   },
   {
    "duration": 14,
    "start_time": "2023-02-21T14:53:21.051Z"
   },
   {
    "duration": 10,
    "start_time": "2023-02-21T14:53:21.067Z"
   },
   {
    "duration": 30,
    "start_time": "2023-02-21T14:53:21.078Z"
   },
   {
    "duration": 8,
    "start_time": "2023-02-21T14:53:21.110Z"
   },
   {
    "duration": 18,
    "start_time": "2023-02-21T14:53:21.119Z"
   },
   {
    "duration": 8,
    "start_time": "2023-02-21T14:53:21.139Z"
   },
   {
    "duration": 75,
    "start_time": "2023-02-21T14:53:21.149Z"
   },
   {
    "duration": 11,
    "start_time": "2023-02-21T14:53:21.226Z"
   },
   {
    "duration": 11,
    "start_time": "2023-02-21T14:53:21.239Z"
   },
   {
    "duration": 352,
    "start_time": "2023-02-21T14:53:21.253Z"
   },
   {
    "duration": 471,
    "start_time": "2023-02-21T14:53:21.608Z"
   },
   {
    "duration": 96,
    "start_time": "2023-02-21T14:53:22.080Z"
   },
   {
    "duration": 1740,
    "start_time": "2023-02-21T14:53:22.178Z"
   },
   {
    "duration": 2,
    "start_time": "2023-02-21T14:53:23.920Z"
   },
   {
    "duration": 2373,
    "start_time": "2023-02-21T14:53:23.924Z"
   },
   {
    "duration": 7,
    "start_time": "2023-02-21T14:53:26.298Z"
   },
   {
    "duration": 156,
    "start_time": "2023-02-21T14:53:26.306Z"
   },
   {
    "duration": 93,
    "start_time": "2023-02-21T14:53:26.464Z"
   },
   {
    "duration": 248,
    "start_time": "2023-02-21T14:53:26.559Z"
   },
   {
    "duration": 188,
    "start_time": "2023-02-21T14:53:26.809Z"
   },
   {
    "duration": 388,
    "start_time": "2023-02-21T14:53:27.003Z"
   },
   {
    "duration": 494,
    "start_time": "2023-02-21T14:53:27.392Z"
   },
   {
    "duration": 401,
    "start_time": "2023-02-21T14:53:27.887Z"
   },
   {
    "duration": 402,
    "start_time": "2023-02-21T14:53:28.289Z"
   },
   {
    "duration": 468,
    "start_time": "2023-02-21T14:53:28.693Z"
   },
   {
    "duration": 224,
    "start_time": "2023-02-21T14:53:29.163Z"
   },
   {
    "duration": 1779,
    "start_time": "2023-02-21T14:53:29.389Z"
   },
   {
    "duration": 3,
    "start_time": "2023-02-21T14:53:31.170Z"
   },
   {
    "duration": 2090,
    "start_time": "2023-02-21T14:53:31.175Z"
   },
   {
    "duration": 2,
    "start_time": "2023-02-21T14:53:33.267Z"
   },
   {
    "duration": 161,
    "start_time": "2023-02-21T14:53:33.271Z"
   },
   {
    "duration": 213,
    "start_time": "2023-02-21T14:53:33.434Z"
   },
   {
    "duration": 125,
    "start_time": "2023-02-21T14:53:33.649Z"
   },
   {
    "duration": 2288,
    "start_time": "2023-02-21T14:53:33.776Z"
   },
   {
    "duration": 3,
    "start_time": "2023-02-21T14:53:36.066Z"
   },
   {
    "duration": 2869,
    "start_time": "2023-02-21T14:53:36.071Z"
   },
   {
    "duration": 3,
    "start_time": "2023-02-21T14:53:38.942Z"
   },
   {
    "duration": 410,
    "start_time": "2023-02-21T14:53:38.946Z"
   },
   {
    "duration": 90,
    "start_time": "2023-02-21T14:53:39.358Z"
   },
   {
    "duration": 4,
    "start_time": "2023-02-21T14:53:39.449Z"
   },
   {
    "duration": 15,
    "start_time": "2023-02-21T14:53:39.455Z"
   },
   {
    "duration": 481,
    "start_time": "2023-02-21T14:53:39.471Z"
   },
   {
    "duration": 129,
    "start_time": "2023-02-21T14:53:39.953Z"
   },
   {
    "duration": 121,
    "start_time": "2023-02-21T14:54:20.008Z"
   },
   {
    "duration": 125,
    "start_time": "2023-02-21T14:55:45.645Z"
   },
   {
    "duration": 1310,
    "start_time": "2023-02-21T14:59:54.559Z"
   },
   {
    "duration": 3,
    "start_time": "2023-02-21T14:59:55.871Z"
   },
   {
    "duration": 45,
    "start_time": "2023-02-21T14:59:55.875Z"
   },
   {
    "duration": 12,
    "start_time": "2023-02-21T14:59:55.922Z"
   },
   {
    "duration": 16,
    "start_time": "2023-02-21T14:59:55.935Z"
   },
   {
    "duration": 3,
    "start_time": "2023-02-21T14:59:55.953Z"
   },
   {
    "duration": 5,
    "start_time": "2023-02-21T14:59:55.958Z"
   },
   {
    "duration": 19,
    "start_time": "2023-02-21T14:59:55.965Z"
   },
   {
    "duration": 19,
    "start_time": "2023-02-21T14:59:55.985Z"
   },
   {
    "duration": 5,
    "start_time": "2023-02-21T14:59:56.007Z"
   },
   {
    "duration": 4,
    "start_time": "2023-02-21T14:59:56.013Z"
   },
   {
    "duration": 11,
    "start_time": "2023-02-21T14:59:56.018Z"
   },
   {
    "duration": 9,
    "start_time": "2023-02-21T14:59:56.030Z"
   },
   {
    "duration": 16,
    "start_time": "2023-02-21T14:59:56.040Z"
   },
   {
    "duration": 7,
    "start_time": "2023-02-21T14:59:56.057Z"
   },
   {
    "duration": 13,
    "start_time": "2023-02-21T14:59:56.065Z"
   },
   {
    "duration": 31,
    "start_time": "2023-02-21T14:59:56.080Z"
   },
   {
    "duration": 11,
    "start_time": "2023-02-21T14:59:56.113Z"
   },
   {
    "duration": 8,
    "start_time": "2023-02-21T14:59:56.126Z"
   },
   {
    "duration": 6,
    "start_time": "2023-02-21T14:59:56.136Z"
   },
   {
    "duration": 19,
    "start_time": "2023-02-21T14:59:56.143Z"
   },
   {
    "duration": 5,
    "start_time": "2023-02-21T14:59:56.163Z"
   },
   {
    "duration": 7,
    "start_time": "2023-02-21T14:59:56.170Z"
   },
   {
    "duration": 31,
    "start_time": "2023-02-21T14:59:56.178Z"
   },
   {
    "duration": 51,
    "start_time": "2023-02-21T14:59:56.211Z"
   },
   {
    "duration": 10,
    "start_time": "2023-02-21T14:59:56.263Z"
   },
   {
    "duration": 10,
    "start_time": "2023-02-21T14:59:56.275Z"
   },
   {
    "duration": 310,
    "start_time": "2023-02-21T14:59:56.303Z"
   },
   {
    "duration": 439,
    "start_time": "2023-02-21T14:59:56.705Z"
   },
   {
    "duration": 94,
    "start_time": "2023-02-21T14:59:57.145Z"
   },
   {
    "duration": 1740,
    "start_time": "2023-02-21T14:59:57.240Z"
   },
   {
    "duration": 3,
    "start_time": "2023-02-21T14:59:58.983Z"
   },
   {
    "duration": 2368,
    "start_time": "2023-02-21T14:59:58.988Z"
   },
   {
    "duration": 3,
    "start_time": "2023-02-21T15:00:01.357Z"
   },
   {
    "duration": 165,
    "start_time": "2023-02-21T15:00:01.362Z"
   },
   {
    "duration": 98,
    "start_time": "2023-02-21T15:00:01.528Z"
   },
   {
    "duration": 250,
    "start_time": "2023-02-21T15:00:01.628Z"
   },
   {
    "duration": 161,
    "start_time": "2023-02-21T15:00:01.879Z"
   },
   {
    "duration": 452,
    "start_time": "2023-02-21T15:00:02.045Z"
   },
   {
    "duration": 388,
    "start_time": "2023-02-21T15:00:02.504Z"
   },
   {
    "duration": 414,
    "start_time": "2023-02-21T15:00:02.894Z"
   },
   {
    "duration": 407,
    "start_time": "2023-02-21T15:00:03.310Z"
   },
   {
    "duration": 444,
    "start_time": "2023-02-21T15:00:03.719Z"
   },
   {
    "duration": 217,
    "start_time": "2023-02-21T15:00:04.165Z"
   },
   {
    "duration": 1776,
    "start_time": "2023-02-21T15:00:04.384Z"
   },
   {
    "duration": 2,
    "start_time": "2023-02-21T15:00:06.162Z"
   },
   {
    "duration": 2025,
    "start_time": "2023-02-21T15:00:06.165Z"
   },
   {
    "duration": 3,
    "start_time": "2023-02-21T15:00:08.192Z"
   },
   {
    "duration": 159,
    "start_time": "2023-02-21T15:00:08.203Z"
   },
   {
    "duration": 121,
    "start_time": "2023-02-21T15:00:08.364Z"
   },
   {
    "duration": 94,
    "start_time": "2023-02-21T15:00:08.486Z"
   },
   {
    "duration": 2279,
    "start_time": "2023-02-21T15:00:08.582Z"
   },
   {
    "duration": 2,
    "start_time": "2023-02-21T15:00:10.863Z"
   },
   {
    "duration": 2922,
    "start_time": "2023-02-21T15:00:10.867Z"
   },
   {
    "duration": 4,
    "start_time": "2023-02-21T15:00:13.791Z"
   },
   {
    "duration": 406,
    "start_time": "2023-02-21T15:00:13.804Z"
   },
   {
    "duration": 92,
    "start_time": "2023-02-21T15:00:14.212Z"
   },
   {
    "duration": 131,
    "start_time": "2023-02-21T15:00:14.305Z"
   },
   {
    "duration": 4,
    "start_time": "2023-02-21T15:00:14.438Z"
   },
   {
    "duration": 16,
    "start_time": "2023-02-21T15:00:14.444Z"
   },
   {
    "duration": 498,
    "start_time": "2023-02-21T15:00:14.462Z"
   },
   {
    "duration": 125,
    "start_time": "2023-02-21T15:00:14.961Z"
   },
   {
    "duration": 4,
    "start_time": "2023-02-21T16:53:46.704Z"
   },
   {
    "duration": 1440,
    "start_time": "2023-02-21T17:00:46.089Z"
   },
   {
    "duration": 3,
    "start_time": "2023-02-21T17:00:47.531Z"
   },
   {
    "duration": 44,
    "start_time": "2023-02-21T17:00:47.535Z"
   },
   {
    "duration": 13,
    "start_time": "2023-02-21T17:00:47.581Z"
   },
   {
    "duration": 22,
    "start_time": "2023-02-21T17:00:47.595Z"
   },
   {
    "duration": 3,
    "start_time": "2023-02-21T17:00:47.618Z"
   },
   {
    "duration": 9,
    "start_time": "2023-02-21T17:00:47.622Z"
   },
   {
    "duration": 8,
    "start_time": "2023-02-21T17:00:47.632Z"
   },
   {
    "duration": 7,
    "start_time": "2023-02-21T17:00:47.641Z"
   },
   {
    "duration": 5,
    "start_time": "2023-02-21T17:00:47.650Z"
   },
   {
    "duration": 4,
    "start_time": "2023-02-21T17:00:47.657Z"
   },
   {
    "duration": 8,
    "start_time": "2023-02-21T17:00:47.663Z"
   },
   {
    "duration": 33,
    "start_time": "2023-02-21T17:00:47.672Z"
   },
   {
    "duration": 12,
    "start_time": "2023-02-21T17:00:47.707Z"
   },
   {
    "duration": 2,
    "start_time": "2023-02-21T17:00:47.721Z"
   },
   {
    "duration": 18,
    "start_time": "2023-02-21T17:00:47.725Z"
   },
   {
    "duration": 11,
    "start_time": "2023-02-21T17:00:47.744Z"
   },
   {
    "duration": 11,
    "start_time": "2023-02-21T17:00:47.757Z"
   },
   {
    "duration": 11,
    "start_time": "2023-02-21T17:00:47.770Z"
   },
   {
    "duration": 25,
    "start_time": "2023-02-21T17:00:47.782Z"
   },
   {
    "duration": 18,
    "start_time": "2023-02-21T17:00:47.808Z"
   },
   {
    "duration": 6,
    "start_time": "2023-02-21T17:00:47.827Z"
   },
   {
    "duration": 7,
    "start_time": "2023-02-21T17:00:47.834Z"
   },
   {
    "duration": 7,
    "start_time": "2023-02-21T17:00:47.843Z"
   },
   {
    "duration": 82,
    "start_time": "2023-02-21T17:00:47.852Z"
   },
   {
    "duration": 11,
    "start_time": "2023-02-21T17:00:47.935Z"
   },
   {
    "duration": 15,
    "start_time": "2023-02-21T17:00:47.947Z"
   },
   {
    "duration": 346,
    "start_time": "2023-02-21T17:00:47.966Z"
   },
   {
    "duration": 478,
    "start_time": "2023-02-21T17:00:48.313Z"
   },
   {
    "duration": 93,
    "start_time": "2023-02-21T17:00:48.792Z"
   },
   {
    "duration": 1768,
    "start_time": "2023-02-21T17:00:48.887Z"
   },
   {
    "duration": 2,
    "start_time": "2023-02-21T17:00:50.657Z"
   },
   {
    "duration": 2345,
    "start_time": "2023-02-21T17:00:50.661Z"
   },
   {
    "duration": 3,
    "start_time": "2023-02-21T17:00:53.008Z"
   },
   {
    "duration": 156,
    "start_time": "2023-02-21T17:00:53.012Z"
   },
   {
    "duration": 97,
    "start_time": "2023-02-21T17:00:53.170Z"
   },
   {
    "duration": 258,
    "start_time": "2023-02-21T17:00:53.269Z"
   },
   {
    "duration": 151,
    "start_time": "2023-02-21T17:00:53.529Z"
   },
   {
    "duration": 429,
    "start_time": "2023-02-21T17:00:53.682Z"
   },
   {
    "duration": 477,
    "start_time": "2023-02-21T17:00:54.112Z"
   },
   {
    "duration": 398,
    "start_time": "2023-02-21T17:00:54.591Z"
   },
   {
    "duration": 416,
    "start_time": "2023-02-21T17:00:54.991Z"
   },
   {
    "duration": 443,
    "start_time": "2023-02-21T17:00:55.409Z"
   },
   {
    "duration": 214,
    "start_time": "2023-02-21T17:00:55.853Z"
   },
   {
    "duration": 1798,
    "start_time": "2023-02-21T17:00:56.068Z"
   },
   {
    "duration": 3,
    "start_time": "2023-02-21T17:00:57.867Z"
   },
   {
    "duration": 1991,
    "start_time": "2023-02-21T17:00:57.872Z"
   },
   {
    "duration": 3,
    "start_time": "2023-02-21T17:00:59.865Z"
   },
   {
    "duration": 171,
    "start_time": "2023-02-21T17:00:59.869Z"
   },
   {
    "duration": 130,
    "start_time": "2023-02-21T17:01:00.042Z"
   },
   {
    "duration": 97,
    "start_time": "2023-02-21T17:01:00.173Z"
   },
   {
    "duration": 2308,
    "start_time": "2023-02-21T17:01:00.272Z"
   },
   {
    "duration": 3,
    "start_time": "2023-02-21T17:01:02.582Z"
   },
   {
    "duration": 2878,
    "start_time": "2023-02-21T17:01:02.587Z"
   },
   {
    "duration": 4,
    "start_time": "2023-02-21T17:01:05.467Z"
   },
   {
    "duration": 396,
    "start_time": "2023-02-21T17:01:05.472Z"
   },
   {
    "duration": 80,
    "start_time": "2023-02-21T17:01:05.870Z"
   },
   {
    "duration": 127,
    "start_time": "2023-02-21T17:01:05.952Z"
   },
   {
    "duration": 4,
    "start_time": "2023-02-21T17:01:06.081Z"
   },
   {
    "duration": 2256,
    "start_time": "2023-02-21T17:01:06.103Z"
   },
   {
    "duration": 3,
    "start_time": "2023-02-21T17:01:08.360Z"
   },
   {
    "duration": 2473,
    "start_time": "2023-02-21T17:01:08.365Z"
   },
   {
    "duration": 2,
    "start_time": "2023-02-21T17:01:10.840Z"
   },
   {
    "duration": 432,
    "start_time": "2023-02-21T17:01:10.844Z"
   },
   {
    "duration": 128,
    "start_time": "2023-02-21T17:01:11.278Z"
   },
   {
    "duration": 96,
    "start_time": "2023-02-21T17:01:11.408Z"
   },
   {
    "duration": 75,
    "start_time": "2023-02-21T17:01:11.505Z"
   },
   {
    "duration": 0,
    "start_time": "2023-02-21T17:01:11.582Z"
   },
   {
    "duration": 0,
    "start_time": "2023-02-21T17:01:11.584Z"
   },
   {
    "duration": 0,
    "start_time": "2023-02-21T17:01:11.585Z"
   },
   {
    "duration": 5,
    "start_time": "2023-02-21T17:03:08.463Z"
   },
   {
    "duration": 7,
    "start_time": "2023-02-21T17:04:15.069Z"
   },
   {
    "duration": 5,
    "start_time": "2023-02-21T17:04:44.180Z"
   },
   {
    "duration": 4,
    "start_time": "2023-02-21T17:05:49.847Z"
   },
   {
    "duration": 4,
    "start_time": "2023-02-21T17:06:39.690Z"
   },
   {
    "duration": 4,
    "start_time": "2023-02-21T17:07:25.455Z"
   },
   {
    "duration": 4,
    "start_time": "2023-02-21T17:20:49.316Z"
   },
   {
    "duration": 110,
    "start_time": "2023-02-21T17:21:05.564Z"
   },
   {
    "duration": 9,
    "start_time": "2023-02-21T17:21:14.040Z"
   },
   {
    "duration": 4,
    "start_time": "2023-02-21T17:21:33.215Z"
   },
   {
    "duration": 11,
    "start_time": "2023-02-21T17:34:08.589Z"
   },
   {
    "duration": 10,
    "start_time": "2023-02-21T17:34:36.133Z"
   },
   {
    "duration": 5,
    "start_time": "2023-02-21T17:34:45.749Z"
   },
   {
    "duration": 1356,
    "start_time": "2023-02-21T17:42:18.504Z"
   },
   {
    "duration": 4,
    "start_time": "2023-02-21T17:42:19.862Z"
   },
   {
    "duration": 48,
    "start_time": "2023-02-21T17:42:19.868Z"
   },
   {
    "duration": 16,
    "start_time": "2023-02-21T17:42:19.918Z"
   },
   {
    "duration": 15,
    "start_time": "2023-02-21T17:42:19.936Z"
   },
   {
    "duration": 3,
    "start_time": "2023-02-21T17:42:19.952Z"
   },
   {
    "duration": 9,
    "start_time": "2023-02-21T17:42:19.957Z"
   },
   {
    "duration": 12,
    "start_time": "2023-02-21T17:42:19.967Z"
   },
   {
    "duration": 27,
    "start_time": "2023-02-21T17:42:19.981Z"
   },
   {
    "duration": 6,
    "start_time": "2023-02-21T17:42:20.011Z"
   },
   {
    "duration": 10,
    "start_time": "2023-02-21T17:42:20.018Z"
   },
   {
    "duration": 17,
    "start_time": "2023-02-21T17:42:20.029Z"
   },
   {
    "duration": 9,
    "start_time": "2023-02-21T17:42:20.048Z"
   },
   {
    "duration": 20,
    "start_time": "2023-02-21T17:42:20.059Z"
   },
   {
    "duration": 7,
    "start_time": "2023-02-21T17:42:20.081Z"
   },
   {
    "duration": 18,
    "start_time": "2023-02-21T17:42:20.090Z"
   },
   {
    "duration": 9,
    "start_time": "2023-02-21T17:42:20.110Z"
   },
   {
    "duration": 10,
    "start_time": "2023-02-21T17:42:20.121Z"
   },
   {
    "duration": 21,
    "start_time": "2023-02-21T17:42:20.132Z"
   },
   {
    "duration": 7,
    "start_time": "2023-02-21T17:42:20.154Z"
   },
   {
    "duration": 30,
    "start_time": "2023-02-21T17:42:20.163Z"
   },
   {
    "duration": 11,
    "start_time": "2023-02-21T17:42:20.195Z"
   },
   {
    "duration": 9,
    "start_time": "2023-02-21T17:42:20.208Z"
   },
   {
    "duration": 8,
    "start_time": "2023-02-21T17:42:20.219Z"
   },
   {
    "duration": 83,
    "start_time": "2023-02-21T17:42:20.229Z"
   },
   {
    "duration": 10,
    "start_time": "2023-02-21T17:42:20.314Z"
   },
   {
    "duration": 13,
    "start_time": "2023-02-21T17:42:20.326Z"
   },
   {
    "duration": 376,
    "start_time": "2023-02-21T17:42:20.343Z"
   },
   {
    "duration": 471,
    "start_time": "2023-02-21T17:42:20.805Z"
   },
   {
    "duration": 108,
    "start_time": "2023-02-21T17:42:21.277Z"
   },
   {
    "duration": 1754,
    "start_time": "2023-02-21T17:42:21.387Z"
   },
   {
    "duration": 3,
    "start_time": "2023-02-21T17:42:23.143Z"
   },
   {
    "duration": 2395,
    "start_time": "2023-02-21T17:42:23.148Z"
   },
   {
    "duration": 2,
    "start_time": "2023-02-21T17:42:25.545Z"
   },
   {
    "duration": 160,
    "start_time": "2023-02-21T17:42:25.549Z"
   },
   {
    "duration": 96,
    "start_time": "2023-02-21T17:42:25.710Z"
   },
   {
    "duration": 260,
    "start_time": "2023-02-21T17:42:25.808Z"
   },
   {
    "duration": 145,
    "start_time": "2023-02-21T17:42:26.069Z"
   },
   {
    "duration": 489,
    "start_time": "2023-02-21T17:42:26.216Z"
   },
   {
    "duration": 486,
    "start_time": "2023-02-21T17:42:26.707Z"
   },
   {
    "duration": 420,
    "start_time": "2023-02-21T17:42:27.195Z"
   },
   {
    "duration": 405,
    "start_time": "2023-02-21T17:42:27.616Z"
   },
   {
    "duration": 465,
    "start_time": "2023-02-21T17:42:28.022Z"
   },
   {
    "duration": 227,
    "start_time": "2023-02-21T17:42:28.489Z"
   },
   {
    "duration": 1767,
    "start_time": "2023-02-21T17:42:28.718Z"
   },
   {
    "duration": 4,
    "start_time": "2023-02-21T17:42:30.487Z"
   },
   {
    "duration": 2111,
    "start_time": "2023-02-21T17:42:30.492Z"
   },
   {
    "duration": 3,
    "start_time": "2023-02-21T17:42:32.605Z"
   },
   {
    "duration": 171,
    "start_time": "2023-02-21T17:42:32.610Z"
   },
   {
    "duration": 131,
    "start_time": "2023-02-21T17:42:32.783Z"
   },
   {
    "duration": 89,
    "start_time": "2023-02-21T17:42:32.915Z"
   },
   {
    "duration": 2283,
    "start_time": "2023-02-21T17:42:33.005Z"
   },
   {
    "duration": 3,
    "start_time": "2023-02-21T17:42:35.289Z"
   },
   {
    "duration": 3078,
    "start_time": "2023-02-21T17:42:35.304Z"
   },
   {
    "duration": 4,
    "start_time": "2023-02-21T17:42:38.384Z"
   },
   {
    "duration": 423,
    "start_time": "2023-02-21T17:42:38.390Z"
   },
   {
    "duration": 93,
    "start_time": "2023-02-21T17:42:38.815Z"
   },
   {
    "duration": 133,
    "start_time": "2023-02-21T17:42:38.910Z"
   },
   {
    "duration": 5,
    "start_time": "2023-02-21T17:42:39.045Z"
   },
   {
    "duration": 2320,
    "start_time": "2023-02-21T17:42:39.051Z"
   },
   {
    "duration": 3,
    "start_time": "2023-02-21T17:42:41.373Z"
   },
   {
    "duration": 2520,
    "start_time": "2023-02-21T17:42:41.378Z"
   },
   {
    "duration": 3,
    "start_time": "2023-02-21T17:42:43.903Z"
   },
   {
    "duration": 408,
    "start_time": "2023-02-21T17:42:43.908Z"
   },
   {
    "duration": 130,
    "start_time": "2023-02-21T17:42:44.318Z"
   },
   {
    "duration": 89,
    "start_time": "2023-02-21T17:42:44.450Z"
   },
   {
    "duration": 4,
    "start_time": "2023-02-21T17:42:44.541Z"
   },
   {
    "duration": 5,
    "start_time": "2023-02-21T17:42:44.547Z"
   },
   {
    "duration": 6,
    "start_time": "2023-02-21T17:42:44.554Z"
   },
   {
    "duration": 8,
    "start_time": "2023-02-21T17:42:44.561Z"
   },
   {
    "duration": 7,
    "start_time": "2023-02-21T17:42:44.571Z"
   },
   {
    "duration": 27,
    "start_time": "2023-02-21T17:42:44.580Z"
   },
   {
    "duration": 200,
    "start_time": "2023-02-21T17:42:44.609Z"
   },
   {
    "duration": 151,
    "start_time": "2023-02-21T17:42:44.811Z"
   },
   {
    "duration": 111,
    "start_time": "2023-02-21T17:45:09.654Z"
   },
   {
    "duration": 1384,
    "start_time": "2023-02-21T18:00:41.967Z"
   },
   {
    "duration": 3,
    "start_time": "2023-02-21T18:00:43.353Z"
   },
   {
    "duration": 47,
    "start_time": "2023-02-21T18:00:43.357Z"
   },
   {
    "duration": 14,
    "start_time": "2023-02-21T18:00:43.406Z"
   },
   {
    "duration": 18,
    "start_time": "2023-02-21T18:00:43.422Z"
   },
   {
    "duration": 4,
    "start_time": "2023-02-21T18:00:43.441Z"
   },
   {
    "duration": 8,
    "start_time": "2023-02-21T18:00:43.446Z"
   },
   {
    "duration": 11,
    "start_time": "2023-02-21T18:00:43.456Z"
   },
   {
    "duration": 9,
    "start_time": "2023-02-21T18:00:43.469Z"
   },
   {
    "duration": 6,
    "start_time": "2023-02-21T18:00:43.506Z"
   },
   {
    "duration": 9,
    "start_time": "2023-02-21T18:00:43.514Z"
   },
   {
    "duration": 8,
    "start_time": "2023-02-21T18:00:43.524Z"
   },
   {
    "duration": 10,
    "start_time": "2023-02-21T18:00:43.534Z"
   },
   {
    "duration": 11,
    "start_time": "2023-02-21T18:00:43.548Z"
   },
   {
    "duration": 2,
    "start_time": "2023-02-21T18:00:43.561Z"
   },
   {
    "duration": 38,
    "start_time": "2023-02-21T18:00:43.565Z"
   },
   {
    "duration": 9,
    "start_time": "2023-02-21T18:00:43.605Z"
   },
   {
    "duration": 10,
    "start_time": "2023-02-21T18:00:43.616Z"
   },
   {
    "duration": 10,
    "start_time": "2023-02-21T18:00:43.627Z"
   },
   {
    "duration": 6,
    "start_time": "2023-02-21T18:00:43.639Z"
   },
   {
    "duration": 21,
    "start_time": "2023-02-21T18:00:43.647Z"
   },
   {
    "duration": 6,
    "start_time": "2023-02-21T18:00:43.669Z"
   },
   {
    "duration": 29,
    "start_time": "2023-02-21T18:00:43.677Z"
   },
   {
    "duration": 12,
    "start_time": "2023-02-21T18:00:43.708Z"
   },
   {
    "duration": 51,
    "start_time": "2023-02-21T18:00:43.721Z"
   },
   {
    "duration": 11,
    "start_time": "2023-02-21T18:00:43.774Z"
   },
   {
    "duration": 29,
    "start_time": "2023-02-21T18:00:43.786Z"
   },
   {
    "duration": 387,
    "start_time": "2023-02-21T18:00:43.817Z"
   },
   {
    "duration": 379,
    "start_time": "2023-02-21T18:00:44.207Z"
   },
   {
    "duration": 98,
    "start_time": "2023-02-21T18:00:44.588Z"
   },
   {
    "duration": 1735,
    "start_time": "2023-02-21T18:00:44.688Z"
   },
   {
    "duration": 3,
    "start_time": "2023-02-21T18:00:46.424Z"
   },
   {
    "duration": 2455,
    "start_time": "2023-02-21T18:00:46.428Z"
   },
   {
    "duration": 3,
    "start_time": "2023-02-21T18:00:48.885Z"
   },
   {
    "duration": 161,
    "start_time": "2023-02-21T18:00:48.890Z"
   },
   {
    "duration": 104,
    "start_time": "2023-02-21T18:00:49.053Z"
   },
   {
    "duration": 210,
    "start_time": "2023-02-21T18:00:49.159Z"
   },
   {
    "duration": 151,
    "start_time": "2023-02-21T18:00:49.370Z"
   },
   {
    "duration": 465,
    "start_time": "2023-02-21T18:00:49.522Z"
   },
   {
    "duration": 441,
    "start_time": "2023-02-21T18:00:49.988Z"
   },
   {
    "duration": 361,
    "start_time": "2023-02-21T18:00:50.434Z"
   },
   {
    "duration": 413,
    "start_time": "2023-02-21T18:00:50.803Z"
   },
   {
    "duration": 447,
    "start_time": "2023-02-21T18:00:51.218Z"
   },
   {
    "duration": 223,
    "start_time": "2023-02-21T18:00:51.667Z"
   },
   {
    "duration": 1759,
    "start_time": "2023-02-21T18:00:51.892Z"
   },
   {
    "duration": 3,
    "start_time": "2023-02-21T18:00:53.653Z"
   },
   {
    "duration": 2039,
    "start_time": "2023-02-21T18:00:53.657Z"
   },
   {
    "duration": 6,
    "start_time": "2023-02-21T18:00:55.698Z"
   },
   {
    "duration": 172,
    "start_time": "2023-02-21T18:00:55.705Z"
   },
   {
    "duration": 115,
    "start_time": "2023-02-21T18:00:55.879Z"
   },
   {
    "duration": 77,
    "start_time": "2023-02-21T18:00:56.003Z"
   },
   {
    "duration": 2284,
    "start_time": "2023-02-21T18:00:56.081Z"
   },
   {
    "duration": 3,
    "start_time": "2023-02-21T18:00:58.366Z"
   },
   {
    "duration": 2840,
    "start_time": "2023-02-21T18:00:58.370Z"
   },
   {
    "duration": 3,
    "start_time": "2023-02-21T18:01:01.211Z"
   },
   {
    "duration": 412,
    "start_time": "2023-02-21T18:01:01.215Z"
   },
   {
    "duration": 91,
    "start_time": "2023-02-21T18:01:01.629Z"
   },
   {
    "duration": 132,
    "start_time": "2023-02-21T18:01:01.722Z"
   },
   {
    "duration": 5,
    "start_time": "2023-02-21T18:01:01.856Z"
   },
   {
    "duration": 2316,
    "start_time": "2023-02-21T18:01:01.863Z"
   },
   {
    "duration": 3,
    "start_time": "2023-02-21T18:01:04.181Z"
   },
   {
    "duration": 2427,
    "start_time": "2023-02-21T18:01:04.185Z"
   },
   {
    "duration": 3,
    "start_time": "2023-02-21T18:01:06.614Z"
   },
   {
    "duration": 442,
    "start_time": "2023-02-21T18:01:06.618Z"
   },
   {
    "duration": 134,
    "start_time": "2023-02-21T18:01:07.062Z"
   },
   {
    "duration": 82,
    "start_time": "2023-02-21T18:01:07.203Z"
   },
   {
    "duration": 19,
    "start_time": "2023-02-21T18:01:07.287Z"
   },
   {
    "duration": 10,
    "start_time": "2023-02-21T18:01:07.308Z"
   },
   {
    "duration": 7,
    "start_time": "2023-02-21T18:01:07.319Z"
   },
   {
    "duration": 13,
    "start_time": "2023-02-21T18:01:07.328Z"
   },
   {
    "duration": 11,
    "start_time": "2023-02-21T18:01:07.342Z"
   },
   {
    "duration": 6,
    "start_time": "2023-02-21T18:01:07.355Z"
   },
   {
    "duration": 200,
    "start_time": "2023-02-21T18:01:07.363Z"
   },
   {
    "duration": 130,
    "start_time": "2023-02-21T18:01:07.565Z"
   },
   {
    "duration": 1517,
    "start_time": "2023-02-23T08:20:36.024Z"
   },
   {
    "duration": 3,
    "start_time": "2023-02-23T08:20:37.543Z"
   },
   {
    "duration": 76,
    "start_time": "2023-02-23T08:20:37.548Z"
   },
   {
    "duration": 14,
    "start_time": "2023-02-23T08:20:37.626Z"
   },
   {
    "duration": 16,
    "start_time": "2023-02-23T08:20:37.641Z"
   },
   {
    "duration": 3,
    "start_time": "2023-02-23T08:20:37.659Z"
   },
   {
    "duration": 4,
    "start_time": "2023-02-23T08:20:37.664Z"
   },
   {
    "duration": 7,
    "start_time": "2023-02-23T08:20:37.670Z"
   },
   {
    "duration": 8,
    "start_time": "2023-02-23T08:20:37.679Z"
   },
   {
    "duration": 6,
    "start_time": "2023-02-23T08:20:37.712Z"
   },
   {
    "duration": 4,
    "start_time": "2023-02-23T08:20:37.720Z"
   },
   {
    "duration": 8,
    "start_time": "2023-02-23T08:20:37.725Z"
   },
   {
    "duration": 7,
    "start_time": "2023-02-23T08:20:37.734Z"
   },
   {
    "duration": 15,
    "start_time": "2023-02-23T08:20:37.742Z"
   },
   {
    "duration": 3,
    "start_time": "2023-02-23T08:20:37.759Z"
   },
   {
    "duration": 15,
    "start_time": "2023-02-23T08:20:37.763Z"
   },
   {
    "duration": 11,
    "start_time": "2023-02-23T08:20:37.809Z"
   },
   {
    "duration": 10,
    "start_time": "2023-02-23T08:20:37.822Z"
   },
   {
    "duration": 7,
    "start_time": "2023-02-23T08:20:37.833Z"
   },
   {
    "duration": 6,
    "start_time": "2023-02-23T08:20:37.841Z"
   },
   {
    "duration": 16,
    "start_time": "2023-02-23T08:20:37.849Z"
   },
   {
    "duration": 16,
    "start_time": "2023-02-23T08:20:42.846Z"
   },
   {
    "duration": 145,
    "start_time": "2023-02-23T08:20:46.499Z"
   },
   {
    "duration": 15,
    "start_time": "2023-02-23T08:21:21.473Z"
   },
   {
    "duration": 9,
    "start_time": "2023-02-23T08:22:17.570Z"
   },
   {
    "duration": 8,
    "start_time": "2023-02-23T08:22:29.925Z"
   },
   {
    "duration": 16,
    "start_time": "2023-02-23T08:22:43.058Z"
   },
   {
    "duration": 14,
    "start_time": "2023-02-23T08:23:04.295Z"
   },
   {
    "duration": 14,
    "start_time": "2023-02-23T08:23:54.004Z"
   },
   {
    "duration": 22,
    "start_time": "2023-02-23T08:24:32.284Z"
   },
   {
    "duration": 2,
    "start_time": "2023-02-23T10:11:54.336Z"
   },
   {
    "duration": 4,
    "start_time": "2023-02-23T10:12:06.653Z"
   },
   {
    "duration": 5,
    "start_time": "2023-02-23T10:16:01.970Z"
   },
   {
    "duration": 9,
    "start_time": "2023-02-23T10:16:11.032Z"
   },
   {
    "duration": 15,
    "start_time": "2023-02-23T10:16:26.285Z"
   },
   {
    "duration": 9,
    "start_time": "2023-02-23T10:17:10.520Z"
   },
   {
    "duration": 4,
    "start_time": "2023-02-23T10:17:34.441Z"
   },
   {
    "duration": 5,
    "start_time": "2023-02-23T10:18:17.891Z"
   },
   {
    "duration": 10,
    "start_time": "2023-02-23T10:18:25.419Z"
   },
   {
    "duration": 10,
    "start_time": "2023-02-23T10:18:46.649Z"
   },
   {
    "duration": 9,
    "start_time": "2023-02-23T10:19:04.896Z"
   },
   {
    "duration": 10,
    "start_time": "2023-02-23T10:19:11.178Z"
   },
   {
    "duration": 9,
    "start_time": "2023-02-23T10:19:28.084Z"
   },
   {
    "duration": 9,
    "start_time": "2023-02-23T10:19:58.070Z"
   },
   {
    "duration": 9,
    "start_time": "2023-02-23T10:20:10.452Z"
   },
   {
    "duration": 10,
    "start_time": "2023-02-23T10:20:22.483Z"
   },
   {
    "duration": 5,
    "start_time": "2023-02-23T10:21:22.692Z"
   },
   {
    "duration": 57,
    "start_time": "2023-02-23T10:21:55.925Z"
   },
   {
    "duration": 53,
    "start_time": "2023-02-23T10:22:34.915Z"
   },
   {
    "duration": 170,
    "start_time": "2023-02-23T10:24:15.899Z"
   },
   {
    "duration": 9,
    "start_time": "2023-02-23T10:29:51.647Z"
   },
   {
    "duration": 4,
    "start_time": "2023-02-23T10:30:02.210Z"
   },
   {
    "duration": 20,
    "start_time": "2023-02-23T10:30:02.218Z"
   },
   {
    "duration": 57,
    "start_time": "2023-02-23T10:30:02.240Z"
   },
   {
    "duration": 11,
    "start_time": "2023-02-23T10:30:02.299Z"
   },
   {
    "duration": 28,
    "start_time": "2023-02-23T10:30:02.312Z"
   },
   {
    "duration": 23,
    "start_time": "2023-02-23T10:30:02.342Z"
   },
   {
    "duration": 35,
    "start_time": "2023-02-23T10:30:02.367Z"
   },
   {
    "duration": 24,
    "start_time": "2023-02-23T10:30:02.404Z"
   },
   {
    "duration": 39,
    "start_time": "2023-02-23T10:30:02.430Z"
   },
   {
    "duration": 14,
    "start_time": "2023-02-23T10:30:02.471Z"
   },
   {
    "duration": 32,
    "start_time": "2023-02-23T10:30:02.487Z"
   },
   {
    "duration": 46,
    "start_time": "2023-02-23T10:30:02.521Z"
   },
   {
    "duration": 21,
    "start_time": "2023-02-23T10:30:02.570Z"
   },
   {
    "duration": 19,
    "start_time": "2023-02-23T10:30:02.593Z"
   },
   {
    "duration": 23,
    "start_time": "2023-02-23T10:30:02.614Z"
   },
   {
    "duration": 36,
    "start_time": "2023-02-23T10:30:02.639Z"
   },
   {
    "duration": 11,
    "start_time": "2023-02-23T10:30:02.676Z"
   },
   {
    "duration": 10,
    "start_time": "2023-02-23T10:30:02.689Z"
   },
   {
    "duration": 10,
    "start_time": "2023-02-23T10:30:02.700Z"
   },
   {
    "duration": 7,
    "start_time": "2023-02-23T10:30:02.711Z"
   },
   {
    "duration": 15,
    "start_time": "2023-02-23T10:30:02.719Z"
   },
   {
    "duration": 52,
    "start_time": "2023-02-23T10:30:02.737Z"
   },
   {
    "duration": 22,
    "start_time": "2023-02-23T10:30:02.791Z"
   },
   {
    "duration": 20,
    "start_time": "2023-02-23T10:30:02.814Z"
   },
   {
    "duration": 7,
    "start_time": "2023-02-23T10:30:03.102Z"
   },
   {
    "duration": 174,
    "start_time": "2023-02-23T10:30:03.111Z"
   },
   {
    "duration": 13,
    "start_time": "2023-02-23T10:30:03.288Z"
   },
   {
    "duration": 5,
    "start_time": "2023-02-23T10:30:03.310Z"
   },
   {
    "duration": 296,
    "start_time": "2023-02-23T10:30:03.317Z"
   },
   {
    "duration": 514,
    "start_time": "2023-02-23T10:30:03.617Z"
   },
   {
    "duration": 97,
    "start_time": "2023-02-23T10:30:04.132Z"
   },
   {
    "duration": 1894,
    "start_time": "2023-02-23T10:30:04.231Z"
   },
   {
    "duration": 3,
    "start_time": "2023-02-23T10:30:06.127Z"
   },
   {
    "duration": 2608,
    "start_time": "2023-02-23T10:30:06.132Z"
   },
   {
    "duration": 3,
    "start_time": "2023-02-23T10:30:08.742Z"
   },
   {
    "duration": 223,
    "start_time": "2023-02-23T10:30:08.747Z"
   },
   {
    "duration": 87,
    "start_time": "2023-02-23T10:30:08.972Z"
   },
   {
    "duration": 205,
    "start_time": "2023-02-23T10:30:09.061Z"
   },
   {
    "duration": 151,
    "start_time": "2023-02-23T10:30:09.268Z"
   },
   {
    "duration": 1505,
    "start_time": "2023-02-23T10:30:14.318Z"
   },
   {
    "duration": 43,
    "start_time": "2023-02-23T10:39:02.469Z"
   },
   {
    "duration": 67,
    "start_time": "2023-02-23T10:39:17.530Z"
   },
   {
    "duration": 37807,
    "start_time": "2023-02-23T10:39:23.872Z"
   },
   {
    "duration": 10,
    "start_time": "2023-02-23T10:55:16.487Z"
   },
   {
    "duration": 297,
    "start_time": "2023-02-23T10:55:59.021Z"
   },
   {
    "duration": 290,
    "start_time": "2023-02-23T10:56:16.652Z"
   },
   {
    "duration": 868,
    "start_time": "2023-02-23T10:56:48.851Z"
   },
   {
    "duration": 1239,
    "start_time": "2023-02-23T10:57:40.294Z"
   },
   {
    "duration": 1234,
    "start_time": "2023-02-23T10:58:03.892Z"
   },
   {
    "duration": 8,
    "start_time": "2023-02-23T11:08:50.440Z"
   },
   {
    "duration": 6,
    "start_time": "2023-02-23T11:08:59.688Z"
   },
   {
    "duration": 5,
    "start_time": "2023-02-23T11:09:35.181Z"
   },
   {
    "duration": 5,
    "start_time": "2023-02-23T11:10:17.302Z"
   },
   {
    "duration": 5,
    "start_time": "2023-02-23T11:12:22.970Z"
   },
   {
    "duration": 5,
    "start_time": "2023-02-23T11:13:00.246Z"
   },
   {
    "duration": 7,
    "start_time": "2023-02-23T11:15:53.007Z"
   },
   {
    "duration": 5,
    "start_time": "2023-02-23T11:16:08.108Z"
   },
   {
    "duration": 446,
    "start_time": "2023-02-23T11:16:29.720Z"
   },
   {
    "duration": 10,
    "start_time": "2023-02-23T11:19:48.041Z"
   },
   {
    "duration": 15,
    "start_time": "2023-02-23T11:19:53.727Z"
   },
   {
    "duration": 25,
    "start_time": "2023-02-23T11:20:07.456Z"
   },
   {
    "duration": 344,
    "start_time": "2023-02-23T11:20:10.580Z"
   },
   {
    "duration": 3,
    "start_time": "2023-02-23T11:21:00.227Z"
   },
   {
    "duration": 1419,
    "start_time": "2023-02-23T11:21:56.273Z"
   },
   {
    "duration": 3,
    "start_time": "2023-02-23T11:21:57.694Z"
   },
   {
    "duration": 38,
    "start_time": "2023-02-23T11:21:57.698Z"
   },
   {
    "duration": 11,
    "start_time": "2023-02-23T11:21:57.738Z"
   },
   {
    "duration": 13,
    "start_time": "2023-02-23T11:21:57.751Z"
   },
   {
    "duration": 3,
    "start_time": "2023-02-23T11:21:57.766Z"
   },
   {
    "duration": 14,
    "start_time": "2023-02-23T11:21:57.770Z"
   },
   {
    "duration": 8,
    "start_time": "2023-02-23T11:21:57.785Z"
   },
   {
    "duration": 8,
    "start_time": "2023-02-23T11:21:57.794Z"
   },
   {
    "duration": 5,
    "start_time": "2023-02-23T11:21:57.809Z"
   },
   {
    "duration": 4,
    "start_time": "2023-02-23T11:21:57.815Z"
   },
   {
    "duration": 7,
    "start_time": "2023-02-23T11:21:57.820Z"
   },
   {
    "duration": 5,
    "start_time": "2023-02-23T11:21:57.828Z"
   },
   {
    "duration": 11,
    "start_time": "2023-02-23T11:21:57.835Z"
   },
   {
    "duration": 2,
    "start_time": "2023-02-23T11:21:57.847Z"
   },
   {
    "duration": 13,
    "start_time": "2023-02-23T11:21:57.851Z"
   },
   {
    "duration": 10,
    "start_time": "2023-02-23T11:21:57.866Z"
   },
   {
    "duration": 35,
    "start_time": "2023-02-23T11:21:57.877Z"
   },
   {
    "duration": 7,
    "start_time": "2023-02-23T11:21:57.914Z"
   },
   {
    "duration": 8,
    "start_time": "2023-02-23T11:21:57.923Z"
   },
   {
    "duration": 23,
    "start_time": "2023-02-23T11:21:57.932Z"
   },
   {
    "duration": 73,
    "start_time": "2023-02-23T11:21:57.956Z"
   },
   {
    "duration": 5,
    "start_time": "2023-02-23T11:21:58.030Z"
   },
   {
    "duration": 8,
    "start_time": "2023-02-23T11:21:58.036Z"
   },
   {
    "duration": 12,
    "start_time": "2023-02-23T11:21:58.045Z"
   },
   {
    "duration": 181,
    "start_time": "2023-02-23T11:21:58.058Z"
   },
   {
    "duration": 11,
    "start_time": "2023-02-23T11:21:58.240Z"
   },
   {
    "duration": 11,
    "start_time": "2023-02-23T11:21:58.254Z"
   },
   {
    "duration": 245,
    "start_time": "2023-02-23T11:21:58.266Z"
   },
   {
    "duration": 510,
    "start_time": "2023-02-23T11:21:58.512Z"
   },
   {
    "duration": 96,
    "start_time": "2023-02-23T11:21:59.024Z"
   },
   {
    "duration": 1838,
    "start_time": "2023-02-23T11:21:59.122Z"
   },
   {
    "duration": 2,
    "start_time": "2023-02-23T11:22:00.962Z"
   },
   {
    "duration": 2588,
    "start_time": "2023-02-23T11:22:00.966Z"
   },
   {
    "duration": 3,
    "start_time": "2023-02-23T11:22:03.556Z"
   },
   {
    "duration": 222,
    "start_time": "2023-02-23T11:22:03.560Z"
   },
   {
    "duration": 85,
    "start_time": "2023-02-23T11:22:03.784Z"
   },
   {
    "duration": 250,
    "start_time": "2023-02-23T11:22:03.871Z"
   },
   {
    "duration": 131,
    "start_time": "2023-02-23T11:22:04.122Z"
   },
   {
    "duration": 2357,
    "start_time": "2023-02-23T11:22:04.255Z"
   },
   {
    "duration": 581,
    "start_time": "2023-02-23T11:22:06.614Z"
   },
   {
    "duration": 400,
    "start_time": "2023-02-23T11:22:07.197Z"
   },
   {
    "duration": 132,
    "start_time": "2023-02-23T11:22:07.598Z"
   },
   {
    "duration": 0,
    "start_time": "2023-02-23T11:22:07.732Z"
   },
   {
    "duration": 0,
    "start_time": "2023-02-23T11:22:07.733Z"
   },
   {
    "duration": 0,
    "start_time": "2023-02-23T11:22:07.734Z"
   },
   {
    "duration": 0,
    "start_time": "2023-02-23T11:22:07.736Z"
   },
   {
    "duration": 0,
    "start_time": "2023-02-23T11:22:07.737Z"
   },
   {
    "duration": 0,
    "start_time": "2023-02-23T11:22:07.738Z"
   },
   {
    "duration": 0,
    "start_time": "2023-02-23T11:22:07.739Z"
   },
   {
    "duration": 0,
    "start_time": "2023-02-23T11:22:07.740Z"
   },
   {
    "duration": 0,
    "start_time": "2023-02-23T11:22:07.744Z"
   },
   {
    "duration": 0,
    "start_time": "2023-02-23T11:22:07.745Z"
   },
   {
    "duration": 0,
    "start_time": "2023-02-23T11:22:07.746Z"
   },
   {
    "duration": 0,
    "start_time": "2023-02-23T11:22:07.747Z"
   },
   {
    "duration": 0,
    "start_time": "2023-02-23T11:22:07.749Z"
   },
   {
    "duration": 0,
    "start_time": "2023-02-23T11:22:07.751Z"
   },
   {
    "duration": 0,
    "start_time": "2023-02-23T11:22:07.752Z"
   },
   {
    "duration": 0,
    "start_time": "2023-02-23T11:22:07.754Z"
   },
   {
    "duration": 0,
    "start_time": "2023-02-23T11:22:07.755Z"
   },
   {
    "duration": 0,
    "start_time": "2023-02-23T11:22:07.757Z"
   },
   {
    "duration": 0,
    "start_time": "2023-02-23T11:22:07.758Z"
   },
   {
    "duration": 0,
    "start_time": "2023-02-23T11:22:07.760Z"
   },
   {
    "duration": 0,
    "start_time": "2023-02-23T11:22:07.761Z"
   },
   {
    "duration": 0,
    "start_time": "2023-02-23T11:22:07.762Z"
   },
   {
    "duration": 0,
    "start_time": "2023-02-23T11:22:07.810Z"
   },
   {
    "duration": 0,
    "start_time": "2023-02-23T11:22:07.811Z"
   },
   {
    "duration": 0,
    "start_time": "2023-02-23T11:22:07.812Z"
   },
   {
    "duration": 0,
    "start_time": "2023-02-23T11:22:07.813Z"
   },
   {
    "duration": 0,
    "start_time": "2023-02-23T11:22:07.814Z"
   },
   {
    "duration": 0,
    "start_time": "2023-02-23T11:22:07.816Z"
   },
   {
    "duration": 0,
    "start_time": "2023-02-23T11:22:07.816Z"
   },
   {
    "duration": 0,
    "start_time": "2023-02-23T11:22:07.817Z"
   },
   {
    "duration": 1355,
    "start_time": "2023-02-23T11:23:23.121Z"
   },
   {
    "duration": 3,
    "start_time": "2023-02-23T11:23:24.478Z"
   },
   {
    "duration": 40,
    "start_time": "2023-02-23T11:23:24.483Z"
   },
   {
    "duration": 13,
    "start_time": "2023-02-23T11:23:24.525Z"
   },
   {
    "duration": 14,
    "start_time": "2023-02-23T11:23:24.539Z"
   },
   {
    "duration": 5,
    "start_time": "2023-02-23T11:23:24.555Z"
   },
   {
    "duration": 5,
    "start_time": "2023-02-23T11:23:24.561Z"
   },
   {
    "duration": 7,
    "start_time": "2023-02-23T11:23:24.568Z"
   },
   {
    "duration": 7,
    "start_time": "2023-02-23T11:23:24.577Z"
   },
   {
    "duration": 5,
    "start_time": "2023-02-23T11:23:24.609Z"
   },
   {
    "duration": 3,
    "start_time": "2023-02-23T11:23:24.616Z"
   },
   {
    "duration": 7,
    "start_time": "2023-02-23T11:23:24.621Z"
   },
   {
    "duration": 8,
    "start_time": "2023-02-23T11:23:24.629Z"
   },
   {
    "duration": 13,
    "start_time": "2023-02-23T11:23:24.638Z"
   },
   {
    "duration": 4,
    "start_time": "2023-02-23T11:23:24.652Z"
   },
   {
    "duration": 24,
    "start_time": "2023-02-23T11:23:24.657Z"
   },
   {
    "duration": 9,
    "start_time": "2023-02-23T11:23:24.683Z"
   },
   {
    "duration": 19,
    "start_time": "2023-02-23T11:23:24.693Z"
   },
   {
    "duration": 9,
    "start_time": "2023-02-23T11:23:24.713Z"
   },
   {
    "duration": 7,
    "start_time": "2023-02-23T11:23:24.723Z"
   },
   {
    "duration": 18,
    "start_time": "2023-02-23T11:23:24.732Z"
   },
   {
    "duration": 81,
    "start_time": "2023-02-23T11:23:24.751Z"
   },
   {
    "duration": 7,
    "start_time": "2023-02-23T11:23:24.834Z"
   },
   {
    "duration": 6,
    "start_time": "2023-02-23T11:23:24.843Z"
   },
   {
    "duration": 6,
    "start_time": "2023-02-23T11:23:24.850Z"
   },
   {
    "duration": 197,
    "start_time": "2023-02-23T11:23:24.858Z"
   },
   {
    "duration": 11,
    "start_time": "2023-02-23T11:23:25.057Z"
   },
   {
    "duration": 26,
    "start_time": "2023-02-23T11:23:25.072Z"
   },
   {
    "duration": 212,
    "start_time": "2023-02-23T11:23:25.099Z"
   },
   {
    "duration": 510,
    "start_time": "2023-02-23T11:23:25.313Z"
   },
   {
    "duration": 88,
    "start_time": "2023-02-23T11:23:25.824Z"
   },
   {
    "duration": 2122,
    "start_time": "2023-02-23T11:23:25.913Z"
   },
   {
    "duration": 3,
    "start_time": "2023-02-23T11:23:28.036Z"
   },
   {
    "duration": 2547,
    "start_time": "2023-02-23T11:23:28.040Z"
   },
   {
    "duration": 3,
    "start_time": "2023-02-23T11:23:30.588Z"
   },
   {
    "duration": 248,
    "start_time": "2023-02-23T11:23:30.594Z"
   },
   {
    "duration": 85,
    "start_time": "2023-02-23T11:23:30.844Z"
   },
   {
    "duration": 240,
    "start_time": "2023-02-23T11:23:30.931Z"
   },
   {
    "duration": 147,
    "start_time": "2023-02-23T11:23:31.173Z"
   },
   {
    "duration": 2390,
    "start_time": "2023-02-23T11:23:31.321Z"
   },
   {
    "duration": 479,
    "start_time": "2023-02-23T11:23:33.713Z"
   },
   {
    "duration": 399,
    "start_time": "2023-02-23T11:23:34.194Z"
   },
   {
    "duration": 488,
    "start_time": "2023-02-23T11:23:34.594Z"
   },
   {
    "duration": 150,
    "start_time": "2023-02-23T11:23:35.086Z"
   },
   {
    "duration": 1949,
    "start_time": "2023-02-23T11:23:35.238Z"
   },
   {
    "duration": 3,
    "start_time": "2023-02-23T11:23:37.188Z"
   },
   {
    "duration": 2200,
    "start_time": "2023-02-23T11:23:37.193Z"
   },
   {
    "duration": 2,
    "start_time": "2023-02-23T11:23:39.395Z"
   },
   {
    "duration": 220,
    "start_time": "2023-02-23T11:23:39.399Z"
   },
   {
    "duration": 118,
    "start_time": "2023-02-23T11:23:39.620Z"
   },
   {
    "duration": 80,
    "start_time": "2023-02-23T11:23:39.740Z"
   },
   {
    "duration": 37666,
    "start_time": "2023-02-23T11:23:39.822Z"
   },
   {
    "duration": 1241,
    "start_time": "2023-02-23T11:24:17.490Z"
   },
   {
    "duration": 41,
    "start_time": "2023-02-23T11:24:18.733Z"
   },
   {
    "duration": 0,
    "start_time": "2023-02-23T11:24:18.776Z"
   },
   {
    "duration": 0,
    "start_time": "2023-02-23T11:24:18.777Z"
   },
   {
    "duration": 0,
    "start_time": "2023-02-23T11:24:18.778Z"
   },
   {
    "duration": 0,
    "start_time": "2023-02-23T11:24:18.779Z"
   },
   {
    "duration": 0,
    "start_time": "2023-02-23T11:24:18.780Z"
   },
   {
    "duration": 0,
    "start_time": "2023-02-23T11:24:18.782Z"
   },
   {
    "duration": 0,
    "start_time": "2023-02-23T11:24:18.782Z"
   },
   {
    "duration": 0,
    "start_time": "2023-02-23T11:24:18.783Z"
   },
   {
    "duration": 0,
    "start_time": "2023-02-23T11:24:18.784Z"
   },
   {
    "duration": 0,
    "start_time": "2023-02-23T11:24:18.785Z"
   },
   {
    "duration": 0,
    "start_time": "2023-02-23T11:24:18.786Z"
   },
   {
    "duration": 0,
    "start_time": "2023-02-23T11:24:18.787Z"
   },
   {
    "duration": 0,
    "start_time": "2023-02-23T11:24:18.788Z"
   },
   {
    "duration": 0,
    "start_time": "2023-02-23T11:24:18.789Z"
   },
   {
    "duration": 0,
    "start_time": "2023-02-23T11:24:18.790Z"
   },
   {
    "duration": 0,
    "start_time": "2023-02-23T11:24:18.791Z"
   },
   {
    "duration": 0,
    "start_time": "2023-02-23T11:24:18.791Z"
   },
   {
    "duration": 0,
    "start_time": "2023-02-23T11:24:18.792Z"
   },
   {
    "duration": 2745,
    "start_time": "2023-02-23T11:25:25.098Z"
   },
   {
    "duration": 3,
    "start_time": "2023-02-23T11:25:27.844Z"
   },
   {
    "duration": 3658,
    "start_time": "2023-02-23T11:25:27.849Z"
   },
   {
    "duration": 2,
    "start_time": "2023-02-23T11:25:31.510Z"
   },
   {
    "duration": 483,
    "start_time": "2023-02-23T11:25:31.513Z"
   },
   {
    "duration": 84,
    "start_time": "2023-02-23T11:25:31.997Z"
   },
   {
    "duration": 147,
    "start_time": "2023-02-23T11:25:32.083Z"
   },
   {
    "duration": 4,
    "start_time": "2023-02-23T11:25:32.231Z"
   },
   {
    "duration": 10,
    "start_time": "2023-02-23T11:25:32.237Z"
   },
   {
    "duration": 9,
    "start_time": "2023-02-23T11:25:32.249Z"
   },
   {
    "duration": 10,
    "start_time": "2023-02-23T11:25:32.260Z"
   },
   {
    "duration": 12,
    "start_time": "2023-02-23T11:25:32.272Z"
   },
   {
    "duration": 9,
    "start_time": "2023-02-23T11:25:32.285Z"
   },
   {
    "duration": 7,
    "start_time": "2023-02-23T11:25:32.310Z"
   },
   {
    "duration": 9,
    "start_time": "2023-02-23T11:25:32.319Z"
   },
   {
    "duration": 37,
    "start_time": "2023-02-23T11:25:32.329Z"
   },
   {
    "duration": 391,
    "start_time": "2023-02-23T11:25:32.367Z"
   },
   {
    "duration": 135,
    "start_time": "2023-02-23T11:25:32.759Z"
   },
   {
    "duration": 6,
    "start_time": "2023-02-23T11:26:36.801Z"
   },
   {
    "duration": 25,
    "start_time": "2023-02-23T11:26:41.020Z"
   },
   {
    "duration": 371,
    "start_time": "2023-02-23T11:26:42.446Z"
   },
   {
    "duration": 5,
    "start_time": "2023-02-23T11:27:19.090Z"
   },
   {
    "duration": 26,
    "start_time": "2023-02-23T11:27:20.866Z"
   },
   {
    "duration": 347,
    "start_time": "2023-02-23T11:27:21.584Z"
   },
   {
    "duration": 929,
    "start_time": "2023-02-23T11:40:00.737Z"
   },
   {
    "duration": 844,
    "start_time": "2023-02-23T11:42:30.836Z"
   },
   {
    "duration": 5,
    "start_time": "2023-02-23T11:45:00.030Z"
   },
   {
    "duration": 25,
    "start_time": "2023-02-23T11:45:02.421Z"
   },
   {
    "duration": 107,
    "start_time": "2023-02-23T11:45:04.501Z"
   },
   {
    "duration": 6,
    "start_time": "2023-02-23T11:45:18.030Z"
   },
   {
    "duration": 29,
    "start_time": "2023-02-23T11:45:20.558Z"
   },
   {
    "duration": 114,
    "start_time": "2023-02-23T11:45:23.077Z"
   },
   {
    "duration": 5,
    "start_time": "2023-02-23T11:46:14.467Z"
   },
   {
    "duration": 25,
    "start_time": "2023-02-23T11:46:17.188Z"
   },
   {
    "duration": 370,
    "start_time": "2023-02-23T11:46:19.454Z"
   },
   {
    "duration": 4,
    "start_time": "2023-02-23T11:46:44.077Z"
   },
   {
    "duration": 27,
    "start_time": "2023-02-23T11:46:48.188Z"
   },
   {
    "duration": 376,
    "start_time": "2023-02-23T11:46:50.088Z"
   },
   {
    "duration": 6,
    "start_time": "2023-02-23T11:48:22.481Z"
   },
   {
    "duration": 23,
    "start_time": "2023-02-23T11:48:31.562Z"
   },
   {
    "duration": 88,
    "start_time": "2023-02-23T11:48:35.324Z"
   },
   {
    "duration": 1445,
    "start_time": "2023-02-23T11:49:35.079Z"
   },
   {
    "duration": 3,
    "start_time": "2023-02-23T11:49:36.527Z"
   },
   {
    "duration": 67,
    "start_time": "2023-02-23T11:49:36.532Z"
   },
   {
    "duration": 19,
    "start_time": "2023-02-23T11:49:36.602Z"
   },
   {
    "duration": 29,
    "start_time": "2023-02-23T11:49:36.622Z"
   },
   {
    "duration": 23,
    "start_time": "2023-02-23T11:49:36.653Z"
   },
   {
    "duration": 37,
    "start_time": "2023-02-23T11:49:36.678Z"
   },
   {
    "duration": 14,
    "start_time": "2023-02-23T11:49:36.717Z"
   },
   {
    "duration": 20,
    "start_time": "2023-02-23T11:49:36.733Z"
   },
   {
    "duration": 17,
    "start_time": "2023-02-23T11:49:36.756Z"
   },
   {
    "duration": 14,
    "start_time": "2023-02-23T11:49:36.775Z"
   },
   {
    "duration": 12,
    "start_time": "2023-02-23T11:49:36.791Z"
   },
   {
    "duration": 24,
    "start_time": "2023-02-23T11:49:36.805Z"
   },
   {
    "duration": 22,
    "start_time": "2023-02-23T11:49:36.831Z"
   },
   {
    "duration": 8,
    "start_time": "2023-02-23T11:49:36.855Z"
   },
   {
    "duration": 16,
    "start_time": "2023-02-23T11:49:36.864Z"
   },
   {
    "duration": 11,
    "start_time": "2023-02-23T11:49:36.881Z"
   },
   {
    "duration": 12,
    "start_time": "2023-02-23T11:49:36.894Z"
   },
   {
    "duration": 12,
    "start_time": "2023-02-23T11:49:36.909Z"
   },
   {
    "duration": 6,
    "start_time": "2023-02-23T11:49:36.923Z"
   },
   {
    "duration": 19,
    "start_time": "2023-02-23T11:49:36.931Z"
   },
   {
    "duration": 70,
    "start_time": "2023-02-23T11:49:36.951Z"
   },
   {
    "duration": 5,
    "start_time": "2023-02-23T11:49:37.023Z"
   },
   {
    "duration": 7,
    "start_time": "2023-02-23T11:49:37.030Z"
   },
   {
    "duration": 25,
    "start_time": "2023-02-23T11:49:37.039Z"
   },
   {
    "duration": 190,
    "start_time": "2023-02-23T11:49:37.066Z"
   },
   {
    "duration": 13,
    "start_time": "2023-02-23T11:49:37.258Z"
   },
   {
    "duration": 14,
    "start_time": "2023-02-23T11:49:37.276Z"
   },
   {
    "duration": 123,
    "start_time": "2023-02-23T11:49:37.291Z"
   },
   {
    "duration": 526,
    "start_time": "2023-02-23T11:49:37.416Z"
   },
   {
    "duration": 111,
    "start_time": "2023-02-23T11:49:37.944Z"
   },
   {
    "duration": 1920,
    "start_time": "2023-02-23T11:49:38.057Z"
   },
   {
    "duration": 3,
    "start_time": "2023-02-23T11:49:39.979Z"
   },
   {
    "duration": 2586,
    "start_time": "2023-02-23T11:49:39.983Z"
   },
   {
    "duration": 4,
    "start_time": "2023-02-23T11:49:42.570Z"
   },
   {
    "duration": 225,
    "start_time": "2023-02-23T11:49:42.576Z"
   },
   {
    "duration": 83,
    "start_time": "2023-02-23T11:49:42.803Z"
   },
   {
    "duration": 280,
    "start_time": "2023-02-23T11:49:42.888Z"
   },
   {
    "duration": 157,
    "start_time": "2023-02-23T11:49:43.170Z"
   },
   {
    "duration": 2281,
    "start_time": "2023-02-23T11:49:43.329Z"
   },
   {
    "duration": 598,
    "start_time": "2023-02-23T11:49:45.612Z"
   },
   {
    "duration": 401,
    "start_time": "2023-02-23T11:49:46.211Z"
   },
   {
    "duration": 522,
    "start_time": "2023-02-23T11:49:46.614Z"
   },
   {
    "duration": 149,
    "start_time": "2023-02-23T11:49:47.138Z"
   },
   {
    "duration": 1952,
    "start_time": "2023-02-23T11:49:47.289Z"
   },
   {
    "duration": 3,
    "start_time": "2023-02-23T11:49:49.242Z"
   },
   {
    "duration": 2242,
    "start_time": "2023-02-23T11:49:49.247Z"
   },
   {
    "duration": 3,
    "start_time": "2023-02-23T11:49:51.491Z"
   },
   {
    "duration": 261,
    "start_time": "2023-02-23T11:49:51.497Z"
   },
   {
    "duration": 134,
    "start_time": "2023-02-23T11:49:51.761Z"
   },
   {
    "duration": 90,
    "start_time": "2023-02-23T11:49:51.897Z"
   },
   {
    "duration": 38784,
    "start_time": "2023-02-23T11:49:51.989Z"
   },
   {
    "duration": 873,
    "start_time": "2023-02-23T11:50:30.775Z"
   },
   {
    "duration": 2620,
    "start_time": "2023-02-23T11:50:31.650Z"
   },
   {
    "duration": 3,
    "start_time": "2023-02-23T11:50:34.272Z"
   },
   {
    "duration": 3682,
    "start_time": "2023-02-23T11:50:34.277Z"
   },
   {
    "duration": 4,
    "start_time": "2023-02-23T11:50:37.960Z"
   },
   {
    "duration": 490,
    "start_time": "2023-02-23T11:50:37.965Z"
   },
   {
    "duration": 85,
    "start_time": "2023-02-23T11:50:38.456Z"
   },
   {
    "duration": 131,
    "start_time": "2023-02-23T11:50:38.542Z"
   },
   {
    "duration": 5,
    "start_time": "2023-02-23T11:50:38.675Z"
   },
   {
    "duration": 7,
    "start_time": "2023-02-23T11:50:38.681Z"
   },
   {
    "duration": 23,
    "start_time": "2023-02-23T11:50:38.690Z"
   },
   {
    "duration": 6,
    "start_time": "2023-02-23T11:50:38.715Z"
   },
   {
    "duration": 5,
    "start_time": "2023-02-23T11:50:38.723Z"
   },
   {
    "duration": 8,
    "start_time": "2023-02-23T11:50:38.730Z"
   },
   {
    "duration": 5,
    "start_time": "2023-02-23T11:50:38.740Z"
   },
   {
    "duration": 6,
    "start_time": "2023-02-23T11:50:38.747Z"
   },
   {
    "duration": 71,
    "start_time": "2023-02-23T11:50:38.755Z"
   },
   {
    "duration": 82,
    "start_time": "2023-02-23T11:50:38.828Z"
   },
   {
    "duration": 132,
    "start_time": "2023-02-23T11:50:38.912Z"
   },
   {
    "duration": 4,
    "start_time": "2023-02-23T12:02:50.624Z"
   },
   {
    "duration": 4,
    "start_time": "2023-02-23T12:03:01.664Z"
   },
   {
    "duration": 4,
    "start_time": "2023-02-23T12:03:25.244Z"
   },
   {
    "duration": 3,
    "start_time": "2023-02-23T12:03:32.183Z"
   },
   {
    "duration": 4,
    "start_time": "2023-02-23T12:03:37.695Z"
   },
   {
    "duration": 4,
    "start_time": "2023-02-23T12:03:45.091Z"
   },
   {
    "duration": 4,
    "start_time": "2023-02-23T12:04:35.638Z"
   },
   {
    "duration": 143,
    "start_time": "2023-02-23T12:10:50.997Z"
   },
   {
    "duration": 3,
    "start_time": "2023-02-23T12:12:46.026Z"
   },
   {
    "duration": 3,
    "start_time": "2023-02-23T12:12:58.975Z"
   },
   {
    "duration": 9,
    "start_time": "2023-02-23T12:13:11.310Z"
   },
   {
    "duration": 4,
    "start_time": "2023-02-23T12:13:24.218Z"
   },
   {
    "duration": 10,
    "start_time": "2023-02-23T12:13:41.746Z"
   },
   {
    "duration": 9,
    "start_time": "2023-02-23T12:13:57.451Z"
   },
   {
    "duration": 12,
    "start_time": "2023-02-23T12:17:16.706Z"
   },
   {
    "duration": 10,
    "start_time": "2023-02-23T12:17:34.249Z"
   },
   {
    "duration": 11,
    "start_time": "2023-02-23T12:17:55.792Z"
   },
   {
    "duration": 2746,
    "start_time": "2023-02-23T12:20:12.218Z"
   },
   {
    "duration": 53,
    "start_time": "2023-02-23T12:24:27.453Z"
   },
   {
    "duration": 10,
    "start_time": "2023-02-23T12:24:50.831Z"
   },
   {
    "duration": 11,
    "start_time": "2023-02-23T12:25:35.178Z"
   },
   {
    "duration": 2706,
    "start_time": "2023-02-23T12:25:52.074Z"
   },
   {
    "duration": 2651,
    "start_time": "2023-02-23T12:26:36.025Z"
   },
   {
    "duration": 13,
    "start_time": "2023-02-23T12:35:03.631Z"
   },
   {
    "duration": 2686,
    "start_time": "2023-02-23T12:35:20.974Z"
   },
   {
    "duration": 2802,
    "start_time": "2023-02-23T12:38:08.284Z"
   },
   {
    "duration": 4,
    "start_time": "2023-02-23T12:41:21.271Z"
   },
   {
    "duration": 11,
    "start_time": "2023-02-23T12:46:04.082Z"
   },
   {
    "duration": 48,
    "start_time": "2023-02-23T12:46:29.773Z"
   },
   {
    "duration": 390,
    "start_time": "2023-02-23T12:46:44.053Z"
   },
   {
    "duration": 1365,
    "start_time": "2023-02-23T12:48:37.999Z"
   },
   {
    "duration": 3,
    "start_time": "2023-02-23T12:48:39.366Z"
   },
   {
    "duration": 40,
    "start_time": "2023-02-23T12:48:39.372Z"
   },
   {
    "duration": 13,
    "start_time": "2023-02-23T12:48:39.413Z"
   },
   {
    "duration": 15,
    "start_time": "2023-02-23T12:48:39.428Z"
   },
   {
    "duration": 4,
    "start_time": "2023-02-23T12:48:39.444Z"
   },
   {
    "duration": 5,
    "start_time": "2023-02-23T12:48:39.449Z"
   },
   {
    "duration": 8,
    "start_time": "2023-02-23T12:48:39.455Z"
   },
   {
    "duration": 9,
    "start_time": "2023-02-23T12:48:39.465Z"
   },
   {
    "duration": 36,
    "start_time": "2023-02-23T12:48:39.475Z"
   },
   {
    "duration": 4,
    "start_time": "2023-02-23T12:48:39.513Z"
   },
   {
    "duration": 8,
    "start_time": "2023-02-23T12:48:39.518Z"
   },
   {
    "duration": 7,
    "start_time": "2023-02-23T12:48:39.528Z"
   },
   {
    "duration": 13,
    "start_time": "2023-02-23T12:48:39.536Z"
   },
   {
    "duration": 2,
    "start_time": "2023-02-23T12:48:39.550Z"
   },
   {
    "duration": 12,
    "start_time": "2023-02-23T12:48:39.554Z"
   },
   {
    "duration": 10,
    "start_time": "2023-02-23T12:48:39.567Z"
   },
   {
    "duration": 33,
    "start_time": "2023-02-23T12:48:39.579Z"
   },
   {
    "duration": 7,
    "start_time": "2023-02-23T12:48:39.613Z"
   },
   {
    "duration": 6,
    "start_time": "2023-02-23T12:48:39.622Z"
   },
   {
    "duration": 17,
    "start_time": "2023-02-23T12:48:39.630Z"
   },
   {
    "duration": 80,
    "start_time": "2023-02-23T12:48:39.648Z"
   },
   {
    "duration": 7,
    "start_time": "2023-02-23T12:48:39.730Z"
   },
   {
    "duration": 11,
    "start_time": "2023-02-23T12:48:39.738Z"
   },
   {
    "duration": 18,
    "start_time": "2023-02-23T12:48:39.750Z"
   },
   {
    "duration": 187,
    "start_time": "2023-02-23T12:48:39.769Z"
   },
   {
    "duration": 10,
    "start_time": "2023-02-23T12:48:39.960Z"
   },
   {
    "duration": 10,
    "start_time": "2023-02-23T12:48:39.972Z"
   },
   {
    "duration": 235,
    "start_time": "2023-02-23T12:48:39.984Z"
   },
   {
    "duration": 466,
    "start_time": "2023-02-23T12:48:40.310Z"
   },
   {
    "duration": 95,
    "start_time": "2023-02-23T12:48:40.777Z"
   },
   {
    "duration": 1869,
    "start_time": "2023-02-23T12:48:40.873Z"
   },
   {
    "duration": 3,
    "start_time": "2023-02-23T12:48:42.743Z"
   },
   {
    "duration": 2607,
    "start_time": "2023-02-23T12:48:42.747Z"
   },
   {
    "duration": 3,
    "start_time": "2023-02-23T12:48:45.355Z"
   },
   {
    "duration": 242,
    "start_time": "2023-02-23T12:48:45.360Z"
   },
   {
    "duration": 77,
    "start_time": "2023-02-23T12:48:45.610Z"
   },
   {
    "duration": 272,
    "start_time": "2023-02-23T12:48:45.689Z"
   },
   {
    "duration": 141,
    "start_time": "2023-02-23T12:48:45.962Z"
   },
   {
    "duration": 4423,
    "start_time": "2023-02-23T12:48:46.110Z"
   },
   {
    "duration": 970,
    "start_time": "2023-02-23T12:48:50.535Z"
   },
   {
    "duration": 395,
    "start_time": "2023-02-23T12:48:51.510Z"
   },
   {
    "duration": 552,
    "start_time": "2023-02-23T12:48:51.910Z"
   },
   {
    "duration": 188,
    "start_time": "2023-02-23T12:48:52.464Z"
   },
   {
    "duration": 2071,
    "start_time": "2023-02-23T12:48:52.655Z"
   },
   {
    "duration": 3,
    "start_time": "2023-02-23T12:48:54.728Z"
   },
   {
    "duration": 2382,
    "start_time": "2023-02-23T12:48:54.733Z"
   },
   {
    "duration": 3,
    "start_time": "2023-02-23T12:48:57.117Z"
   },
   {
    "duration": 232,
    "start_time": "2023-02-23T12:48:57.121Z"
   },
   {
    "duration": 131,
    "start_time": "2023-02-23T12:48:57.354Z"
   },
   {
    "duration": 114,
    "start_time": "2023-02-23T12:48:57.487Z"
   },
   {
    "duration": 8,
    "start_time": "2023-02-23T12:48:57.603Z"
   },
   {
    "duration": 0,
    "start_time": "2023-02-23T12:48:57.612Z"
   },
   {
    "duration": 0,
    "start_time": "2023-02-23T12:48:57.614Z"
   },
   {
    "duration": 0,
    "start_time": "2023-02-23T12:48:57.615Z"
   },
   {
    "duration": 0,
    "start_time": "2023-02-23T12:48:57.617Z"
   },
   {
    "duration": 0,
    "start_time": "2023-02-23T12:48:57.618Z"
   },
   {
    "duration": 0,
    "start_time": "2023-02-23T12:48:57.620Z"
   },
   {
    "duration": 0,
    "start_time": "2023-02-23T12:48:57.621Z"
   },
   {
    "duration": 1,
    "start_time": "2023-02-23T12:48:57.622Z"
   },
   {
    "duration": 0,
    "start_time": "2023-02-23T12:48:57.624Z"
   },
   {
    "duration": 0,
    "start_time": "2023-02-23T12:48:57.625Z"
   },
   {
    "duration": 0,
    "start_time": "2023-02-23T12:48:57.626Z"
   },
   {
    "duration": 0,
    "start_time": "2023-02-23T12:48:57.627Z"
   },
   {
    "duration": 0,
    "start_time": "2023-02-23T12:48:57.628Z"
   },
   {
    "duration": 0,
    "start_time": "2023-02-23T12:48:57.629Z"
   },
   {
    "duration": 0,
    "start_time": "2023-02-23T12:48:57.630Z"
   },
   {
    "duration": 0,
    "start_time": "2023-02-23T12:48:57.631Z"
   },
   {
    "duration": 0,
    "start_time": "2023-02-23T12:48:57.632Z"
   },
   {
    "duration": 0,
    "start_time": "2023-02-23T12:48:57.633Z"
   },
   {
    "duration": 0,
    "start_time": "2023-02-23T12:48:57.634Z"
   },
   {
    "duration": 0,
    "start_time": "2023-02-23T12:48:57.635Z"
   },
   {
    "duration": 0,
    "start_time": "2023-02-23T12:48:57.637Z"
   },
   {
    "duration": 194401,
    "start_time": "2023-02-23T12:53:16.036Z"
   },
   {
    "duration": 4160,
    "start_time": "2023-02-23T12:57:36.361Z"
   },
   {
    "duration": 38,
    "start_time": "2023-02-23T12:57:40.523Z"
   },
   {
    "duration": 0,
    "start_time": "2023-02-23T12:57:40.563Z"
   },
   {
    "duration": 0,
    "start_time": "2023-02-23T12:57:40.564Z"
   },
   {
    "duration": 0,
    "start_time": "2023-02-23T12:57:40.566Z"
   },
   {
    "duration": 0,
    "start_time": "2023-02-23T12:57:40.567Z"
   },
   {
    "duration": 0,
    "start_time": "2023-02-23T12:57:40.568Z"
   },
   {
    "duration": 0,
    "start_time": "2023-02-23T12:57:40.569Z"
   },
   {
    "duration": 0,
    "start_time": "2023-02-23T12:57:40.570Z"
   },
   {
    "duration": 0,
    "start_time": "2023-02-23T12:57:40.571Z"
   },
   {
    "duration": 0,
    "start_time": "2023-02-23T12:57:40.572Z"
   },
   {
    "duration": 0,
    "start_time": "2023-02-23T12:57:40.573Z"
   },
   {
    "duration": 0,
    "start_time": "2023-02-23T12:57:40.574Z"
   },
   {
    "duration": 0,
    "start_time": "2023-02-23T12:57:40.575Z"
   },
   {
    "duration": 0,
    "start_time": "2023-02-23T12:57:40.576Z"
   },
   {
    "duration": 0,
    "start_time": "2023-02-23T12:57:40.576Z"
   },
   {
    "duration": 0,
    "start_time": "2023-02-23T12:57:40.577Z"
   },
   {
    "duration": 0,
    "start_time": "2023-02-23T12:57:40.578Z"
   },
   {
    "duration": 0,
    "start_time": "2023-02-23T12:57:40.579Z"
   },
   {
    "duration": 0,
    "start_time": "2023-02-23T12:57:40.580Z"
   },
   {
    "duration": 0,
    "start_time": "2023-02-23T12:57:40.581Z"
   },
   {
    "duration": 2467,
    "start_time": "2023-02-23T12:58:28.900Z"
   },
   {
    "duration": 3,
    "start_time": "2023-02-23T12:58:31.369Z"
   },
   {
    "duration": 3164,
    "start_time": "2023-02-23T12:58:31.373Z"
   },
   {
    "duration": 2,
    "start_time": "2023-02-23T12:58:34.539Z"
   },
   {
    "duration": 300,
    "start_time": "2023-02-23T12:58:34.542Z"
   },
   {
    "duration": 78,
    "start_time": "2023-02-23T12:58:34.844Z"
   },
   {
    "duration": 130,
    "start_time": "2023-02-23T12:58:34.924Z"
   },
   {
    "duration": 4,
    "start_time": "2023-02-23T12:58:35.056Z"
   },
   {
    "duration": 6,
    "start_time": "2023-02-23T12:58:35.062Z"
   },
   {
    "duration": 7,
    "start_time": "2023-02-23T12:58:35.071Z"
   },
   {
    "duration": 30,
    "start_time": "2023-02-23T12:58:35.081Z"
   },
   {
    "duration": 5,
    "start_time": "2023-02-23T12:58:35.112Z"
   },
   {
    "duration": 6,
    "start_time": "2023-02-23T12:58:35.118Z"
   },
   {
    "duration": 5,
    "start_time": "2023-02-23T12:58:35.126Z"
   },
   {
    "duration": 138,
    "start_time": "2023-02-23T12:58:35.132Z"
   },
   {
    "duration": 0,
    "start_time": "2023-02-23T12:58:35.272Z"
   },
   {
    "duration": 0,
    "start_time": "2023-02-23T12:58:35.273Z"
   },
   {
    "duration": 0,
    "start_time": "2023-02-23T12:58:35.278Z"
   },
   {
    "duration": 10,
    "start_time": "2023-02-23T12:59:25.305Z"
   },
   {
    "duration": 8,
    "start_time": "2023-02-23T12:59:58.800Z"
   },
   {
    "duration": 625,
    "start_time": "2023-02-23T13:00:08.898Z"
   },
   {
    "duration": 255,
    "start_time": "2023-02-23T13:00:12.048Z"
   },
   {
    "duration": 630,
    "start_time": "2023-02-23T13:02:42.828Z"
   },
   {
    "duration": 602,
    "start_time": "2023-02-23T13:03:21.520Z"
   },
   {
    "duration": 614,
    "start_time": "2023-02-23T13:03:55.899Z"
   },
   {
    "duration": 1302,
    "start_time": "2023-02-23T13:04:34.345Z"
   },
   {
    "duration": 3,
    "start_time": "2023-02-23T13:04:35.649Z"
   },
   {
    "duration": 40,
    "start_time": "2023-02-23T13:04:35.653Z"
   },
   {
    "duration": 13,
    "start_time": "2023-02-23T13:04:35.695Z"
   },
   {
    "duration": 19,
    "start_time": "2023-02-23T13:04:35.710Z"
   },
   {
    "duration": 3,
    "start_time": "2023-02-23T13:04:35.731Z"
   },
   {
    "duration": 6,
    "start_time": "2023-02-23T13:04:35.736Z"
   },
   {
    "duration": 8,
    "start_time": "2023-02-23T13:04:35.743Z"
   },
   {
    "duration": 7,
    "start_time": "2023-02-23T13:04:35.753Z"
   },
   {
    "duration": 6,
    "start_time": "2023-02-23T13:04:35.762Z"
   },
   {
    "duration": 4,
    "start_time": "2023-02-23T13:04:35.769Z"
   },
   {
    "duration": 8,
    "start_time": "2023-02-23T13:04:35.774Z"
   },
   {
    "duration": 6,
    "start_time": "2023-02-23T13:04:35.810Z"
   },
   {
    "duration": 13,
    "start_time": "2023-02-23T13:04:35.817Z"
   },
   {
    "duration": 4,
    "start_time": "2023-02-23T13:04:35.831Z"
   },
   {
    "duration": 16,
    "start_time": "2023-02-23T13:04:35.836Z"
   },
   {
    "duration": 9,
    "start_time": "2023-02-23T13:04:35.854Z"
   },
   {
    "duration": 10,
    "start_time": "2023-02-23T13:04:35.865Z"
   },
   {
    "duration": 10,
    "start_time": "2023-02-23T13:04:35.877Z"
   },
   {
    "duration": 22,
    "start_time": "2023-02-23T13:04:35.888Z"
   },
   {
    "duration": 18,
    "start_time": "2023-02-23T13:04:35.911Z"
   },
   {
    "duration": 54,
    "start_time": "2023-02-23T13:04:35.930Z"
   },
   {
    "duration": 6,
    "start_time": "2023-02-23T13:04:35.985Z"
   },
   {
    "duration": 6,
    "start_time": "2023-02-23T13:04:36.011Z"
   },
   {
    "duration": 13,
    "start_time": "2023-02-23T13:04:36.018Z"
   },
   {
    "duration": 180,
    "start_time": "2023-02-23T13:04:36.032Z"
   },
   {
    "duration": 11,
    "start_time": "2023-02-23T13:04:36.214Z"
   },
   {
    "duration": 8,
    "start_time": "2023-02-23T13:04:36.228Z"
   },
   {
    "duration": 182,
    "start_time": "2023-02-23T13:04:36.238Z"
   },
   {
    "duration": 620,
    "start_time": "2023-02-23T13:04:36.421Z"
   },
   {
    "duration": 113,
    "start_time": "2023-02-23T13:04:37.043Z"
   },
   {
    "duration": 2001,
    "start_time": "2023-02-23T13:04:37.158Z"
   },
   {
    "duration": 3,
    "start_time": "2023-02-23T13:04:39.160Z"
   },
   {
    "duration": 2549,
    "start_time": "2023-02-23T13:04:39.164Z"
   },
   {
    "duration": 3,
    "start_time": "2023-02-23T13:04:41.715Z"
   },
   {
    "duration": 219,
    "start_time": "2023-02-23T13:04:41.720Z"
   },
   {
    "duration": 88,
    "start_time": "2023-02-23T13:04:41.941Z"
   },
   {
    "duration": 236,
    "start_time": "2023-02-23T13:04:42.030Z"
   },
   {
    "duration": 147,
    "start_time": "2023-02-23T13:04:42.268Z"
   },
   {
    "duration": 2395,
    "start_time": "2023-02-23T13:04:42.416Z"
   },
   {
    "duration": 601,
    "start_time": "2023-02-23T13:04:44.812Z"
   },
   {
    "duration": 380,
    "start_time": "2023-02-23T13:04:45.415Z"
   },
   {
    "duration": 487,
    "start_time": "2023-02-23T13:04:45.797Z"
   },
   {
    "duration": 149,
    "start_time": "2023-02-23T13:04:46.285Z"
   },
   {
    "duration": 2014,
    "start_time": "2023-02-23T13:04:46.435Z"
   },
   {
    "duration": 3,
    "start_time": "2023-02-23T13:04:48.451Z"
   },
   {
    "duration": 2166,
    "start_time": "2023-02-23T13:04:48.455Z"
   },
   {
    "duration": 2,
    "start_time": "2023-02-23T13:04:50.623Z"
   },
   {
    "duration": 228,
    "start_time": "2023-02-23T13:04:50.626Z"
   },
   {
    "duration": 124,
    "start_time": "2023-02-23T13:04:50.856Z"
   },
   {
    "duration": 85,
    "start_time": "2023-02-23T13:04:50.981Z"
   },
   {
    "duration": 188886,
    "start_time": "2023-02-23T13:04:51.068Z"
   },
   {
    "duration": 4218,
    "start_time": "2023-02-23T13:07:59.955Z"
   },
   {
    "duration": 2480,
    "start_time": "2023-02-23T13:08:04.175Z"
   },
   {
    "duration": 2,
    "start_time": "2023-02-23T13:08:06.657Z"
   },
   {
    "duration": 3201,
    "start_time": "2023-02-23T13:08:06.661Z"
   },
   {
    "duration": 2,
    "start_time": "2023-02-23T13:08:09.864Z"
   },
   {
    "duration": 304,
    "start_time": "2023-02-23T13:08:09.868Z"
   },
   {
    "duration": 81,
    "start_time": "2023-02-23T13:08:10.174Z"
   },
   {
    "duration": 123,
    "start_time": "2023-02-23T13:08:10.256Z"
   },
   {
    "duration": 4,
    "start_time": "2023-02-23T13:08:10.381Z"
   },
   {
    "duration": 9,
    "start_time": "2023-02-23T13:08:10.386Z"
   },
   {
    "duration": 4,
    "start_time": "2023-02-23T13:08:10.409Z"
   },
   {
    "duration": 9,
    "start_time": "2023-02-23T13:08:10.415Z"
   },
   {
    "duration": 15,
    "start_time": "2023-02-23T13:08:10.425Z"
   },
   {
    "duration": 5,
    "start_time": "2023-02-23T13:08:10.442Z"
   },
   {
    "duration": 5,
    "start_time": "2023-02-23T13:08:10.449Z"
   },
   {
    "duration": 8,
    "start_time": "2023-02-23T13:08:10.456Z"
   },
   {
    "duration": 622,
    "start_time": "2023-02-23T13:08:10.466Z"
   },
   {
    "duration": 381,
    "start_time": "2023-02-23T13:08:11.090Z"
   },
   {
    "duration": 0,
    "start_time": "2023-02-23T13:08:11.473Z"
   },
   {
    "duration": 45,
    "start_time": "2023-02-23T13:17:47.078Z"
   },
   {
    "duration": 119,
    "start_time": "2023-02-23T13:23:16.857Z"
   },
   {
    "duration": 3,
    "start_time": "2023-02-23T13:25:00.352Z"
   },
   {
    "duration": 43,
    "start_time": "2023-02-23T14:18:35.872Z"
   },
   {
    "duration": 1321,
    "start_time": "2023-02-23T14:26:49.496Z"
   },
   {
    "duration": 3,
    "start_time": "2023-02-23T14:26:50.818Z"
   },
   {
    "duration": 39,
    "start_time": "2023-02-23T14:26:50.823Z"
   },
   {
    "duration": 12,
    "start_time": "2023-02-23T14:26:50.864Z"
   },
   {
    "duration": 16,
    "start_time": "2023-02-23T14:26:50.878Z"
   },
   {
    "duration": 2,
    "start_time": "2023-02-23T14:26:50.896Z"
   },
   {
    "duration": 10,
    "start_time": "2023-02-23T14:26:50.900Z"
   },
   {
    "duration": 6,
    "start_time": "2023-02-23T14:26:50.911Z"
   },
   {
    "duration": 14,
    "start_time": "2023-02-23T14:26:50.918Z"
   },
   {
    "duration": 5,
    "start_time": "2023-02-23T14:26:50.935Z"
   },
   {
    "duration": 5,
    "start_time": "2023-02-23T14:26:50.941Z"
   },
   {
    "duration": 11,
    "start_time": "2023-02-23T14:26:50.947Z"
   },
   {
    "duration": 10,
    "start_time": "2023-02-23T14:26:50.959Z"
   },
   {
    "duration": 11,
    "start_time": "2023-02-23T14:26:50.971Z"
   },
   {
    "duration": 2,
    "start_time": "2023-02-23T14:26:50.984Z"
   },
   {
    "duration": 30,
    "start_time": "2023-02-23T14:26:50.988Z"
   },
   {
    "duration": 11,
    "start_time": "2023-02-23T14:26:51.020Z"
   },
   {
    "duration": 14,
    "start_time": "2023-02-23T14:26:51.033Z"
   },
   {
    "duration": 12,
    "start_time": "2023-02-23T14:26:51.049Z"
   },
   {
    "duration": 7,
    "start_time": "2023-02-23T14:26:51.063Z"
   },
   {
    "duration": 18,
    "start_time": "2023-02-23T14:26:51.072Z"
   },
   {
    "duration": 70,
    "start_time": "2023-02-23T14:26:51.091Z"
   },
   {
    "duration": 5,
    "start_time": "2023-02-23T14:26:51.163Z"
   },
   {
    "duration": 9,
    "start_time": "2023-02-23T14:26:51.169Z"
   },
   {
    "duration": 8,
    "start_time": "2023-02-23T14:26:51.180Z"
   },
   {
    "duration": 182,
    "start_time": "2023-02-23T14:26:51.190Z"
   },
   {
    "duration": 11,
    "start_time": "2023-02-23T14:26:51.374Z"
   },
   {
    "duration": 10,
    "start_time": "2023-02-23T14:26:51.389Z"
   },
   {
    "duration": 202,
    "start_time": "2023-02-23T14:26:51.409Z"
   },
   {
    "duration": 513,
    "start_time": "2023-02-23T14:26:51.613Z"
   },
   {
    "duration": 95,
    "start_time": "2023-02-23T14:26:52.127Z"
   },
   {
    "duration": 1866,
    "start_time": "2023-02-23T14:26:52.223Z"
   },
   {
    "duration": 3,
    "start_time": "2023-02-23T14:26:54.090Z"
   },
   {
    "duration": 2592,
    "start_time": "2023-02-23T14:26:54.094Z"
   },
   {
    "duration": 5,
    "start_time": "2023-02-23T14:26:56.689Z"
   },
   {
    "duration": 241,
    "start_time": "2023-02-23T14:26:56.709Z"
   },
   {
    "duration": 89,
    "start_time": "2023-02-23T14:26:56.952Z"
   },
   {
    "duration": 218,
    "start_time": "2023-02-23T14:26:57.043Z"
   },
   {
    "duration": 153,
    "start_time": "2023-02-23T14:26:57.262Z"
   },
   {
    "duration": 45,
    "start_time": "2023-02-23T14:26:57.416Z"
   },
   {
    "duration": 0,
    "start_time": "2023-02-23T14:26:57.463Z"
   },
   {
    "duration": 0,
    "start_time": "2023-02-23T14:26:57.464Z"
   },
   {
    "duration": 0,
    "start_time": "2023-02-23T14:26:57.464Z"
   },
   {
    "duration": 0,
    "start_time": "2023-02-23T14:26:57.465Z"
   },
   {
    "duration": 0,
    "start_time": "2023-02-23T14:26:57.466Z"
   },
   {
    "duration": 0,
    "start_time": "2023-02-23T14:26:57.468Z"
   },
   {
    "duration": 0,
    "start_time": "2023-02-23T14:26:57.469Z"
   },
   {
    "duration": 0,
    "start_time": "2023-02-23T14:26:57.469Z"
   },
   {
    "duration": 0,
    "start_time": "2023-02-23T14:26:57.471Z"
   },
   {
    "duration": 0,
    "start_time": "2023-02-23T14:26:57.472Z"
   },
   {
    "duration": 0,
    "start_time": "2023-02-23T14:26:57.473Z"
   },
   {
    "duration": 0,
    "start_time": "2023-02-23T14:26:57.473Z"
   },
   {
    "duration": 0,
    "start_time": "2023-02-23T14:26:57.474Z"
   },
   {
    "duration": 0,
    "start_time": "2023-02-23T14:26:57.475Z"
   },
   {
    "duration": 0,
    "start_time": "2023-02-23T14:26:57.476Z"
   },
   {
    "duration": 0,
    "start_time": "2023-02-23T14:26:57.477Z"
   },
   {
    "duration": 0,
    "start_time": "2023-02-23T14:26:57.478Z"
   },
   {
    "duration": 0,
    "start_time": "2023-02-23T14:26:57.479Z"
   },
   {
    "duration": 0,
    "start_time": "2023-02-23T14:26:57.480Z"
   },
   {
    "duration": 0,
    "start_time": "2023-02-23T14:26:57.481Z"
   },
   {
    "duration": 0,
    "start_time": "2023-02-23T14:26:57.482Z"
   },
   {
    "duration": 0,
    "start_time": "2023-02-23T14:26:57.482Z"
   },
   {
    "duration": 0,
    "start_time": "2023-02-23T14:26:57.483Z"
   },
   {
    "duration": 0,
    "start_time": "2023-02-23T14:26:57.484Z"
   },
   {
    "duration": 0,
    "start_time": "2023-02-23T14:26:57.485Z"
   },
   {
    "duration": 0,
    "start_time": "2023-02-23T14:26:57.486Z"
   },
   {
    "duration": 0,
    "start_time": "2023-02-23T14:26:57.487Z"
   },
   {
    "duration": 0,
    "start_time": "2023-02-23T14:26:57.488Z"
   },
   {
    "duration": 0,
    "start_time": "2023-02-23T14:26:57.489Z"
   },
   {
    "duration": 1379,
    "start_time": "2023-02-23T14:33:52.295Z"
   },
   {
    "duration": 3,
    "start_time": "2023-02-23T14:33:53.675Z"
   },
   {
    "duration": 47,
    "start_time": "2023-02-23T14:33:53.679Z"
   },
   {
    "duration": 16,
    "start_time": "2023-02-23T14:33:53.728Z"
   },
   {
    "duration": 20,
    "start_time": "2023-02-23T14:33:53.746Z"
   },
   {
    "duration": 4,
    "start_time": "2023-02-23T14:33:53.768Z"
   },
   {
    "duration": 6,
    "start_time": "2023-02-23T14:33:53.773Z"
   },
   {
    "duration": 29,
    "start_time": "2023-02-23T14:33:53.781Z"
   },
   {
    "duration": 8,
    "start_time": "2023-02-23T14:33:53.812Z"
   },
   {
    "duration": 9,
    "start_time": "2023-02-23T14:33:53.823Z"
   },
   {
    "duration": 11,
    "start_time": "2023-02-23T14:33:53.834Z"
   },
   {
    "duration": 14,
    "start_time": "2023-02-23T14:33:53.847Z"
   },
   {
    "duration": 10,
    "start_time": "2023-02-23T14:33:53.862Z"
   },
   {
    "duration": 22,
    "start_time": "2023-02-23T14:33:53.873Z"
   },
   {
    "duration": 7,
    "start_time": "2023-02-23T14:33:53.897Z"
   },
   {
    "duration": 20,
    "start_time": "2023-02-23T14:33:53.906Z"
   },
   {
    "duration": 17,
    "start_time": "2023-02-23T14:33:53.928Z"
   },
   {
    "duration": 13,
    "start_time": "2023-02-23T14:33:53.947Z"
   },
   {
    "duration": 7,
    "start_time": "2023-02-23T14:33:53.962Z"
   },
   {
    "duration": 6,
    "start_time": "2023-02-23T14:33:53.971Z"
   },
   {
    "duration": 39,
    "start_time": "2023-02-23T14:33:53.978Z"
   },
   {
    "duration": 64,
    "start_time": "2023-02-23T14:33:54.019Z"
   },
   {
    "duration": 5,
    "start_time": "2023-02-23T14:33:54.085Z"
   },
   {
    "duration": 20,
    "start_time": "2023-02-23T14:33:54.092Z"
   },
   {
    "duration": 10,
    "start_time": "2023-02-23T14:33:54.114Z"
   },
   {
    "duration": 185,
    "start_time": "2023-02-23T14:33:54.126Z"
   },
   {
    "duration": 10,
    "start_time": "2023-02-23T14:33:54.313Z"
   },
   {
    "duration": 10,
    "start_time": "2023-02-23T14:33:54.328Z"
   },
   {
    "duration": 180,
    "start_time": "2023-02-23T14:33:54.340Z"
   },
   {
    "duration": 610,
    "start_time": "2023-02-23T14:33:54.521Z"
   },
   {
    "duration": 99,
    "start_time": "2023-02-23T14:33:55.132Z"
   },
   {
    "duration": 1950,
    "start_time": "2023-02-23T14:33:55.233Z"
   },
   {
    "duration": 3,
    "start_time": "2023-02-23T14:33:57.186Z"
   },
   {
    "duration": 2555,
    "start_time": "2023-02-23T14:33:57.190Z"
   },
   {
    "duration": 3,
    "start_time": "2023-02-23T14:33:59.746Z"
   },
   {
    "duration": 223,
    "start_time": "2023-02-23T14:33:59.750Z"
   },
   {
    "duration": 95,
    "start_time": "2023-02-23T14:33:59.974Z"
   },
   {
    "duration": 303,
    "start_time": "2023-02-23T14:34:00.071Z"
   },
   {
    "duration": 147,
    "start_time": "2023-02-23T14:34:00.376Z"
   },
   {
    "duration": 2193,
    "start_time": "2023-02-23T14:34:00.525Z"
   },
   {
    "duration": 491,
    "start_time": "2023-02-23T14:34:02.719Z"
   },
   {
    "duration": 550,
    "start_time": "2023-02-23T14:34:03.212Z"
   },
   {
    "duration": 147,
    "start_time": "2023-02-23T14:34:03.763Z"
   },
   {
    "duration": 1886,
    "start_time": "2023-02-23T14:34:03.912Z"
   },
   {
    "duration": 3,
    "start_time": "2023-02-23T14:34:05.800Z"
   },
   {
    "duration": 2234,
    "start_time": "2023-02-23T14:34:05.809Z"
   },
   {
    "duration": 3,
    "start_time": "2023-02-23T14:34:08.045Z"
   },
   {
    "duration": 229,
    "start_time": "2023-02-23T14:34:08.050Z"
   },
   {
    "duration": 124,
    "start_time": "2023-02-23T14:34:08.280Z"
   },
   {
    "duration": 79,
    "start_time": "2023-02-23T14:34:08.405Z"
   },
   {
    "duration": 194112,
    "start_time": "2023-02-23T14:34:08.485Z"
   },
   {
    "duration": 4972,
    "start_time": "2023-02-23T14:37:22.600Z"
   },
   {
    "duration": 2859,
    "start_time": "2023-02-23T14:37:27.573Z"
   },
   {
    "duration": 4,
    "start_time": "2023-02-23T14:37:30.434Z"
   },
   {
    "duration": 3310,
    "start_time": "2023-02-23T14:37:30.440Z"
   },
   {
    "duration": 3,
    "start_time": "2023-02-23T14:37:33.752Z"
   },
   {
    "duration": 320,
    "start_time": "2023-02-23T14:37:33.756Z"
   },
   {
    "duration": 87,
    "start_time": "2023-02-23T14:37:34.077Z"
   },
   {
    "duration": 196,
    "start_time": "2023-02-23T14:37:34.166Z"
   },
   {
    "duration": 4,
    "start_time": "2023-02-23T14:37:34.364Z"
   },
   {
    "duration": 17,
    "start_time": "2023-02-23T14:37:34.370Z"
   },
   {
    "duration": 10,
    "start_time": "2023-02-23T14:37:34.388Z"
   },
   {
    "duration": 6,
    "start_time": "2023-02-23T14:37:34.409Z"
   },
   {
    "duration": 6,
    "start_time": "2023-02-23T14:37:34.416Z"
   },
   {
    "duration": 7,
    "start_time": "2023-02-23T14:37:34.424Z"
   },
   {
    "duration": 12,
    "start_time": "2023-02-23T14:37:34.433Z"
   },
   {
    "duration": 658,
    "start_time": "2023-02-23T14:37:34.446Z"
   },
   {
    "duration": 129,
    "start_time": "2023-02-23T14:37:35.106Z"
   }
  ],
  "kernelspec": {
   "display_name": "Python 3 (ipykernel)",
   "language": "python",
   "name": "python3"
  },
  "language_info": {
   "codemirror_mode": {
    "name": "ipython",
    "version": 3
   },
   "file_extension": ".py",
   "mimetype": "text/x-python",
   "name": "python",
   "nbconvert_exporter": "python",
   "pygments_lexer": "ipython3",
   "version": "3.9.16"
  },
  "toc": {
   "base_numbering": 1,
   "nav_menu": {},
   "number_sections": true,
   "sideBar": true,
   "skip_h1_title": true,
   "title_cell": "Содержание",
   "title_sidebar": "Contents",
   "toc_cell": true,
   "toc_position": {
    "height": "calc(100% - 180px)",
    "left": "10px",
    "top": "150px",
    "width": "299.188px"
   },
   "toc_section_display": true,
   "toc_window_display": true
  }
 },
 "nbformat": 4,
 "nbformat_minor": 2
}
